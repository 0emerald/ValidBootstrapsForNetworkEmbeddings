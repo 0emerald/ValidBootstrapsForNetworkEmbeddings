{
 "cells": [
  {
   "cell_type": "code",
   "execution_count": 55,
   "metadata": {},
   "outputs": [],
   "source": [
    "import numpy as np\n",
    "import matplotlib.pyplot as plt\n",
    "import pandas as pd\n",
    "from embedding_functions import *\n",
    "from experiment_setup import *\n",
    "from functions_for_bootstrap import *\n",
    "import numba as nb\n",
    "from scipy.stats import wasserstein_distance\n",
    "from tqdm import tqdm\n",
    "\n",
    "import random"
   ]
  },
  {
   "cell_type": "code",
   "execution_count": 56,
   "metadata": {},
   "outputs": [],
   "source": [
    "def compute_roc_and_areas(p_hat_list, significance_level=0.05):\n",
    "    roc = []\n",
    "    alphas = []\n",
    "\n",
    "    for alpha in np.linspace(0, 1, 100):\n",
    "        alphas.append(alpha)\n",
    "        num_below_alpha = sum(p_hat_list < alpha)\n",
    "        roc_point = num_below_alpha / len(p_hat_list)\n",
    "        roc.append(roc_point)\n",
    "\n",
    "    # Get the power at the significance level\n",
    "    power_idx = alphas.index(min(alphas, key=lambda x: abs(x - significance_level)))\n",
    "    power = roc[power_idx]\n",
    "\n",
    "    # Calculate the area between ROC and y=x line\n",
    "    def compute_area_above_below_curve(x, y):\n",
    "        area_above = 0.0\n",
    "        area_below = 0.0\n",
    "\n",
    "        for i in range(1, len(x)):\n",
    "            x0, x1 = x[i - 1], x[i]\n",
    "            y0, y1 = y[i - 1], y[i]\n",
    "            line0, line1 = x0, x1  # Since line y = x\n",
    "\n",
    "            if y1 == y0:  # Vertical segment\n",
    "                if y0 > x0:\n",
    "                    area_above += (y0 - x0) * (x1 - x0)\n",
    "                else:\n",
    "                    area_below += (x0 - y0) * (x1 - x0)\n",
    "                continue\n",
    "\n",
    "            # Find intersection with y = x\n",
    "            if (y0 >= x0 and y1 >= x1) or (y0 <= x0 and y1 <= x1):\n",
    "                if y0 >= x0 and y1 >= x1:\n",
    "                    area_above += 0.5 * (y0 + y1 - x0 - x1) * (x1 - x0)\n",
    "                else:\n",
    "                    area_below += 0.5 * (x0 + x1 - y0 - y1) * (x1 - x0)\n",
    "            else:\n",
    "                x_intersect = x0 + (x0 - y0) * (x1 - x0) / (y1 - y0)\n",
    "                if y0 < x0:\n",
    "                    area_below += 0.5 * (x0 - y0) * (x_intersect - x0)\n",
    "                    area_above += 0.5 * (y1 - x1) * (x1 - x_intersect)\n",
    "                else:\n",
    "                    area_above += 0.5 * (y0 - x0) * (x_intersect - x0)\n",
    "                    area_below += 0.5 * (x1 - y1) * (x1 - x_intersect)\n",
    "\n",
    "        return area_above, area_below\n",
    "\n",
    "    x = np.linspace(0, 1, 100)\n",
    "    roc_interpolated = np.interp(x, alphas, roc)\n",
    "\n",
    "    # Compute areas\n",
    "    area_above, area_below = compute_area_above_below_curve(x, roc_interpolated)\n",
    "    total_area = area_above + area_below\n",
    "\n",
    "    return {\n",
    "        \"area_above\": area_above,\n",
    "        \"area_below\": area_below,\n",
    "        \"total_area\": total_area\n",
    "    }"
   ]
  },
  {
   "cell_type": "code",
   "execution_count": 57,
   "metadata": {},
   "outputs": [
    {
     "name": "stdout",
     "output_type": "stream",
     "text": [
      "[[0.3 0.2 0.2]\n",
      " [0.2 0.6 0.2]\n",
      " [0.2 0.2 0.9]]\n"
     ]
    }
   ],
   "source": [
    "# Code up a mixed membership model \n",
    "random.seed(222)\n",
    "np.random.seed(222)\n",
    "\n",
    "K=3\n",
    "n= 300\n",
    "d=3\n",
    "\n",
    "# use our new function to make a MMSBM \n",
    "# 1May24 I added return B to the function, so I can add to the paper what B is for our example\n",
    "A, largest_prob, P, B = make_MMSBM(n, K)\n",
    "\n",
    "A = A.astype(float)\n",
    "ya = UASE([A], d)\n",
    "# plot_embedding(ya, n, 1, largest_prob)\n",
    "\n",
    "print(B) # seed keeps this B same everytime"
   ]
  },
  {
   "cell_type": "markdown",
   "metadata": {},
   "source": [
    "### Use the test with samples drawn from the same distribution - compared to one bootstrap from itself each time"
   ]
  },
  {
   "cell_type": "code",
   "execution_count": 58,
   "metadata": {},
   "outputs": [],
   "source": [
    "random.seed(222)\n",
    "np.random.seed(222)\n",
    "\n",
    "# make all the pi vectors (n of them)\n",
    "pi_list = []\n",
    "largest_prob = []\n",
    "for i in range(n):\n",
    "    # pi is a random probability vector of length K\n",
    "    pi = np.random.dirichlet(np.ones(K)).reshape((K, 1))\n",
    "    pi_list.append(pi)\n",
    "    largest_prob.append(np.argmax(pi))"
   ]
  },
  {
   "cell_type": "code",
   "execution_count": 59,
   "metadata": {},
   "outputs": [],
   "source": [
    "# Generate more samples from the same model with the same B matrix and pi vectors\n",
    "random.seed(100)\n",
    "\n",
    "M=300\n",
    "A_true_draws = []\n",
    "\n",
    "for m in range(M):\n",
    "    # use the B matrix from before, B, and the pi vectors, pi_list\n",
    "    P = np.zeros((n, n))\n",
    "    for i in range(n):\n",
    "        for j in range(n):\n",
    "            z_ij = np.random.multinomial(1, pi_list[i].flatten())#.tolist())\n",
    "            z_ji = np.random.multinomial(1, pi_list[j].flatten())#.tolist())\n",
    "\n",
    "            P[i,j] = z_ij @ B @ z_ji.T\n",
    "\n",
    "    A = (np.random.uniform(0, 1, n**2).reshape(n, n) < P)\n",
    "\n",
    "    A = A.astype(float)\n",
    "\n",
    "    # make symmetric by setting the lower triangle equal to the upper triangle\n",
    "    A = np.triu(A) + np.triu(A).T - np.diag(A.diagonal())\n",
    "\n",
    "    A_true_draws.append(A)\n",
    "\n",
    "    #3 mins runtime for M=300"
   ]
  },
  {
   "cell_type": "code",
   "execution_count": 60,
   "metadata": {},
   "outputs": [],
   "source": [
    "Q = 1000"
   ]
  },
  {
   "cell_type": "markdown",
   "metadata": {},
   "source": [
    "#### knn k=5"
   ]
  },
  {
   "cell_type": "code",
   "execution_count": 61,
   "metadata": {},
   "outputs": [],
   "source": [
    "# for each of the true draws from the model, create a bootstrap and perform a test with Q permutations\n",
    "random.seed(100)\n",
    "np.random.seed(100)\n",
    "\n",
    "k=5\n",
    "\n",
    "p_vals_k5 = []\n",
    "A_boots_list_k5 = []\n",
    "\n",
    "for m in A_true_draws:\n",
    "    p_val, A_boots = create_single_kNN_bootstrap(m, d=d, Q=1000, n_neighbors=k)\n",
    "    p_vals_k5.append(p_val)\n",
    "    A_boots_list_k5.append(A_boots)"
   ]
  },
  {
   "cell_type": "code",
   "execution_count": 62,
   "metadata": {},
   "outputs": [
    {
     "data": {
      "image/png": "[encoded data removed]",
      "text/plain": [
       "<Figure size 432x288 with 1 Axes>"
      ]
     },
     "metadata": {
      "needs_background": "light"
     },
     "output_type": "display_data"
    },
    {
     "data": {
      "text/plain": [
       "{'area_above': 0.000493178649055595,\n",
       " 'area_below': 0.016106608117703956,\n",
       " 'total_area': 0.01659978676675955}"
      ]
     },
     "execution_count": 62,
     "metadata": {},
     "output_type": "execute_result"
    }
   ],
   "source": [
    "p_hat_list = p_vals_k5\n",
    "roc = []\n",
    "alphas = []\n",
    "for alpha in np.linspace(0, 1, 100):\n",
    "    alphas.append(alpha)\n",
    "    num_below_alpha = sum(p_hat_list < alpha)\n",
    "    roc_point = num_below_alpha / len(p_hat_list)\n",
    "    roc.append(roc_point)\n",
    "\n",
    "# Get the power at the 5% significance level\n",
    "power_significance = 0.05\n",
    "power_idx = alphas.index(min(alphas, key=lambda x: abs(x - power_significance)))\n",
    "power = roc[power_idx]\n",
    "\n",
    "\n",
    "plt.plot(np.linspace(0, 1, 2), np.linspace(0, 1, 2), linestyle=\"--\", c=\"grey\")\n",
    "_ = plt.plot(alphas, roc, color='#228B22')\n",
    "\n",
    "# Set title and aspect ratio\n",
    "plt.title(f\"ROC Curve for 3 Community \\n MMSBM with n={n} nodes, k={k}\")\n",
    "plt.gca().set_aspect('equal', adjustable='box')\n",
    "\n",
    "plt.savefig(f\"MMSBM_knnBootstrap_k{k}_M{M}_SYMM.png\", facecolor=\"white\")\n",
    "\n",
    "plt.show()\n",
    "\n",
    "\n",
    "compute_roc_and_areas(p_vals_k5, significance_level=0.05)"
   ]
  },
  {
   "cell_type": "markdown",
   "metadata": {},
   "source": [
    "#### knn k=25"
   ]
  },
  {
   "cell_type": "code",
   "execution_count": 63,
   "metadata": {},
   "outputs": [],
   "source": [
    "# for each of the true draws from the model, create a bootstrap and perform a test with Q permutations\n",
    "random.seed(100)\n",
    "np.random.seed(100)\n",
    "\n",
    "k=25\n",
    "\n",
    "p_vals_k25 = []\n",
    "A_boots_list_k25 = []\n",
    "\n",
    "for m in A_true_draws:\n",
    "    p_val, A_boots = create_single_kNN_bootstrap(m, d=d, Q=1000, n_neighbors=k)\n",
    "    p_vals_k25.append(p_val)\n",
    "    A_boots_list_k25.append(A_boots)"
   ]
  },
  {
   "cell_type": "code",
   "execution_count": 64,
   "metadata": {},
   "outputs": [
    {
     "data": {
      "image/png": "[encoded data removed]",
      "text/plain": [
       "<Figure size 432x288 with 1 Axes>"
      ]
     },
     "metadata": {
      "needs_background": "light"
     },
     "output_type": "display_data"
    },
    {
     "data": {
      "text/plain": [
       "{'area_above': 3.1742792685553656e-06,\n",
       " 'area_below': 0.04517258082302467,\n",
       " 'total_area': 0.04517575510229323}"
      ]
     },
     "execution_count": 64,
     "metadata": {},
     "output_type": "execute_result"
    }
   ],
   "source": [
    "p_hat_list = p_vals_k25\n",
    "roc = []\n",
    "alphas = []\n",
    "for alpha in np.linspace(0, 1, 100):\n",
    "    alphas.append(alpha)\n",
    "    num_below_alpha = sum(p_hat_list < alpha)\n",
    "    roc_point = num_below_alpha / len(p_hat_list)\n",
    "    roc.append(roc_point)\n",
    "\n",
    "# Get the power at the 5% significance level\n",
    "power_significance = 0.05\n",
    "power_idx = alphas.index(min(alphas, key=lambda x: abs(x - power_significance)))\n",
    "power = roc[power_idx]\n",
    "\n",
    "\n",
    "plt.plot(np.linspace(0, 1, 2), np.linspace(0, 1, 2), linestyle=\"--\", c=\"grey\")\n",
    "_ = plt.plot(alphas, roc, color='#228B22')\n",
    "\n",
    "# Set title and aspect ratio\n",
    "plt.title(f\"ROC Curve for 3 Community \\n MMSBM with n={n} nodes, k={k}\")\n",
    "plt.gca().set_aspect('equal', adjustable='box')\n",
    "\n",
    "plt.savefig(f\"MMSBM_knnBootstrap_k{k}_M{M}_SYMM.png\", facecolor=\"white\")\n",
    "\n",
    "plt.show()\n",
    "\n",
    "\n",
    "compute_roc_and_areas(p_vals_k25, significance_level=0.05)"
   ]
  },
  {
   "cell_type": "markdown",
   "metadata": {},
   "source": [
    "#### knn k=90"
   ]
  },
  {
   "cell_type": "code",
   "execution_count": 65,
   "metadata": {},
   "outputs": [],
   "source": [
    "# for each of the true draws from the model, create a bootstrap and perform a test with Q permutations\n",
    "random.seed(100)\n",
    "np.random.seed(100)\n",
    "\n",
    "k=90\n",
    "\n",
    "p_vals_k90 = []\n",
    "A_boots_list_k90 = []\n",
    "\n",
    "for m in A_true_draws:\n",
    "    p_val, A_boots = create_single_kNN_bootstrap(m, d=d, Q=1000, n_neighbors=k)\n",
    "    p_vals_k90.append(p_val)\n",
    "    A_boots_list_k90.append(A_boots)"
   ]
  },
  {
   "cell_type": "code",
   "execution_count": 66,
   "metadata": {},
   "outputs": [
    {
     "data": {
      "image/png": "[encoded data removed]",
      "text/plain": [
       "<Figure size 432x288 with 1 Axes>"
      ]
     },
     "metadata": {
      "needs_background": "light"
     },
     "output_type": "display_data"
    },
    {
     "data": {
      "text/plain": [
       "{'area_above': 0.14751453933272116,\n",
       " 'area_below': 0.0,\n",
       " 'total_area': 0.14751453933272116}"
      ]
     },
     "execution_count": 66,
     "metadata": {},
     "output_type": "execute_result"
    }
   ],
   "source": [
    "p_hat_list = p_vals_k90\n",
    "roc = []\n",
    "alphas = []\n",
    "for alpha in np.linspace(0, 1, 100):\n",
    "    alphas.append(alpha)\n",
    "    num_below_alpha = sum(p_hat_list < alpha)\n",
    "    roc_point = num_below_alpha / len(p_hat_list)\n",
    "    roc.append(roc_point)\n",
    "\n",
    "# Get the power at the 5% significance level\n",
    "power_significance = 0.05\n",
    "power_idx = alphas.index(min(alphas, key=lambda x: abs(x - power_significance)))\n",
    "power = roc[power_idx]\n",
    "\n",
    "\n",
    "plt.plot(np.linspace(0, 1, 2), np.linspace(0, 1, 2), linestyle=\"--\", c=\"grey\")\n",
    "_ = plt.plot(alphas, roc, color='#228B22')\n",
    "\n",
    "# Set title and aspect ratio\n",
    "plt.title(f\"ROC Curve for 3 Community \\n MMSBM with n={n} nodes, k={k}\")\n",
    "plt.gca().set_aspect('equal', adjustable='box')\n",
    "\n",
    "plt.savefig(f\"MMSBM_knnBootstrap_k{k}_M{M}_SYMM.png\", facecolor=\"white\")\n",
    "\n",
    "plt.show()\n",
    "\n",
    "\n",
    "compute_roc_and_areas(p_vals_k90, significance_level=0.05)"
   ]
  },
  {
   "cell_type": "markdown",
   "metadata": {},
   "source": [
    "#### YYT"
   ]
  },
  {
   "cell_type": "code",
   "execution_count": 67,
   "metadata": {},
   "outputs": [
    {
     "name": "stderr",
     "output_type": "stream",
     "text": [
      "/home/uj21900/Documents/ResamplingAdjacencyMatrices/functions_for_bootstrap.py:193: UserWarning: P_hat contains values outside of [0,1]. The values outside this range will be clipped to lie in the range.\n",
      "  warnings.warn(\"P_hat contains values outside of [0,1]. The values outside this range will be clipped to lie in the range.\")\n"
     ]
    }
   ],
   "source": [
    "# for each of the true draws from the model, create a bootstrap and perform a test with Q permutations\n",
    "random.seed(100)\n",
    "np.random.seed(100)\n",
    "\n",
    "p_vals_YYT = []\n",
    "A_boots_list_YYT = []\n",
    "\n",
    "for m in A_true_draws:\n",
    "    p_val, A_boots = create_single_YYT_bootstrap_cropPto0_1range(m,d=d,Q=1000)\n",
    "    p_vals_YYT.append(p_val)\n",
    "    A_boots_list_YYT.append(A_boots)"
   ]
  },
  {
   "cell_type": "code",
   "execution_count": 68,
   "metadata": {},
   "outputs": [
    {
     "data": {
      "image/png": "[encoded data removed]",
      "text/plain": [
       "<Figure size 432x288 with 1 Axes>"
      ]
     },
     "metadata": {
      "needs_background": "light"
     },
     "output_type": "display_data"
    },
    {
     "data": {
      "text/plain": [
       "{'area_above': 0.0,\n",
       " 'area_below': 0.17198143046627903,\n",
       " 'total_area': 0.17198143046627903}"
      ]
     },
     "execution_count": 68,
     "metadata": {},
     "output_type": "execute_result"
    }
   ],
   "source": [
    "p_hat_list = p_vals_YYT\n",
    "roc = []\n",
    "alphas = []\n",
    "for alpha in np.linspace(0, 1, 100):\n",
    "    alphas.append(alpha)\n",
    "    num_below_alpha = sum(p_hat_list < alpha)\n",
    "    roc_point = num_below_alpha / len(p_hat_list)\n",
    "    roc.append(roc_point)\n",
    "\n",
    "# Get the power at the 5% significance level\n",
    "power_significance = 0.05\n",
    "power_idx = alphas.index(min(alphas, key=lambda x: abs(x - power_significance)))\n",
    "power = roc[power_idx]\n",
    "\n",
    "\n",
    "plt.plot(np.linspace(0, 1, 2), np.linspace(0, 1, 2), linestyle=\"--\", c=\"grey\")\n",
    "_ = plt.plot(alphas, roc, color='#228B22')\n",
    "\n",
    "# Set title and aspect ratio\n",
    "plt.title(f\"ROC Curve for 3 Community \\n MMSBM with n={n} nodes, $YY^T$\")\n",
    "plt.gca().set_aspect('equal', adjustable='box')\n",
    "\n",
    "plt.savefig(f\"figs/MMSBM_YYTbootstrap_M{M}_SYMM.png\")\n",
    "plt.show()\n",
    "\n",
    "compute_roc_and_areas(p_vals_YYT, significance_level=0.05)"
   ]
  },
  {
   "cell_type": "markdown",
   "metadata": {},
   "source": [
    "#### XXT"
   ]
  },
  {
   "cell_type": "code",
   "execution_count": 69,
   "metadata": {},
   "outputs": [
    {
     "name": "stderr",
     "output_type": "stream",
     "text": [
      "/home/uj21900/Documents/ResamplingAdjacencyMatrices/functions_for_bootstrap.py:152: UserWarning: P_hat contains values outside of [0,1]. The values outside this range will be clipped to lie in the range.\n",
      "  warnings.warn(\"P_hat contains values outside of [0,1]. The values outside this range will be clipped to lie in the range.\")\n"
     ]
    }
   ],
   "source": [
    "# for each of the true draws from the model, create a bootstrap and perform a test with Q permutations\n",
    "random.seed(100)\n",
    "np.random.seed(100)\n",
    "\n",
    "p_vals_XXT = []\n",
    "A_boots_list_XXT = []\n",
    "\n",
    "for m in A_true_draws:\n",
    "    p_val, A_boots = create_single_XXT_bootstrap_cropPto0_1range(m,d=d,Q=1000)\n",
    "    p_vals_XXT.append(p_val)\n",
    "    A_boots_list_XXT.append(A_boots)"
   ]
  },
  {
   "cell_type": "code",
   "execution_count": 70,
   "metadata": {},
   "outputs": [
    {
     "data": {
      "image/png": "[encoded data removed]",
      "text/plain": [
       "<Figure size 432x288 with 1 Axes>"
      ]
     },
     "metadata": {
      "needs_background": "light"
     },
     "output_type": "display_data"
    },
    {
     "data": {
      "text/plain": [
       "{'area_above': 0.0,\n",
       " 'area_below': 0.1686970717273748,\n",
       " 'total_area': 0.1686970717273748}"
      ]
     },
     "execution_count": 70,
     "metadata": {},
     "output_type": "execute_result"
    }
   ],
   "source": [
    "p_hat_list = p_vals_XXT\n",
    "roc = []\n",
    "alphas = []\n",
    "for alpha in np.linspace(0, 1, 100):\n",
    "    alphas.append(alpha)\n",
    "    num_below_alpha = sum(p_hat_list < alpha)\n",
    "    roc_point = num_below_alpha / len(p_hat_list)\n",
    "    roc.append(roc_point)\n",
    "\n",
    "# Get the power at the 5% significance level\n",
    "power_significance = 0.05\n",
    "power_idx = alphas.index(min(alphas, key=lambda x: abs(x - power_significance)))\n",
    "power = roc[power_idx]\n",
    "\n",
    "\n",
    "plt.plot(np.linspace(0, 1, 2), np.linspace(0, 1, 2), linestyle=\"--\", c=\"grey\")\n",
    "_ = plt.plot(alphas, roc, color='#228B22')\n",
    "\n",
    "# Set title and aspect ratio\n",
    "plt.title(f\"ROC Curve for 3 Community \\n MMSBM with n={n} nodes, $XX^T$\")\n",
    "plt.gca().set_aspect('equal', adjustable='box')\n",
    "\n",
    "plt.savefig(f\"figs/MMSBM_XXTbootstrap_M{M}_SYMM.png\")\n",
    "plt.show()\n",
    "\n",
    "compute_roc_and_areas(p_vals_XXT, significance_level=0.05)"
   ]
  },
  {
   "cell_type": "markdown",
   "metadata": {},
   "source": [
    "#### Sample edgelist with replacement bootstrap for each draw from the model\n",
    "\n",
    "This is essentially just dropping some edges, as any edge selected more than once is set to a 1 as this is a binary setting"
   ]
  },
  {
   "cell_type": "code",
   "execution_count": 71,
   "metadata": {},
   "outputs": [],
   "source": [
    "# for each of the true draws from the model, create a bootstrap and perform a test with Q permutations\n",
    "random.seed(100)\n",
    "np.random.seed(100)\n",
    "\n",
    "p_vals_ESWR = []\n",
    "A_boots_list = []\n",
    "\n",
    "Q=1000 # number of sims to do in the paired exch test\n",
    "\n",
    "for m in A_true_draws:\n",
    "    A_boots = edgelist_sample_with_replacement(m) \n",
    "    # embed the observed and bootstrapped matrix together\n",
    "    yhat_est = UASE([m, A_boots], d=d)\n",
    "    # do a test between the obs and the bootstrap, get a p-value ---------------------------------\n",
    "    p_val = test_temporal_displacement_two_times(yhat_est, n=m.shape[0], n_sim=Q) \n",
    "\n",
    "    p_vals_ESWR.append(p_val)\n",
    "    A_boots_list.append(A_boots[0])"
   ]
  },
  {
   "cell_type": "code",
   "execution_count": 72,
   "metadata": {},
   "outputs": [
    {
     "data": {
      "image/png": "[encoded data removed]",
      "text/plain": [
       "<Figure size 432x288 with 1 Axes>"
      ]
     },
     "metadata": {
      "needs_background": "light"
     },
     "output_type": "display_data"
    },
    {
     "data": {
      "text/plain": [
       "{'area_above': 0.4999489847974696,\n",
       " 'area_below': 0.0,\n",
       " 'total_area': 0.4999489847974696}"
      ]
     },
     "execution_count": 72,
     "metadata": {},
     "output_type": "execute_result"
    }
   ],
   "source": [
    "p_hat_list = p_vals_ESWR\n",
    "roc = []\n",
    "alphas = []\n",
    "for alpha in np.linspace(0, 1, 100):\n",
    "    alphas.append(alpha)\n",
    "    num_below_alpha = sum(p_hat_list < alpha)\n",
    "    roc_point = num_below_alpha / len(p_hat_list)\n",
    "    roc.append(roc_point)\n",
    "\n",
    "# Get the power at the 5% significance level\n",
    "power_significance = 0.05\n",
    "power_idx = alphas.index(min(alphas, key=lambda x: abs(x - power_significance)))\n",
    "power = roc[power_idx]\n",
    "\n",
    "\n",
    "plt.plot(np.linspace(0, 1, 2), np.linspace(0, 1, 2), linestyle=\"--\", c=\"grey\")\n",
    "_ = plt.plot(alphas, roc, color='#228B22')\n",
    "\n",
    "# Set title and aspect ratio\n",
    "plt.title(f\"ROC Curve for 3 Community \\n MMSBM with n={n} nodes,\\n edgelist sample with replacement\")\n",
    "plt.gca().set_aspect('equal', adjustable='box')\n",
    "\n",
    "plt.savefig(f\"figs/MMSBM_edgelistSampleRepBootstrap_M{M}_SYMM.png\")\n",
    "\n",
    "plt.show()\n",
    "\n",
    "compute_roc_and_areas(p_vals_ESWR, significance_level=0.05)"
   ]
  },
  {
   "cell_type": "markdown",
   "metadata": {},
   "source": [
    "knn prone"
   ]
  },
  {
   "cell_type": "code",
   "execution_count": 73,
   "metadata": {},
   "outputs": [],
   "source": [
    "def create_single_kNN_prone_bootstrap(A, d, Q=1000, n_neighbors=5):\n",
    "    n = A.shape[0]\n",
    "    A_obs = A.copy()\n",
    "    # Embed the graphs -------------------------------\n",
    "    yhat = unfolded_prone(A, d=d, flat=True)\n",
    "    # run a k-NN on the embedding yhat\n",
    "    # Here we use Minkowski distance, with p=2 (these are the defaults),\n",
    "    # which corresponds to Euclidean distance\n",
    "    from sklearn.neighbors import NearestNeighbors\n",
    "    nbrs = NearestNeighbors(\n",
    "        n_neighbors=n_neighbors, algorithm=\"ball_tree\", metric=\"minkowski\", p=2\n",
    "    ).fit(yhat)\n",
    "    distances, indices = nbrs.kneighbors(yhat)\n",
    "    # Estimate the P matrix -------------------------------\n",
    "    P_est = P_est_from_A_obs(n, A_obs, n_neighbors=n_neighbors, indices=indices)\n",
    "    # Bootstrap -----------------------------------------\n",
    "    A_est = make_inhomogeneous_rg(P_est)\n",
    "    # embed the observed and bootstrapped matrices together --------------------------------\n",
    "    yhat_est = UASE([A_obs, A_est], d=d)\n",
    "    # do a test between the obs and the bootstrap, get a p-value ---------------------------------\n",
    "    p_val = test_temporal_displacement_two_times(yhat_est, n, n_sim=Q)\n",
    "    return p_val, A_est"
   ]
  },
  {
   "cell_type": "code",
   "execution_count": 85,
   "metadata": {},
   "outputs": [],
   "source": [
    "# for each of the true draws from the model, create a bootstrap and perform a test with Q permutations\n",
    "random.seed(100)\n",
    "np.random.seed(100)\n",
    "\n",
    "p_vals_prone = []\n",
    "A_boots_list = []\n",
    "\n",
    "k=25\n",
    "Q=1000 # number of sims to do in the paired exch test\n",
    "\n",
    "for m in A_true_draws:\n",
    "    _, A_boots = create_single_kNN_prone_bootstrap(m, d=d, Q=Q, n_neighbors=k) \n",
    "\n",
    "    # embed the observed and bootstrapped matrix together\n",
    "    yhat_est = UASE([m, A_boots], d=d)\n",
    "    # do a test between the obs and the bootstrap, get a p-value ---------------------------------\n",
    "    p_val = test_temporal_displacement_two_times(yhat_est, n=m.shape[0], n_sim=Q) \n",
    "\n",
    "    p_vals_prone.append(p_val)\n",
    "    A_boots_list.append(A_boots[0])"
   ]
  },
  {
   "cell_type": "code",
   "execution_count": 86,
   "metadata": {},
   "outputs": [
    {
     "data": {
      "image/png": "[encoded data removed]",
      "text/plain": [
       "<Figure size 432x288 with 1 Axes>"
      ]
     },
     "metadata": {
      "needs_background": "light"
     },
     "output_type": "display_data"
    },
    {
     "data": {
      "text/plain": [
       "{'area_above': 9.174670976754557e-05,\n",
       " 'area_below': 0.10532656816018496,\n",
       " 'total_area': 0.1054183148699525}"
      ]
     },
     "execution_count": 86,
     "metadata": {},
     "output_type": "execute_result"
    }
   ],
   "source": [
    "p_hat_list = p_vals_prone\n",
    "roc = []\n",
    "alphas = []\n",
    "for alpha in np.linspace(0, 1, 100):\n",
    "    alphas.append(alpha)\n",
    "    num_below_alpha = sum(p_hat_list < alpha)\n",
    "    roc_point = num_below_alpha / len(p_hat_list)\n",
    "    roc.append(roc_point)\n",
    "\n",
    "# Get the power at the 5% significance level\n",
    "power_significance = 0.05\n",
    "power_idx = alphas.index(min(alphas, key=lambda x: abs(x - power_significance)))\n",
    "power = roc[power_idx]\n",
    "\n",
    "\n",
    "plt.plot(np.linspace(0, 1, 2), np.linspace(0, 1, 2), linestyle=\"--\", c=\"grey\")\n",
    "_ = plt.plot(alphas, roc, color='#228B22')\n",
    "\n",
    "# Set title and aspect ratio\n",
    "plt.title(f\"ROC Curve for 3 Community \\n MMSBM with n={n} nodes,\\n knn-Prone with k={k}\")\n",
    "plt.gca().set_aspect('equal', adjustable='box')\n",
    "\n",
    "plt.savefig(f\"figs/MMSBM_knnProneResample_k{k}_M{M}_SYMM.png\")\n",
    "\n",
    "plt.show()\n",
    "\n",
    "compute_roc_and_areas(p_vals_prone, significance_level=0.05)"
   ]
  },
  {
   "cell_type": "markdown",
   "metadata": {},
   "source": [
    "## Change n, run each method and record score to then plot"
   ]
  },
  {
   "cell_type": "markdown",
   "metadata": {},
   "source": [
    "make more Atrue draws"
   ]
  },
  {
   "cell_type": "code",
   "execution_count": 76,
   "metadata": {},
   "outputs": [],
   "source": [
    "# Generate more samples from the same model with the same B matrix and pi vectors\n",
    "random.seed(100)\n",
    "\n",
    "n_list = [50,100,200,300,500,750,1000, 1500, 2000]\n",
    "\n",
    "M=max(n_list)\n",
    "A_true_draws = []\n",
    "\n",
    "for m in range(M):\n",
    "    # use the B matrix from before, B, and the pi vectors, pi_list\n",
    "    P = np.zeros((n, n))\n",
    "    for i in range(n):\n",
    "        for j in range(n):\n",
    "            z_ij = np.random.multinomial(1, pi_list[i].flatten())#.tolist())\n",
    "            z_ji = np.random.multinomial(1, pi_list[j].flatten())#.tolist())\n",
    "\n",
    "            P[i,j] = z_ij @ B @ z_ji.T\n",
    "\n",
    "    A = (np.random.uniform(0, 1, n**2).reshape(n, n) < P)\n",
    "\n",
    "    A = A.astype(float)\n",
    "\n",
    "    # make symmetric by setting the lower triangle equal to the upper triangle\n",
    "    A = np.triu(A) + np.triu(A).T - np.diag(A.diagonal())\n",
    "\n",
    "    A_true_draws.append(A)\n",
    "\n",
    "    #3 mins runtime for M=300"
   ]
  },
  {
   "cell_type": "markdown",
   "metadata": {},
   "source": [
    "knn with all k values"
   ]
  },
  {
   "cell_type": "code",
   "execution_count": 77,
   "metadata": {},
   "outputs": [],
   "source": [
    "random.seed(100)\n",
    "np.random.seed(100)\n",
    "\n",
    "k5list = []\n",
    "k25list = []\n",
    "k90list = []\n",
    "\n",
    "for n in n_list:\n",
    "    n = n\n",
    "    \n",
    "    # knn\n",
    "    for k in [5,25,90]:\n",
    "        k = k\n",
    "        # for each of the true draws from the model, create a bootstrap and perform a test with Q permutations\n",
    "\n",
    "        p_vals_k = []\n",
    "        A_boots_list_k = []\n",
    "\n",
    "        for m in A_true_draws[0:n]:\n",
    "            p_val, A_boots = create_single_kNN_bootstrap(m, d=d, Q=1000, n_neighbors=k)\n",
    "            p_vals_k.append(p_val)\n",
    "            A_boots_list_k.append(A_boots)\n",
    "\n",
    "        p_hat_list = p_vals_k\n",
    "\n",
    "        output = compute_roc_and_areas(p_vals_k, significance_level=0.05)\n",
    "        # print(list(output.items())[2])\n",
    "\n",
    "        if k == 5:\n",
    "            k5list.append(list(output.items())[2][1])\n",
    "        elif k == 25:\n",
    "            k25list.append(list(output.items())[2][1])\n",
    "        elif k == 90:\n",
    "            k90list.append(list(output.items())[2][1])\n",
    "        else:\n",
    "            print(\"error\")"
   ]
  },
  {
   "cell_type": "markdown",
   "metadata": {},
   "source": [
    "YYT"
   ]
  },
  {
   "cell_type": "code",
   "execution_count": 78,
   "metadata": {},
   "outputs": [
    {
     "name": "stderr",
     "output_type": "stream",
     "text": [
      "/home/uj21900/Documents/ResamplingAdjacencyMatrices/functions_for_bootstrap.py:193: UserWarning: P_hat contains values outside of [0,1]. The values outside this range will be clipped to lie in the range.\n",
      "  warnings.warn(\"P_hat contains values outside of [0,1]. The values outside this range will be clipped to lie in the range.\")\n"
     ]
    }
   ],
   "source": [
    "random.seed(100)\n",
    "np.random.seed(100)\n",
    "\n",
    "YYTlist = []\n",
    "\n",
    "for n in n_list:\n",
    "    n = n\n",
    "\n",
    "    p_vals_YYT = []\n",
    "    A_boots_list_YYT = []\n",
    "\n",
    "\n",
    "    for m in A_true_draws[0:n]:\n",
    "        p_val, A_boots = create_single_YYT_bootstrap_cropPto0_1range(m,d=d,Q=1000)\n",
    "        p_vals_YYT.append(p_val)\n",
    "        A_boots_list_YYT.append(A_boots)\n",
    "\n",
    "    p_hat_list = p_vals_YYT\n",
    "\n",
    "    output = compute_roc_and_areas(p_vals_YYT, significance_level=0.05)\n",
    "    # print(list(output.items())[2])\n",
    "\n",
    "    YYTlist.append(list(output.items())[2][1])"
   ]
  },
  {
   "cell_type": "markdown",
   "metadata": {},
   "source": [
    "#### knn prone"
   ]
  },
  {
   "cell_type": "code",
   "execution_count": 79,
   "metadata": {},
   "outputs": [],
   "source": [
    "random.seed(100)\n",
    "np.random.seed(100)\n",
    "\n",
    "k5pronelist = []\n",
    "k25pronelist = []\n",
    "k90pronelist = []\n",
    "\n",
    "for n in n_list:\n",
    "    n = n\n",
    "    \n",
    "    # knn\n",
    "    for k in [5,25,90]:\n",
    "        k = k\n",
    "        # for each of the true draws from the model, create a bootstrap and perform a test with Q permutations\n",
    "\n",
    "        p_vals_k = []\n",
    "        A_boots_list_k = []\n",
    "\n",
    "        for m in A_true_draws[0:n]:\n",
    "            p_val, A_boots = create_single_kNN_bootstrap(m, d=d, Q=1000, n_neighbors=k)\n",
    "            p_vals_k.append(p_val)\n",
    "            A_boots_list_k.append(A_boots)\n",
    "\n",
    "        p_hat_list = p_vals_k\n",
    "\n",
    "        output = compute_roc_and_areas(p_vals_k, significance_level=0.05)\n",
    "        # print(list(output.items())[2])\n",
    "\n",
    "        if k == 5:\n",
    "            k5pronelist.append(list(output.items())[2][1])\n",
    "        elif k == 25:\n",
    "            k25pronelist.append(list(output.items())[2][1])\n",
    "        elif k == 90:\n",
    "            k90pronelist.append(list(output.items())[2][1])\n",
    "        else:\n",
    "            print(\"error\")"
   ]
  },
  {
   "cell_type": "code",
   "execution_count": 88,
   "metadata": {},
   "outputs": [
    {
     "data": {
      "image/png": "[encoded data removed]",
      "text/plain": [
       "<Figure size 432x288 with 1 Axes>"
      ]
     },
     "metadata": {
      "needs_background": "light"
     },
     "output_type": "display_data"
    }
   ],
   "source": [
    "# Plot the lists\n",
    "plt.plot(n_list, YYTlist, label=\"$YY^T$\", marker='o')\n",
    "plt.plot(n_list, k5list, label=\"k=5 knn\", marker='s')\n",
    "plt.plot(n_list, k25list, label=\"k=25 knn\", marker='d')\n",
    "plt.plot(n_list, k90list, label=\"k=90 knn\", marker='^')\n",
    "plt.plot(n_list, k5pronelist, label=\"k=5 knn-Prone\", marker='x')\n",
    "plt.plot(n_list, k25pronelist, label=\"k=25 knn-Prone\", marker='*')\n",
    "plt.plot(n_list, k90pronelist, label=\"k=90 knn-Prone\", marker='P')\n",
    "\n",
    "# Add labels and title\n",
    "plt.xlabel(\"n (number of nodes)\")\n",
    "plt.ylabel(\"Score\")\n",
    "plt.title(f\"Scores for different Bootstrap Methods with \\nM={M} and varying n values (network sizes)\")\n",
    "\n",
    "# add xticks for the n_list\n",
    "plt.xticks(n_list)\n",
    "# rotate the xticks\n",
    "plt.xticks(rotation=90)\n",
    "\n",
    "plt.legend(loc=\"upper right\", bbox_to_anchor=(1.4, 1))\n",
    "\n",
    "plt.savefig(f\"figs/MMSBM_scores_varying_n_M{M}_SYMM.png\", bbox_inches='tight', facecolor=\"white\")\n",
    "\n",
    "plt.show()"
   ]
  },
  {
   "cell_type": "code",
   "execution_count": null,
   "metadata": {},
   "outputs": [],
   "source": []
  }
 ],
 "metadata": {
  "kernelspec": {
   "display_name": "base",
   "language": "python",
   "name": "python3"
  },
  "language_info": {
   "codemirror_mode": {
    "name": "ipython",
    "version": 3
   },
   "file_extension": ".py",
   "mimetype": "text/x-python",
   "name": "python",
   "nbconvert_exporter": "python",
   "pygments_lexer": "ipython3",
   "version": "3.9.7"
  }
 },
 "nbformat": 4,
 "nbformat_minor": 2
}
