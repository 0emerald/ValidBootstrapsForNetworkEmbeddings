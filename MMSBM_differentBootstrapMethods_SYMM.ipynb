{
 "cells": [
  {
   "cell_type": "code",
   "execution_count": 1,
   "metadata": {},
   "outputs": [],
   "source": [
    "import numpy as np\n",
    "import matplotlib.pyplot as plt\n",
    "import pandas as pd\n",
    "from embedding_functions import *\n",
    "from experiment_setup import *\n",
    "from functions_for_bootstrap import *\n",
    "import numba as nb\n",
    "from scipy.stats import wasserstein_distance\n",
    "from tqdm import tqdm\n",
    "import random"
   ]
  },
  {
   "cell_type": "code",
   "execution_count": 2,
   "metadata": {},
   "outputs": [
    {
     "name": "stdout",
     "output_type": "stream",
     "text": [
      "[[0.3 0.2 0.2]\n",
      " [0.2 0.6 0.2]\n",
      " [0.2 0.2 0.9]]\n"
     ]
    }
   ],
   "source": [
    "# Code up a mixed membership model \n",
    "random.seed(222)\n",
    "np.random.seed(222)\n",
    "\n",
    "K=3\n",
    "n= 300\n",
    "d=3\n",
    "\n",
    "# use our new function to make a MMSBM \n",
    "# 1May24 I added return B to the function, so I can add to the paper what B is for our example\n",
    "A, largest_prob, P, B = make_MMSBM(n, K)\n",
    "\n",
    "A = A.astype(float)\n",
    "ya = UASE([A], d)\n",
    "# plot_embedding(ya, n, 1, largest_prob)\n",
    "\n",
    "print(B) # seed keeps this B same everytime"
   ]
  },
  {
   "cell_type": "markdown",
   "metadata": {},
   "source": [
    "### Use the test with samples drawn from the same distribution - compared to one bootstrap from itself each time"
   ]
  },
  {
   "cell_type": "code",
   "execution_count": 3,
   "metadata": {},
   "outputs": [],
   "source": [
    "random.seed(222)\n",
    "np.random.seed(222)\n",
    "\n",
    "# make all the pi vectors (n of them)\n",
    "pi_list = []\n",
    "largest_prob = []\n",
    "for i in range(n):\n",
    "    # pi is a random probability vector of length K\n",
    "    pi = np.random.dirichlet(np.ones(K)).reshape((K, 1))\n",
    "    pi_list.append(pi)\n",
    "    largest_prob.append(np.argmax(pi))"
   ]
  },
  {
   "cell_type": "code",
   "execution_count": 66,
   "metadata": {},
   "outputs": [],
   "source": [
    "# Generate more samples from the same model with the same B matrix and pi vectors\n",
    "random.seed(100)\n",
    "\n",
    "M=300\n",
    "A_true_draws = []\n",
    "\n",
    "for m in range(M):\n",
    "    # use the B matrix from before, B, and the pi vectors, pi_list\n",
    "    P = np.zeros((n, n))\n",
    "    for i in range(n):\n",
    "        for j in range(n):\n",
    "            z_ij = np.random.multinomial(1, pi_list[i].flatten())#.tolist())\n",
    "            z_ji = np.random.multinomial(1, pi_list[j].flatten())#.tolist())\n",
    "\n",
    "            P[i,j] = z_ij @ B @ z_ji.T\n",
    "\n",
    "    A = (np.random.uniform(0, 1, n**2).reshape(n, n) < P)\n",
    "\n",
    "    A = A.astype(float)\n",
    "\n",
    "    # make symmetric by setting the lower triangle equal to the upper triangle\n",
    "    A = np.triu(A) + np.triu(A).T - np.diag(A.diagonal())\n",
    "\n",
    "    A_true_draws.append(A)"
   ]
  },
  {
   "cell_type": "markdown",
   "metadata": {},
   "source": [
    "#### ASE-kNN k=5"
   ]
  },
  {
   "cell_type": "code",
   "execution_count": 104,
   "metadata": {},
   "outputs": [],
   "source": [
    "# for each of the true draws from the model, create a bootstrap and perform a test with Q permutations\n",
    "random.seed(100)\n",
    "np.random.seed(100)\n",
    "\n",
    "k=5\n",
    "\n",
    "p_vals_k5 = []\n",
    "A_boots_list_k5 = []\n",
    "\n",
    "for m in A_true_draws:\n",
    "    p_val, A_boots = create_single_kNN_bootstrap(m, d=d, Q=1000, n_neighbors=k)\n",
    "    p_vals_k5.append(p_val)\n",
    "    A_boots_list_k5.append(A_boots)"
   ]
  },
  {
   "cell_type": "code",
   "execution_count": null,
   "metadata": {},
   "outputs": [],
   "source": [
    "p_hat_list = p_vals_k5\n",
    "roc = []\n",
    "alphas = []\n",
    "for alpha in np.linspace(0, 1, 100):\n",
    "    alphas.append(alpha)\n",
    "    num_below_alpha = sum(p_hat_list < alpha)\n",
    "    roc_point = num_below_alpha / len(p_hat_list)\n",
    "    roc.append(roc_point)\n",
    "\n",
    "# Get the power at the 5% significance level\n",
    "power_significance = 0.05\n",
    "power_idx = alphas.index(min(alphas, key=lambda x: abs(x - power_significance)))\n",
    "power = roc[power_idx]\n",
    "\n",
    "\n",
    "plt.plot(np.linspace(0, 1, 2), np.linspace(0, 1, 2), linestyle=\"--\", c=\"grey\")\n",
    "_ = plt.plot(alphas, roc, color='#228B22')\n",
    "\n",
    "# Set title and aspect ratio\n",
    "plt.title(f\"ROC Curve for 3 Community \\n MMSBM with n={n} nodes, k={k}\")\n",
    "plt.gca().set_aspect('equal', adjustable='box')\n",
    "\n",
    "# set ticks bigger\n",
    "plt.xticks(fontsize=14)\n",
    "plt.yticks(fontsize=14)\n",
    "\n",
    "# plt.savefig(f\"MMSBM_knnBootstrap_k{k}_M{M}_SYMM.png\", facecolor=\"white\")\n",
    "\n",
    "plt.show()\n",
    "\n",
    "compute_roc_and_areas(p_vals_k5, significance_level=0.05)"
   ]
  },
  {
   "cell_type": "markdown",
   "metadata": {},
   "source": [
    "#### ASE-kNN k=25"
   ]
  },
  {
   "cell_type": "code",
   "execution_count": 107,
   "metadata": {},
   "outputs": [],
   "source": [
    "# for each of the true draws from the model, create a bootstrap and perform a test with Q permutations\n",
    "random.seed(100)\n",
    "np.random.seed(100)\n",
    "\n",
    "k=25\n",
    "\n",
    "p_vals_k25 = []\n",
    "A_boots_list_k25 = []\n",
    "\n",
    "for m in A_true_draws:\n",
    "    p_val, A_boots = create_single_kNN_bootstrap(m, d=d, Q=1000, n_neighbors=k)\n",
    "    p_vals_k25.append(p_val)\n",
    "    A_boots_list_k25.append(A_boots)"
   ]
  },
  {
   "cell_type": "code",
   "execution_count": null,
   "metadata": {},
   "outputs": [],
   "source": [
    "p_hat_list = p_vals_k25\n",
    "roc = []\n",
    "alphas = []\n",
    "for alpha in np.linspace(0, 1, 100):\n",
    "    alphas.append(alpha)\n",
    "    num_below_alpha = sum(p_hat_list < alpha)\n",
    "    roc_point = num_below_alpha / len(p_hat_list)\n",
    "    roc.append(roc_point)\n",
    "\n",
    "# Get the power at the 5% significance level\n",
    "power_significance = 0.05\n",
    "power_idx = alphas.index(min(alphas, key=lambda x: abs(x - power_significance)))\n",
    "power = roc[power_idx]\n",
    "\n",
    "\n",
    "plt.plot(np.linspace(0, 1, 2), np.linspace(0, 1, 2), linestyle=\"--\", c=\"grey\")\n",
    "_ = plt.plot(alphas, roc, color='#228B22')\n",
    "\n",
    "# Set title and aspect ratio\n",
    "plt.title(f\"ROC Curve for 3 Community \\n MMSBM with n={n} nodes, k={k}\")\n",
    "plt.gca().set_aspect('equal', adjustable='box')\n",
    "\n",
    "plt.xticks(fontsize=14)\n",
    "plt.yticks(fontsize=14)\n",
    "\n",
    "# plt.savefig(f\"MMSBM_knnBootstrap_k{k}_M{M}_SYMM.png\", facecolor=\"white\")\n",
    "\n",
    "plt.show()\n",
    "\n",
    "compute_roc_and_areas(p_vals_k25, significance_level=0.05)"
   ]
  },
  {
   "cell_type": "markdown",
   "metadata": {},
   "source": [
    "#### ASE-kNN k=55"
   ]
  },
  {
   "cell_type": "code",
   "execution_count": null,
   "metadata": {},
   "outputs": [],
   "source": [
    "# for each of the true draws from the model, create a bootstrap and perform a test with Q permutations\n",
    "random.seed(100)\n",
    "np.random.seed(100)\n",
    "\n",
    "k=55\n",
    "\n",
    "p_vals_k55 = []\n",
    "A_boots_list_k55 = []\n",
    "\n",
    "for m in A_true_draws:\n",
    "    p_val, A_boots = create_single_kNN_bootstrap(m, d=d, Q=1000, n_neighbors=k)\n",
    "    p_vals_k55.append(p_val)\n",
    "    A_boots_list_k55.append(A_boots)"
   ]
  },
  {
   "cell_type": "code",
   "execution_count": null,
   "metadata": {},
   "outputs": [],
   "source": [
    "p_hat_list = p_vals_k55\n",
    "roc = []\n",
    "alphas = []\n",
    "for alpha in np.linspace(0, 1, 100):\n",
    "    alphas.append(alpha)\n",
    "    num_below_alpha = sum(p_hat_list < alpha)\n",
    "    roc_point = num_below_alpha / len(p_hat_list)\n",
    "    roc.append(roc_point)\n",
    "\n",
    "# Get the power at the 5% significance level\n",
    "power_significance = 0.05\n",
    "power_idx = alphas.index(min(alphas, key=lambda x: abs(x - power_significance)))\n",
    "power = roc[power_idx]\n",
    "\n",
    "\n",
    "plt.plot(np.linspace(0, 1, 2), np.linspace(0, 1, 2), linestyle=\"--\", c=\"grey\")\n",
    "_ = plt.plot(alphas, roc, color='#228B22')\n",
    "\n",
    "# Set title and aspect ratio\n",
    "plt.title(f\"ROC Curve for 3 Community \\n MMSBM with n={n} nodes, k={k}\")\n",
    "plt.gca().set_aspect('equal', adjustable='box')\n",
    "\n",
    "plt.xticks(fontsize=14)\n",
    "plt.yticks(fontsize=14)\n",
    "\n",
    "# plt.savefig(f\"MMSBM_knnBootstrap_k{k}_M{M}_SYMM.png\", facecolor=\"white\")\n",
    "plt.show()\n",
    "\n",
    "compute_roc_and_areas(p_vals_k55, significance_level=0.05)"
   ]
  },
  {
   "cell_type": "markdown",
   "metadata": {},
   "source": [
    "#### ASE-kNN k=90"
   ]
  },
  {
   "cell_type": "code",
   "execution_count": 72,
   "metadata": {},
   "outputs": [],
   "source": [
    "# for each of the true draws from the model, create a bootstrap and perform a test with Q permutations\n",
    "random.seed(100)\n",
    "np.random.seed(100)\n",
    "\n",
    "k=90\n",
    "\n",
    "p_vals_k90 = []\n",
    "A_boots_list_k90 = []\n",
    "\n",
    "for m in A_true_draws:\n",
    "    p_val, A_boots = create_single_kNN_bootstrap(m, d=d, Q=1000, n_neighbors=k)\n",
    "    p_vals_k90.append(p_val)\n",
    "    A_boots_list_k90.append(A_boots)"
   ]
  },
  {
   "cell_type": "code",
   "execution_count": null,
   "metadata": {},
   "outputs": [],
   "source": [
    "p_hat_list = p_vals_k90\n",
    "roc = []\n",
    "alphas = []\n",
    "for alpha in np.linspace(0, 1, 100):\n",
    "    alphas.append(alpha)\n",
    "    num_below_alpha = sum(p_hat_list < alpha)\n",
    "    roc_point = num_below_alpha / len(p_hat_list)\n",
    "    roc.append(roc_point)\n",
    "\n",
    "# Get the power at the 5% significance level\n",
    "power_significance = 0.05\n",
    "power_idx = alphas.index(min(alphas, key=lambda x: abs(x - power_significance)))\n",
    "power = roc[power_idx]\n",
    "\n",
    "\n",
    "plt.plot(np.linspace(0, 1, 2), np.linspace(0, 1, 2), linestyle=\"--\", c=\"grey\")\n",
    "_ = plt.plot(alphas, roc, color='#228B22')\n",
    "\n",
    "# Set title and aspect ratio\n",
    "plt.title(f\"ROC Curve for 3 Community \\n MMSBM with n={n} nodes, k={k}\")\n",
    "plt.gca().set_aspect('equal', adjustable='box')\n",
    "\n",
    "plt.xticks(fontsize=14)\n",
    "plt.yticks(fontsize=14)\n",
    "\n",
    "# plt.savefig(f\"MMSBM_knnBootstrap_k{k}_M{M}_SYMM.png\", facecolor=\"white\")\n",
    "plt.show()\n",
    "\n",
    "compute_roc_and_areas(p_vals_k90, significance_level=0.05)"
   ]
  },
  {
   "cell_type": "markdown",
   "metadata": {},
   "source": [
    "#### ASE-$YY^T$"
   ]
  },
  {
   "cell_type": "code",
   "execution_count": 74,
   "metadata": {},
   "outputs": [
    {
     "name": "stderr",
     "output_type": "stream",
     "text": [
      "/home/uj21900/Documents/ResamplingAdjacencyMatrices/functions_for_bootstrap.py:193: UserWarning: P_hat contains values outside of [0,1]. The values outside this range will be clipped to lie in the range.\n",
      "  warnings.warn(\"P_hat contains values outside of [0,1]. The values outside this range will be clipped to lie in the range.\")\n"
     ]
    }
   ],
   "source": [
    "# for each of the true draws from the model, create a bootstrap and perform a test with Q permutations\n",
    "random.seed(100)\n",
    "np.random.seed(100)\n",
    "\n",
    "p_vals_YYT = []\n",
    "A_boots_list_YYT = []\n",
    "\n",
    "for m in A_true_draws:\n",
    "    p_val, A_boots = create_single_YYT_bootstrap_cropPto0_1range(m,d=d,Q=1000)\n",
    "    p_vals_YYT.append(p_val)\n",
    "    A_boots_list_YYT.append(A_boots)"
   ]
  },
  {
   "cell_type": "code",
   "execution_count": null,
   "metadata": {},
   "outputs": [],
   "source": [
    "p_hat_list = p_vals_YYT\n",
    "roc = []\n",
    "alphas = []\n",
    "for alpha in np.linspace(0, 1, 100):\n",
    "    alphas.append(alpha)\n",
    "    num_below_alpha = sum(p_hat_list < alpha)\n",
    "    roc_point = num_below_alpha / len(p_hat_list)\n",
    "    roc.append(roc_point)\n",
    "\n",
    "# Get the power at the 5% significance level\n",
    "power_significance = 0.05\n",
    "power_idx = alphas.index(min(alphas, key=lambda x: abs(x - power_significance)))\n",
    "power = roc[power_idx]\n",
    "\n",
    "\n",
    "plt.plot(np.linspace(0, 1, 2), np.linspace(0, 1, 2), linestyle=\"--\", c=\"grey\")\n",
    "_ = plt.plot(alphas, roc, color='#228B22')\n",
    "\n",
    "plt.xticks(fontsize=14)\n",
    "plt.yticks(fontsize=14)\n",
    "\n",
    "# Set title and aspect ratio\n",
    "plt.title(f\"ROC Curve for 3 Community \\n MMSBM with n={n} nodes, $YY^T$\")\n",
    "plt.gca().set_aspect('equal', adjustable='box')\n",
    "\n",
    "# plt.savefig(f\"figs/MMSBM_YYTbootstrap_M{M}_SYMM.png\")\n",
    "plt.show()\n",
    "\n",
    "compute_roc_and_areas(p_vals_YYT, significance_level=0.05)"
   ]
  },
  {
   "cell_type": "markdown",
   "metadata": {},
   "source": [
    "#### ASE-Sample edgelist with replacement bootstrap for each draw from the model\n",
    "\n",
    "This is essentially just dropping some edges, as any edge selected more than once is set to a 1 as this is a binary setting"
   ]
  },
  {
   "cell_type": "code",
   "execution_count": 78,
   "metadata": {},
   "outputs": [],
   "source": [
    "# for each of the true draws from the model, create a bootstrap and perform a test with Q permutations\n",
    "random.seed(100)\n",
    "np.random.seed(100)\n",
    "\n",
    "p_vals_ESWR = []\n",
    "A_boots_list = []\n",
    "\n",
    "Q=1000 # number of sims to do in the paired exch test\n",
    "\n",
    "for m in A_true_draws:\n",
    "    A_boots = edgelist_sample_with_replacement(m) \n",
    "    # embed the observed and bootstrapped matrix together\n",
    "    yhat_est = UASE([m, A_boots], d=d)\n",
    "    # do a test between the obs and the bootstrap, get a p-value ---------------------------------\n",
    "    p_val = test_temporal_displacement_two_times(yhat_est, n=m.shape[0], n_sim=Q) \n",
    "\n",
    "    p_vals_ESWR.append(p_val)\n",
    "    A_boots_list.append(A_boots[0])"
   ]
  },
  {
   "cell_type": "code",
   "execution_count": null,
   "metadata": {},
   "outputs": [],
   "source": [
    "p_hat_list = p_vals_ESWR\n",
    "roc = []\n",
    "alphas = []\n",
    "for alpha in np.linspace(0, 1, 100):\n",
    "    alphas.append(alpha)\n",
    "    num_below_alpha = sum(p_hat_list < alpha)\n",
    "    roc_point = num_below_alpha / len(p_hat_list)\n",
    "    roc.append(roc_point)\n",
    "\n",
    "# Get the power at the 5% significance level\n",
    "power_significance = 0.05\n",
    "power_idx = alphas.index(min(alphas, key=lambda x: abs(x - power_significance)))\n",
    "power = roc[power_idx]\n",
    "\n",
    "\n",
    "plt.plot(np.linspace(0, 1, 2), np.linspace(0, 1, 2), linestyle=\"--\", c=\"grey\")\n",
    "_ = plt.plot(alphas, roc, color='#228B22')\n",
    "\n",
    "# Set title and aspect ratio\n",
    "plt.title(f\"ROC Curve for 3 Community \\n MMSBM with n={n} nodes,\\n edgelist sample with replacement\")\n",
    "plt.gca().set_aspect('equal', adjustable='box')\n",
    "\n",
    "plt.xticks(fontsize=14)\n",
    "plt.yticks(fontsize=14)\n",
    "\n",
    "# plt.savefig(f\"figs/MMSBM_edgelistSampleRepBootstrap_M{M}_SYMM.png\")\n",
    "plt.show()\n",
    "\n",
    "compute_roc_and_areas(p_vals_ESWR, significance_level=0.05)"
   ]
  },
  {
   "cell_type": "markdown",
   "metadata": {},
   "source": [
    "#### ASE-edgelist sample with replacement then rand sample edges"
   ]
  },
  {
   "cell_type": "code",
   "execution_count": 83,
   "metadata": {},
   "outputs": [],
   "source": [
    "# for each of the true draws from the model, create a bootstrap and perform a test with Q permutations\n",
    "random.seed(100)\n",
    "np.random.seed(100)\n",
    "\n",
    "p_vals_ESWR_plusRand = []\n",
    "A_boots_list = []\n",
    "\n",
    "Q=1000 # number of sims to do in the paired exch test\n",
    "\n",
    "for m in A_true_draws:\n",
    "    A_boots = edgelist_sample_with_replacement_addRandomEdges(m) \n",
    "    # embed the observed and bootstrapped matrix together\n",
    "    yhat_est = UASE([m, A_boots], d=d)\n",
    "    # do a test between the obs and the bootstrap, get a p-value ---------------------------------\n",
    "    p_val = test_temporal_displacement_two_times(yhat_est, n=m.shape[0], n_sim=Q) \n",
    "\n",
    "    p_vals_ESWR_plusRand.append(p_val)\n",
    "    A_boots_list.append(A_boots[0])"
   ]
  },
  {
   "cell_type": "code",
   "execution_count": null,
   "metadata": {},
   "outputs": [],
   "source": [
    "p_hat_list = p_vals_ESWR_plusRand\n",
    "roc = []\n",
    "alphas = []\n",
    "for alpha in np.linspace(0, 1, 100):\n",
    "    alphas.append(alpha)\n",
    "    num_below_alpha = sum(p_hat_list < alpha)\n",
    "    roc_point = num_below_alpha / len(p_hat_list)\n",
    "    roc.append(roc_point)\n",
    "\n",
    "# Get the power at the 5% significance level\n",
    "power_significance = 0.05\n",
    "power_idx = alphas.index(min(alphas, key=lambda x: abs(x - power_significance)))\n",
    "power = roc[power_idx]\n",
    "\n",
    "\n",
    "plt.plot(np.linspace(0, 1, 2), np.linspace(0, 1, 2), linestyle=\"--\", c=\"grey\")\n",
    "_ = plt.plot(alphas, roc, color='#228B22')\n",
    "\n",
    "# Set title and aspect ratio\n",
    "plt.title(f\"ROC Curve for 3 Community \\n MMSBM with n={n} nodes,\\n edgelist sample with replacement \\n and random edges added\")\n",
    "plt.gca().set_aspect('equal', adjustable='box')\n",
    "\n",
    "plt.xticks(fontsize=14)\n",
    "plt.yticks(fontsize=14)\n",
    "\n",
    "# plt.savefig(f\"figs/MMSBM_edgelistSampleRepBootstrap_edgesAdded_M{M}_SYMM.png\")\n",
    "plt.show()\n",
    "\n",
    "compute_roc_and_areas(p_vals_ESWR_plusRand, significance_level=0.05)"
   ]
  },
  {
   "cell_type": "markdown",
   "metadata": {},
   "source": [
    "### ProNE-kNN d=3"
   ]
  },
  {
   "cell_type": "markdown",
   "metadata": {},
   "source": [
    "#### ProNE-kNN with k=5"
   ]
  },
  {
   "cell_type": "code",
   "execution_count": null,
   "metadata": {},
   "outputs": [],
   "source": [
    "# for each of the true draws from the model, create a bootstrap and perform a test with Q permutations\n",
    "random.seed(100)\n",
    "np.random.seed(100)\n",
    "\n",
    "p_vals_prone_k5_d3 = []\n",
    "A_boots_list = []\n",
    "\n",
    "k=5\n",
    "Q=1000 # number of sims to do in the paired exch test\n",
    "\n",
    "for m in A_true_draws:\n",
    "    _, A_boots = create_single_kNN_prone_bootstrap(m, d=d, Q=Q, n_neighbors=k) \n",
    "\n",
    "    # embed the observed and bootstrapped matrix together\n",
    "    yhat_est = UASE([m, A_boots], d=d)\n",
    "    # do a test between the obs and the bootstrap, get a p-value ---------------------------------\n",
    "    p_val = test_temporal_displacement_two_times(yhat_est, n=m.shape[0], n_sim=Q) \n",
    "\n",
    "    p_vals_prone_k5_d3.append(p_val)\n",
    "    A_boots_list.append(A_boots[0])"
   ]
  },
  {
   "cell_type": "code",
   "execution_count": null,
   "metadata": {},
   "outputs": [],
   "source": [
    "p_hat_list = p_vals_prone_k5_d3\n",
    "roc = []\n",
    "alphas = []\n",
    "for alpha in np.linspace(0, 1, 100):\n",
    "    alphas.append(alpha)\n",
    "    num_below_alpha = sum(p_hat_list < alpha)\n",
    "    roc_point = num_below_alpha / len(p_hat_list)\n",
    "    roc.append(roc_point)\n",
    "\n",
    "# Get the power at the 5% significance level\n",
    "power_significance = 0.05\n",
    "power_idx = alphas.index(min(alphas, key=lambda x: abs(x - power_significance)))\n",
    "power = roc[power_idx]\n",
    "\n",
    "\n",
    "plt.plot(np.linspace(0, 1, 2), np.linspace(0, 1, 2), linestyle=\"--\", c=\"grey\")\n",
    "_ = plt.plot(alphas, roc, color='#228B22')\n",
    "\n",
    "# Set title and aspect ratio\n",
    "plt.title(f\"ROC Curve for 3 Community \\n MMSBM with n={n} nodes,\\n knn-Prone with k={k}\")\n",
    "plt.gca().set_aspect('equal', adjustable='box')\n",
    "\n",
    "plt.xticks(fontsize=14)\n",
    "plt.yticks(fontsize=14)\n",
    "\n",
    "# plt.savefig(f\"figs/MMSBM_knnProneResample_k{k}_M{M}_SYMM.png\")\n",
    "plt.show()\n",
    "\n",
    "compute_roc_and_areas(p_vals_prone_k5_d3, significance_level=0.05)"
   ]
  },
  {
   "cell_type": "markdown",
   "metadata": {},
   "source": [
    "#### ProNE-kNN k=25"
   ]
  },
  {
   "cell_type": "code",
   "execution_count": 81,
   "metadata": {},
   "outputs": [],
   "source": [
    "# for each of the true draws from the model, create a bootstrap and perform a test with Q permutations\n",
    "random.seed(100)\n",
    "np.random.seed(100)\n",
    "\n",
    "p_vals_prone_k25_d3 = []\n",
    "A_boots_list = []\n",
    "\n",
    "k=25\n",
    "Q=1000 # number of sims to do in the paired exch test\n",
    "\n",
    "for m in A_true_draws:\n",
    "    _, A_boots = create_single_kNN_prone_bootstrap(m, d=d, Q=Q, n_neighbors=k) \n",
    "\n",
    "    # embed the observed and bootstrapped matrix together\n",
    "    yhat_est = UASE([m, A_boots], d=d)\n",
    "    # do a test between the obs and the bootstrap, get a p-value ---------------------------------\n",
    "    p_val = test_temporal_displacement_two_times(yhat_est, n=m.shape[0], n_sim=Q) \n",
    "\n",
    "    p_vals_prone_k25_d3.append(p_val)\n",
    "    A_boots_list.append(A_boots[0])"
   ]
  },
  {
   "cell_type": "code",
   "execution_count": null,
   "metadata": {},
   "outputs": [],
   "source": [
    "p_hat_list = p_vals_prone_k25_d3\n",
    "roc = []\n",
    "alphas = []\n",
    "for alpha in np.linspace(0, 1, 100):\n",
    "    alphas.append(alpha)\n",
    "    num_below_alpha = sum(p_hat_list < alpha)\n",
    "    roc_point = num_below_alpha / len(p_hat_list)\n",
    "    roc.append(roc_point)\n",
    "\n",
    "# Get the power at the 5% significance level\n",
    "power_significance = 0.05\n",
    "power_idx = alphas.index(min(alphas, key=lambda x: abs(x - power_significance)))\n",
    "power = roc[power_idx]\n",
    "\n",
    "\n",
    "plt.plot(np.linspace(0, 1, 2), np.linspace(0, 1, 2), linestyle=\"--\", c=\"grey\")\n",
    "_ = plt.plot(alphas, roc, color='#228B22')\n",
    "\n",
    "# Set title and aspect ratio\n",
    "plt.title(f\"ROC Curve for 3 Community \\n MMSBM with n={n} nodes,\\n knn-Prone with k={k}\")\n",
    "plt.gca().set_aspect('equal', adjustable='box')\n",
    "\n",
    "plt.xticks(fontsize=14)\n",
    "plt.yticks(fontsize=14)\n",
    "\n",
    "# plt.savefig(f\"figs/MMSBM_knnProneResample_k{k}_M{M}_SYMM.png\")\n",
    "plt.show()\n",
    "\n",
    "compute_roc_and_areas(p_vals_prone_k25_d3, significance_level=0.05)"
   ]
  },
  {
   "cell_type": "markdown",
   "metadata": {},
   "source": [
    "#### ProNE-kNN with k=55"
   ]
  },
  {
   "cell_type": "code",
   "execution_count": null,
   "metadata": {},
   "outputs": [],
   "source": [
    "# for each of the true draws from the model, create a bootstrap and perform a test with Q permutations\n",
    "random.seed(100)\n",
    "np.random.seed(100)\n",
    "\n",
    "p_vals_prone_k55_d3 = []\n",
    "A_boots_list = []\n",
    "\n",
    "k=25\n",
    "Q=1000 # number of sims to do in the paired exch test\n",
    "\n",
    "for m in A_true_draws:\n",
    "    _, A_boots = create_single_kNN_prone_bootstrap(m, d=d, Q=Q, n_neighbors=k) \n",
    "\n",
    "    # embed the observed and bootstrapped matrix together\n",
    "    yhat_est = UASE([m, A_boots], d=d)\n",
    "    # do a test between the obs and the bootstrap, get a p-value ---------------------------------\n",
    "    p_val = test_temporal_displacement_two_times(yhat_est, n=m.shape[0], n_sim=Q) \n",
    "\n",
    "    p_vals_prone_k55_d3.append(p_val)\n",
    "    A_boots_list.append(A_boots[0])"
   ]
  },
  {
   "cell_type": "code",
   "execution_count": null,
   "metadata": {},
   "outputs": [],
   "source": [
    "p_hat_list = p_vals_prone_k55_d3\n",
    "roc = []\n",
    "alphas = []\n",
    "for alpha in np.linspace(0, 1, 100):\n",
    "    alphas.append(alpha)\n",
    "    num_below_alpha = sum(p_hat_list < alpha)\n",
    "    roc_point = num_below_alpha / len(p_hat_list)\n",
    "    roc.append(roc_point)\n",
    "\n",
    "# Get the power at the 5% significance level\n",
    "power_significance = 0.05\n",
    "power_idx = alphas.index(min(alphas, key=lambda x: abs(x - power_significance)))\n",
    "power = roc[power_idx]\n",
    "\n",
    "\n",
    "plt.plot(np.linspace(0, 1, 2), np.linspace(0, 1, 2), linestyle=\"--\", c=\"grey\")\n",
    "_ = plt.plot(alphas, roc, color='#228B22')\n",
    "\n",
    "# Set title and aspect ratio\n",
    "plt.title(f\"ROC Curve for 3 Community \\n MMSBM with n={n} nodes,\\n knn-Prone with k={k}\")\n",
    "plt.gca().set_aspect('equal', adjustable='box')\n",
    "\n",
    "plt.xticks(fontsize=14)\n",
    "plt.yticks(fontsize=14)\n",
    "\n",
    "# plt.savefig(f\"figs/MMSBM_knnProneResample_k{k}_M{M}_SYMM.png\")\n",
    "plt.show()\n",
    "\n",
    "compute_roc_and_areas(p_vals_prone_k55_d3, significance_level=0.05)"
   ]
  },
  {
   "cell_type": "markdown",
   "metadata": {},
   "source": [
    "#### ProNE-kNN k=90"
   ]
  },
  {
   "cell_type": "code",
   "execution_count": 85,
   "metadata": {},
   "outputs": [],
   "source": [
    "# for each of the true draws from the model, create a bootstrap and perform a test with Q permutations\n",
    "random.seed(100)\n",
    "np.random.seed(100)\n",
    "\n",
    "p_vals_prone_k90_d3 = []\n",
    "A_boots_list = []\n",
    "\n",
    "k=90\n",
    "Q=1000 # number of sims to do in the paired exch test\n",
    "\n",
    "for m in A_true_draws:\n",
    "    _, A_boots = create_single_kNN_prone_bootstrap(m, d=d, Q=Q, n_neighbors=k) \n",
    "\n",
    "    # embed the observed and bootstrapped matrix together\n",
    "    yhat_est = UASE([m, A_boots], d=d)\n",
    "    # do a test between the obs and the bootstrap, get a p-value ---------------------------------\n",
    "    p_val = test_temporal_displacement_two_times(yhat_est, n=m.shape[0], n_sim=Q) \n",
    "\n",
    "    p_vals_prone_k90_d3.append(p_val)\n",
    "    A_boots_list.append(A_boots[0])"
   ]
  },
  {
   "cell_type": "code",
   "execution_count": null,
   "metadata": {},
   "outputs": [],
   "source": [
    "p_hat_list = p_vals_prone_k90_d3\n",
    "roc = []\n",
    "alphas = []\n",
    "for alpha in np.linspace(0, 1, 100):\n",
    "    alphas.append(alpha)\n",
    "    num_below_alpha = sum(p_hat_list < alpha)\n",
    "    roc_point = num_below_alpha / len(p_hat_list)\n",
    "    roc.append(roc_point)\n",
    "\n",
    "# Get the power at the 5% significance level\n",
    "power_significance = 0.05\n",
    "power_idx = alphas.index(min(alphas, key=lambda x: abs(x - power_significance)))\n",
    "power = roc[power_idx]\n",
    "\n",
    "\n",
    "plt.plot(np.linspace(0, 1, 2), np.linspace(0, 1, 2), linestyle=\"--\", c=\"grey\")\n",
    "_ = plt.plot(alphas, roc, color='#228B22')\n",
    "\n",
    "# Set title and aspect ratio\n",
    "plt.title(f\"ROC Curve for 3 Community \\n MMSBM with n={n} nodes,\\n knn-Prone with k={k}\")\n",
    "plt.gca().set_aspect('equal', adjustable='box')\n",
    "\n",
    "plt.xticks(fontsize=14)\n",
    "plt.yticks(fontsize=14)\n",
    "\n",
    "# plt.savefig(f\"figs/MMSBM_knnProneResample_k{k}_M{M}_SYMM.png\")\n",
    "plt.show()\n",
    "\n",
    "compute_roc_and_areas(p_vals_prone_k90_d3, significance_level=0.05)"
   ]
  },
  {
   "cell_type": "markdown",
   "metadata": {},
   "source": [
    "### ProNE-kNN with d=2"
   ]
  },
  {
   "cell_type": "code",
   "execution_count": null,
   "metadata": {},
   "outputs": [],
   "source": [
    "d=2\n",
    "# FOR KNN PRONE ONLY"
   ]
  },
  {
   "cell_type": "markdown",
   "metadata": {},
   "source": [
    "#### ProNE-kNN k=5"
   ]
  },
  {
   "cell_type": "code",
   "execution_count": null,
   "metadata": {},
   "outputs": [],
   "source": [
    "# for each of the true draws from the model, create a bootstrap and perform a test with Q permutations\n",
    "random.seed(100)\n",
    "np.random.seed(100)\n",
    "\n",
    "p_vals_prone_k5 = []\n",
    "A_boots_list = []\n",
    "\n",
    "k=5\n",
    "Q=1000 # number of sims to do in the paired exch test\n",
    "\n",
    "for m in A_true_draws:\n",
    "    _, A_boots = create_single_kNN_prone_bootstrap(m, d=d, Q=Q, n_neighbors=k) \n",
    "\n",
    "    # embed the observed and bootstrapped matrix together\n",
    "    yhat_est = UASE([m, A_boots], d=d)\n",
    "    # do a test between the obs and the bootstrap, get a p-value ---------------------------------\n",
    "    p_val = test_temporal_displacement_two_times(yhat_est, n=m.shape[0], n_sim=Q) \n",
    "\n",
    "    p_vals_prone_k5.append(p_val)\n",
    "    A_boots_list.append(A_boots[0])"
   ]
  },
  {
   "cell_type": "code",
   "execution_count": null,
   "metadata": {},
   "outputs": [],
   "source": [
    "p_hat_list = p_vals_prone_k5\n",
    "roc = []\n",
    "alphas = []\n",
    "for alpha in np.linspace(0, 1, 100):\n",
    "    alphas.append(alpha)\n",
    "    num_below_alpha = sum(p_hat_list < alpha)\n",
    "    roc_point = num_below_alpha / len(p_hat_list)\n",
    "    roc.append(roc_point)\n",
    "\n",
    "# Get the power at the 5% significance level\n",
    "power_significance = 0.05\n",
    "power_idx = alphas.index(min(alphas, key=lambda x: abs(x - power_significance)))\n",
    "power = roc[power_idx]\n",
    "\n",
    "\n",
    "plt.plot(np.linspace(0, 1, 2), np.linspace(0, 1, 2), linestyle=\"--\", c=\"grey\")\n",
    "_ = plt.plot(alphas, roc, color='#228B22')\n",
    "\n",
    "# Set title and aspect ratio\n",
    "plt.title(f\"ROC Curve for 3 Community \\n MMSBM with n={n} nodes,\\n knn-Prone with k={k}\")\n",
    "plt.gca().set_aspect('equal', adjustable='box')\n",
    "\n",
    "plt.xticks(fontsize=14)\n",
    "plt.yticks(fontsize=14)\n",
    "\n",
    "# plt.savefig(f\"figs/MMSBM_knnProneResample_k{k}_M{M}_SYMM_d{d}.png\")\n",
    "plt.show()\n",
    "\n",
    "compute_roc_and_areas(p_vals_prone_k5, significance_level=0.05)"
   ]
  },
  {
   "cell_type": "markdown",
   "metadata": {},
   "source": [
    "#### ProNE-kNN k=25"
   ]
  },
  {
   "cell_type": "code",
   "execution_count": null,
   "metadata": {},
   "outputs": [],
   "source": [
    "# for each of the true draws from the model, create a bootstrap and perform a test with Q permutations\n",
    "random.seed(100)\n",
    "np.random.seed(100)\n",
    "\n",
    "p_vals_prone_k25 = []\n",
    "A_boots_list = []\n",
    "\n",
    "k=25\n",
    "Q=1000 # number of sims to do in the paired exch test\n",
    "\n",
    "for m in A_true_draws:\n",
    "    _, A_boots = create_single_kNN_prone_bootstrap(m, d=d, Q=Q, n_neighbors=k) \n",
    "\n",
    "    # embed the observed and bootstrapped matrix together\n",
    "    yhat_est = UASE([m, A_boots], d=d)\n",
    "    # do a test between the obs and the bootstrap, get a p-value ---------------------------------\n",
    "    p_val = test_temporal_displacement_two_times(yhat_est, n=m.shape[0], n_sim=Q) \n",
    "\n",
    "    p_vals_prone_k25.append(p_val)\n",
    "    A_boots_list.append(A_boots[0])"
   ]
  },
  {
   "cell_type": "code",
   "execution_count": null,
   "metadata": {},
   "outputs": [],
   "source": [
    "p_hat_list = p_vals_prone_k25\n",
    "roc = []\n",
    "alphas = []\n",
    "for alpha in np.linspace(0, 1, 100):\n",
    "    alphas.append(alpha)\n",
    "    num_below_alpha = sum(p_hat_list < alpha)\n",
    "    roc_point = num_below_alpha / len(p_hat_list)\n",
    "    roc.append(roc_point)\n",
    "\n",
    "# Get the power at the 5% significance level\n",
    "power_significance = 0.05\n",
    "power_idx = alphas.index(min(alphas, key=lambda x: abs(x - power_significance)))\n",
    "power = roc[power_idx]\n",
    "\n",
    "\n",
    "plt.plot(np.linspace(0, 1, 2), np.linspace(0, 1, 2), linestyle=\"--\", c=\"grey\")\n",
    "_ = plt.plot(alphas, roc, color='#228B22')\n",
    "\n",
    "# Set title and aspect ratio\n",
    "plt.title(f\"ROC Curve for 3 Community \\n MMSBM with n={n} nodes,\\n knn-Prone with k={k}\")\n",
    "plt.gca().set_aspect('equal', adjustable='box')\n",
    "\n",
    "plt.xticks(fontsize=14)\n",
    "plt.yticks(fontsize=14)\n",
    "\n",
    "# plt.savefig(f\"figs/MMSBM_knnProneResample_k{k}_M{M}_SYMM_d{d}.png\")\n",
    "plt.show()\n",
    "\n",
    "compute_roc_and_areas(p_vals_prone_k25, significance_level=0.05)"
   ]
  },
  {
   "cell_type": "markdown",
   "metadata": {},
   "source": [
    "#### ProNE-kNN k=55"
   ]
  },
  {
   "cell_type": "code",
   "execution_count": null,
   "metadata": {},
   "outputs": [],
   "source": [
    "# for each of the true draws from the model, create a bootstrap and perform a test with Q permutations\n",
    "random.seed(100)\n",
    "np.random.seed(100)\n",
    "\n",
    "p_vals_prone_k55 = []\n",
    "A_boots_list = []\n",
    "\n",
    "k=55\n",
    "Q=1000 # number of sims to do in the paired exch test\n",
    "\n",
    "for m in A_true_draws:\n",
    "    _, A_boots = create_single_kNN_prone_bootstrap(m, d=d, Q=Q, n_neighbors=k) \n",
    "\n",
    "    # embed the observed and bootstrapped matrix together\n",
    "    yhat_est = UASE([m, A_boots], d=d)\n",
    "    # do a test between the obs and the bootstrap, get a p-value ---------------------------------\n",
    "    p_val = test_temporal_displacement_two_times(yhat_est, n=m.shape[0], n_sim=Q) \n",
    "\n",
    "    p_vals_prone_k55.append(p_val)\n",
    "    A_boots_list.append(A_boots[0])"
   ]
  },
  {
   "cell_type": "code",
   "execution_count": null,
   "metadata": {},
   "outputs": [],
   "source": [
    "p_hat_list = p_vals_prone_k55\n",
    "roc = []\n",
    "alphas = []\n",
    "for alpha in np.linspace(0, 1, 100):\n",
    "    alphas.append(alpha)\n",
    "    num_below_alpha = sum(p_hat_list < alpha)\n",
    "    roc_point = num_below_alpha / len(p_hat_list)\n",
    "    roc.append(roc_point)\n",
    "\n",
    "# Get the power at the 5% significance level\n",
    "power_significance = 0.05\n",
    "power_idx = alphas.index(min(alphas, key=lambda x: abs(x - power_significance)))\n",
    "power = roc[power_idx]\n",
    "\n",
    "\n",
    "plt.plot(np.linspace(0, 1, 2), np.linspace(0, 1, 2), linestyle=\"--\", c=\"grey\")\n",
    "_ = plt.plot(alphas, roc, color='#228B22')\n",
    "\n",
    "# Set title and aspect ratio\n",
    "plt.title(f\"ROC Curve for 3 Community \\n MMSBM with n={n} nodes,\\n knn-Prone with k={k}\")\n",
    "plt.gca().set_aspect('equal', adjustable='box')\n",
    "\n",
    "plt.xticks(fontsize=14)\n",
    "plt.yticks(fontsize=14)\n",
    "\n",
    "# plt.savefig(f\"figs/MMSBM_knnProneResample_k{k}_M{M}_SYMM_d{d}.png\")\n",
    "plt.show()\n",
    "\n",
    "compute_roc_and_areas(p_vals_prone_k55, significance_level=0.05)"
   ]
  },
  {
   "cell_type": "markdown",
   "metadata": {},
   "source": [
    "#### ProNE-kNN k=90"
   ]
  },
  {
   "cell_type": "code",
   "execution_count": null,
   "metadata": {},
   "outputs": [],
   "source": [
    "# for each of the true draws from the model, create a bootstrap and perform a test with Q permutations\n",
    "random.seed(100)\n",
    "np.random.seed(100)\n",
    "\n",
    "p_vals_prone_k90 = []\n",
    "A_boots_list = []\n",
    "\n",
    "k=90\n",
    "Q=1000 # number of sims to do in the paired exch test\n",
    "\n",
    "for m in A_true_draws:\n",
    "    _, A_boots = create_single_kNN_prone_bootstrap(m, d=d, Q=Q, n_neighbors=k) \n",
    "\n",
    "    # embed the observed and bootstrapped matrix together\n",
    "    yhat_est = UASE([m, A_boots], d=d)\n",
    "    # do a test between the obs and the bootstrap, get a p-value ---------------------------------\n",
    "    p_val = test_temporal_displacement_two_times(yhat_est, n=m.shape[0], n_sim=Q) \n",
    "\n",
    "    p_vals_prone_k90.append(p_val)\n",
    "    A_boots_list.append(A_boots[0])"
   ]
  },
  {
   "cell_type": "code",
   "execution_count": null,
   "metadata": {},
   "outputs": [],
   "source": [
    "p_hat_list = p_vals_prone_k90\n",
    "roc = []\n",
    "alphas = []\n",
    "for alpha in np.linspace(0, 1, 100):\n",
    "    alphas.append(alpha)\n",
    "    num_below_alpha = sum(p_hat_list < alpha)\n",
    "    roc_point = num_below_alpha / len(p_hat_list)\n",
    "    roc.append(roc_point)\n",
    "\n",
    "# Get the power at the 5% significance level\n",
    "power_significance = 0.05\n",
    "power_idx = alphas.index(min(alphas, key=lambda x: abs(x - power_significance)))\n",
    "power = roc[power_idx]\n",
    "\n",
    "\n",
    "plt.plot(np.linspace(0, 1, 2), np.linspace(0, 1, 2), linestyle=\"--\", c=\"grey\")\n",
    "_ = plt.plot(alphas, roc, color='#228B22')\n",
    "\n",
    "# Set title and aspect ratio\n",
    "plt.title(f\"ROC Curve for 3 Community \\n MMSBM with n={n} nodes,\\n knn-Prone with k={k}\")\n",
    "plt.gca().set_aspect('equal', adjustable='box')\n",
    "\n",
    "plt.xticks(fontsize=14)\n",
    "plt.yticks(fontsize=14)\n",
    "\n",
    "# plt.savefig(f\"figs/MMSBM_knnProneResample_k{k}_M{M}_SYMM_d{d}.png\")\n",
    "plt.show()\n",
    "\n",
    "compute_roc_and_areas(p_vals_prone_k90, significance_level=0.05)"
   ]
  },
  {
   "cell_type": "markdown",
   "metadata": {},
   "source": [
    "#### all on one plot"
   ]
  },
  {
   "cell_type": "code",
   "execution_count": null,
   "metadata": {},
   "outputs": [],
   "source": [
    "p_list_allnames = [p_vals_k5, p_vals_k25,p_vals_k55, p_vals_k90, \n",
    "                   p_vals_YYT, p_vals_ESWR, \n",
    "                   p_vals_prone_k5, p_vals_prone_k25, p_vals_prone_k55, p_vals_prone_k90,\n",
    "                   p_vals_prone_k5_d3, p_vals_prone_k25_d3,p_vals_prone_k55_d3, p_vals_prone_k90_d3] #p_vals_ESWR_plusRand"
   ]
  },
  {
   "cell_type": "code",
   "execution_count": null,
   "metadata": {},
   "outputs": [
    {
     "data": {
      "image/png": "[encoded data removed]",
      "text/plain": [
       "<Figure size 1296x720 with 4 Axes>"
      ]
     },
     "metadata": {},
     "output_type": "display_data"
    }
   ],
   "source": [
    "colors = ['#FF5733', '#40E0D0', '#3357FF', '#FF33A6', '#A633FF', '#FFAC1C', 'g', '#FF6347', '#6A5ACD', '#DC143C', '#00FA9A', '#FF8C00', '#4682B4', '#8B4513']  \n",
    "labels = ['ASE-kNN $k=5$', 'ASE-kNN $k=25$', 'ASE-kNN $k=55$', 'ASE-kNN $k=90$', 'ASE-$YY^T$', 'ASE-ESWR', 'ProNE-kNN $k=5$', 'ProNE-kNN $k=25$','ProNE-kNN $k=55$', 'ProNE-kNN $k=90$', \n",
    "          'ProNE-kNN $k=5$', 'ProNE-kNN $k=25$', 'ProNE-kNN $k=55$','ProNE-kNN $k=90$']\n",
    "\n",
    "fig, axs = plt.subplots(1, 4, figsize=(18,10))\n",
    "\n",
    "# Define the indices for each panel\n",
    "ase_knn_indices = [0, 1, 2, 3]\n",
    "prone_knn_indices = [6, 7, 8, 9]\n",
    "prone_knn_indices_d3 = [10, 11, 12, 13]\n",
    "other_indices = [4, 5]\n",
    "\n",
    "# Plot ASE-kNN\n",
    "plot_roc(axs[0], ase_knn_indices, \"ASE-kNN (d=3)\")\n",
    "\n",
    "# Plot ProNE-kNN\n",
    "plot_roc(axs[1], prone_knn_indices, \"ProNE-kNN (d=2)\")\n",
    "\n",
    "# Plot ProNE-kNN d=3\n",
    "plot_roc(axs[2], prone_knn_indices_d3, \"ProNE-kNN (d=3)\")\n",
    "\n",
    "# Plot other methods\n",
    "plot_roc(axs[3], other_indices, \"Other Methods (d=3)\")\n",
    "\n",
    "plt.tight_layout()\n",
    "# plt.savefig(f\"figs/MMSBM_allMethods_M{M}_SYMM_3plots_different_d.png\", facecolor=\"white\", bbox_inches='tight')\n",
    "plt.show()"
   ]
  },
  {
   "cell_type": "markdown",
   "metadata": {},
   "source": [
    "## Change n, run each method and record score to then plot"
   ]
  },
  {
   "cell_type": "markdown",
   "metadata": {},
   "source": [
    "make more Atrue draws"
   ]
  },
  {
   "cell_type": "code",
   "execution_count": 4,
   "metadata": {},
   "outputs": [],
   "source": [
    "# Generate more samples from the same model with the same B matrix and pi vectors\n",
    "random.seed(100)\n",
    "\n",
    "n_list = [50,100,200,300,500,750,1000, 1500, 2000]\n",
    "\n",
    "M=max(n_list)\n",
    "A_true_draws = []\n",
    "\n",
    "for m in range(M):\n",
    "    # use the B matrix from before, B, and the pi vectors, pi_list\n",
    "    P = np.zeros((n, n))\n",
    "    for i in range(n):\n",
    "        for j in range(n):\n",
    "            z_ij = np.random.multinomial(1, pi_list[i].flatten())#.tolist())\n",
    "            z_ji = np.random.multinomial(1, pi_list[j].flatten())#.tolist())\n",
    "\n",
    "            P[i,j] = z_ij @ B @ z_ji.T\n",
    "\n",
    "    A = (np.random.uniform(0, 1, n**2).reshape(n, n) < P)\n",
    "\n",
    "    A = A.astype(float)\n",
    "\n",
    "    # make symmetric by setting the lower triangle equal to the upper triangle\n",
    "    A = np.triu(A) + np.triu(A).T - np.diag(A.diagonal())\n",
    "\n",
    "    A_true_draws.append(A)"
   ]
  },
  {
   "cell_type": "markdown",
   "metadata": {},
   "source": [
    "#### ASE-kNN with k=5, 25, 90"
   ]
  },
  {
   "cell_type": "code",
   "execution_count": 5,
   "metadata": {},
   "outputs": [],
   "source": [
    "random.seed(100)\n",
    "np.random.seed(100)\n",
    "\n",
    "k5list = []\n",
    "k25list = []\n",
    "k90list = []\n",
    "\n",
    "for n in n_list:\n",
    "    n = n\n",
    "    \n",
    "    # knn\n",
    "    for k in [5,25,90]:\n",
    "        k = k\n",
    "        # for each of the true draws from the model, create a bootstrap and perform a test with Q permutations\n",
    "\n",
    "        p_vals_k = []\n",
    "        A_boots_list_k = []\n",
    "\n",
    "        for m in A_true_draws[0:n]:\n",
    "            p_val, A_boots = create_single_kNN_bootstrap(m, d=d, Q=1000, n_neighbors=k)\n",
    "            p_vals_k.append(p_val)\n",
    "            A_boots_list_k.append(A_boots)\n",
    "\n",
    "        p_hat_list = p_vals_k\n",
    "\n",
    "        output = compute_roc_and_areas(p_vals_k, significance_level=0.05)\n",
    "        # print(list(output.items())[2])\n",
    "\n",
    "        if k == 5:\n",
    "            k5list.append(list(output.items())[2][1])\n",
    "        elif k == 25:\n",
    "            k25list.append(list(output.items())[2][1])\n",
    "        elif k == 90:\n",
    "            k90list.append(list(output.items())[2][1])\n",
    "        else:\n",
    "            print(\"error\")"
   ]
  },
  {
   "cell_type": "markdown",
   "metadata": {},
   "source": [
    "#### ASE-$XX^T$"
   ]
  },
  {
   "cell_type": "code",
   "execution_count": 6,
   "metadata": {},
   "outputs": [
    {
     "name": "stderr",
     "output_type": "stream",
     "text": [
      "/home/uj21900/Documents/ValidBootstrapsForNetworks/functions_for_bootstrap.py:233: UserWarning: P_hat contains values outside of [0,1]. The values outside this range will be clipped to lie in the range.\n",
      "  warnings.warn(\"P_hat contains values outside of [0,1]. The values outside this range will be clipped to lie in the range.\")\n"
     ]
    }
   ],
   "source": [
    "random.seed(100)\n",
    "np.random.seed(100)\n",
    "\n",
    "XXTlist = []\n",
    "\n",
    "for n in n_list:\n",
    "    n = n\n",
    "\n",
    "    p_vals_XXT = []\n",
    "    A_boots_list_XXT = []\n",
    "\n",
    "\n",
    "    for m in A_true_draws[0:n]:\n",
    "        p_val, A_boots = create_single_XXT_bootstrap_cropPto0_1range(m,d=d,Q=1000)\n",
    "        p_vals_XXT.append(p_val)\n",
    "        A_boots_list_XXT.append(A_boots)\n",
    "\n",
    "    p_hat_list = p_vals_XXT\n",
    "\n",
    "    output = compute_roc_and_areas(p_vals_XXT, significance_level=0.05)\n",
    "    # print(list(output.items())[2])\n",
    "\n",
    "    XXTlist.append(list(output.items())[2][1])"
   ]
  },
  {
   "cell_type": "markdown",
   "metadata": {},
   "source": [
    "#### ProNE-kNN with k=5, 25, 90"
   ]
  },
  {
   "cell_type": "code",
   "execution_count": 7,
   "metadata": {},
   "outputs": [],
   "source": [
    "random.seed(100)\n",
    "np.random.seed(100)\n",
    "\n",
    "k5pronelist = []\n",
    "k25pronelist = []\n",
    "k90pronelist = []\n",
    "\n",
    "for n in n_list:\n",
    "    n = n\n",
    "    \n",
    "    # knn\n",
    "    for k in [5,25,90]:\n",
    "        k = k\n",
    "        # for each of the true draws from the model, create a bootstrap and perform a test with Q permutations\n",
    "\n",
    "        p_vals_k = []\n",
    "        A_boots_list_k = []\n",
    "\n",
    "        for m in A_true_draws[0:n]:\n",
    "            p_val, A_boots = create_single_kNN_bootstrap(m, d=d, Q=1000, n_neighbors=k)\n",
    "            p_vals_k.append(p_val)\n",
    "            A_boots_list_k.append(A_boots)\n",
    "\n",
    "        p_hat_list = p_vals_k\n",
    "\n",
    "        output = compute_roc_and_areas(p_vals_k, significance_level=0.05)\n",
    "        # print(list(output.items())[2])\n",
    "\n",
    "        if k == 5:\n",
    "            k5pronelist.append(list(output.items())[2][1])\n",
    "        elif k == 25:\n",
    "            k25pronelist.append(list(output.items())[2][1])\n",
    "        elif k == 90:\n",
    "            k90pronelist.append(list(output.items())[2][1])\n",
    "        else:\n",
    "            print(\"error\")"
   ]
  },
  {
   "cell_type": "code",
   "execution_count": 9,
   "metadata": {},
   "outputs": [
    {
     "data": {
      "image/png": "[encoded data removed]",
      "text/plain": [
       "<Figure size 648x360 with 1 Axes>"
      ]
     },
     "metadata": {
      "needs_background": "light"
     },
     "output_type": "display_data"
    }
   ],
   "source": [
    "plt.figure(figsize=(9,5))\n",
    "\n",
    "# Plot the lists\n",
    "plt.plot(n_list, XXTlist, label=\"$ASE-XX^T$\", marker='o')\n",
    "plt.plot(n_list, k5list, label=\"k=5 ASE-kNN\", marker='s')\n",
    "plt.plot(n_list, k25list, label=\"k=25 ASE-kNN\", marker='d')\n",
    "plt.plot(n_list, k90list, label=\"k=90 ASE-kNN\", marker='^')\n",
    "plt.plot(n_list, k5pronelist, label=\"k=5 ProNE-kNN\", marker='x')\n",
    "plt.plot(n_list, k25pronelist, label=\"k=25 ProNE-kNN\", marker='*')\n",
    "plt.plot(n_list, k90pronelist, label=\"k=90 ProNE-kNN\", marker='P')\n",
    "\n",
    "# Add labels and title\n",
    "plt.xlabel(\"n (number of nodes)\", fontsize=17)\n",
    "plt.ylabel(\"Bootstrap Validity Score\", fontsize=17)\n",
    "plt.title(f\"Bootstrap Validity Scores for different Bootstrap Methods \\nwith M={M} and varying n values (number of nodes) \\nfor a 3 community MMSBM with alpha=(1,1,1)\", fontsize=18)\n",
    "\n",
    "# add xticks for the n_list\n",
    "plt.xticks(n_list)\n",
    "# rotate the xticks\n",
    "plt.xticks(rotation=45)\n",
    "\n",
    "# increase the font size\n",
    "plt.xticks(fontsize=15)\n",
    "plt.yticks(fontsize=15)\n",
    "\n",
    "\n",
    "plt.legend(loc=\"upper right\", bbox_to_anchor=(1.39, 0.95), fontsize=15)\n",
    "\n",
    "plt.savefig(f\"MMSBM_scores_varying_n_M{M}_SYMM.png\", bbox_inches='tight', facecolor=\"white\")\n",
    "\n",
    "plt.show()"
   ]
  }
 ],
 "metadata": {
  "kernelspec": {
   "display_name": "base",
   "language": "python",
   "name": "python3"
  },
  "language_info": {
   "codemirror_mode": {
    "name": "ipython",
    "version": 3
   },
   "file_extension": ".py",
   "mimetype": "text/x-python",
   "name": "python",
   "nbconvert_exporter": "python",
   "pygments_lexer": "ipython3",
   "version": "3.9.7"
  }
 },
 "nbformat": 4,
 "nbformat_minor": 2
}
