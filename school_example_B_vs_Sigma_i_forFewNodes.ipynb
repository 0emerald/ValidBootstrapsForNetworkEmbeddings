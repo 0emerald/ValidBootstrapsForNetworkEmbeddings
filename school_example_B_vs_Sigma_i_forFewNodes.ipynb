{
 "cells": [
  {
   "cell_type": "code",
   "execution_count": 1,
   "metadata": {},
   "outputs": [
    {
     "name": "stderr",
     "output_type": "stream",
     "text": [
      "2024-09-06 10:31:01.471883: I tensorflow/core/platform/cpu_feature_guard.cc:193] This TensorFlow binary is optimized with oneAPI Deep Neural Network Library (oneDNN) to use the following CPU instructions in performance-critical operations:  AVX2 AVX512F AVX512_VNNI FMA\n",
      "To enable them in other operations, rebuild TensorFlow with the appropriate compiler flags.\n",
      "2024-09-06 10:31:01.588237: I tensorflow/core/util/port.cc:104] oneDNN custom operations are on. You may see slightly different numerical results due to floating-point round-off errors from different computation orders. To turn them off, set the environment variable `TF_ENABLE_ONEDNN_OPTS=0`.\n",
      "2024-09-06 10:31:01.590975: W tensorflow/compiler/xla/stream_executor/platform/default/dso_loader.cc:64] Could not load dynamic library 'libcudart.so.11.0'; dlerror: libcudart.so.11.0: cannot open shared object file: No such file or directory\n",
      "2024-09-06 10:31:01.590992: I tensorflow/compiler/xla/stream_executor/cuda/cudart_stub.cc:29] Ignore above cudart dlerror if you do not have a GPU set up on your machine.\n",
      "2024-09-06 10:31:02.127547: W tensorflow/compiler/xla/stream_executor/platform/default/dso_loader.cc:64] Could not load dynamic library 'libnvinfer.so.7'; dlerror: libnvinfer.so.7: cannot open shared object file: No such file or directory\n",
      "2024-09-06 10:31:02.127592: W tensorflow/compiler/xla/stream_executor/platform/default/dso_loader.cc:64] Could not load dynamic library 'libnvinfer_plugin.so.7'; dlerror: libnvinfer_plugin.so.7: cannot open shared object file: No such file or directory\n",
      "2024-09-06 10:31:02.127596: W tensorflow/compiler/tf2tensorrt/utils/py_utils.cc:38] TF-TRT Warning: Cannot dlopen some TensorRT libraries. If you would like to use Nvidia GPU with TensorRT, please make sure the missing libraries mentioned above are installed properly.\n"
     ]
    }
   ],
   "source": [
    "import torch_geometric.transforms as T\n",
    "import os.path as osp\n",
    "from sklearn.manifold import TSNE\n",
    "import torch\n",
    "import umap\n",
    "\n",
    "import numpy as np\n",
    "import matplotlib.pyplot as plt\n",
    "import pandas as pd\n",
    "from embedding_functions import *\n",
    "from experiment_setup import *\n",
    "from functions_for_bootstrap import *\n",
    "import numba as nb\n",
    "from scipy.stats import wasserstein_distance\n",
    "from tqdm import tqdm\n",
    "import random\n",
    "from scipy.integrate import simps\n",
    "from matplotlib import cm\n",
    "from matplotlib.patches import Ellipse\n",
    "import seaborn as sns\n",
    "from scipy.spatial.distance import cdist\n",
    "from numpy.linalg import LinAlgError\n",
    "import re\n",
    "\n",
    "from sklearn.preprocessing import StandardScaler"
   ]
  },
  {
   "cell_type": "markdown",
   "metadata": {},
   "source": [
    "Read in data"
   ]
  },
  {
   "cell_type": "code",
   "execution_count": 6,
   "metadata": {},
   "outputs": [
    {
     "name": "stdout",
     "output_type": "stream",
     "text": [
      "Number of time windows: 18\n",
      "Number of nodes: 242\n"
     ]
    }
   ],
   "source": [
    "window = 60 * 60\n",
    "\n",
    "day_1_start = (8 * 60 + 30) * 60\n",
    "day_1_end = (17 * 60 + 30) * 60\n",
    "day_2_start = ((24 + 8) * 60 + 30) * 60\n",
    "day_2_end = ((24 + 17) * 60 + 30) * 60\n",
    "\n",
    "T1 = int((day_1_end - day_1_start) // window)\n",
    "T2 = int((day_2_end - day_2_start) // window)\n",
    "T = T1 + T2\n",
    "\n",
    "print(f\"Number of time windows: {T}\")\n",
    "\n",
    "# %%\n",
    "fname = \"ia-primary-school-proximity-attr.edges\"\n",
    "file = open(fname)\n",
    "\n",
    "label_dict = {\n",
    "    \"1A\": 0,\n",
    "    \"1B\": 1,\n",
    "    \"2A\": 2,\n",
    "    \"2B\": 3,\n",
    "    \"3A\": 4,\n",
    "    \"3B\": 5,\n",
    "    \"4A\": 6,\n",
    "    \"4B\": 7,\n",
    "    \"5A\": 8,\n",
    "    \"5B\": 9,\n",
    "    \"Teachers\": 10,\n",
    "}\n",
    "num_classes = 10\n",
    "\n",
    "nodes = []\n",
    "node_labels = []\n",
    "edge_tuples = []\n",
    "\n",
    "for line in file:\n",
    "    node_i, node_j, time, id_i, id_j = line.strip(\"\\n\").split(\",\")\n",
    "\n",
    "    if day_1_start <= int(time) < day_1_end:\n",
    "        t = (int(time) - day_1_start) // window\n",
    "    elif day_2_start <= int(time) < day_2_end:\n",
    "        t = T1 + (int(time) - day_2_start) // window\n",
    "    else:\n",
    "        continue\n",
    "\n",
    "    if node_i not in nodes:\n",
    "        nodes.append(node_i)\n",
    "        node_labels.append(label_dict[id_i])\n",
    "\n",
    "    if node_j not in nodes:\n",
    "        nodes.append(node_j)\n",
    "        node_labels.append(label_dict[id_j])\n",
    "\n",
    "    edge_tuples.append([t, node_i, node_j])\n",
    "\n",
    "edge_tuples = np.unique(edge_tuples, axis=0)\n",
    "nodes = np.array(nodes)\n",
    "\n",
    "n = len(nodes)\n",
    "print(f\"Number of nodes: {n}\")\n",
    "\n",
    "node_dict = dict(zip(nodes[np.argsort(node_labels)], range(n)))\n",
    "node_labels = np.sort(node_labels)\n",
    "\n",
    "# %% [markdown]\n",
    "# Create a list of adjacency matrices.\n",
    "\n",
    "# %%\n",
    "As = np.zeros((T, n, n))\n",
    "\n",
    "for m in range(len(edge_tuples)):\n",
    "    t, i, j = edge_tuples[m]\n",
    "    As[int(t), node_dict[i], node_dict[j]] = 1\n",
    "    As[int(t), node_dict[j], node_dict[i]] = 1"
   ]
  },
  {
   "cell_type": "code",
   "execution_count": null,
   "metadata": {},
   "outputs": [
    {
     "name": "stdout",
     "output_type": "stream",
     "text": [
      "Number of time windows: 18\n",
      "Number of nodes: 242\n"
     ]
    }
   ],
   "source": [
    "window = 60 * 60\n",
    "\n",
    "day_1_start = (8 * 60 + 30) * 60\n",
    "day_1_end = (17 * 60 + 30) * 60\n",
    "day_2_start = ((24 + 8) * 60 + 30) * 60\n",
    "day_2_end = ((24 + 17) * 60 + 30) * 60\n",
    "\n",
    "T1 = int((day_1_end - day_1_start) // window)\n",
    "T2 = int((day_2_end - day_2_start) // window)\n",
    "T = T1 + T2\n",
    "\n",
    "print(f\"Number of time windows: {T}\")\n",
    "\n",
    "# %%\n",
    "fname = \"ia-primary-school-proximity-attr.edges\"\n",
    "file = open(fname)\n",
    "\n",
    "label_dict = {\n",
    "    \"1A\": 0,\n",
    "    \"1B\": 1,\n",
    "    \"2A\": 2,\n",
    "    \"2B\": 3,\n",
    "    \"3A\": 4,\n",
    "    \"3B\": 5,\n",
    "    \"4A\": 6,\n",
    "    \"4B\": 7,\n",
    "    \"5A\": 8,\n",
    "    \"5B\": 9,\n",
    "    \"Teachers\": 10,\n",
    "}\n",
    "num_classes = 10\n",
    "\n",
    "nodes = []\n",
    "node_labels = []\n",
    "edge_tuples = []\n",
    "\n",
    "for line in file:\n",
    "    node_i, node_j, time, id_i, id_j = line.strip(\"\\n\").split(\",\")\n",
    "\n",
    "    if day_1_start <= int(time) < day_1_end:\n",
    "        t = (int(time) - day_1_start) // window\n",
    "    elif day_2_start <= int(time) < day_2_end:\n",
    "        t = T1 + (int(time) - day_2_start) // window\n",
    "    else:\n",
    "        continue\n",
    "\n",
    "    if node_i not in nodes:\n",
    "        nodes.append(node_i)\n",
    "        node_labels.append(label_dict[id_i])\n",
    "\n",
    "    if node_j not in nodes:\n",
    "        nodes.append(node_j)\n",
    "        node_labels.append(label_dict[id_j])\n",
    "\n",
    "    edge_tuples.append([t, node_i, node_j])\n",
    "\n",
    "edge_tuples = np.unique(edge_tuples, axis=0)\n",
    "nodes = np.array(nodes)\n",
    "\n",
    "n = len(nodes)\n",
    "print(f\"Number of nodes: {n}\")\n",
    "\n",
    "node_dict = dict(zip(nodes[np.argsort(node_labels)], range(n)))\n",
    "node_labels = np.sort(node_labels)\n",
    "\n",
    "# %% [markdown]\n",
    "# Create a list of adjacency matrices.\n",
    "\n",
    "# %%\n",
    "As = np.zeros((T, n, n))\n",
    "\n",
    "for m in range(len(edge_tuples)):\n",
    "    t, i, j = edge_tuples[m]\n",
    "    As[int(t), node_dict[i], node_dict[j]] = 1\n",
    "    As[int(t), node_dict[j], node_dict[i]] = 1"
   ]
  },
  {
   "cell_type": "code",
   "execution_count": 7,
   "metadata": {},
   "outputs": [],
   "source": [
    "# Format the data to work with existing code\n",
    "labels = node_labels\n",
    "\n",
    "# just look at first (whatever is specified) timepoint\n",
    "dense_adj = As[0]"
   ]
  },
  {
   "cell_type": "markdown",
   "metadata": {},
   "source": [
    "Define functions for notebook"
   ]
  },
  {
   "cell_type": "code",
   "execution_count": 2,
   "metadata": {},
   "outputs": [],
   "source": [
    "def compute_area_above_below_curve(x, y):\n",
    "    area_above = 0.0\n",
    "    area_below = 0.0\n",
    "    \n",
    "    for i in range(1, len(x)):\n",
    "        x0, x1 = x[i - 1], x[i]\n",
    "        y0, y1 = y[i - 1], y[i]\n",
    "        line0, line1 = x0, x1  # Since line y = x\n",
    "        \n",
    "        if y1 == y0:  # Vertical segment\n",
    "            if y0 > x0:\n",
    "                area_above += (y0 - x0) * (x1 - x0)\n",
    "            else:\n",
    "                area_below += (x0 - y0) * (x1 - x0)\n",
    "            continue\n",
    "        \n",
    "        # Find intersection with y = x\n",
    "        if (y0 >= x0 and y1 >= x1) or (y0 <= x0 and y1 <= x1):\n",
    "            if y0 >= x0 and y1 >= x1:\n",
    "                area_above += 0.5 * (y0 + y1 - x0 - x1) * (x1 - x0)\n",
    "            else:\n",
    "                area_below += 0.5 * (x0 + x1 - y0 - y1) * (x1 - x0)\n",
    "        else:\n",
    "            x_intersect = x0 + (x0 - y0) * (x1 - x0) / (y1 - y0)\n",
    "            if y0 < x0:\n",
    "                area_below += 0.5 * (x0 - y0) * (x_intersect - x0)\n",
    "                area_above += 0.5 * (y1 - x1) * (x1 - x_intersect)\n",
    "            else:\n",
    "                area_above += 0.5 * (y0 - x0) * (x_intersect - x0)\n",
    "                area_below += 0.5 * (x1 - y1) * (x1 - x_intersect)\n",
    "    \n",
    "    return area_above, area_below\n",
    "\n",
    "\n",
    "# def plot_ellipse(ax, mean, cov, color):\n",
    "#     eigenvalues, eigenvectors = np.linalg.eigh(cov)\n",
    "#     order = eigenvalues.argsort()[::-1]\n",
    "#     eigenvalues = eigenvalues[order]\n",
    "#     eigenvectors = eigenvectors[:, order]\n",
    "#     angle = np.degrees(np.arctan2(*eigenvectors[:, 0][::-1]))\n",
    "#     width, height = 2 * np.sqrt(eigenvalues[:2])\n",
    "#     ellipse = Ellipse(mean, width, height, angle, edgecolor=color, facecolor='none', lw=2, label=f'Covariance Ellipse ({color})')\n",
    "#     ax.add_patch(ellipse)\n",
    "\n",
    "\n",
    "def plot_ellipse(ax, mean, cov, color, lw=2):\n",
    "    eigenvalues, eigenvectors = np.linalg.eigh(cov)\n",
    "    order = eigenvalues.argsort()[::-1]\n",
    "    eigenvalues = eigenvalues[order]\n",
    "    eigenvectors = eigenvectors[:, order]\n",
    "    angle = np.degrees(np.arctan2(*eigenvectors[:, 0][::-1]))\n",
    "    width, height = 2 * np.sqrt(eigenvalues[:2])\n",
    "    ellipse = Ellipse(xy=mean, width=width, height=height, angle=angle, edgecolor=color, facecolor='none', lw=lw, label=f'Covariance Ellipse ({color})')\n",
    "    ax.add_patch(ellipse)\n",
    "\n",
    "\n",
    "\n",
    "# TO AVOID SINGULAR MATRIX ERROR\n",
    "def points_within_ellipse(points, mean, cov, regularization=1e-32):\n",
    "    try:\n",
    "        # Attempt to calculate the inverse of the covariance matrix\n",
    "        inv_cov = np.linalg.inv(cov)\n",
    "    except LinAlgError:\n",
    "        # If the matrix is singular, regularize and retry\n",
    "        cov += np.eye(cov.shape[0]) * regularization\n",
    "        inv_cov = np.linalg.inv(cov)\n",
    "    \n",
    "    # Calculate the Mahalanobis distance from the mean\n",
    "    diff = points - mean\n",
    "    mahalanobis_distances = np.sum(diff @ inv_cov * diff, axis=1)\n",
    "    \n",
    "    # Points within the ellipse have a Mahalanobis distance <= 1\n",
    "    return mahalanobis_distances <= 1\n"
   ]
  },
  {
   "cell_type": "code",
   "execution_count": 8,
   "metadata": {},
   "outputs": [],
   "source": [
    "k = 4\n",
    "d = 12"
   ]
  },
  {
   "cell_type": "code",
   "execution_count": 23,
   "metadata": {},
   "outputs": [
    {
     "name": "stderr",
     "output_type": "stream",
     "text": [
      "100%|██████████| 10/10 [00:00<00:00, 29.58it/s]\n",
      "/tmp/ipykernel_34915/4181507203.py:60: RuntimeWarning: invalid value encountered in sqrt\n",
      "  volume_or_area = np.sqrt(det_cov)\n"
     ]
    },
    {
     "name": "stdout",
     "output_type": "stream",
     "text": [
      "Warning: Negative determinant encountered for node 241, setting volume/area to NaN.\n",
      "Warning: Negative determinant encountered for node 241, setting volume/area to NaN.\n",
      "Warning: Negative determinant encountered for node 241, setting volume/area to NaN.\n",
      "Warning: Negative determinant encountered for node 241, setting volume/area to NaN.\n",
      "Warning: Negative determinant encountered for node 241, setting volume/area to NaN.\n",
      "Warning: Negative determinant encountered for node 241, setting volume/area to NaN.\n",
      "Warning: Negative determinant encountered for node 241, setting volume/area to NaN.\n",
      "Warning: Negative determinant encountered for node 241, setting volume/area to NaN.\n",
      "Warning: Negative determinant encountered for node 241, setting volume/area to NaN.\n",
      "Warning: Negative determinant encountered for node 241, setting volume/area to NaN.\n",
      "Warning: Negative determinant encountered for node 241, setting volume/area to NaN.\n",
      "Warning: Negative determinant encountered for node 241, setting volume/area to NaN.\n",
      "Warning: Negative determinant encountered for node 241, setting volume/area to NaN.\n",
      "Warning: Negative determinant encountered for node 241, setting volume/area to NaN.\n",
      "Warning: Negative determinant encountered for node 241, setting volume/area to NaN.\n",
      "Warning: Negative determinant encountered for node 241, setting volume/area to NaN.\n",
      "Warning: Negative determinant encountered for node 241, setting volume/area to NaN.\n",
      "Warning: Negative determinant encountered for node 241, setting volume/area to NaN.\n",
      "Warning: Negative determinant encountered for node 241, setting volume/area to NaN.\n",
      "Warning: Negative determinant encountered for node 241, setting volume/area to NaN.\n",
      "Warning: Negative determinant encountered for node 241, setting volume/area to NaN.\n",
      "Warning: Negative determinant encountered for node 241, setting volume/area to NaN.\n",
      "Warning: Negative determinant encountered for node 241, setting volume/area to NaN.\n",
      "Warning: Negative determinant encountered for node 241, setting volume/area to NaN.\n",
      "Warning: Negative determinant encountered for node 241, setting volume/area to NaN.\n",
      "Warning: Negative determinant encountered for node 241, setting volume/area to NaN.\n"
     ]
    },
    {
     "name": "stderr",
     "output_type": "stream",
     "text": [
      "100%|██████████| 15/15 [00:00<00:00, 27.03it/s]\n",
      "100%|██████████| 20/20 [00:01<00:00, 10.83it/s]\n",
      "100%|██████████| 25/25 [00:01<00:00, 13.07it/s]\n",
      "/tmp/ipykernel_34915/4181507203.py:60: RuntimeWarning: invalid value encountered in sqrt\n",
      "  volume_or_area = np.sqrt(det_cov)\n"
     ]
    },
    {
     "name": "stdout",
     "output_type": "stream",
     "text": [
      "Warning: Negative determinant encountered for node 67, setting volume/area to NaN.\n"
     ]
    },
    {
     "name": "stderr",
     "output_type": "stream",
     "text": [
      "100%|██████████| 30/30 [00:02<00:00, 12.95it/s]\n",
      "/tmp/ipykernel_34915/4181507203.py:60: RuntimeWarning: invalid value encountered in sqrt\n",
      "  volume_or_area = np.sqrt(det_cov)\n"
     ]
    },
    {
     "name": "stdout",
     "output_type": "stream",
     "text": [
      "Warning: Negative determinant encountered for node 100, setting volume/area to NaN.\n"
     ]
    },
    {
     "name": "stderr",
     "output_type": "stream",
     "text": [
      "100%|██████████| 35/35 [00:02<00:00, 12.07it/s]\n",
      "100%|██████████| 40/40 [00:03<00:00, 12.94it/s]\n",
      "/tmp/ipykernel_34915/4181507203.py:60: RuntimeWarning: invalid value encountered in sqrt\n",
      "  volume_or_area = np.sqrt(det_cov)\n"
     ]
    },
    {
     "name": "stdout",
     "output_type": "stream",
     "text": [
      "Warning: Negative determinant encountered for node 160, setting volume/area to NaN.\n"
     ]
    },
    {
     "name": "stderr",
     "output_type": "stream",
     "text": [
      "100%|██████████| 45/45 [00:03<00:00, 14.50it/s]\n",
      "/tmp/ipykernel_34915/4181507203.py:60: RuntimeWarning: invalid value encountered in sqrt\n",
      "  volume_or_area = np.sqrt(det_cov)\n"
     ]
    },
    {
     "name": "stdout",
     "output_type": "stream",
     "text": [
      "Warning: Negative determinant encountered for node 191, setting volume/area to NaN.\n"
     ]
    },
    {
     "name": "stderr",
     "output_type": "stream",
     "text": [
      "100%|██████████| 50/50 [00:04<00:00, 11.60it/s]\n"
     ]
    },
    {
     "name": "stdout",
     "output_type": "stream",
     "text": [
      "Warning: Negative determinant encountered for node 215, setting volume/area to NaN.\n"
     ]
    },
    {
     "name": "stderr",
     "output_type": "stream",
     "text": [
      "/tmp/ipykernel_34915/4181507203.py:60: RuntimeWarning: invalid value encountered in sqrt\n",
      "  volume_or_area = np.sqrt(det_cov)\n"
     ]
    },
    {
     "data": {
      "image/png": "[encoded data removed]",
      "text/plain": [
       "<Figure size 1080x1080 with 9 Axes>"
      ]
     },
     "metadata": {
      "needs_background": "light"
     },
     "output_type": "display_data"
    }
   ],
   "source": [
    "B_values = range(10, 51, 5)  # Example B values\n",
    "\n",
    "# Set up the 3x3 subplot grid\n",
    "fig, axs = plt.subplots(3, 3, figsize=(15, 15))\n",
    "\n",
    "volume_or_area_array = np.zeros((n, len(B_values)))\n",
    "\n",
    "# Iterate over B values with an index\n",
    "for idx, B in enumerate(B_values):\n",
    "\n",
    "    A_boots_list = []\n",
    "    volume_or_area_list = []\n",
    "\n",
    "    for b in tqdm(range(B)):\n",
    "        _, A_boots = create_single_kNN_bootstrap(dense_adj, d=d, Q=1000, n_neighbors=k)\n",
    "        A_boots_list.append(A_boots)\n",
    "\n",
    "    A_list = [dense_adj] + A_boots_list\n",
    "    yhat = UASE(A_list, d=d, sparse_matrix=False)\n",
    "\n",
    "    yadf = pd.DataFrame(yhat)\n",
    "    # rename the columns - this is called a list comprehension\n",
    "    yadf.columns = [\"Dimension_{}\".format(i+1) for i in range(yadf.shape[1])] \n",
    "\n",
    "    # Standardize the data in the Dimension_1 and Dimension_2 columns\n",
    "    # standardize the data for the obs and the B bootstraps for each B value\n",
    "    scaler = StandardScaler()\n",
    "    yadf[[\"Dimension_1\", \"Dimension_2\"]] = scaler.fit_transform(yadf[[\"Dimension_1\", \"Dimension_2\"]])\n",
    "\n",
    "    # repeat range(len(node_labels)) B+1 times to give each node a unique number\n",
    "    yadf['NodeNumber'] = list(range(len(node_labels)))*(B+1)\n",
    "\n",
    "    # repeats tau list the len of A_true_boots_list times\n",
    "    yadf[\"tau\"] = np.tile(node_labels, B + 1)\n",
    "\n",
    "\n",
    "    # for each node, calculate the mean and covariance using the bootstraps and the 1obs\n",
    "    for i in range(n):\n",
    "        # Filter data for node number and select the relevant dimensions\n",
    "        node_number = i\n",
    "        data_d_dim = yadf[yadf[\"NodeNumber\"] == node_number].iloc[:, 0:d].to_numpy()\n",
    "\n",
    "        # Calculate the mean and covariance considering all d dimensions\n",
    "        mean_d_dim = np.mean(data_d_dim, axis=0)\n",
    "        cov_d_dim = np.cov(data_d_dim, rowvar=False)\n",
    "\n",
    "        # Compute the determinant of the covariance matrix\n",
    "        det_cov = np.linalg.det(cov_d_dim)\n",
    "\n",
    "        # Ensure determinant is non-negative\n",
    "        if det_cov >= 0:\n",
    "            volume_or_area = np.sqrt(det_cov)\n",
    "        else:\n",
    "            # Handle the case of negative determinant\n",
    "            volume_or_area = np.nan  # Or set to 0, raise an error, or handle as needed\n",
    "            print(f\"Warning: Negative determinant encountered for node {j}, setting volume/area to NaN.\")\n",
    "\n",
    "\n",
    "        # If you want a more interpretable scalar (the volume or area), take the square root of the determinant\n",
    "        volume_or_area = np.sqrt(det_cov)\n",
    "        volume_or_area_list.append(volume_or_area)\n",
    "\n",
    "    volume_or_area_array[:, idx] = volume_or_area_list\n",
    "\n",
    "\n",
    "\n",
    "    # Select the subplot\n",
    "    ax = axs[idx // 3, idx % 3]\n",
    "\n",
    "    # plot column j of volume_or_area_array \n",
    "    j_list = [12,33,67,100,127,160,191,215,241]\n",
    "    j = j_list[idx]\n",
    "    ax.plot(B_values, volume_or_area_array[j, :], label=f'Node {j}')\n",
    "    ax.title.set_text(f'Node {j} from community {yadf[\"tau\"][j]}')\n",
    "    ax.set_xlabel('B')\n",
    "    ax.set_ylabel('Volume/Area of covariance ellipse')\n",
    "\n",
    "# Adjust layout to make room for titles and labels\n",
    "plt.tight_layout()\n",
    "\n",
    "plt.savefig('volume_area_plot.png') \n",
    "\n",
    "# Show the combined plot\n",
    "plt.show()\n"
   ]
  },
  {
   "cell_type": "code",
   "execution_count": null,
   "metadata": {},
   "outputs": [],
   "source": []
  }
 ],
 "metadata": {
  "kernelspec": {
   "display_name": "base",
   "language": "python",
   "name": "python3"
  },
  "language_info": {
   "codemirror_mode": {
    "name": "ipython",
    "version": 3
   },
   "file_extension": ".py",
   "mimetype": "text/x-python",
   "name": "python",
   "nbconvert_exporter": "python",
   "pygments_lexer": "ipython3",
   "version": "3.9.7"
  }
 },
 "nbformat": 4,
 "nbformat_minor": 2
}
