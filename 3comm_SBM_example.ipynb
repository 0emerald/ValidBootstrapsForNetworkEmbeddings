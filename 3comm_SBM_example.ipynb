{
 "cells": [
  {
   "cell_type": "code",
   "execution_count": 1,
   "metadata": {},
   "outputs": [],
   "source": [
    "import numpy as np\n",
    "import matplotlib.pyplot as plt\n",
    "import pandas as pd\n",
    "from embedding_functions import *\n",
    "from experiment_setup import *\n",
    "from functions_for_bootstrap import *\n",
    "import numba as nb\n",
    "from scipy.stats import wasserstein_distance\n",
    "from tqdm import tqdm\n",
    "import random"
   ]
  },
  {
   "cell_type": "markdown",
   "metadata": {},
   "source": [
    "### This is example 1 for the paper - a 3 comm SBM"
   ]
  },
  {
   "cell_type": "code",
   "execution_count": 2,
   "metadata": {},
   "outputs": [],
   "source": [
    "# Network generation --------------------------------------------------------\n",
    "random.seed(1)\n",
    "\n",
    "n = 300  # number of nodes\n",
    "K = 3    # number of node communities\n",
    "\n",
    "# Community labels\n",
    "tau = np.random.choice(K, n) # order tau would make the nice blocks\n",
    "tau = np.sort(tau)\n",
    "# print(tau)\n",
    "\n",
    "# Generate stochastic block model (SBM) B matrix\n",
    "\"\"\"Just one observation is required\"\"\"\n",
    "B_list = []\n",
    "B_list.append(np.array([[0.55, 0.4, 0.4], \n",
    "                        [0.4, 0.2, 0.3], \n",
    "                        [0.5, 0.3, 0.6]]))"
   ]
  },
  {
   "cell_type": "code",
   "execution_count": 3,
   "metadata": {},
   "outputs": [],
   "source": [
    "# Generate adjacency matrix from the B matrix\n",
    "As = np.zeros((n, n))\n",
    "P_list = []"
   ]
  },
  {
   "cell_type": "code",
   "execution_count": 4,
   "metadata": {},
   "outputs": [],
   "source": [
    "random.seed(10)\n",
    "\n",
    "# Get probability matrix from B\n",
    "P_t = np.column_stack(\n",
    "    [B_list[0][tau, tau[i]] for i in range(n)])\n",
    "P_list.append(P_t)\n",
    "\n",
    "# Generate random graph from the P matrix\n",
    "A_t = np.random.binomial(n=1, p=P_t)\n",
    "# turn to integer from float\n",
    "A_t = A_t.astype(int)\n",
    "As = A_t\n",
    "\n",
    "As = As.astype(int)\n",
    "P = np.column_stack(P_list)"
   ]
  },
  {
   "cell_type": "code",
   "execution_count": 5,
   "metadata": {},
   "outputs": [
    {
     "data": {
      "image/png": "[encoded data removed]",
      "text/plain": [
       "<Figure size 288x288 with 2 Axes>"
      ]
     },
     "metadata": {
      "needs_background": "light"
     },
     "output_type": "display_data"
    }
   ],
   "source": [
    "# Sample drawn using the above P in a Bern(P) - this is the Observed A matrix\n",
    "cax = plt.matshow(As)\n",
    "plt.colorbar(cax)\n",
    "plt.show()"
   ]
  },
  {
   "cell_type": "code",
   "execution_count": 6,
   "metadata": {},
   "outputs": [
    {
     "data": {
      "application/vnd.plotly.v1+json": {
       "config": {
        "plotlyServerURL": "https://plot.ly"
       },
       "data": [
        {
         "hovertemplate": "Community=0<br>Time=0<br>Dimension 1=%{x}<br>Dimension 2=%{y}<extra></extra>",
         "legendgroup": "0",
         "marker": {
          "color": "#636efa",
          "symbol": "circle"
         },
         "mode": "markers",
         "name": "0",
         "orientation": "v",
         "showlegend": true,
         "type": "scatter",
         "x": [
          -0.7243430320984129,
          -0.6603194566972052,
          -0.7521342360902167,
          -0.7123657235238913,
          -0.6915348825550066,
          -0.7311728811454177,
          -0.7198720244406713,
          -0.7649539717756152,
          -0.8421047781811964,
          -0.7255062088826805,
          -0.7410238085999171,
          -0.8062666465983778,
          -0.8083260154814355,
          -0.7664407766303896,
          -0.7729699859004279,
          -0.7900590652364132,
          -0.8257264645169212,
          -0.7141949321646645,
          -0.820592107919682,
          -0.7628822816631576,
          -0.7209097366042122,
          -0.7821619750091305,
          -0.7166263695381222,
          -0.816561258344917,
          -0.7642099554851013,
          -0.812457439667121,
          -0.8515551222772404,
          -0.7880413986163501,
          -0.7108934690524363,
          -0.7539974323930783,
          -0.7440935657738978,
          -0.7297919528572557,
          -0.7572010588317574,
          -0.7264391664684212,
          -0.749142889802763,
          -0.7547746376689539,
          -0.7521666173361512,
          -0.7462890277729423,
          -0.7669593508895153,
          -0.8462563338110598,
          -0.8022517830923791,
          -0.7531242854334967,
          -0.8046652542715392,
          -0.7445707897091512,
          -0.7747616439052719,
          -0.7119270967156747,
          -0.7764584219006381,
          -0.8135722014731965,
          -0.7696895594854057,
          -0.7415076850307007,
          -0.6975973027948768,
          -0.7439032455472651,
          -0.7940685600037348,
          -0.706696297272446,
          -0.7593059108746232,
          -0.7692741229488077,
          -0.6647406392657649,
          -0.78085131933246,
          -0.7408984491165238,
          -0.7422530729689036,
          -0.7785891298737023,
          -0.7991344293650406,
          -0.7375728155903543,
          -0.8105293436325195,
          -0.7718642720466365,
          -0.7350975427083823,
          -0.7822194862093134,
          -0.8101582416788625,
          -0.7365114162055603,
          -0.7475273142842029,
          -0.7682690035121114,
          -0.7490478483842704,
          -0.7500455869130883,
          -0.8075630923222816,
          -0.7422288292086551,
          -0.7680455292498176,
          -0.7026777218816481,
          -0.6437149117009145,
          -0.8336333797719695,
          -0.6648829582686612,
          -0.6913624836326077,
          -0.7266460493644412,
          -0.7897771646910849,
          -0.7284761865920963,
          -0.7570365558850645,
          -0.7639824300594691,
          -0.6948009520702413,
          -0.6912701031565164,
          -0.6910057421594361,
          -0.7772310847245572,
          -0.7331171671340116,
          -0.700117423159007,
          -0.797283515294359,
          -0.7722107046530139,
          -0.7709254973973059,
          -0.6917259911830208,
          -0.7401548706650724,
          -0.8324403235061896,
          -0.7606641048479541
         ],
         "xaxis": "x",
         "y": [
          0.05773026472968245,
          -0.11541081388975737,
          0.03243683008677497,
          -0.16819983564481555,
          -0.2773396097593883,
          -0.014502695724102484,
          0.11853527257124796,
          0.03550978498880619,
          -0.09029748476439914,
          -0.011075804292856886,
          -0.008240018028935571,
          -0.11087149863684209,
          -0.03868580303923177,
          -0.24285132593523576,
          -0.0023086715235675235,
          0.003703214608018419,
          -0.23422893187623361,
          -0.14648175288164772,
          -0.39127132099017964,
          -0.11123755907883948,
          -0.2543528847409106,
          -0.23498190423796794,
          -0.18761478527518852,
          -0.24877619504683007,
          -0.06538807142373114,
          -0.2067702392961576,
          -0.3161083749965836,
          -0.18913613201456303,
          -0.03321310580575227,
          -0.14506122254114465,
          -0.3290028203456302,
          -0.07753904256421058,
          0.20252790403621274,
          -0.07763622100860798,
          -0.23628716470467995,
          -0.40861171930244117,
          -0.3169858018130948,
          -0.21204867527201146,
          -0.20469278583836276,
          0.027473180186089248,
          -0.013211565895803752,
          -0.033400840082673924,
          -0.2154781685046748,
          -0.3067969258887306,
          -0.16515001924100992,
          -0.04021417740354975,
          -0.2713694525295846,
          0.007482737295595972,
          0.023335410055852015,
          -0.15221903578215404,
          0.0012394875886109504,
          -0.12683205594258734,
          -0.16977698961464557,
          -0.33502487113694385,
          -0.3887743857212948,
          -0.012215488693829738,
          -0.0394172898422341,
          -0.03714468613873238,
          -0.03842283429863007,
          -0.033408828990541366,
          -0.42419357713849387,
          0.06533595717089935,
          -0.08642113236808127,
          -0.25018937674383773,
          -0.2716282363543583,
          -0.13156536994323428,
          -0.07846912898148747,
          -0.16358672191783943,
          -0.0963024692638675,
          -0.07949039554011106,
          -0.09357891534931762,
          -0.1371558508456165,
          -0.18179951512998388,
          -0.1250947487807488,
          -0.07953860300450553,
          -0.047811776813488895,
          -0.3277921325684399,
          -0.3560534756511896,
          -0.20676902515032589,
          -0.24618953175043104,
          -0.13631869209867212,
          -0.03238233054960802,
          -0.21372898959120742,
          -0.044799805506470614,
          -0.05972412598694303,
          -0.21817222867387245,
          -0.31057252489378556,
          -0.23039820161112798,
          -0.12180564323753469,
          0.0012967482997135395,
          -0.16168875641427216,
          0.07654697316985735,
          -0.16162030279210474,
          -0.2058190296785648,
          -0.2672273707818653,
          -0.3120990645032304,
          0.043231770908389165,
          -0.3711069580245355,
          -0.2022943125510882
         ],
         "yaxis": "y"
        },
        {
         "hovertemplate": "Community=1<br>Time=0<br>Dimension 1=%{x}<br>Dimension 2=%{y}<extra></extra>",
         "legendgroup": "1",
         "marker": {
          "color": "#EF553B",
          "symbol": "circle"
         },
         "mode": "markers",
         "name": "1",
         "orientation": "v",
         "showlegend": true,
         "type": "scatter",
         "x": [
          -0.46593093784534184,
          -0.49231292577368413,
          -0.45445267576377896,
          -0.4135600328742669,
          -0.47892262330642815,
          -0.40517176145454525,
          -0.47624745300262156,
          -0.44650781030809805,
          -0.5534440598321468,
          -0.4337065427737277,
          -0.5235870309619048,
          -0.4137316895109781,
          -0.4889940656381828,
          -0.4763442417355943,
          -0.49933308303580076,
          -0.4528318767782666,
          -0.427951359926276,
          -0.49015805117412736,
          -0.44377098178928626,
          -0.47904619129234227,
          -0.45501816967227937,
          -0.4505100431281154,
          -0.4223487811829125,
          -0.44300653084414077,
          -0.48778294999212574,
          -0.4702594744334651,
          -0.4921816880946672,
          -0.44246306887766446,
          -0.4504346738573939,
          -0.4769419308961124,
          -0.46539797969246116,
          -0.472174586419725,
          -0.5127796424021884,
          -0.5032982583427816,
          -0.48073325909005366,
          -0.5019144057455228,
          -0.4690592994713002,
          -0.47068241130273547,
          -0.561247105692477,
          -0.5054316494205509,
          -0.54627009606126,
          -0.49008388977400386,
          -0.4535662587855663,
          -0.4446160312306349,
          -0.5055400732824213,
          -0.5114380068869753,
          -0.4786861095584984,
          -0.5179719127434944,
          -0.5116865800594547,
          -0.4109378321815936,
          -0.5324379070750538,
          -0.5128688064616324,
          -0.48470663851573476,
          -0.4734216381482965,
          -0.42626400929817587,
          -0.45330376444516085,
          -0.5521804760031673,
          -0.4845721628960713,
          -0.4880840118871468,
          -0.41893912218113116,
          -0.4556964635860478,
          -0.4396967317423083,
          -0.4730183349686028,
          -0.4797363131928466,
          -0.46080378009550815,
          -0.4670607758505087,
          -0.400499441844792,
          -0.44883232997374384,
          -0.5142372696379229,
          -0.4920382252222472,
          -0.41003362497838663,
          -0.5247770219949086,
          -0.48949056762852206,
          -0.4418954417453354,
          -0.45551343180586057,
          -0.5577032641848723,
          -0.4380708716577095,
          -0.540187376075019,
          -0.48551934780215195,
          -0.5204328420688851,
          -0.4283215145561818,
          -0.43929861112317264,
          -0.5261404894082021,
          -0.4859285179693848,
          -0.5462873031815634,
          -0.530905874388219,
          -0.47370407588431424,
          -0.49096338219437025,
          -0.4969369997067856,
          -0.484195783143296,
          -0.4859544735043716,
          -0.5074022068590824,
          -0.5463055093096512,
          -0.4941080199823969,
          -0.5447132569790382,
          -0.4575476668163907,
          -0.3844202788082346,
          -0.4424203653561204,
          -0.4833223075436095,
          -0.47840261728323263,
          -0.4503103581208793
         ],
         "xaxis": "x",
         "y": [
          -0.2193708215407551,
          0.08930185739353558,
          -0.2755250719433178,
          -0.25895399043565165,
          -0.3179481180514696,
          -0.016451927859057306,
          -0.24006845548488864,
          -0.1904952929181539,
          -0.2618867860893354,
          -0.14344917439221624,
          -0.14262734318004705,
          -0.3563634064312829,
          -0.3387163362850242,
          -0.1309845592031985,
          -0.2580097061664189,
          -0.1737411915411575,
          -0.39543901061025066,
          -0.27641171843166984,
          -0.1987689654081065,
          -0.11664380734584108,
          -0.35732099766827763,
          -0.4818768970624037,
          -0.2813648132286002,
          -0.403125046809813,
          -0.16118145777167586,
          -0.19547777970671504,
          -0.2643390058647045,
          -0.14159140786473529,
          -0.04142942642306945,
          -0.15349261303730047,
          0.03227518907136082,
          -0.3260521372852401,
          -0.18320658660695371,
          -0.5461424299568648,
          -0.1110499957424043,
          0.03550259476355731,
          -0.259456319491867,
          -0.22668687820013023,
          -0.09909347295021852,
          -0.28464078371287777,
          -0.22838792037476482,
          -0.33149818337635845,
          -0.10543977156849202,
          -0.44082771949918037,
          -0.24984067381214642,
          -0.2956474645192651,
          -0.04812731415024516,
          0.14309782557410186,
          -0.3577534470665708,
          -0.3169071109167158,
          -0.1042178752148966,
          -0.19644129807912414,
          -0.25505680123343627,
          -0.19905723562321823,
          -0.3373199033289294,
          -0.2839523125019616,
          -0.15037619760014298,
          -0.3067937673851029,
          -0.34294483218318955,
          -0.4274792221321234,
          -0.19932544232881627,
          -0.2035637316104851,
          -0.16289443405483958,
          -0.07138321276422248,
          -0.1462734319227907,
          -0.2456951406459996,
          -0.20374705289303066,
          -0.21072585594527862,
          -0.08171202300560043,
          -0.372193781515998,
          -0.2433470914133799,
          -0.16327780613370896,
          -0.07332767925916914,
          -0.09573353446951906,
          -0.07585485110740027,
          -0.21444609987912658,
          -0.27580980853659876,
          -0.26125531536577484,
          -0.26666639262237835,
          -0.07813456749018056,
          -0.046180658804437315,
          -0.1712419337911414,
          -0.18344593461285613,
          -0.1037732293371327,
          -0.34967860301452897,
          -0.2744635964525328,
          -0.0940336180201869,
          -0.0734671205668661,
          -0.14482382957758738,
          -0.17685740673309266,
          -0.06199210553570255,
          -0.38035075083046815,
          -0.1890363132606099,
          -0.37324078078476475,
          -0.4004434915676105,
          -0.35794003605482666,
          -0.10033552839797297,
          -0.3176683980056878,
          -0.33095644162939225,
          -0.18851937348307768,
          0.02365586149372875
         ],
         "yaxis": "y"
        },
        {
         "hovertemplate": "Community=2<br>Time=0<br>Dimension 1=%{x}<br>Dimension 2=%{y}<extra></extra>",
         "legendgroup": "2",
         "marker": {
          "color": "#00cc96",
          "symbol": "circle"
         },
         "mode": "markers",
         "name": "2",
         "orientation": "v",
         "showlegend": true,
         "type": "scatter",
         "x": [
          -0.7052962002297772,
          -0.6548459345072484,
          -0.6646437670682406,
          -0.7198736976354754,
          -0.640780716121243,
          -0.7315094545179645,
          -0.6468497503806676,
          -0.7459570864386621,
          -0.6368856806601153,
          -0.6666999216886772,
          -0.606025603184329,
          -0.5847490215940043,
          -0.648484761966825,
          -0.6740591075507296,
          -0.6762418491220775,
          -0.7277819146419356,
          -0.704656879261232,
          -0.7075134651134255,
          -0.7420077629753427,
          -0.6681970705539713,
          -0.5981776178203575,
          -0.6345959592071111,
          -0.7475245839077522,
          -0.6813374424013121,
          -0.6767536319530618,
          -0.7139945281451112,
          -0.7305841491266194,
          -0.7437911837247321,
          -0.6491195425737812,
          -0.7881664397906498,
          -0.6487978405515314,
          -0.6857083309683982,
          -0.7562620465538218,
          -0.7315606386395316,
          -0.6684019542549586,
          -0.6485505915723305,
          -0.7064297400775823,
          -0.5915816864711344,
          -0.7036989436611328,
          -0.7429086996519627,
          -0.622814375736422,
          -0.6641749747029584,
          -0.6714213532459964,
          -0.66700583849651,
          -0.6967687861006675,
          -0.610956006441388,
          -0.7132922860004466,
          -0.7362208634384019,
          -0.6370820387278877,
          -0.7271188486760237,
          -0.7138561711562236,
          -0.7017068081244436,
          -0.6524035331824805,
          -0.6941073622260039,
          -0.7463232266185061,
          -0.705745125438072,
          -0.673596330758015,
          -0.689659091330602,
          -0.7170860628809242,
          -0.6826020037681887,
          -0.7023398290790539,
          -0.7183468558833995,
          -0.7315965573431479,
          -0.6608104303533524,
          -0.6986378615674498,
          -0.640201289346357,
          -0.66083111538978,
          -0.6940434316458775,
          -0.7103175865346925,
          -0.678833047921956,
          -0.638648076547431,
          -0.7403277387333632,
          -0.7159056335295808,
          -0.7489793668614088,
          -0.7445187443227896,
          -0.6797627373803359,
          -0.8085860974542911,
          -0.6265559460593413,
          -0.6402039338122458,
          -0.7128067452243525,
          -0.7051432172842518,
          -0.5853846043623535,
          -0.681380929156255,
          -0.7164286601639792,
          -0.6690512161963579,
          -0.6839723435784285,
          -0.6874869241340807,
          -0.6710242852674849,
          -0.6983030933408134,
          -0.6258362102617714,
          -0.6760716388756437,
          -0.6096694874162747,
          -0.751989284603444,
          -0.6908528660340013,
          -0.6928125232341813,
          -0.7042219762282057,
          -0.6170867064492811,
          -0.685290414029555,
          -0.7041025166260722,
          -0.63832548559128
         ],
         "xaxis": "x",
         "y": [
          0.358726500358293,
          0.24255111087332487,
          0.4304588514944156,
          0.25947045810457325,
          0.1273542703008947,
          0.5009022752298784,
          0.3425927245696851,
          0.05867640073854777,
          0.2708039610847618,
          0.12288398695463792,
          0.2865586599116026,
          0.4081181164085065,
          0.45448724350403197,
          0.4312215224006085,
          0.5284241004689296,
          0.33312307671218794,
          0.2437721501108177,
          0.1818504871295456,
          0.17554966816007686,
          0.3888290033702143,
          0.33718502008467516,
          0.2923320439171379,
          0.18656397256136908,
          0.2375133886551059,
          0.4857405164994498,
          0.39672384490410334,
          0.2733270405416731,
          0.4273042832321575,
          0.33147215491294885,
          0.37085276362307934,
          0.18515779802857385,
          0.18830957390810174,
          0.39161531530325516,
          0.23973322942104716,
          0.5237358786458383,
          0.2960947129484453,
          0.4960220160895787,
          0.4145736378024762,
          0.45869084600746407,
          0.4905737899474779,
          0.22020125162029452,
          0.36804154177369636,
          0.26137610502193465,
          0.3768206857010233,
          0.27076659552194865,
          0.2653418959627102,
          0.17232120734323236,
          0.5393924991450982,
          0.21237873425069428,
          0.06326805430635213,
          0.4002281983574983,
          0.013947028029035675,
          0.28362221753767897,
          0.08545626724364828,
          0.15335791357346087,
          0.5479046627144414,
          0.42893018414486545,
          0.07019385977738052,
          0.2482968900258284,
          0.35473879839442146,
          0.36052660106781326,
          0.456813466839071,
          0.3212509719169184,
          0.23667484004665412,
          0.50534006370291,
          0.3638999937691846,
          0.24503927482522414,
          0.29512119052641567,
          0.3552850219373168,
          0.14684048842243277,
          0.13017454534490605,
          -0.00642806706059604,
          0.1354586770621321,
          0.2455117702012416,
          0.20403014247321333,
          0.3743939867232237,
          0.336515547909262,
          0.3381189128994787,
          0.4567878600110518,
          0.2716460822389452,
          0.2711118230560107,
          0.26134838259279775,
          0.3652769712395308,
          0.3552397049376081,
          0.43635348815691655,
          0.23366769458857256,
          0.14746664189176134,
          0.2560026649338814,
          0.3041250683855251,
          0.18192091966856808,
          0.32038562315191316,
          0.2400781886065925,
          0.278344986029269,
          0.5591700329245107,
          0.47950174865183,
          0.13297790272315652,
          0.15543975354082396,
          0.35783471310655457,
          0.21036243092575688,
          0.3401414414120562
         ],
         "yaxis": "y"
        }
       ],
       "layout": {
        "legend": {
         "title": {
          "text": "Community"
         },
         "tracegroupgap": 0
        },
        "margin": {
         "t": 60
        },
        "template": {
         "data": {
          "bar": [
           {
            "error_x": {
             "color": "#2a3f5f"
            },
            "error_y": {
             "color": "#2a3f5f"
            },
            "marker": {
             "line": {
              "color": "#E5ECF6",
              "width": 0.5
             },
             "pattern": {
              "fillmode": "overlay",
              "size": 10,
              "solidity": 0.2
             }
            },
            "type": "bar"
           }
          ],
          "barpolar": [
           {
            "marker": {
             "line": {
              "color": "#E5ECF6",
              "width": 0.5
             },
             "pattern": {
              "fillmode": "overlay",
              "size": 10,
              "solidity": 0.2
             }
            },
            "type": "barpolar"
           }
          ],
          "carpet": [
           {
            "aaxis": {
             "endlinecolor": "#2a3f5f",
             "gridcolor": "white",
             "linecolor": "white",
             "minorgridcolor": "white",
             "startlinecolor": "#2a3f5f"
            },
            "baxis": {
             "endlinecolor": "#2a3f5f",
             "gridcolor": "white",
             "linecolor": "white",
             "minorgridcolor": "white",
             "startlinecolor": "#2a3f5f"
            },
            "type": "carpet"
           }
          ],
          "choropleth": [
           {
            "colorbar": {
             "outlinewidth": 0,
             "ticks": ""
            },
            "type": "choropleth"
           }
          ],
          "contour": [
           {
            "colorbar": {
             "outlinewidth": 0,
             "ticks": ""
            },
            "colorscale": [
             [
              0,
              "#0d0887"
             ],
             [
              0.1111111111111111,
              "#46039f"
             ],
             [
              0.2222222222222222,
              "#7201a8"
             ],
             [
              0.3333333333333333,
              "#9c179e"
             ],
             [
              0.4444444444444444,
              "#bd3786"
             ],
             [
              0.5555555555555556,
              "#d8576b"
             ],
             [
              0.6666666666666666,
              "#ed7953"
             ],
             [
              0.7777777777777778,
              "#fb9f3a"
             ],
             [
              0.8888888888888888,
              "#fdca26"
             ],
             [
              1,
              "#f0f921"
             ]
            ],
            "type": "contour"
           }
          ],
          "contourcarpet": [
           {
            "colorbar": {
             "outlinewidth": 0,
             "ticks": ""
            },
            "type": "contourcarpet"
           }
          ],
          "heatmap": [
           {
            "colorbar": {
             "outlinewidth": 0,
             "ticks": ""
            },
            "colorscale": [
             [
              0,
              "#0d0887"
             ],
             [
              0.1111111111111111,
              "#46039f"
             ],
             [
              0.2222222222222222,
              "#7201a8"
             ],
             [
              0.3333333333333333,
              "#9c179e"
             ],
             [
              0.4444444444444444,
              "#bd3786"
             ],
             [
              0.5555555555555556,
              "#d8576b"
             ],
             [
              0.6666666666666666,
              "#ed7953"
             ],
             [
              0.7777777777777778,
              "#fb9f3a"
             ],
             [
              0.8888888888888888,
              "#fdca26"
             ],
             [
              1,
              "#f0f921"
             ]
            ],
            "type": "heatmap"
           }
          ],
          "heatmapgl": [
           {
            "colorbar": {
             "outlinewidth": 0,
             "ticks": ""
            },
            "colorscale": [
             [
              0,
              "#0d0887"
             ],
             [
              0.1111111111111111,
              "#46039f"
             ],
             [
              0.2222222222222222,
              "#7201a8"
             ],
             [
              0.3333333333333333,
              "#9c179e"
             ],
             [
              0.4444444444444444,
              "#bd3786"
             ],
             [
              0.5555555555555556,
              "#d8576b"
             ],
             [
              0.6666666666666666,
              "#ed7953"
             ],
             [
              0.7777777777777778,
              "#fb9f3a"
             ],
             [
              0.8888888888888888,
              "#fdca26"
             ],
             [
              1,
              "#f0f921"
             ]
            ],
            "type": "heatmapgl"
           }
          ],
          "histogram": [
           {
            "marker": {
             "pattern": {
              "fillmode": "overlay",
              "size": 10,
              "solidity": 0.2
             }
            },
            "type": "histogram"
           }
          ],
          "histogram2d": [
           {
            "colorbar": {
             "outlinewidth": 0,
             "ticks": ""
            },
            "colorscale": [
             [
              0,
              "#0d0887"
             ],
             [
              0.1111111111111111,
              "#46039f"
             ],
             [
              0.2222222222222222,
              "#7201a8"
             ],
             [
              0.3333333333333333,
              "#9c179e"
             ],
             [
              0.4444444444444444,
              "#bd3786"
             ],
             [
              0.5555555555555556,
              "#d8576b"
             ],
             [
              0.6666666666666666,
              "#ed7953"
             ],
             [
              0.7777777777777778,
              "#fb9f3a"
             ],
             [
              0.8888888888888888,
              "#fdca26"
             ],
             [
              1,
              "#f0f921"
             ]
            ],
            "type": "histogram2d"
           }
          ],
          "histogram2dcontour": [
           {
            "colorbar": {
             "outlinewidth": 0,
             "ticks": ""
            },
            "colorscale": [
             [
              0,
              "#0d0887"
             ],
             [
              0.1111111111111111,
              "#46039f"
             ],
             [
              0.2222222222222222,
              "#7201a8"
             ],
             [
              0.3333333333333333,
              "#9c179e"
             ],
             [
              0.4444444444444444,
              "#bd3786"
             ],
             [
              0.5555555555555556,
              "#d8576b"
             ],
             [
              0.6666666666666666,
              "#ed7953"
             ],
             [
              0.7777777777777778,
              "#fb9f3a"
             ],
             [
              0.8888888888888888,
              "#fdca26"
             ],
             [
              1,
              "#f0f921"
             ]
            ],
            "type": "histogram2dcontour"
           }
          ],
          "mesh3d": [
           {
            "colorbar": {
             "outlinewidth": 0,
             "ticks": ""
            },
            "type": "mesh3d"
           }
          ],
          "parcoords": [
           {
            "line": {
             "colorbar": {
              "outlinewidth": 0,
              "ticks": ""
             }
            },
            "type": "parcoords"
           }
          ],
          "pie": [
           {
            "automargin": true,
            "type": "pie"
           }
          ],
          "scatter": [
           {
            "fillpattern": {
             "fillmode": "overlay",
             "size": 10,
             "solidity": 0.2
            },
            "type": "scatter"
           }
          ],
          "scatter3d": [
           {
            "line": {
             "colorbar": {
              "outlinewidth": 0,
              "ticks": ""
             }
            },
            "marker": {
             "colorbar": {
              "outlinewidth": 0,
              "ticks": ""
             }
            },
            "type": "scatter3d"
           }
          ],
          "scattercarpet": [
           {
            "marker": {
             "colorbar": {
              "outlinewidth": 0,
              "ticks": ""
             }
            },
            "type": "scattercarpet"
           }
          ],
          "scattergeo": [
           {
            "marker": {
             "colorbar": {
              "outlinewidth": 0,
              "ticks": ""
             }
            },
            "type": "scattergeo"
           }
          ],
          "scattergl": [
           {
            "marker": {
             "colorbar": {
              "outlinewidth": 0,
              "ticks": ""
             }
            },
            "type": "scattergl"
           }
          ],
          "scattermapbox": [
           {
            "marker": {
             "colorbar": {
              "outlinewidth": 0,
              "ticks": ""
             }
            },
            "type": "scattermapbox"
           }
          ],
          "scatterpolar": [
           {
            "marker": {
             "colorbar": {
              "outlinewidth": 0,
              "ticks": ""
             }
            },
            "type": "scatterpolar"
           }
          ],
          "scatterpolargl": [
           {
            "marker": {
             "colorbar": {
              "outlinewidth": 0,
              "ticks": ""
             }
            },
            "type": "scatterpolargl"
           }
          ],
          "scatterternary": [
           {
            "marker": {
             "colorbar": {
              "outlinewidth": 0,
              "ticks": ""
             }
            },
            "type": "scatterternary"
           }
          ],
          "surface": [
           {
            "colorbar": {
             "outlinewidth": 0,
             "ticks": ""
            },
            "colorscale": [
             [
              0,
              "#0d0887"
             ],
             [
              0.1111111111111111,
              "#46039f"
             ],
             [
              0.2222222222222222,
              "#7201a8"
             ],
             [
              0.3333333333333333,
              "#9c179e"
             ],
             [
              0.4444444444444444,
              "#bd3786"
             ],
             [
              0.5555555555555556,
              "#d8576b"
             ],
             [
              0.6666666666666666,
              "#ed7953"
             ],
             [
              0.7777777777777778,
              "#fb9f3a"
             ],
             [
              0.8888888888888888,
              "#fdca26"
             ],
             [
              1,
              "#f0f921"
             ]
            ],
            "type": "surface"
           }
          ],
          "table": [
           {
            "cells": {
             "fill": {
              "color": "#EBF0F8"
             },
             "line": {
              "color": "white"
             }
            },
            "header": {
             "fill": {
              "color": "#C8D4E3"
             },
             "line": {
              "color": "white"
             }
            },
            "type": "table"
           }
          ]
         },
         "layout": {
          "annotationdefaults": {
           "arrowcolor": "#2a3f5f",
           "arrowhead": 0,
           "arrowwidth": 1
          },
          "autotypenumbers": "strict",
          "coloraxis": {
           "colorbar": {
            "outlinewidth": 0,
            "ticks": ""
           }
          },
          "colorscale": {
           "diverging": [
            [
             0,
             "#8e0152"
            ],
            [
             0.1,
             "#c51b7d"
            ],
            [
             0.2,
             "#de77ae"
            ],
            [
             0.3,
             "#f1b6da"
            ],
            [
             0.4,
             "#fde0ef"
            ],
            [
             0.5,
             "#f7f7f7"
            ],
            [
             0.6,
             "#e6f5d0"
            ],
            [
             0.7,
             "#b8e186"
            ],
            [
             0.8,
             "#7fbc41"
            ],
            [
             0.9,
             "#4d9221"
            ],
            [
             1,
             "#276419"
            ]
           ],
           "sequential": [
            [
             0,
             "#0d0887"
            ],
            [
             0.1111111111111111,
             "#46039f"
            ],
            [
             0.2222222222222222,
             "#7201a8"
            ],
            [
             0.3333333333333333,
             "#9c179e"
            ],
            [
             0.4444444444444444,
             "#bd3786"
            ],
            [
             0.5555555555555556,
             "#d8576b"
            ],
            [
             0.6666666666666666,
             "#ed7953"
            ],
            [
             0.7777777777777778,
             "#fb9f3a"
            ],
            [
             0.8888888888888888,
             "#fdca26"
            ],
            [
             1,
             "#f0f921"
            ]
           ],
           "sequentialminus": [
            [
             0,
             "#0d0887"
            ],
            [
             0.1111111111111111,
             "#46039f"
            ],
            [
             0.2222222222222222,
             "#7201a8"
            ],
            [
             0.3333333333333333,
             "#9c179e"
            ],
            [
             0.4444444444444444,
             "#bd3786"
            ],
            [
             0.5555555555555556,
             "#d8576b"
            ],
            [
             0.6666666666666666,
             "#ed7953"
            ],
            [
             0.7777777777777778,
             "#fb9f3a"
            ],
            [
             0.8888888888888888,
             "#fdca26"
            ],
            [
             1,
             "#f0f921"
            ]
           ]
          },
          "colorway": [
           "#636efa",
           "#EF553B",
           "#00cc96",
           "#ab63fa",
           "#FFA15A",
           "#19d3f3",
           "#FF6692",
           "#B6E880",
           "#FF97FF",
           "#FECB52"
          ],
          "font": {
           "color": "#2a3f5f"
          },
          "geo": {
           "bgcolor": "white",
           "lakecolor": "white",
           "landcolor": "#E5ECF6",
           "showlakes": true,
           "showland": true,
           "subunitcolor": "white"
          },
          "hoverlabel": {
           "align": "left"
          },
          "hovermode": "closest",
          "mapbox": {
           "style": "light"
          },
          "paper_bgcolor": "white",
          "plot_bgcolor": "#E5ECF6",
          "polar": {
           "angularaxis": {
            "gridcolor": "white",
            "linecolor": "white",
            "ticks": ""
           },
           "bgcolor": "#E5ECF6",
           "radialaxis": {
            "gridcolor": "white",
            "linecolor": "white",
            "ticks": ""
           }
          },
          "scene": {
           "xaxis": {
            "backgroundcolor": "#E5ECF6",
            "gridcolor": "white",
            "gridwidth": 2,
            "linecolor": "white",
            "showbackground": true,
            "ticks": "",
            "zerolinecolor": "white"
           },
           "yaxis": {
            "backgroundcolor": "#E5ECF6",
            "gridcolor": "white",
            "gridwidth": 2,
            "linecolor": "white",
            "showbackground": true,
            "ticks": "",
            "zerolinecolor": "white"
           },
           "zaxis": {
            "backgroundcolor": "#E5ECF6",
            "gridcolor": "white",
            "gridwidth": 2,
            "linecolor": "white",
            "showbackground": true,
            "ticks": "",
            "zerolinecolor": "white"
           }
          },
          "shapedefaults": {
           "line": {
            "color": "#2a3f5f"
           }
          },
          "ternary": {
           "aaxis": {
            "gridcolor": "white",
            "linecolor": "white",
            "ticks": ""
           },
           "baxis": {
            "gridcolor": "white",
            "linecolor": "white",
            "ticks": ""
           },
           "bgcolor": "#E5ECF6",
           "caxis": {
            "gridcolor": "white",
            "linecolor": "white",
            "ticks": ""
           }
          },
          "title": {
           "x": 0.05
          },
          "xaxis": {
           "automargin": true,
           "gridcolor": "white",
           "linecolor": "white",
           "ticks": "",
           "title": {
            "standoff": 15
           },
           "zerolinecolor": "white",
           "zerolinewidth": 2
          },
          "yaxis": {
           "automargin": true,
           "gridcolor": "white",
           "linecolor": "white",
           "ticks": "",
           "title": {
            "standoff": 15
           },
           "zerolinecolor": "white",
           "zerolinewidth": 2
          }
         }
        },
        "xaxis": {
         "anchor": "y",
         "domain": [
          0,
          1
         ],
         "range": [
          -0.8608978191466206,
          -0.3750775819388545
         ],
         "title": {
          "text": "Dimension 1"
         }
        },
        "yaxis": {
         "anchor": "x",
         "domain": [
          0,
          1
         ],
         "range": [
          -0.5682486792144923,
          0.5812762821821382
         ],
         "title": {
          "text": "Dimension 2"
         }
        }
       }
      }
     },
     "metadata": {},
     "output_type": "display_data"
    }
   ],
   "source": [
    "ya = UASE([As.astype(float)], 2)\n",
    "plot_embedding(ya, n, 1, tau)"
   ]
  },
  {
   "cell_type": "code",
   "execution_count": 7,
   "metadata": {},
   "outputs": [
    {
     "name": "stderr",
     "output_type": "stream",
     "text": [
      "[86105:0502/114708.585337:ERROR:buffer_manager.cc(488)] [.DisplayCompositor]GL ERROR :GL_INVALID_OPERATION : glBufferData: <- error from previous GL command\n"
     ]
    },
    {
     "data": {
      "application/vnd.plotly.v1+json": {
       "config": {
        "plotlyServerURL": "https://plot.ly"
       },
       "data": [
        {
         "hovertemplate": "Community=0<br>Time=0<br>Dimension 1=%{x}<br>Dimension 2=%{y}<extra></extra>",
         "legendgroup": "0",
         "marker": {
          "color": "#636efa",
          "size": 5,
          "symbol": "circle"
         },
         "mode": "markers",
         "name": "0",
         "orientation": "v",
         "showlegend": true,
         "type": "scatter",
         "x": [
          -0.7243430320984129,
          -0.6603194566972052,
          -0.7521342360902167,
          -0.7123657235238913,
          -0.6915348825550066,
          -0.7311728811454177,
          -0.7198720244406713,
          -0.7649539717756152,
          -0.8421047781811964,
          -0.7255062088826805,
          -0.7410238085999171,
          -0.8062666465983778,
          -0.8083260154814355,
          -0.7664407766303896,
          -0.7729699859004279,
          -0.7900590652364132,
          -0.8257264645169212,
          -0.7141949321646645,
          -0.820592107919682,
          -0.7628822816631576,
          -0.7209097366042122,
          -0.7821619750091305,
          -0.7166263695381222,
          -0.816561258344917,
          -0.7642099554851013,
          -0.812457439667121,
          -0.8515551222772404,
          -0.7880413986163501,
          -0.7108934690524363,
          -0.7539974323930783,
          -0.7440935657738978,
          -0.7297919528572557,
          -0.7572010588317574,
          -0.7264391664684212,
          -0.749142889802763,
          -0.7547746376689539,
          -0.7521666173361512,
          -0.7462890277729423,
          -0.7669593508895153,
          -0.8462563338110598,
          -0.8022517830923791,
          -0.7531242854334967,
          -0.8046652542715392,
          -0.7445707897091512,
          -0.7747616439052719,
          -0.7119270967156747,
          -0.7764584219006381,
          -0.8135722014731965,
          -0.7696895594854057,
          -0.7415076850307007,
          -0.6975973027948768,
          -0.7439032455472651,
          -0.7940685600037348,
          -0.706696297272446,
          -0.7593059108746232,
          -0.7692741229488077,
          -0.6647406392657649,
          -0.78085131933246,
          -0.7408984491165238,
          -0.7422530729689036,
          -0.7785891298737023,
          -0.7991344293650406,
          -0.7375728155903543,
          -0.8105293436325195,
          -0.7718642720466365,
          -0.7350975427083823,
          -0.7822194862093134,
          -0.8101582416788625,
          -0.7365114162055603,
          -0.7475273142842029,
          -0.7682690035121114,
          -0.7490478483842704,
          -0.7500455869130883,
          -0.8075630923222816,
          -0.7422288292086551,
          -0.7680455292498176,
          -0.7026777218816481,
          -0.6437149117009145,
          -0.8336333797719695,
          -0.6648829582686612,
          -0.6913624836326077,
          -0.7266460493644412,
          -0.7897771646910849,
          -0.7284761865920963,
          -0.7570365558850645,
          -0.7639824300594691,
          -0.6948009520702413,
          -0.6912701031565164,
          -0.6910057421594361,
          -0.7772310847245572,
          -0.7331171671340116,
          -0.700117423159007,
          -0.797283515294359,
          -0.7722107046530139,
          -0.7709254973973059,
          -0.6917259911830208,
          -0.7401548706650724,
          -0.8324403235061896,
          -0.7606641048479541
         ],
         "xaxis": "x",
         "y": [
          0.05773026472968245,
          -0.11541081388975737,
          0.03243683008677497,
          -0.16819983564481555,
          -0.2773396097593883,
          -0.014502695724102484,
          0.11853527257124796,
          0.03550978498880619,
          -0.09029748476439914,
          -0.011075804292856886,
          -0.008240018028935571,
          -0.11087149863684209,
          -0.03868580303923177,
          -0.24285132593523576,
          -0.0023086715235675235,
          0.003703214608018419,
          -0.23422893187623361,
          -0.14648175288164772,
          -0.39127132099017964,
          -0.11123755907883948,
          -0.2543528847409106,
          -0.23498190423796794,
          -0.18761478527518852,
          -0.24877619504683007,
          -0.06538807142373114,
          -0.2067702392961576,
          -0.3161083749965836,
          -0.18913613201456303,
          -0.03321310580575227,
          -0.14506122254114465,
          -0.3290028203456302,
          -0.07753904256421058,
          0.20252790403621274,
          -0.07763622100860798,
          -0.23628716470467995,
          -0.40861171930244117,
          -0.3169858018130948,
          -0.21204867527201146,
          -0.20469278583836276,
          0.027473180186089248,
          -0.013211565895803752,
          -0.033400840082673924,
          -0.2154781685046748,
          -0.3067969258887306,
          -0.16515001924100992,
          -0.04021417740354975,
          -0.2713694525295846,
          0.007482737295595972,
          0.023335410055852015,
          -0.15221903578215404,
          0.0012394875886109504,
          -0.12683205594258734,
          -0.16977698961464557,
          -0.33502487113694385,
          -0.3887743857212948,
          -0.012215488693829738,
          -0.0394172898422341,
          -0.03714468613873238,
          -0.03842283429863007,
          -0.033408828990541366,
          -0.42419357713849387,
          0.06533595717089935,
          -0.08642113236808127,
          -0.25018937674383773,
          -0.2716282363543583,
          -0.13156536994323428,
          -0.07846912898148747,
          -0.16358672191783943,
          -0.0963024692638675,
          -0.07949039554011106,
          -0.09357891534931762,
          -0.1371558508456165,
          -0.18179951512998388,
          -0.1250947487807488,
          -0.07953860300450553,
          -0.047811776813488895,
          -0.3277921325684399,
          -0.3560534756511896,
          -0.20676902515032589,
          -0.24618953175043104,
          -0.13631869209867212,
          -0.03238233054960802,
          -0.21372898959120742,
          -0.044799805506470614,
          -0.05972412598694303,
          -0.21817222867387245,
          -0.31057252489378556,
          -0.23039820161112798,
          -0.12180564323753469,
          0.0012967482997135395,
          -0.16168875641427216,
          0.07654697316985735,
          -0.16162030279210474,
          -0.2058190296785648,
          -0.2672273707818653,
          -0.3120990645032304,
          0.043231770908389165,
          -0.3711069580245355,
          -0.2022943125510882
         ],
         "yaxis": "y"
        },
        {
         "hovertemplate": "Community=1<br>Time=0<br>Dimension 1=%{x}<br>Dimension 2=%{y}<extra></extra>",
         "legendgroup": "1",
         "marker": {
          "color": "#EF553B",
          "size": 5,
          "symbol": "circle"
         },
         "mode": "markers",
         "name": "1",
         "orientation": "v",
         "showlegend": true,
         "type": "scatter",
         "x": [
          -0.46593093784534184,
          -0.49231292577368413,
          -0.45445267576377896,
          -0.4135600328742669,
          -0.47892262330642815,
          -0.40517176145454525,
          -0.47624745300262156,
          -0.44650781030809805,
          -0.5534440598321468,
          -0.4337065427737277,
          -0.5235870309619048,
          -0.4137316895109781,
          -0.4889940656381828,
          -0.4763442417355943,
          -0.49933308303580076,
          -0.4528318767782666,
          -0.427951359926276,
          -0.49015805117412736,
          -0.44377098178928626,
          -0.47904619129234227,
          -0.45501816967227937,
          -0.4505100431281154,
          -0.4223487811829125,
          -0.44300653084414077,
          -0.48778294999212574,
          -0.4702594744334651,
          -0.4921816880946672,
          -0.44246306887766446,
          -0.4504346738573939,
          -0.4769419308961124,
          -0.46539797969246116,
          -0.472174586419725,
          -0.5127796424021884,
          -0.5032982583427816,
          -0.48073325909005366,
          -0.5019144057455228,
          -0.4690592994713002,
          -0.47068241130273547,
          -0.561247105692477,
          -0.5054316494205509,
          -0.54627009606126,
          -0.49008388977400386,
          -0.4535662587855663,
          -0.4446160312306349,
          -0.5055400732824213,
          -0.5114380068869753,
          -0.4786861095584984,
          -0.5179719127434944,
          -0.5116865800594547,
          -0.4109378321815936,
          -0.5324379070750538,
          -0.5128688064616324,
          -0.48470663851573476,
          -0.4734216381482965,
          -0.42626400929817587,
          -0.45330376444516085,
          -0.5521804760031673,
          -0.4845721628960713,
          -0.4880840118871468,
          -0.41893912218113116,
          -0.4556964635860478,
          -0.4396967317423083,
          -0.4730183349686028,
          -0.4797363131928466,
          -0.46080378009550815,
          -0.4670607758505087,
          -0.400499441844792,
          -0.44883232997374384,
          -0.5142372696379229,
          -0.4920382252222472,
          -0.41003362497838663,
          -0.5247770219949086,
          -0.48949056762852206,
          -0.4418954417453354,
          -0.45551343180586057,
          -0.5577032641848723,
          -0.4380708716577095,
          -0.540187376075019,
          -0.48551934780215195,
          -0.5204328420688851,
          -0.4283215145561818,
          -0.43929861112317264,
          -0.5261404894082021,
          -0.4859285179693848,
          -0.5462873031815634,
          -0.530905874388219,
          -0.47370407588431424,
          -0.49096338219437025,
          -0.4969369997067856,
          -0.484195783143296,
          -0.4859544735043716,
          -0.5074022068590824,
          -0.5463055093096512,
          -0.4941080199823969,
          -0.5447132569790382,
          -0.4575476668163907,
          -0.3844202788082346,
          -0.4424203653561204,
          -0.4833223075436095,
          -0.47840261728323263,
          -0.4503103581208793
         ],
         "xaxis": "x",
         "y": [
          -0.2193708215407551,
          0.08930185739353558,
          -0.2755250719433178,
          -0.25895399043565165,
          -0.3179481180514696,
          -0.016451927859057306,
          -0.24006845548488864,
          -0.1904952929181539,
          -0.2618867860893354,
          -0.14344917439221624,
          -0.14262734318004705,
          -0.3563634064312829,
          -0.3387163362850242,
          -0.1309845592031985,
          -0.2580097061664189,
          -0.1737411915411575,
          -0.39543901061025066,
          -0.27641171843166984,
          -0.1987689654081065,
          -0.11664380734584108,
          -0.35732099766827763,
          -0.4818768970624037,
          -0.2813648132286002,
          -0.403125046809813,
          -0.16118145777167586,
          -0.19547777970671504,
          -0.2643390058647045,
          -0.14159140786473529,
          -0.04142942642306945,
          -0.15349261303730047,
          0.03227518907136082,
          -0.3260521372852401,
          -0.18320658660695371,
          -0.5461424299568648,
          -0.1110499957424043,
          0.03550259476355731,
          -0.259456319491867,
          -0.22668687820013023,
          -0.09909347295021852,
          -0.28464078371287777,
          -0.22838792037476482,
          -0.33149818337635845,
          -0.10543977156849202,
          -0.44082771949918037,
          -0.24984067381214642,
          -0.2956474645192651,
          -0.04812731415024516,
          0.14309782557410186,
          -0.3577534470665708,
          -0.3169071109167158,
          -0.1042178752148966,
          -0.19644129807912414,
          -0.25505680123343627,
          -0.19905723562321823,
          -0.3373199033289294,
          -0.2839523125019616,
          -0.15037619760014298,
          -0.3067937673851029,
          -0.34294483218318955,
          -0.4274792221321234,
          -0.19932544232881627,
          -0.2035637316104851,
          -0.16289443405483958,
          -0.07138321276422248,
          -0.1462734319227907,
          -0.2456951406459996,
          -0.20374705289303066,
          -0.21072585594527862,
          -0.08171202300560043,
          -0.372193781515998,
          -0.2433470914133799,
          -0.16327780613370896,
          -0.07332767925916914,
          -0.09573353446951906,
          -0.07585485110740027,
          -0.21444609987912658,
          -0.27580980853659876,
          -0.26125531536577484,
          -0.26666639262237835,
          -0.07813456749018056,
          -0.046180658804437315,
          -0.1712419337911414,
          -0.18344593461285613,
          -0.1037732293371327,
          -0.34967860301452897,
          -0.2744635964525328,
          -0.0940336180201869,
          -0.0734671205668661,
          -0.14482382957758738,
          -0.17685740673309266,
          -0.06199210553570255,
          -0.38035075083046815,
          -0.1890363132606099,
          -0.37324078078476475,
          -0.4004434915676105,
          -0.35794003605482666,
          -0.10033552839797297,
          -0.3176683980056878,
          -0.33095644162939225,
          -0.18851937348307768,
          0.02365586149372875
         ],
         "yaxis": "y"
        },
        {
         "hovertemplate": "Community=2<br>Time=0<br>Dimension 1=%{x}<br>Dimension 2=%{y}<extra></extra>",
         "legendgroup": "2",
         "marker": {
          "color": "#00cc96",
          "size": 5,
          "symbol": "circle"
         },
         "mode": "markers",
         "name": "2",
         "orientation": "v",
         "showlegend": true,
         "type": "scatter",
         "x": [
          -0.7052962002297772,
          -0.6548459345072484,
          -0.6646437670682406,
          -0.7198736976354754,
          -0.640780716121243,
          -0.7315094545179645,
          -0.6468497503806676,
          -0.7459570864386621,
          -0.6368856806601153,
          -0.6666999216886772,
          -0.606025603184329,
          -0.5847490215940043,
          -0.648484761966825,
          -0.6740591075507296,
          -0.6762418491220775,
          -0.7277819146419356,
          -0.704656879261232,
          -0.7075134651134255,
          -0.7420077629753427,
          -0.6681970705539713,
          -0.5981776178203575,
          -0.6345959592071111,
          -0.7475245839077522,
          -0.6813374424013121,
          -0.6767536319530618,
          -0.7139945281451112,
          -0.7305841491266194,
          -0.7437911837247321,
          -0.6491195425737812,
          -0.7881664397906498,
          -0.6487978405515314,
          -0.6857083309683982,
          -0.7562620465538218,
          -0.7315606386395316,
          -0.6684019542549586,
          -0.6485505915723305,
          -0.7064297400775823,
          -0.5915816864711344,
          -0.7036989436611328,
          -0.7429086996519627,
          -0.622814375736422,
          -0.6641749747029584,
          -0.6714213532459964,
          -0.66700583849651,
          -0.6967687861006675,
          -0.610956006441388,
          -0.7132922860004466,
          -0.7362208634384019,
          -0.6370820387278877,
          -0.7271188486760237,
          -0.7138561711562236,
          -0.7017068081244436,
          -0.6524035331824805,
          -0.6941073622260039,
          -0.7463232266185061,
          -0.705745125438072,
          -0.673596330758015,
          -0.689659091330602,
          -0.7170860628809242,
          -0.6826020037681887,
          -0.7023398290790539,
          -0.7183468558833995,
          -0.7315965573431479,
          -0.6608104303533524,
          -0.6986378615674498,
          -0.640201289346357,
          -0.66083111538978,
          -0.6940434316458775,
          -0.7103175865346925,
          -0.678833047921956,
          -0.638648076547431,
          -0.7403277387333632,
          -0.7159056335295808,
          -0.7489793668614088,
          -0.7445187443227896,
          -0.6797627373803359,
          -0.8085860974542911,
          -0.6265559460593413,
          -0.6402039338122458,
          -0.7128067452243525,
          -0.7051432172842518,
          -0.5853846043623535,
          -0.681380929156255,
          -0.7164286601639792,
          -0.6690512161963579,
          -0.6839723435784285,
          -0.6874869241340807,
          -0.6710242852674849,
          -0.6983030933408134,
          -0.6258362102617714,
          -0.6760716388756437,
          -0.6096694874162747,
          -0.751989284603444,
          -0.6908528660340013,
          -0.6928125232341813,
          -0.7042219762282057,
          -0.6170867064492811,
          -0.685290414029555,
          -0.7041025166260722,
          -0.63832548559128
         ],
         "xaxis": "x",
         "y": [
          0.358726500358293,
          0.24255111087332487,
          0.4304588514944156,
          0.25947045810457325,
          0.1273542703008947,
          0.5009022752298784,
          0.3425927245696851,
          0.05867640073854777,
          0.2708039610847618,
          0.12288398695463792,
          0.2865586599116026,
          0.4081181164085065,
          0.45448724350403197,
          0.4312215224006085,
          0.5284241004689296,
          0.33312307671218794,
          0.2437721501108177,
          0.1818504871295456,
          0.17554966816007686,
          0.3888290033702143,
          0.33718502008467516,
          0.2923320439171379,
          0.18656397256136908,
          0.2375133886551059,
          0.4857405164994498,
          0.39672384490410334,
          0.2733270405416731,
          0.4273042832321575,
          0.33147215491294885,
          0.37085276362307934,
          0.18515779802857385,
          0.18830957390810174,
          0.39161531530325516,
          0.23973322942104716,
          0.5237358786458383,
          0.2960947129484453,
          0.4960220160895787,
          0.4145736378024762,
          0.45869084600746407,
          0.4905737899474779,
          0.22020125162029452,
          0.36804154177369636,
          0.26137610502193465,
          0.3768206857010233,
          0.27076659552194865,
          0.2653418959627102,
          0.17232120734323236,
          0.5393924991450982,
          0.21237873425069428,
          0.06326805430635213,
          0.4002281983574983,
          0.013947028029035675,
          0.28362221753767897,
          0.08545626724364828,
          0.15335791357346087,
          0.5479046627144414,
          0.42893018414486545,
          0.07019385977738052,
          0.2482968900258284,
          0.35473879839442146,
          0.36052660106781326,
          0.456813466839071,
          0.3212509719169184,
          0.23667484004665412,
          0.50534006370291,
          0.3638999937691846,
          0.24503927482522414,
          0.29512119052641567,
          0.3552850219373168,
          0.14684048842243277,
          0.13017454534490605,
          -0.00642806706059604,
          0.1354586770621321,
          0.2455117702012416,
          0.20403014247321333,
          0.3743939867232237,
          0.336515547909262,
          0.3381189128994787,
          0.4567878600110518,
          0.2716460822389452,
          0.2711118230560107,
          0.26134838259279775,
          0.3652769712395308,
          0.3552397049376081,
          0.43635348815691655,
          0.23366769458857256,
          0.14746664189176134,
          0.2560026649338814,
          0.3041250683855251,
          0.18192091966856808,
          0.32038562315191316,
          0.2400781886065925,
          0.278344986029269,
          0.5591700329245107,
          0.47950174865183,
          0.13297790272315652,
          0.15543975354082396,
          0.35783471310655457,
          0.21036243092575688,
          0.3401414414120562
         ],
         "yaxis": "y"
        }
       ],
       "layout": {
        "height": 300,
        "legend": {
         "title": {
          "text": "Community"
         },
         "tracegroupgap": 0
        },
        "margin": {
         "t": 60
        },
        "template": {
         "data": {
          "bar": [
           {
            "error_x": {
             "color": "#2a3f5f"
            },
            "error_y": {
             "color": "#2a3f5f"
            },
            "marker": {
             "line": {
              "color": "#E5ECF6",
              "width": 0.5
             },
             "pattern": {
              "fillmode": "overlay",
              "size": 10,
              "solidity": 0.2
             }
            },
            "type": "bar"
           }
          ],
          "barpolar": [
           {
            "marker": {
             "line": {
              "color": "#E5ECF6",
              "width": 0.5
             },
             "pattern": {
              "fillmode": "overlay",
              "size": 10,
              "solidity": 0.2
             }
            },
            "type": "barpolar"
           }
          ],
          "carpet": [
           {
            "aaxis": {
             "endlinecolor": "#2a3f5f",
             "gridcolor": "white",
             "linecolor": "white",
             "minorgridcolor": "white",
             "startlinecolor": "#2a3f5f"
            },
            "baxis": {
             "endlinecolor": "#2a3f5f",
             "gridcolor": "white",
             "linecolor": "white",
             "minorgridcolor": "white",
             "startlinecolor": "#2a3f5f"
            },
            "type": "carpet"
           }
          ],
          "choropleth": [
           {
            "colorbar": {
             "outlinewidth": 0,
             "ticks": ""
            },
            "type": "choropleth"
           }
          ],
          "contour": [
           {
            "colorbar": {
             "outlinewidth": 0,
             "ticks": ""
            },
            "colorscale": [
             [
              0,
              "#0d0887"
             ],
             [
              0.1111111111111111,
              "#46039f"
             ],
             [
              0.2222222222222222,
              "#7201a8"
             ],
             [
              0.3333333333333333,
              "#9c179e"
             ],
             [
              0.4444444444444444,
              "#bd3786"
             ],
             [
              0.5555555555555556,
              "#d8576b"
             ],
             [
              0.6666666666666666,
              "#ed7953"
             ],
             [
              0.7777777777777778,
              "#fb9f3a"
             ],
             [
              0.8888888888888888,
              "#fdca26"
             ],
             [
              1,
              "#f0f921"
             ]
            ],
            "type": "contour"
           }
          ],
          "contourcarpet": [
           {
            "colorbar": {
             "outlinewidth": 0,
             "ticks": ""
            },
            "type": "contourcarpet"
           }
          ],
          "heatmap": [
           {
            "colorbar": {
             "outlinewidth": 0,
             "ticks": ""
            },
            "colorscale": [
             [
              0,
              "#0d0887"
             ],
             [
              0.1111111111111111,
              "#46039f"
             ],
             [
              0.2222222222222222,
              "#7201a8"
             ],
             [
              0.3333333333333333,
              "#9c179e"
             ],
             [
              0.4444444444444444,
              "#bd3786"
             ],
             [
              0.5555555555555556,
              "#d8576b"
             ],
             [
              0.6666666666666666,
              "#ed7953"
             ],
             [
              0.7777777777777778,
              "#fb9f3a"
             ],
             [
              0.8888888888888888,
              "#fdca26"
             ],
             [
              1,
              "#f0f921"
             ]
            ],
            "type": "heatmap"
           }
          ],
          "heatmapgl": [
           {
            "colorbar": {
             "outlinewidth": 0,
             "ticks": ""
            },
            "colorscale": [
             [
              0,
              "#0d0887"
             ],
             [
              0.1111111111111111,
              "#46039f"
             ],
             [
              0.2222222222222222,
              "#7201a8"
             ],
             [
              0.3333333333333333,
              "#9c179e"
             ],
             [
              0.4444444444444444,
              "#bd3786"
             ],
             [
              0.5555555555555556,
              "#d8576b"
             ],
             [
              0.6666666666666666,
              "#ed7953"
             ],
             [
              0.7777777777777778,
              "#fb9f3a"
             ],
             [
              0.8888888888888888,
              "#fdca26"
             ],
             [
              1,
              "#f0f921"
             ]
            ],
            "type": "heatmapgl"
           }
          ],
          "histogram": [
           {
            "marker": {
             "pattern": {
              "fillmode": "overlay",
              "size": 10,
              "solidity": 0.2
             }
            },
            "type": "histogram"
           }
          ],
          "histogram2d": [
           {
            "colorbar": {
             "outlinewidth": 0,
             "ticks": ""
            },
            "colorscale": [
             [
              0,
              "#0d0887"
             ],
             [
              0.1111111111111111,
              "#46039f"
             ],
             [
              0.2222222222222222,
              "#7201a8"
             ],
             [
              0.3333333333333333,
              "#9c179e"
             ],
             [
              0.4444444444444444,
              "#bd3786"
             ],
             [
              0.5555555555555556,
              "#d8576b"
             ],
             [
              0.6666666666666666,
              "#ed7953"
             ],
             [
              0.7777777777777778,
              "#fb9f3a"
             ],
             [
              0.8888888888888888,
              "#fdca26"
             ],
             [
              1,
              "#f0f921"
             ]
            ],
            "type": "histogram2d"
           }
          ],
          "histogram2dcontour": [
           {
            "colorbar": {
             "outlinewidth": 0,
             "ticks": ""
            },
            "colorscale": [
             [
              0,
              "#0d0887"
             ],
             [
              0.1111111111111111,
              "#46039f"
             ],
             [
              0.2222222222222222,
              "#7201a8"
             ],
             [
              0.3333333333333333,
              "#9c179e"
             ],
             [
              0.4444444444444444,
              "#bd3786"
             ],
             [
              0.5555555555555556,
              "#d8576b"
             ],
             [
              0.6666666666666666,
              "#ed7953"
             ],
             [
              0.7777777777777778,
              "#fb9f3a"
             ],
             [
              0.8888888888888888,
              "#fdca26"
             ],
             [
              1,
              "#f0f921"
             ]
            ],
            "type": "histogram2dcontour"
           }
          ],
          "mesh3d": [
           {
            "colorbar": {
             "outlinewidth": 0,
             "ticks": ""
            },
            "type": "mesh3d"
           }
          ],
          "parcoords": [
           {
            "line": {
             "colorbar": {
              "outlinewidth": 0,
              "ticks": ""
             }
            },
            "type": "parcoords"
           }
          ],
          "pie": [
           {
            "automargin": true,
            "type": "pie"
           }
          ],
          "scatter": [
           {
            "fillpattern": {
             "fillmode": "overlay",
             "size": 10,
             "solidity": 0.2
            },
            "type": "scatter"
           }
          ],
          "scatter3d": [
           {
            "line": {
             "colorbar": {
              "outlinewidth": 0,
              "ticks": ""
             }
            },
            "marker": {
             "colorbar": {
              "outlinewidth": 0,
              "ticks": ""
             }
            },
            "type": "scatter3d"
           }
          ],
          "scattercarpet": [
           {
            "marker": {
             "colorbar": {
              "outlinewidth": 0,
              "ticks": ""
             }
            },
            "type": "scattercarpet"
           }
          ],
          "scattergeo": [
           {
            "marker": {
             "colorbar": {
              "outlinewidth": 0,
              "ticks": ""
             }
            },
            "type": "scattergeo"
           }
          ],
          "scattergl": [
           {
            "marker": {
             "colorbar": {
              "outlinewidth": 0,
              "ticks": ""
             }
            },
            "type": "scattergl"
           }
          ],
          "scattermapbox": [
           {
            "marker": {
             "colorbar": {
              "outlinewidth": 0,
              "ticks": ""
             }
            },
            "type": "scattermapbox"
           }
          ],
          "scatterpolar": [
           {
            "marker": {
             "colorbar": {
              "outlinewidth": 0,
              "ticks": ""
             }
            },
            "type": "scatterpolar"
           }
          ],
          "scatterpolargl": [
           {
            "marker": {
             "colorbar": {
              "outlinewidth": 0,
              "ticks": ""
             }
            },
            "type": "scatterpolargl"
           }
          ],
          "scatterternary": [
           {
            "marker": {
             "colorbar": {
              "outlinewidth": 0,
              "ticks": ""
             }
            },
            "type": "scatterternary"
           }
          ],
          "surface": [
           {
            "colorbar": {
             "outlinewidth": 0,
             "ticks": ""
            },
            "colorscale": [
             [
              0,
              "#0d0887"
             ],
             [
              0.1111111111111111,
              "#46039f"
             ],
             [
              0.2222222222222222,
              "#7201a8"
             ],
             [
              0.3333333333333333,
              "#9c179e"
             ],
             [
              0.4444444444444444,
              "#bd3786"
             ],
             [
              0.5555555555555556,
              "#d8576b"
             ],
             [
              0.6666666666666666,
              "#ed7953"
             ],
             [
              0.7777777777777778,
              "#fb9f3a"
             ],
             [
              0.8888888888888888,
              "#fdca26"
             ],
             [
              1,
              "#f0f921"
             ]
            ],
            "type": "surface"
           }
          ],
          "table": [
           {
            "cells": {
             "fill": {
              "color": "#EBF0F8"
             },
             "line": {
              "color": "white"
             }
            },
            "header": {
             "fill": {
              "color": "#C8D4E3"
             },
             "line": {
              "color": "white"
             }
            },
            "type": "table"
           }
          ]
         },
         "layout": {
          "annotationdefaults": {
           "arrowcolor": "#2a3f5f",
           "arrowhead": 0,
           "arrowwidth": 1
          },
          "autotypenumbers": "strict",
          "coloraxis": {
           "colorbar": {
            "outlinewidth": 0,
            "ticks": ""
           }
          },
          "colorscale": {
           "diverging": [
            [
             0,
             "#8e0152"
            ],
            [
             0.1,
             "#c51b7d"
            ],
            [
             0.2,
             "#de77ae"
            ],
            [
             0.3,
             "#f1b6da"
            ],
            [
             0.4,
             "#fde0ef"
            ],
            [
             0.5,
             "#f7f7f7"
            ],
            [
             0.6,
             "#e6f5d0"
            ],
            [
             0.7,
             "#b8e186"
            ],
            [
             0.8,
             "#7fbc41"
            ],
            [
             0.9,
             "#4d9221"
            ],
            [
             1,
             "#276419"
            ]
           ],
           "sequential": [
            [
             0,
             "#0d0887"
            ],
            [
             0.1111111111111111,
             "#46039f"
            ],
            [
             0.2222222222222222,
             "#7201a8"
            ],
            [
             0.3333333333333333,
             "#9c179e"
            ],
            [
             0.4444444444444444,
             "#bd3786"
            ],
            [
             0.5555555555555556,
             "#d8576b"
            ],
            [
             0.6666666666666666,
             "#ed7953"
            ],
            [
             0.7777777777777778,
             "#fb9f3a"
            ],
            [
             0.8888888888888888,
             "#fdca26"
            ],
            [
             1,
             "#f0f921"
            ]
           ],
           "sequentialminus": [
            [
             0,
             "#0d0887"
            ],
            [
             0.1111111111111111,
             "#46039f"
            ],
            [
             0.2222222222222222,
             "#7201a8"
            ],
            [
             0.3333333333333333,
             "#9c179e"
            ],
            [
             0.4444444444444444,
             "#bd3786"
            ],
            [
             0.5555555555555556,
             "#d8576b"
            ],
            [
             0.6666666666666666,
             "#ed7953"
            ],
            [
             0.7777777777777778,
             "#fb9f3a"
            ],
            [
             0.8888888888888888,
             "#fdca26"
            ],
            [
             1,
             "#f0f921"
            ]
           ]
          },
          "colorway": [
           "#636efa",
           "#EF553B",
           "#00cc96",
           "#ab63fa",
           "#FFA15A",
           "#19d3f3",
           "#FF6692",
           "#B6E880",
           "#FF97FF",
           "#FECB52"
          ],
          "font": {
           "color": "#2a3f5f"
          },
          "geo": {
           "bgcolor": "white",
           "lakecolor": "white",
           "landcolor": "#E5ECF6",
           "showlakes": true,
           "showland": true,
           "subunitcolor": "white"
          },
          "hoverlabel": {
           "align": "left"
          },
          "hovermode": "closest",
          "mapbox": {
           "style": "light"
          },
          "paper_bgcolor": "white",
          "plot_bgcolor": "#E5ECF6",
          "polar": {
           "angularaxis": {
            "gridcolor": "white",
            "linecolor": "white",
            "ticks": ""
           },
           "bgcolor": "#E5ECF6",
           "radialaxis": {
            "gridcolor": "white",
            "linecolor": "white",
            "ticks": ""
           }
          },
          "scene": {
           "xaxis": {
            "backgroundcolor": "#E5ECF6",
            "gridcolor": "white",
            "gridwidth": 2,
            "linecolor": "white",
            "showbackground": true,
            "ticks": "",
            "zerolinecolor": "white"
           },
           "yaxis": {
            "backgroundcolor": "#E5ECF6",
            "gridcolor": "white",
            "gridwidth": 2,
            "linecolor": "white",
            "showbackground": true,
            "ticks": "",
            "zerolinecolor": "white"
           },
           "zaxis": {
            "backgroundcolor": "#E5ECF6",
            "gridcolor": "white",
            "gridwidth": 2,
            "linecolor": "white",
            "showbackground": true,
            "ticks": "",
            "zerolinecolor": "white"
           }
          },
          "shapedefaults": {
           "line": {
            "color": "#2a3f5f"
           }
          },
          "ternary": {
           "aaxis": {
            "gridcolor": "white",
            "linecolor": "white",
            "ticks": ""
           },
           "baxis": {
            "gridcolor": "white",
            "linecolor": "white",
            "ticks": ""
           },
           "bgcolor": "#E5ECF6",
           "caxis": {
            "gridcolor": "white",
            "linecolor": "white",
            "ticks": ""
           }
          },
          "title": {
           "x": 0.05
          },
          "xaxis": {
           "automargin": true,
           "gridcolor": "white",
           "linecolor": "white",
           "ticks": "",
           "title": {
            "standoff": 15
           },
           "zerolinecolor": "white",
           "zerolinewidth": 2
          },
          "yaxis": {
           "automargin": true,
           "gridcolor": "white",
           "linecolor": "white",
           "ticks": "",
           "title": {
            "standoff": 15
           },
           "zerolinecolor": "white",
           "zerolinewidth": 2
          }
         }
        },
        "width": 600,
        "xaxis": {
         "anchor": "y",
         "domain": [
          0,
          1
         ],
         "range": [
          -0.8608978191466206,
          -0.3750775819388545
         ],
         "title": {
          "text": "Dimension 1"
         }
        },
        "yaxis": {
         "anchor": "x",
         "domain": [
          0,
          1
         ],
         "range": [
          -0.5682486792144923,
          0.5812762821821382
         ],
         "title": {
          "text": "Dimension 2"
         }
        }
       }
      }
     },
     "metadata": {},
     "output_type": "display_data"
    }
   ],
   "source": [
    "title=\"3 Community SBM with n=300 nodes embedded with UASE into d=2 dimensions\"\n",
    "T=1\n",
    "\n",
    "yadf = pd.DataFrame(ya[:, 0:2])\n",
    "yadf.columns = [\"Dimension {}\".format(i + 1) for i in range(yadf.shape[1])]\n",
    "yadf[\"Time\"] = np.repeat([t for t in range(T)], n)\n",
    "yadf[\"Community\"] = list(tau) \n",
    "yadf[\"Community\"] = yadf[\"Community\"].astype(str)\n",
    "pad_x = (max(ya[:, 0]) - min(ya[:, 0])) / 50\n",
    "pad_y = (max(ya[:, 1]) - min(ya[:, 1])) / 50\n",
    "fig = px.scatter(\n",
    "    yadf,\n",
    "    x=\"Dimension 1\",\n",
    "    y=\"Dimension 2\",\n",
    "    color=\"Community\",\n",
    "    animation_frame=\"Time\",\n",
    "    range_x=[min(ya[:, 0]) - pad_x, max(ya[:, 0]) + pad_x],\n",
    "    range_y=[min(ya[:, 1]) - pad_y, max(ya[:, 1]) + pad_y])\n",
    "\n",
    "# fig.update_layout(title=title, title_font_size=14)\n",
    "fig.update_traces(marker=dict(size=5))  # Adjust the size as desired\n",
    "fig.update_layout(\n",
    "    width=600,  # Adjust width as desired\n",
    "    height=300,  # Adjust height as desired\n",
    ")\n",
    "\n",
    "fig.write_image(\"3_Community_SBM_n300_UASE_d2.png\")\n",
    "\n",
    "fig.show()"
   ]
  },
  {
   "cell_type": "code",
   "execution_count": 8,
   "metadata": {},
   "outputs": [
    {
     "data": {
      "image/png": "[encoded data removed]",
      "text/plain": [
       "<Figure size 432x288 with 1 Axes>"
      ]
     },
     "metadata": {
      "needs_background": "light"
     },
     "output_type": "display_data"
    },
    {
     "data": {
      "text/plain": [
       "0.02"
      ]
     },
     "execution_count": 8,
     "metadata": {},
     "output_type": "execute_result"
    }
   ],
   "source": [
    "A_obs = As.astype(float)\n",
    "p_vals, A_boots = test_bootstrap(A_obs, K, B=100,n_neighbors=5)\n",
    "A_est = A_boots[0]\n",
    "\n",
    "plot_power(p_vals, plot=True)"
   ]
  },
  {
   "cell_type": "code",
   "execution_count": 9,
   "metadata": {},
   "outputs": [
    {
     "data": {
      "image/png": "[encoded data removed]",
      "text/plain": [
       "<Figure size 432x288 with 1 Axes>"
      ]
     },
     "metadata": {
      "needs_background": "light"
     },
     "output_type": "display_data"
    }
   ],
   "source": [
    "p_hat_list = p_vals\n",
    "roc = []\n",
    "alphas = []\n",
    "for alpha in np.linspace(0, 1, 100):\n",
    "    alphas.append(alpha)\n",
    "    num_below_alpha = sum(p_hat_list < alpha)\n",
    "    roc_point = num_below_alpha / len(p_hat_list)\n",
    "    roc.append(roc_point)\n",
    "\n",
    "# Get the power at the 5% significance level\n",
    "power_significance = 0.05\n",
    "power_idx = alphas.index(min(alphas, key=lambda x: abs(x - power_significance)))\n",
    "power = roc[power_idx]\n",
    "\n",
    "\n",
    "plt.plot(np.linspace(0, 1, 2), np.linspace(0, 1, 2), linestyle=\"--\", c=\"grey\")\n",
    "_ = plt.plot(alphas, roc)\n",
    "\n",
    "# Set title and aspect ratio\n",
    "plt.title(\"ROC Curve\")\n",
    "plt.gca().set_aspect('equal', adjustable='box')\n",
    "\n",
    "plt.savefig(\"3_Community_SBM_n300_UASE_d2_curve.png\")\n",
    "\n",
    "plt.show()"
   ]
  },
  {
   "cell_type": "code",
   "execution_count": 10,
   "metadata": {},
   "outputs": [
    {
     "data": {
      "text/plain": [
       "<matplotlib.legend.Legend at 0x7f35da4fab50>"
      ]
     },
     "execution_count": 10,
     "metadata": {},
     "output_type": "execute_result"
    },
    {
     "data": {
      "image/png": "[encoded data removed]",
      "text/plain": [
       "<Figure size 432x288 with 1 Axes>"
      ]
     },
     "metadata": {
      "needs_background": "light"
     },
     "output_type": "display_data"
    }
   ],
   "source": [
    "yhat_est = UASE([A_obs,A_est], d=K, flat=False)\n",
    "\n",
    "plt.plot(yhat_est[0, :, 0], yhat_est[0, :, 1], 'o', label=\"Observed\", alpha=0.5)\n",
    "plt.plot(yhat_est[1, :, 0], yhat_est[1, :, 1], 'o', label=\"Bootstrap\", alpha=0.5)\n",
    "\n",
    "plt.legend()"
   ]
  },
  {
   "cell_type": "code",
   "execution_count": 11,
   "metadata": {},
   "outputs": [
    {
     "data": {
      "text/plain": [
       "<matplotlib.colorbar.Colorbar at 0x7f35da78c7c0>"
      ]
     },
     "execution_count": 11,
     "metadata": {},
     "output_type": "execute_result"
    },
    {
     "data": {
      "image/png": "[encoded data removed]",
      "text/plain": [
       "<Figure size 1152x360 with 5 Axes>"
      ]
     },
     "metadata": {
      "needs_background": "light"
     },
     "output_type": "display_data"
    }
   ],
   "source": [
    "fig, (ax0, ax1, ax2, ax3) = plt.subplots(1,4, figsize=(16,5))\n",
    "\n",
    "# fig.suptitle('Heatmaps of the `A` matrices which have SBM format of 2 communities', fontsize=12)\n",
    "\n",
    "ax0.set_title('obs')\n",
    "ax0.matshow(A_obs)\n",
    "ax1.set_title('B=0')\n",
    "ax1.matshow(A_boots[0])\n",
    "ax2.set_title('B=1')\n",
    "ax2.matshow(A_boots[1])\n",
    "ax3.set_title('B=2')\n",
    "ax3.matshow(A_boots[2])\n",
    "\n",
    "# add the colourbar\n",
    "fig.colorbar(cax, ax=[ax0, ax1, ax2, ax3], orientation='horizontal')"
   ]
  },
  {
   "cell_type": "code",
   "execution_count": 12,
   "metadata": {},
   "outputs": [
    {
     "data": {
      "image/png": "[encoded data removed]",
      "text/plain": [
       "<Figure size 936x360 with 4 Axes>"
      ]
     },
     "metadata": {
      "needs_background": "light"
     },
     "output_type": "display_data"
    }
   ],
   "source": [
    "fig, (ax0, ax1, ax2) = plt.subplots(1,3, figsize=(13,5))\n",
    "\n",
    "# fig.suptitle('Heatmaps of the `A` matrices which have SBM format of 2 communities', fontsize=12)\n",
    "\n",
    "ax0.set_title('obs')\n",
    "ax0.matshow(A_obs)\n",
    "ax1.set_title('b=1')\n",
    "ax1.matshow(A_boots[0])\n",
    "ax2.set_title('b=2')\n",
    "ax2.matshow(A_boots[1])\n",
    "\n",
    "# add the colourbar\n",
    "fig.colorbar(cax, ax=[ax0, ax1, ax2], orientation='horizontal')\n",
    "\n",
    "fig.savefig(\"3_Community_SBM_n300_UASE_d2_heatmaps.png\")"
   ]
  },
  {
   "cell_type": "code",
   "execution_count": null,
   "metadata": {},
   "outputs": [],
   "source": []
  },
  {
   "cell_type": "markdown",
   "metadata": {},
   "source": [
    "Mixed Membership model"
   ]
  },
  {
   "cell_type": "code",
   "execution_count": 13,
   "metadata": {},
   "outputs": [
    {
     "ename": "ValueError",
     "evalue": "too many values to unpack (expected 3)",
     "output_type": "error",
     "traceback": [
      "\u001b[0;31m---------------------------------------------------------------------------\u001b[0m",
      "\u001b[0;31mValueError\u001b[0m                                Traceback (most recent call last)",
      "\u001b[0;32m/tmp/ipykernel_85999/2018987471.py\u001b[0m in \u001b[0;36m<module>\u001b[0;34m\u001b[0m\n\u001b[1;32m      6\u001b[0m \u001b[0;34m\u001b[0m\u001b[0m\n\u001b[1;32m      7\u001b[0m \u001b[0;31m# use our new function to make a MMSBM\u001b[0m\u001b[0;34m\u001b[0m\u001b[0;34m\u001b[0m\u001b[0m\n\u001b[0;32m----> 8\u001b[0;31m \u001b[0mA\u001b[0m\u001b[0;34m,\u001b[0m \u001b[0mlargest_prob\u001b[0m\u001b[0;34m,\u001b[0m \u001b[0mP\u001b[0m \u001b[0;34m=\u001b[0m \u001b[0mmake_MMSBM\u001b[0m\u001b[0;34m(\u001b[0m\u001b[0mn\u001b[0m\u001b[0;34m,\u001b[0m \u001b[0mK\u001b[0m\u001b[0;34m)\u001b[0m\u001b[0;34m\u001b[0m\u001b[0;34m\u001b[0m\u001b[0m\n\u001b[0m\u001b[1;32m      9\u001b[0m \u001b[0;34m\u001b[0m\u001b[0m\n\u001b[1;32m     10\u001b[0m \u001b[0mA\u001b[0m \u001b[0;34m=\u001b[0m \u001b[0mA\u001b[0m\u001b[0;34m.\u001b[0m\u001b[0mastype\u001b[0m\u001b[0;34m(\u001b[0m\u001b[0mfloat\u001b[0m\u001b[0;34m)\u001b[0m\u001b[0;34m\u001b[0m\u001b[0;34m\u001b[0m\u001b[0m\n",
      "\u001b[0;31mValueError\u001b[0m: too many values to unpack (expected 3)"
     ]
    }
   ],
   "source": [
    "# Code up a mixed membership model \n",
    "random.seed(1)\n",
    "\n",
    "K=3\n",
    "n= 300\n",
    "\n",
    "# use our new function to make a MMSBM\n",
    "A, largest_prob, P = make_MMSBM(n, K)\n",
    "\n",
    "A = A.astype(float)\n",
    "ya = UASE([A], 2)\n",
    "plot_embedding(ya, n, 1, largest_prob)"
   ]
  },
  {
   "cell_type": "markdown",
   "metadata": {},
   "source": [
    "This isn't actually community, it is just the one probabilistically they are most likely to belong to"
   ]
  },
  {
   "cell_type": "code",
   "execution_count": null,
   "metadata": {},
   "outputs": [
    {
     "data": {
      "image/png": "[encoded data removed]",
      "text/plain": [
       "<Figure size 432x288 with 1 Axes>"
      ]
     },
     "metadata": {
      "needs_background": "light"
     },
     "output_type": "display_data"
    },
    {
     "data": {
      "text/plain": [
       "0.0"
      ]
     },
     "execution_count": 72,
     "metadata": {},
     "output_type": "execute_result"
    }
   ],
   "source": [
    "A_obs = A.copy()\n",
    "p_vals, A_ests = test_bootstrap(A_obs, K, B=100,n_neighbors=5)\n",
    "A_est = A_ests[0]\n",
    "\n",
    "plot_power(p_vals, plot=True)"
   ]
  },
  {
   "cell_type": "code",
   "execution_count": null,
   "metadata": {},
   "outputs": [
    {
     "data": {
      "text/plain": [
       "<matplotlib.legend.Legend at 0x7f94803e7730>"
      ]
     },
     "execution_count": 73,
     "metadata": {},
     "output_type": "execute_result"
    },
    {
     "data": {
      "image/png": "[encoded data removed]",
      "text/plain": [
       "<Figure size 432x288 with 1 Axes>"
      ]
     },
     "metadata": {
      "needs_background": "light"
     },
     "output_type": "display_data"
    }
   ],
   "source": [
    "A_res = make_inhomogeneous_rg(P)\n",
    "\n",
    "yhat_est = UASE([A_obs,A_est, A_res], d=K, flat=False)\n",
    "\n",
    "plt.plot(yhat_est[0, :, 0], yhat_est[0, :, 1], 'o', label=\"Observed\", alpha=1)\n",
    "plt.plot(yhat_est[1, :, 0], yhat_est[1, :, 1], 'o', label=\"Bootstrap\", alpha=1)\n",
    "# plt.plot(yhat_est[2, :, 0], yhat_est[2, :, 1], 'o', label=\"Resampled\", alpha=1)\n",
    "\n",
    "plt.legend()"
   ]
  },
  {
   "cell_type": "markdown",
   "metadata": {},
   "source": [
    "### Use the test with samples drawn from the same distribution"
   ]
  },
  {
   "cell_type": "code",
   "execution_count": 20,
   "metadata": {},
   "outputs": [],
   "source": [
    "# Generate more samples from the same model with the same parameters (P matrix)\n",
    "M=100\n",
    "A_true_replicates = []\n",
    "\n",
    "for m in range(M):\n",
    "    # Generate random graph from the P matrix\n",
    "    A_t = np.random.binomial(n=1, p=P_t)\n",
    "    # turn to integer from float\n",
    "    A_t = A_t.astype(int)\n",
    "    As = A_t\n",
    "\n",
    "    As = As.astype(int)\n",
    "\n",
    "    A_true_replicates.append(As)"
   ]
  },
  {
   "cell_type": "code",
   "execution_count": 21,
   "metadata": {},
   "outputs": [],
   "source": [
    "# Run the test_temporal_displacement_two_times\n",
    "d=2\n",
    "\n",
    "p_vals_true_replicates = []\n",
    "\n",
    "for m in range(M):\n",
    "    yhat_est = UASE([A_obs,A_true_replicates[m]], d=d)\n",
    "    p_val = test_temporal_displacement_two_times(yhat_est, n)\n",
    "    p_vals_true_replicates.append(p_val)"
   ]
  },
  {
   "cell_type": "code",
   "execution_count": 22,
   "metadata": {},
   "outputs": [
    {
     "data": {
      "image/png": "[encoded data removed]",
      "text/plain": [
       "<Figure size 432x288 with 1 Axes>"
      ]
     },
     "metadata": {
      "needs_background": "light"
     },
     "output_type": "display_data"
    },
    {
     "data": {
      "text/plain": [
       "0.09"
      ]
     },
     "execution_count": 22,
     "metadata": {},
     "output_type": "execute_result"
    }
   ],
   "source": [
    "plot_power(p_vals_true_replicates, plot=True)"
   ]
  },
  {
   "cell_type": "code",
   "execution_count": 23,
   "metadata": {},
   "outputs": [
    {
     "data": {
      "image/png": "[encoded data removed]",
      "text/plain": [
       "<Figure size 432x288 with 1 Axes>"
      ]
     },
     "metadata": {
      "needs_background": "light"
     },
     "output_type": "display_data"
    }
   ],
   "source": [
    "p_hat_list = p_vals_true_replicates\n",
    "roc = []\n",
    "alphas = []\n",
    "for alpha in np.linspace(0, 1, 100):\n",
    "    alphas.append(alpha)\n",
    "    num_below_alpha = sum(p_hat_list < alpha)\n",
    "    roc_point = num_below_alpha / len(p_hat_list)\n",
    "    roc.append(roc_point)\n",
    "\n",
    "# Get the power at the 5% significance level\n",
    "power_significance = 0.05\n",
    "power_idx = alphas.index(min(alphas, key=lambda x: abs(x - power_significance)))\n",
    "power = roc[power_idx]\n",
    "\n",
    "\n",
    "plt.plot(np.linspace(0, 1, 2), np.linspace(0, 1, 2), linestyle=\"--\", c=\"grey\")\n",
    "_ = plt.plot(alphas, roc)\n",
    "\n",
    "# Set title and aspect ratio\n",
    "plt.title(\"ROC Curve\")\n",
    "plt.gca().set_aspect('equal', adjustable='box')\n",
    "\n",
    "# plt.savefig(\"3_Community_SBM_n300_UASE_d2_curve.png\")\n",
    "\n",
    "plt.show()"
   ]
  }
 ],
 "metadata": {
  "kernelspec": {
   "display_name": "base",
   "language": "python",
   "name": "python3"
  },
  "language_info": {
   "codemirror_mode": {
    "name": "ipython",
    "version": 3
   },
   "file_extension": ".py",
   "mimetype": "text/x-python",
   "name": "python",
   "nbconvert_exporter": "python",
   "pygments_lexer": "ipython3",
   "version": "3.9.7"
  }
 },
 "nbformat": 4,
 "nbformat_minor": 2
}
