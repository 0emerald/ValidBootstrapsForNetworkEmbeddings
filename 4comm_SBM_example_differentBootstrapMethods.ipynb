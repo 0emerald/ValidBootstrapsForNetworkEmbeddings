{
 "cells": [
  {
   "cell_type": "code",
   "execution_count": 1,
   "metadata": {},
   "outputs": [
    {
     "name": "stderr",
     "output_type": "stream",
     "text": [
      "/home/uj21900/anaconda3/lib/python3.9/site-packages/pandas/core/computation/expressions.py:21: UserWarning: Pandas requires version '2.8.4' or newer of 'numexpr' (version '2.7.3' currently installed).\n",
      "  from pandas.core.computation.check import NUMEXPR_INSTALLED\n",
      "/home/uj21900/anaconda3/lib/python3.9/site-packages/pandas/core/arrays/masked.py:60: UserWarning: Pandas requires version '1.3.6' or newer of 'bottleneck' (version '1.3.2' currently installed).\n",
      "  from pandas.core import (\n"
     ]
    }
   ],
   "source": [
    "import numpy as np\n",
    "import matplotlib.pyplot as plt\n",
    "import pandas as pd\n",
    "from embedding_functions import *\n",
    "from experiment_setup import *\n",
    "from functions_for_bootstrap import *\n",
    "import numba as nb\n",
    "from scipy.stats import wasserstein_distance\n",
    "from tqdm import tqdm\n",
    "import random\n",
    "from matplotlib.patches import Ellipse"
   ]
  },
  {
   "cell_type": "markdown",
   "metadata": {},
   "source": [
    "### Use the test with samples drawn from the same distribution - compared to one bootstrap from itself each time"
   ]
  },
  {
   "cell_type": "code",
   "execution_count": 2,
   "metadata": {},
   "outputs": [],
   "source": [
    "# Network generation --------------------------------------------------------\n",
    "random.seed(10)\n",
    "np.random.seed(10)\n",
    "\n",
    "n = 1000  # number of nodes\n",
    "K = 4   # number of node communities\n",
    "\n",
    "# Community labels\n",
    "tau = np.random.choice(K, n) # order tau would make the nice blocks\n",
    "tau = np.sort(tau)\n",
    "# print(tau)\n",
    "\n",
    "# Generate stochastic block model (SBM) B matrix\n",
    "\"\"\"Just one observation is required\"\"\"\n",
    "B_list = []\n",
    "\n",
    "B_list.append(np.array([[0.8, 0.1, 0.5, 0.3],\n",
    "                        [0.4, 0.6, 0.9, 0.2],\n",
    "                        [0.7, 0.2, 0.4, 0.8],\n",
    "                        [0.3, 0.5, 0.6, 0.1]]))"
   ]
  },
  {
   "cell_type": "code",
   "execution_count": 3,
   "metadata": {},
   "outputs": [],
   "source": [
    "# Generate adjacency matrix from the B matrix\n",
    "As = np.zeros((n, n))\n",
    "P_list = []"
   ]
  },
  {
   "cell_type": "code",
   "execution_count": 4,
   "metadata": {},
   "outputs": [],
   "source": [
    "random.seed(100)\n",
    "np.random.seed(100)\n",
    "\n",
    "# Get probability matrix from B\n",
    "P_t = np.column_stack(\n",
    "    [B_list[0][tau, tau[i]] for i in range(n)])\n",
    "P_list.append(P_t)\n",
    "\n",
    "# Generate random graph from the P matrix\n",
    "A_t = np.random.binomial(n=1, p=P_t)\n",
    "# turn to integer from float\n",
    "A_t = A_t.astype(int)\n",
    "As = A_t\n",
    "\n",
    "As = As.astype(int)\n",
    "P = np.column_stack(P_list)"
   ]
  },
  {
   "cell_type": "code",
   "execution_count": 5,
   "metadata": {},
   "outputs": [],
   "source": [
    "# Generate more samples from the same model with the same parameters (P matrix)\n",
    "random.seed(100)\n",
    "np.random.seed(100)\n",
    "\n",
    "M=300\n",
    "A_true_draws = []\n",
    "\n",
    "for m in range(M):\n",
    "    # Generate random graph from the P matrix\n",
    "    A_t = np.random.binomial(n=1, p=P_t)\n",
    "    # turn to integer from float\n",
    "    A_t = A_t.astype(float)\n",
    "    As = A_t\n",
    "\n",
    "    As = As.astype(float)\n",
    "\n",
    "    A_true_draws.append(As)"
   ]
  },
  {
   "cell_type": "code",
   "execution_count": 6,
   "metadata": {},
   "outputs": [],
   "source": [
    "d=4"
   ]
  },
  {
   "cell_type": "markdown",
   "metadata": {},
   "source": [
    "### 1 kNN bootstrap for each draw from the model, $k=5$"
   ]
  },
  {
   "cell_type": "code",
   "execution_count": 7,
   "metadata": {},
   "outputs": [],
   "source": [
    "# for each of the true draws from the model, create a bootstrap and perform a test with Q permutations\n",
    "random.seed(100)\n",
    "np.random.seed(100)\n",
    "\n",
    "p_vals = []\n",
    "A_boots_list_k5 = []\n",
    "\n",
    "for m in A_true_draws:\n",
    "    p_val, A_boots = create_single_kNN_bootstrap(m, d=d, Q=1000, n_neighbors=5)\n",
    "    p_vals.append(p_val)\n",
    "    A_boots_list_k5.append(A_boots)"
   ]
  },
  {
   "cell_type": "code",
   "execution_count": 8,
   "metadata": {},
   "outputs": [
    {
     "data": {
      "image/png": "[encoded data removed]",
      "text/plain": [
       "<Figure size 432x288 with 1 Axes>"
      ]
     },
     "metadata": {
      "needs_background": "light"
     },
     "output_type": "display_data"
    }
   ],
   "source": [
    "p_hat_list = p_vals\n",
    "roc = []\n",
    "alphas = []\n",
    "for alpha in np.linspace(0, 1, 100):\n",
    "    alphas.append(alpha)\n",
    "    num_below_alpha = sum(p_hat_list < alpha)\n",
    "    roc_point = num_below_alpha / len(p_hat_list)\n",
    "    roc.append(roc_point)\n",
    "\n",
    "# Get the power at the 5% significance level\n",
    "power_significance = 0.05\n",
    "power_idx = alphas.index(min(alphas, key=lambda x: abs(x - power_significance)))\n",
    "power = roc[power_idx]\n",
    "\n",
    "\n",
    "plt.plot(np.linspace(0, 1, 2), np.linspace(0, 1, 2), linestyle=\"--\", c=\"grey\")\n",
    "_ = plt.plot(alphas, roc, color='#228B22')\n",
    "\n",
    "# Set title and aspect ratio\n",
    "plt.title(\"ROC Curve for 4 Community \\n SBM with n=1000 nodes, k=5\")\n",
    "plt.gca().set_aspect('equal', adjustable='box')\n",
    "\n",
    "plt.savefig(\"4commSBM_knnBootstrap_k5.png\")\n",
    "\n",
    "plt.show()"
   ]
  },
  {
   "cell_type": "markdown",
   "metadata": {},
   "source": [
    "### 1 kNN bootstrap for each draw from the model, $k=25$"
   ]
  },
  {
   "cell_type": "code",
   "execution_count": 9,
   "metadata": {},
   "outputs": [],
   "source": [
    "# for each of the true draws from the model, create a bootstrap and perform a test with Q permutations\n",
    "random.seed(100)\n",
    "np.random.seed(100)\n",
    "\n",
    "p_vals = []\n",
    "A_boots_list_k25 = []\n",
    "\n",
    "for m in A_true_draws:\n",
    "    p_val, A_boots = create_single_kNN_bootstrap(m, d=d, Q=1000, n_neighbors=25)\n",
    "    p_vals.append(p_val)\n",
    "    A_boots_list_k25.append(A_boots)"
   ]
  },
  {
   "cell_type": "code",
   "execution_count": 10,
   "metadata": {},
   "outputs": [
    {
     "data": {
      "image/png": "[encoded data removed]",
      "text/plain": [
       "<Figure size 432x288 with 1 Axes>"
      ]
     },
     "metadata": {
      "needs_background": "light"
     },
     "output_type": "display_data"
    }
   ],
   "source": [
    "p_hat_list = p_vals\n",
    "roc = []\n",
    "alphas = []\n",
    "for alpha in np.linspace(0, 1, 100):\n",
    "    alphas.append(alpha)\n",
    "    num_below_alpha = sum(p_hat_list < alpha)\n",
    "    roc_point = num_below_alpha / len(p_hat_list)\n",
    "    roc.append(roc_point)\n",
    "\n",
    "# Get the power at the 5% significance level\n",
    "power_significance = 0.05\n",
    "power_idx = alphas.index(min(alphas, key=lambda x: abs(x - power_significance)))\n",
    "power = roc[power_idx]\n",
    "\n",
    "\n",
    "plt.plot(np.linspace(0, 1, 2), np.linspace(0, 1, 2), linestyle=\"--\", c=\"grey\")\n",
    "_ = plt.plot(alphas, roc, color='#228B22')\n",
    "\n",
    "# Set title and aspect ratio\n",
    "plt.title(\"ROC Curve for 4 Community \\n SBM with n=1000 nodes, k=25\")\n",
    "plt.gca().set_aspect('equal', adjustable='box')\n",
    "\n",
    "plt.savefig(\"4commSBM_knnBootstrap_k25.png\", facecolor=\"white\")\n",
    "\n",
    "plt.show()"
   ]
  },
  {
   "cell_type": "markdown",
   "metadata": {},
   "source": [
    "### 1 kNN bootstrap for each draw from the model, $k=225$"
   ]
  },
  {
   "cell_type": "code",
   "execution_count": 17,
   "metadata": {},
   "outputs": [],
   "source": [
    "# for each of the true draws from the model, create a bootstrap and perform a test with Q permutations\n",
    "random.seed(100)\n",
    "np.random.seed(100)\n",
    "\n",
    "p_vals = []\n",
    "A_boots_list = []\n",
    "\n",
    "for m in A_true_draws:\n",
    "    p_val, A_boots = create_single_kNN_bootstrap(m, d=d, Q=1000, n_neighbors=275)\n",
    "    p_vals.append(p_val)\n",
    "    A_boots_list.append(A_boots)"
   ]
  },
  {
   "cell_type": "code",
   "execution_count": 18,
   "metadata": {},
   "outputs": [
    {
     "data": {
      "image/png": "[encoded data removed]",
      "text/plain": [
       "<Figure size 432x288 with 1 Axes>"
      ]
     },
     "metadata": {
      "needs_background": "light"
     },
     "output_type": "display_data"
    }
   ],
   "source": [
    "p_hat_list = p_vals\n",
    "roc = []\n",
    "alphas = []\n",
    "for alpha in np.linspace(0, 1, 100):\n",
    "    alphas.append(alpha)\n",
    "    num_below_alpha = sum(p_hat_list < alpha)\n",
    "    roc_point = num_below_alpha / len(p_hat_list)\n",
    "    roc.append(roc_point)\n",
    "\n",
    "# Get the power at the 5% significance level\n",
    "power_significance = 0.05\n",
    "power_idx = alphas.index(min(alphas, key=lambda x: abs(x - power_significance)))\n",
    "power = roc[power_idx]\n",
    "\n",
    "\n",
    "plt.plot(np.linspace(0, 1, 2), np.linspace(0, 1, 2), linestyle=\"--\", c=\"grey\")\n",
    "_ = plt.plot(alphas, roc, color='#228B22')\n",
    "\n",
    "# Set title and aspect ratio\n",
    "plt.title(\"ROC Curve for 4 Community \\n SBM with n=1000 nodes, k=275\")\n",
    "plt.gca().set_aspect('equal', adjustable='box')\n",
    "\n",
    "plt.savefig(\"4commSBM_knnBootstrap_k275.png\", facecolor=\"white\")\n",
    "\n",
    "plt.show()"
   ]
  },
  {
   "cell_type": "markdown",
   "metadata": {},
   "source": [
    "### $XX^T$ bootstrap for each draw from the model"
   ]
  },
  {
   "cell_type": "code",
   "execution_count": 13,
   "metadata": {},
   "outputs": [
    {
     "name": "stderr",
     "output_type": "stream",
     "text": [
      "/home/uj21900/Documents/ResamplingAdjacencyMatrices/functions_for_bootstrap.py:108: UserWarning: P_hat contains values outside of [0,1]. The values outside this range will be clipped to lie in the range.\n",
      "  warnings.warn(\"P_hat contains values outside of [0,1]. The values outside this range will be clipped to lie in the range.\")\n"
     ]
    }
   ],
   "source": [
    "# for each of the true draws from the model, create a bootstrap and perform a test with Q permutations\n",
    "random.seed(100)\n",
    "np.random.seed(100)\n",
    "\n",
    "p_vals = []\n",
    "A_boots_list = []\n",
    "\n",
    "for m in A_true_draws:\n",
    "    p_val, A_boots = create_single_parametric_bootstrap_cropPto0_1range(m,d=d,Q=1000)\n",
    "    p_vals.append(p_val)\n",
    "    A_boots_list.append(A_boots)"
   ]
  },
  {
   "cell_type": "code",
   "execution_count": 14,
   "metadata": {},
   "outputs": [
    {
     "data": {
      "image/png": "[encoded data removed]",
      "text/plain": [
       "<Figure size 432x288 with 1 Axes>"
      ]
     },
     "metadata": {
      "needs_background": "light"
     },
     "output_type": "display_data"
    }
   ],
   "source": [
    "p_hat_list = p_vals\n",
    "roc = []\n",
    "alphas = []\n",
    "for alpha in np.linspace(0, 1, 100):\n",
    "    alphas.append(alpha)\n",
    "    num_below_alpha = sum(p_hat_list < alpha)\n",
    "    roc_point = num_below_alpha / len(p_hat_list)\n",
    "    roc.append(roc_point)\n",
    "\n",
    "# Get the power at the 5% significance level\n",
    "power_significance = 0.05\n",
    "power_idx = alphas.index(min(alphas, key=lambda x: abs(x - power_significance)))\n",
    "power = roc[power_idx]\n",
    "\n",
    "\n",
    "plt.plot(np.linspace(0, 1, 2), np.linspace(0, 1, 2), linestyle=\"--\", c=\"grey\")\n",
    "_ = plt.plot(alphas, roc, color='#228B22')\n",
    "\n",
    "# Set title and aspect ratio\n",
    "plt.title(\"ROC Curve for 4 Community \\n SBM with n=1000 nodes, $XX^T$\")\n",
    "plt.gca().set_aspect('equal', adjustable='box')\n",
    "\n",
    "plt.savefig(\"4commSBM_XXTbootstrap.png\")\n",
    "plt.show()"
   ]
  },
  {
   "cell_type": "markdown",
   "metadata": {},
   "source": [
    "### Sample edgelist with replacement bootstrap for each draw from the model\n",
    "\n",
    "This is essentially just dropping some edges, as any edge selected more than once is set to a 1 as this is a binary setting"
   ]
  },
  {
   "cell_type": "code",
   "execution_count": 15,
   "metadata": {},
   "outputs": [],
   "source": [
    "# for each of the true draws from the model, create a bootstrap and perform a test with Q permutations\n",
    "random.seed(100)\n",
    "np.random.seed(100)\n",
    "\n",
    "p_vals = []\n",
    "A_boots_list = []\n",
    "\n",
    "Q=1000 # number of sims to do in the paired exch test\n",
    "\n",
    "for m in A_true_draws:\n",
    "    A_boots = edgelist_sample_with_replacement(m) \n",
    "    # embed the observed and bootstrapped matrix together\n",
    "    yhat_est = UASE([m, A_boots], d=d)\n",
    "    # do a test between the obs and the bootstrap, get a p-value ---------------------------------\n",
    "    p_val = test_temporal_displacement_two_times(yhat_est, n=m.shape[0], n_sim=Q) \n",
    "\n",
    "    p_vals.append(p_val)\n",
    "    A_boots_list.append(A_boots[0])"
   ]
  },
  {
   "cell_type": "code",
   "execution_count": 16,
   "metadata": {},
   "outputs": [
    {
     "data": {
      "image/png": "[encoded data removed]",
      "text/plain": [
       "<Figure size 432x288 with 1 Axes>"
      ]
     },
     "metadata": {
      "needs_background": "light"
     },
     "output_type": "display_data"
    }
   ],
   "source": [
    "p_hat_list = p_vals\n",
    "roc = []\n",
    "alphas = []\n",
    "for alpha in np.linspace(0, 1, 100):\n",
    "    alphas.append(alpha)\n",
    "    num_below_alpha = sum(p_hat_list < alpha)\n",
    "    roc_point = num_below_alpha / len(p_hat_list)\n",
    "    roc.append(roc_point)\n",
    "\n",
    "# Get the power at the 5% significance level\n",
    "power_significance = 0.05\n",
    "power_idx = alphas.index(min(alphas, key=lambda x: abs(x - power_significance)))\n",
    "power = roc[power_idx]\n",
    "\n",
    "\n",
    "plt.plot(np.linspace(0, 1, 2), np.linspace(0, 1, 2), linestyle=\"--\", c=\"grey\")\n",
    "_ = plt.plot(alphas, roc, color='#228B22')\n",
    "\n",
    "# Set title and aspect ratio\n",
    "plt.title(\"ROC Curve for 4 Community \\n SBM with n=1000 nodes,\\n edgelist sample with replacement\")\n",
    "plt.gca().set_aspect('equal', adjustable='box')\n",
    "\n",
    "plt.savefig(\"4commSBM_edgelistSampleRepBootstrap.png\")\n",
    "\n",
    "\n",
    "plt.show()"
   ]
  },
  {
   "cell_type": "code",
   "execution_count": null,
   "metadata": {},
   "outputs": [],
   "source": []
  }
 ],
 "metadata": {
  "kernelspec": {
   "display_name": "base",
   "language": "python",
   "name": "python3"
  },
  "language_info": {
   "codemirror_mode": {
    "name": "ipython",
    "version": 3
   },
   "file_extension": ".py",
   "mimetype": "text/x-python",
   "name": "python",
   "nbconvert_exporter": "python",
   "pygments_lexer": "ipython3",
   "version": "3.9.7"
  }
 },
 "nbformat": 4,
 "nbformat_minor": 2
}
