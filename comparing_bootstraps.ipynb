{
 "cells": [
  {
   "cell_type": "code",
   "execution_count": 22,
   "metadata": {},
   "outputs": [],
   "source": [
    "import numpy as np\n",
    "import matplotlib.pyplot as plt\n",
    "import pandas as pd\n",
    "from embedding_functions import *\n",
    "from experiment_setup import *\n",
    "from functions_for_bootstrap import *\n",
    "import numba as nb\n",
    "from scipy.stats import wasserstein_distance\n",
    "from tqdm import tqdm"
   ]
  },
  {
   "cell_type": "code",
   "execution_count": 2,
   "metadata": {},
   "outputs": [],
   "source": [
    "n = 500\n",
    "T = 1\n",
    "d = 2\n",
    "B = 100  # Number of p-values to compute\n",
    "\n",
    "# Generate an SBM\n",
    "As, tau,P_t = make_iid(n, T, iid_prob=0.9)\n",
    "A_obs = As[0]"
   ]
  },
  {
   "cell_type": "code",
   "execution_count": 6,
   "metadata": {},
   "outputs": [
    {
     "name": "stderr",
     "output_type": "stream",
     "text": [
      "/home/uj21900/Documents/ResamplingAdjacencyMatrices/functions_for_bootstrap.py:59: UserWarning: P_hat contains values outside of [0,1]. Consider increasing n.\n",
      "  warnings.warn(\"P_hat contains values outside of [0,1]. Consider increasing n.\")\n"
     ]
    }
   ],
   "source": [
    "# Bootstrap\n",
    "A_boots = parametric_bootstrap(A_obs, d=d, B=B)\n",
    "\n",
    "# Testing\n",
    "p_vals = []\n",
    "for i in range(B):\n",
    "    A_boots_sample = A_boots[i, :, :]\n",
    "\n",
    "    # Embed the observed and bootstrapped graphs\n",
    "    Y_unf = UASE([A_obs, A_boots_sample], d=d)\n",
    "\n",
    "    # Compute the p-value\n",
    "    p_val = test_temporal_displacement_two_times(Y_unf, n)\n",
    "    p_vals.append(p_val)"
   ]
  },
  {
   "cell_type": "code",
   "execution_count": 7,
   "metadata": {},
   "outputs": [
    {
     "data": {
      "text/plain": [
       "0.0"
      ]
     },
     "execution_count": 7,
     "metadata": {},
     "output_type": "execute_result"
    }
   ],
   "source": [
    "plot_power(p_vals, plot=False)"
   ]
  },
  {
   "cell_type": "code",
   "execution_count": 8,
   "metadata": {},
   "outputs": [
    {
     "data": {
      "image/png": "[encoded data removed]",
      "text/plain": [
       "<Figure size 432x288 with 1 Axes>"
      ]
     },
     "metadata": {
      "needs_background": "light"
     },
     "output_type": "display_data"
    },
    {
     "data": {
      "text/plain": [
       "0.0"
      ]
     },
     "execution_count": 8,
     "metadata": {},
     "output_type": "execute_result"
    }
   ],
   "source": [
    "# Plot the cummulative p-value distribution\n",
    "# If the bootstrap is good, it should be approximately uniform\n",
    "# If below uniform, the bootstrap is conservative (invalid variance estimates?)\n",
    "# If above uniform, the bootstrap is invalid (conservative variance estimates?)\n",
    "plot_power(p_vals)"
   ]
  },
  {
   "cell_type": "markdown",
   "metadata": {},
   "source": [
    "Try row sampling with replacement to get \"bootstrap\" matrices"
   ]
  },
  {
   "cell_type": "code",
   "execution_count": 6,
   "metadata": {},
   "outputs": [],
   "source": [
    "# Bootstrap\n",
    "A_row_jumble = row_sample_with_replacement(A_obs, B=B)\n",
    "\n",
    "# Testing\n",
    "p_vals = []\n",
    "for i in range(B):\n",
    "    A_row_jumble_sample = A_row_jumble[i, :, :]\n",
    "\n",
    "    # Embed the observed and bootstrapped graphs\n",
    "    Y_unf = UASE([A_obs, A_row_jumble_sample], d=d)\n",
    "\n",
    "    # Compute the p-value\n",
    "    p_val = test_temporal_displacement_two_times(Y_unf, n)\n",
    "    p_vals.append(p_val)\n",
    "\n"
   ]
  },
  {
   "cell_type": "code",
   "execution_count": 7,
   "metadata": {},
   "outputs": [
    {
     "data": {
      "image/png": "[encoded data removed]",
      "text/plain": [
       "<Figure size 432x288 with 1 Axes>"
      ]
     },
     "metadata": {
      "needs_background": "light"
     },
     "output_type": "display_data"
    },
    {
     "data": {
      "text/plain": [
       "1.0"
      ]
     },
     "execution_count": 7,
     "metadata": {},
     "output_type": "execute_result"
    }
   ],
   "source": [
    "plot_power(p_vals)"
   ]
  },
  {
   "cell_type": "code",
   "execution_count": 8,
   "metadata": {},
   "outputs": [
    {
     "data": {
      "application/vnd.plotly.v1+json": {
       "config": {
        "plotlyServerURL": "https://plot.ly"
       },
       "data": [
        {
         "hovertemplate": "Community=1<br>Time=0<br>Dimension 1=%{x}<br>Dimension 2=%{y}<extra></extra>",
         "legendgroup": "1",
         "marker": {
          "color": "#636efa",
          "symbol": "circle"
         },
         "mode": "markers",
         "name": "1",
         "orientation": "v",
         "showlegend": true,
         "type": "scatter",
         "x": [
          -0.7192490153761518,
          -0.6953291483036853,
          -0.6618282838531132,
          -0.6669463190043817,
          -0.6849145694030792,
          -0.6573996426289701,
          -0.6980742216838078,
          -0.6671820026741206,
          -0.6592282049735756,
          -0.6775501742917251,
          -0.6859105091011434,
          -0.6715500674920667,
          -0.6871274418470585,
          -0.6806532025431956,
          -0.6792755538938843,
          -0.6721962096870362,
          -0.6778195148053098,
          -0.7002276171169186,
          -0.691069638672305,
          -0.6668330143407168,
          -0.6967121657036085,
          -0.6721977414200633,
          -0.6973641101002929,
          -0.7068609976244851,
          -0.6901200793623022,
          -0.6907416516236958,
          -0.7036648894888986,
          -0.6573470885230422,
          -0.6764206025428332,
          -0.6954230830847676,
          -0.702302991041698,
          -0.6547565882044206,
          -0.6776684900098515,
          -0.7207412376211831,
          -0.6919847738428839,
          -0.6901034103759559,
          -0.7000829168134088,
          -0.6984822470753349,
          -0.6770132830070144,
          -0.6391411851047253,
          -0.6942595307621247,
          -0.6991159966678244,
          -0.6951823326517063,
          -0.7065529082340615,
          -0.6936948141524997,
          -0.6943968242221437,
          -0.661914232044683,
          -0.7023441316531552,
          -0.6970987739981069,
          -0.6895739949646987,
          -0.6983998467370703,
          -0.6728171516782239,
          -0.6942113045050429,
          -0.6874556500345158,
          -0.6809549186758236,
          -0.7021147538588095,
          -0.6863317449824131,
          -0.693820087211434,
          -0.6888245885248909,
          -0.6731523878164474,
          -0.653936159937282,
          -0.6902090400107549,
          -0.6718086012496083,
          -0.693139846857916,
          -0.6863099949474291,
          -0.6712931140551303,
          -0.6856554047848411,
          -0.6911929749976722,
          -0.7064316921660003,
          -0.6656692559053734,
          -0.6761425208362892,
          -0.6920288374938246,
          -0.6537073997178827,
          -0.6685202121825189,
          -0.6899715378713317,
          -0.7001684163542132,
          -0.6982589710786444,
          -0.6689251956106305,
          -0.7030866507020153,
          -0.7046076734711111,
          -0.7013156919627441,
          -0.6800461674076986,
          -0.6855930008130439,
          -0.6654698399821336,
          -0.6860055339650162,
          -0.6883965292050414,
          -0.6914823532075554,
          -0.6967628951451215,
          -0.6926485588510075,
          -0.6835678526400298,
          -0.6988345208016167,
          -0.6995610331401712,
          -0.6824895704093011,
          -0.6603152975910918,
          -0.6954815435811715,
          -0.6632001598847802,
          -0.6801633376032248,
          -0.6886990714627245,
          -0.6632134050160394,
          -0.6754722985481664,
          -0.6808719082906538,
          -0.6758810900139893,
          -0.6912608288643451,
          -0.6800639790128072,
          -0.6611734643236893,
          -0.690310172700919,
          -0.6657811740524046,
          -0.7074065039035031,
          -0.6627403302203811,
          -0.6979232431389111,
          -0.6938553608603543,
          -0.7027798556484606,
          -0.7339735848110184,
          -0.6738848118755971,
          -0.6903394319813058,
          -0.6999254628464,
          -0.6796330263265961,
          -0.7026798372993526,
          -0.6629318930176566,
          -0.6842785994092626,
          -0.6566484506055513,
          -0.7178239814643594,
          -0.7006450486611,
          -0.6919563059022094,
          -0.6793885351296184,
          -0.6648220568998219,
          -0.6980954028179865,
          -0.7041617410965978,
          -0.6540897995768626,
          -0.7030934991656013,
          -0.6761639025283246,
          -0.6626120835190555,
          -0.7057747585368814,
          -0.699086550749561,
          -0.6635552070121389,
          -0.6981766928381188,
          -0.6694086554793458,
          -0.6926386793167114,
          -0.6750308776446469,
          -0.6782824857200668,
          -0.6823491524986312,
          -0.7068293894737079,
          -0.68258896696586,
          -0.712203941920164,
          -0.6896917729478249,
          -0.7006322425821229,
          -0.6937415054335712,
          -0.676157173699045,
          -0.7042290972816492,
          -0.7095927633513693,
          -0.6720755360596854,
          -0.6804570161845539,
          -0.6648059621893588,
          -0.6609084656655823,
          -0.7041701294175511,
          -0.6982183548662984,
          -0.687085293565377,
          -0.7020499130872857,
          -0.6725557161152028,
          -0.7039958200361577,
          -0.6685004348998546,
          -0.6980212269384171,
          -0.6547946088698781,
          -0.6888048522901371,
          -0.6517291174724599,
          -0.6753317832611327,
          -0.6678253080535514,
          -0.6760015735154432,
          -0.6916618291214318,
          -0.6465850057378227,
          -0.684898655010495,
          -0.6890681543824172,
          -0.6978123715872112,
          -0.6758928443226995,
          -0.6921267720514784,
          -0.7168669031563933,
          -0.6895463902759428,
          -0.6948882465009011,
          -0.6755444307290067,
          -0.6521328330050546,
          -0.7263225102612486,
          -0.6915306515271715,
          -0.6774535789477731,
          -0.6865994084026605,
          -0.689246797232032,
          -0.6756868686842532,
          -0.6798177665289022,
          -0.6443371679220411,
          -0.6610826905460004,
          -0.6725189412594923,
          -0.6885387332000948,
          -0.6861943897273718,
          -0.697758872579958,
          -0.6892915402883695,
          -0.685340850555222,
          -0.6774165590487153,
          -0.6877812503868994,
          -0.6925482068536558,
          -0.6838643585072454,
          -0.6821817042486047,
          -0.6715362004482055,
          -0.6635672752213954,
          -0.6695401983494303,
          -0.6804487272941278,
          -0.6641040763583511,
          -0.6637532846234625,
          -0.6896973554861834,
          -0.6813412156814008,
          -0.6596302967325142,
          -0.6940791135604607,
          -0.6883039328248634,
          -0.6974515095426945,
          -0.6802826388241366,
          -0.6837273117080015,
          -0.6705014016146021,
          -0.7205288549032701,
          -0.676598816374373,
          -0.6823468329673007,
          -0.7300612424488685,
          -0.6765895030329718,
          -0.6711233932118328,
          -0.7073005474303963,
          -0.682614613868136,
          -0.6836654541597212,
          -0.6790918663386972,
          -0.6905079228945148,
          -0.6670794142187099,
          -0.6842143695996048,
          -0.6896840107210023,
          -0.6584143512707169,
          -0.6717625904682311,
          -0.7006371240932846,
          -0.7045113523209345,
          -0.7059638600245012,
          -0.6785062824798294,
          -0.7025991424629738,
          -0.7228306937188361,
          -0.6988950706467961,
          -0.6937764837342199,
          -0.6962989541811181,
          -0.6934633468590331,
          -0.6795069480143214,
          -0.6551512729729041,
          -0.7015745166316301,
          -0.6791349001331553,
          -0.6741043588040734,
          -0.6642010099427422,
          -0.6796472388588551,
          -0.7072881199854523,
          -0.6976010344759578
         ],
         "xaxis": "x",
         "y": [
          -0.19238773671002052,
          -0.16906207530019904,
          -0.15711623570985964,
          -0.2074226005403376,
          -0.26411088413619455,
          -0.20359646581544702,
          -0.14506412321545847,
          -0.18956142160576966,
          -0.3184571030881829,
          -0.12905110533762268,
          -0.2325636586639322,
          -0.2209585938725115,
          -0.24872466220150258,
          -0.22800560765786,
          -0.2027514690205657,
          -0.29177135680670957,
          -0.2171961054079159,
          -0.22348966563074615,
          -0.23817406052235504,
          -0.2360925170631505,
          -0.22570335044789366,
          -0.28522620417498185,
          -0.20922830229174,
          -0.214930346009522,
          -0.25595323949919874,
          -0.1958613364346732,
          -0.171979680520076,
          -0.21001763345281696,
          -0.19131300534215812,
          -0.257629401909267,
          -0.11476019296168118,
          -0.25964348994311665,
          -0.1829622042591258,
          -0.16461930910799089,
          -0.1837519511856586,
          -0.1860291535665219,
          -0.18862843133835325,
          -0.11094265494781497,
          -0.31197805865080963,
          -0.1595457100452484,
          -0.28268808044398347,
          -0.2016827034384734,
          -0.1807954400765643,
          -0.18056241812832313,
          -0.16926774541047185,
          -0.18933620378429789,
          -0.2509877904427052,
          -0.24184276884761027,
          -0.22404372952503884,
          -0.24056960788681958,
          -0.2807548802789114,
          -0.24463541260536137,
          -0.15788842253422342,
          -0.17687365197764973,
          -0.2093295395173534,
          -0.15704407462859094,
          -0.12555032922484116,
          -0.23107855441868555,
          -0.22886204071445596,
          -0.19162673357782772,
          -0.1643988434869687,
          -0.15474044032505777,
          -0.21686682109957056,
          -0.18597144119599954,
          -0.10779535247806962,
          -0.14149210547455435,
          -0.17859396147612847,
          -0.16193649765352844,
          -0.18514989272899232,
          -0.24105017093361614,
          -0.16970052460194401,
          -0.21347699493233524,
          -0.1690356727345188,
          -0.15140972152119891,
          -0.21530482478526078,
          -0.21844887655487102,
          -0.18054571025743166,
          -0.19501456982281132,
          -0.21666544346343652,
          -0.18590279205766222,
          -0.20738338007751309,
          -0.1546399037479166,
          -0.1936999734034985,
          -0.24720340377740257,
          -0.17007214975266854,
          -0.19674298921367184,
          -0.14394586439996523,
          -0.18080707319303949,
          -0.16658035202051225,
          -0.20676578387530087,
          -0.20506398800539563,
          -0.15943666000364254,
          -0.20674172271822353,
          -0.33982256300543334,
          -0.11958657112540756,
          -0.2504656222034788,
          -0.11784552147484377,
          -0.16245752527695909,
          -0.3045700615183599,
          -0.2980491810457713,
          -0.27543668243276315,
          -0.21780565466058366,
          -0.17440248929883692,
          -0.18779839017319871,
          -0.24387510644535706,
          -0.2251776960795156,
          -0.1718454709811891,
          -0.1989127457794138,
          -0.24819044503373652,
          -0.20150048021289402,
          -0.2073248871915382,
          -0.10305240156529184,
          -0.15754399503180594,
          -0.1767587015412965,
          -0.25196216081285705,
          -0.1461892481265662,
          -0.25728453506931037,
          -0.14407867009123254,
          -0.15990836686290355,
          -0.22094200042893875,
          -0.24985727256699714,
          -0.177846295030672,
          -0.28059306014468854,
          -0.2582353620490051,
          -0.33701901213373814,
          -0.2071545780784274,
          -0.1808924504262177,
          -0.17863927620886322,
          -0.2657606938474582,
          -0.2171882272480021,
          -0.2059244302318681,
          -0.2278299317016009,
          -0.09152426631347138,
          -0.1902816128491907,
          -0.1402127575501181,
          -0.18302835347280413,
          -0.22234851671630945,
          -0.17011796364569665,
          -0.30350080434525056,
          -0.1954424105844936,
          -0.15001919077161796,
          -0.2573226155099021,
          -0.1769453111538561,
          -0.24463898055858121,
          -0.2769550647900707,
          -0.14482825436897898,
          -0.23562307629305793,
          -0.25553368572359,
          -0.10536512177485562,
          -0.17460317374164258,
          -0.23664009991625434,
          -0.2896235886622434,
          -0.2192319706994814,
          -0.23787350579734973,
          -0.30108398441658507,
          -0.14745449028525118,
          -0.20119790209790123,
          -0.19630586325119373,
          -0.208074252319575,
          -0.2519733089130181,
          -0.3013461415299329,
          -0.20992533357192028,
          -0.3319482790219708,
          -0.10427886739409781,
          -0.22522891176796764,
          -0.2278306907663624,
          -0.2693833541339593,
          -0.1599655711900154,
          -0.21402962446610654,
          -0.2526484104403954,
          -0.1640433101386906,
          -0.20992414192929362,
          -0.18289077983243715,
          -0.1555076162491664,
          -0.22151656521530594,
          -0.2028896619109717,
          -0.16796624132843416,
          -0.2321445493064673,
          -0.28238192357330527,
          -0.23479259801885877,
          -0.1990071766038906,
          -0.24327410929934212,
          -0.2837090039542018,
          -0.17658975372021438,
          -0.2730135972543097,
          -0.218694685513937,
          -0.17336436019234655,
          -0.24430694120869548,
          -0.25653021318622354,
          -0.07989610305150635,
          -0.1660897060449364,
          -0.23074734145660594,
          -0.18014540087733882,
          -0.19835176890006156,
          -0.23798470586877662,
          -0.2816293011319576,
          -0.024829669503065744,
          -0.13020509377523384,
          -0.15680314316475288,
          -0.16434293077553933,
          -0.2500046177186742,
          -0.24819158531548302,
          -0.22784291551314936,
          -0.1510488846105685,
          -0.1545590662210226,
          -0.19040136732385288,
          -0.2155462652989015,
          -0.24015749578383094,
          -0.2121478861411577,
          -0.1707590512386642,
          -0.255022513166223,
          -0.1729237017330179,
          -0.09306932314231732,
          -0.1680798665994701,
          -0.16421421062467328,
          -0.17397458135608712,
          -0.17753892172833502,
          -0.20474309979634375,
          -0.04119325037100122,
          -0.16472077585785538,
          -0.28650167649805497,
          -0.28534856263082253,
          -0.17498661063956397,
          -0.2187260739484088,
          -0.22331510368210838,
          -0.224421356554826,
          -0.11800129564846136,
          -0.2343472435958069,
          -0.1610884516552399,
          -0.21922581371153435,
          -0.18786056969394027,
          -0.18412512298722636,
          -0.1854719255634822,
          -0.15660797239104665,
          -0.22414581921423574,
          -0.2232049484564059,
          -0.2625725669154996,
          -0.21291225141017325,
          -0.12556989195675824,
          -0.15519028465807255,
          -0.2218336897891524,
          -0.16487523016578953,
          -0.13421928900233476,
          -0.1584220485298463,
          -0.23713310397845963,
          -0.23739919371277404,
          -0.3358343645504312,
          -0.19997794257041906,
          -0.25150105972431924,
          -0.19291476345554182
         ],
         "yaxis": "y"
        },
        {
         "hovertemplate": "Community=0<br>Time=0<br>Dimension 1=%{x}<br>Dimension 2=%{y}<extra></extra>",
         "legendgroup": "0",
         "marker": {
          "color": "#EF553B",
          "symbol": "circle"
         },
         "mode": "markers",
         "name": "0",
         "orientation": "v",
         "showlegend": true,
         "type": "scatter",
         "x": [
          -0.4997345855631138,
          -0.4816382320216941,
          -0.49045356769685167,
          -0.4398392600363411,
          -0.5015610439514998,
          -0.4808924054060748,
          -0.4786042861322531,
          -0.4816815766410477,
          -0.5009139851339804,
          -0.49022030849789466,
          -0.4857664622237808,
          -0.45393824174136316,
          -0.48576831315759594,
          -0.456889664072773,
          -0.5118114073167157,
          -0.48823999250232675,
          -0.4804598946288161,
          -0.49706601279408996,
          -0.4828858023439545,
          -0.48145789268944844,
          -0.5274725294312349,
          -0.5056892028085899,
          -0.4826220158371687,
          -0.4781035955962487,
          -0.5187043048415378,
          -0.5013244521282385,
          -0.47266853659493474,
          -0.4669476840015503,
          -0.512379599178303,
          -0.4873527431327445,
          -0.4844774279327072,
          -0.42827441418632684,
          -0.45253878161410793,
          -0.4888987972509084,
          -0.519023069161905,
          -0.4788454629674248,
          -0.48110470980133446,
          -0.4878120152931854,
          -0.4593437557447281,
          -0.4452353377677602,
          -0.488130263003409,
          -0.45792442498966596,
          -0.48121937356298106,
          -0.47512795106120226,
          -0.5283504582972298,
          -0.5273772062724706,
          -0.4719567512729535,
          -0.451599799513197,
          -0.47354810952970006,
          -0.48517071544490925,
          -0.4900554179764766,
          -0.4469822510967652,
          -0.4738831513700914,
          -0.5051693443306036,
          -0.4692228005889552,
          -0.47734150677782583,
          -0.47315250946088316,
          -0.46256878053070566,
          -0.45671351794036485,
          -0.4746324744245396,
          -0.48918386699957733,
          -0.4984304911178266,
          -0.4864677503979665,
          -0.48095938701182933,
          -0.44884484447108564,
          -0.49091606486894696,
          -0.47877868332397505,
          -0.48267843981985314,
          -0.5238262362248539,
          -0.4557750524767968,
          -0.48058791908949966,
          -0.48448809258398934,
          -0.46388074153302283,
          -0.4619716133230277,
          -0.47198948749937586,
          -0.4680942385314741,
          -0.47748179212908204,
          -0.441159564216128,
          -0.4687033146109427,
          -0.4838331786398096,
          -0.4966216565361386,
          -0.47734821472770994,
          -0.4574122009196572,
          -0.4779548566711626,
          -0.4931641428636015,
          -0.46071154823293853,
          -0.46872279302250647,
          -0.4596344329386238,
          -0.5064838657829338,
          -0.4443685121604208,
          -0.47803164449481916,
          -0.4840233747600176,
          -0.483436415557386,
          -0.4899527989571084,
          -0.5060041755954665,
          -0.514018740032812,
          -0.444468534568405,
          -0.500939218464672,
          -0.4948078972191945,
          -0.480570466075601,
          -0.48897009521547036,
          -0.501230736314216,
          -0.4747995187646328,
          -0.48420873859487445,
          -0.48816873429173335,
          -0.4804221979599244,
          -0.4992677204827048,
          -0.5042995074061453,
          -0.47001410393584736,
          -0.4959159220905016,
          -0.44295675179099064,
          -0.5270857513245534,
          -0.48108590414468677,
          -0.4810342642767391,
          -0.5224310285660492,
          -0.4585235705280471,
          -0.48544438918142746,
          -0.4798909945443256,
          -0.5106963612351973,
          -0.5003287717981073,
          -0.5002461868564032,
          -0.45046955964685015,
          -0.4929597663279846,
          -0.5055287568887723,
          -0.4760443411104274,
          -0.49108779593507246,
          -0.4811763652335508,
          -0.5078120482198907,
          -0.4635349875741858,
          -0.5052462786120752,
          -0.42618316938392387,
          -0.4537871926975989,
          -0.4573710574725791,
          -0.48396056842467516,
          -0.4719292683546625,
          -0.5117808167687953,
          -0.4769343586658828,
          -0.4600537279187767,
          -0.4506274745363495,
          -0.4849773385577458,
          -0.4885509146575943,
          -0.47985350232842344,
          -0.5007455547712085,
          -0.4845758997407081,
          -0.48879762829054635,
          -0.5146534767267428,
          -0.4636798455849155,
          -0.4704956327559177,
          -0.4773745166004319,
          -0.4690442423992273,
          -0.4590992679034598,
          -0.468034124688544,
          -0.4606047200559273,
          -0.45931513450122347,
          -0.47716192330414875,
          -0.46820675062197975,
          -0.4604726024526298,
          -0.48692677029598663,
          -0.4840754972992746,
          -0.5141583417540613,
          -0.4892664800488151,
          -0.49305054971434015,
          -0.48117759314563796,
          -0.4932993375045622,
          -0.51198306973691,
          -0.48255017595730393,
          -0.46757782450279395,
          -0.48378992293589484,
          -0.4890533048850783,
          -0.4980072833779211,
          -0.4626696864624863,
          -0.44751664258823787,
          -0.47899706399955133,
          -0.5038363309081543,
          -0.49114945450744457,
          -0.4762420077745256,
          -0.5258359400731393,
          -0.47685677417160893,
          -0.5139857017979342,
          -0.4939842134608252,
          -0.4554995768975984,
          -0.5071871687331078,
          -0.4779265160568522,
          -0.46778207258485704,
          -0.48343196294854696,
          -0.4676114320688842,
          -0.4811899000333697,
          -0.47689325289920137,
          -0.48075216921585795,
          -0.4755398295028047,
          -0.49619731093062924,
          -0.5098894274879416,
          -0.46312325707882884,
          -0.4689688961034835,
          -0.4454501793040268,
          -0.47374394266944914,
          -0.48009762153241436,
          -0.4602461045359906,
          -0.45606866105526717,
          -0.5125979726532714,
          -0.4730877283133638,
          -0.49519921653320537,
          -0.48048876720222305,
          -0.5049722210135543,
          -0.5231205571941357,
          -0.4786302822125031,
          -0.48754208943778415,
          -0.46918255697609,
          -0.4847507240528247,
          -0.4643804663503516,
          -0.47013294562050006,
          -0.4954265769281548,
          -0.468969244260494,
          -0.4944934713585191,
          -0.494248756292184,
          -0.455721668818806,
          -0.4686485422815796,
          -0.46915170671919393,
          -0.4477869964029176,
          -0.519843023330244,
          -0.5125480114178902,
          -0.49606628242729395,
          -0.486932273134454,
          -0.4747729018976466,
          -0.4748379284409202,
          -0.4708312086697417,
          -0.5148493493672448,
          -0.49846511716333747,
          -0.47719076038323494,
          -0.4796811851436128,
          -0.5003409629378226,
          -0.4805663602974517,
          -0.4827857098106069,
          -0.49293246981502836,
          -0.4876931378629151,
          -0.44247472603821564,
          -0.45858895396766675,
          -0.47747821401107565,
          -0.4700955197076622,
          -0.46181422365685765,
          -0.47511689187551187,
          -0.458492409114601,
          -0.45783971787154254,
          -0.510994029552909,
          -0.4475769456468399,
          -0.5193128207915001,
          -0.47732937554100624,
          -0.5095328137597086,
          -0.4536517049051919,
          -0.49125194290112556
         ],
         "xaxis": "x",
         "y": [
          0.05817478291507503,
          0.04376729332672378,
          0.027500494624268106,
          0.012274488490203692,
          -0.059759869361937175,
          -0.008404525685867095,
          0.05918914097169706,
          0.004259007628496164,
          -0.06969123020979508,
          0.038248188705490044,
          0.01919148214509975,
          0.02900224628618343,
          -0.0133671487218525,
          0.13539536090347684,
          0.07170276026746472,
          -0.045027246731206394,
          -0.02796615639287625,
          0.11821562545771884,
          0.042202163065941836,
          0.13969657225904408,
          -0.05808320384891049,
          -0.09079877001397024,
          -0.07421655124226723,
          -0.011324000186915912,
          0.012998784528330391,
          0.0937773565884144,
          -0.00236282199498487,
          -0.021557562094536464,
          0.03774188253311647,
          -0.08755350398172253,
          -0.01733283116973812,
          0.029154873264018222,
          0.06509631728591554,
          0.07047351488676068,
          0.03371937502384719,
          -0.020601784468128534,
          0.04106905635310271,
          -0.08640905020977538,
          0.05448967849913568,
          0.012883918672727175,
          -0.10640400585559678,
          0.0012959761134886478,
          0.009737493714100988,
          0.07513855052080297,
          0.08569099899375887,
          -0.01132812828635738,
          0.005975721103711579,
          -0.000501318536126535,
          -0.023978247388802113,
          0.06144210025210936,
          -0.0002470453869753258,
          0.00959488621737903,
          -0.008123549414115576,
          0.09808604391554503,
          0.002930548563391381,
          0.010081121205882834,
          -0.09212312783397376,
          0.014794506142113327,
          0.0497459457965517,
          -0.10133564251175968,
          0.06843832905125817,
          0.07766546334645767,
          -0.0387511811399316,
          0.06894017355672756,
          0.09922093535554341,
          -0.03637674794120608,
          -0.16782881388360157,
          0.018407023270802413,
          0.06030479733429425,
          0.015186696458000656,
          -0.03456108289815217,
          -0.0542353217689731,
          0.03260247692136708,
          -0.020052133817961885,
          0.030080506688349294,
          -0.0033738189633365436,
          0.060495503971045396,
          0.02111121254231897,
          0.03071869935911606,
          0.08420297692249773,
          0.030073295462833053,
          0.031942382114974625,
          0.08060915515701604,
          0.018091976412603614,
          -0.03114841153403725,
          -0.021503571206225484,
          -0.04785642159518145,
          0.04878568642770268,
          0.028788237654759543,
          0.08730289839196122,
          0.010068678593228644,
          -0.08753766597472697,
          -0.09206735481333146,
          0.0023179114365369214,
          0.04026431541825807,
          0.01105924227011365,
          0.09398377769894183,
          -0.05707074207172433,
          -0.05014745588131686,
          0.14056095201853896,
          -0.1004546995363604,
          0.04505974872828542,
          -0.05771395228082485,
          0.007236156945386461,
          -0.047947676885769085,
          -0.014420396750740095,
          -0.04087959946387834,
          -0.1085461205350476,
          -0.08087839249391274,
          -0.06396174901167558,
          -0.005920422962620727,
          0.08539278936791865,
          -0.036021205967022296,
          0.05135083122139496,
          0.030495239099499857,
          0.06585204631725483,
          0.030061210310372354,
          -0.06103782932900838,
          0.00921439130660238,
          -0.029267093071943768,
          0.027833770714041667,
          -0.10055776336634697,
          0.0762816428939806,
          -0.030458492392882213,
          -0.06049381304997893,
          0.06809077559730421,
          -0.04192830840173869,
          0.06389791275071104,
          0.07015142194495325,
          -0.03923479226931699,
          -0.053425266593238374,
          0.05767423990902019,
          -0.07401937046058593,
          -0.0801312736813109,
          -0.04857323779270336,
          -0.08873176174100332,
          -0.05831486121076996,
          0.07708037515399213,
          0.08746768448471455,
          0.03822019834904822,
          -0.04027970088248616,
          0.08901426669356205,
          0.05728251438561774,
          -0.07264413539571274,
          0.03897774027115418,
          -0.05483596483404198,
          0.053788486548476434,
          -0.13924580002865972,
          0.011429817700956186,
          -0.03579492050545637,
          -0.026617951567410203,
          0.02048728814738217,
          -0.07370757650257158,
          0.15948370991740346,
          -0.04988092752971661,
          0.030456867708816313,
          0.08242177355700561,
          0.06704565781004349,
          0.06392023025855413,
          0.028722916575975258,
          0.07999172850247624,
          0.05836092859562179,
          0.03288929627958347,
          0.029980254061334293,
          -0.004502775607710185,
          -0.0666967020232523,
          0.02548597269270248,
          0.08461807260556449,
          0.04289141238989795,
          0.043818240467978595,
          0.10396005768609302,
          -0.05708358383988306,
          0.10779991904519023,
          -0.010244963939007657,
          -0.08941015949379627,
          0.05566307139026792,
          -0.01925102749649424,
          -0.0018296810487943656,
          0.008217879098807451,
          -0.05011243076110828,
          0.0545883330886906,
          -0.03867424333579349,
          0.07086388722997496,
          -0.019379054934110684,
          0.035076918398377566,
          0.03674031154332013,
          0.0151241149909873,
          0.02717618651517962,
          -0.044024764192129306,
          -0.09308116686342259,
          0.004228730181822384,
          -0.033951300525112686,
          0.007542117948391265,
          0.06506478954596068,
          -0.033461940067332975,
          0.06489597244254618,
          0.01146709505651511,
          0.05420004885053394,
          -0.033792450698830176,
          -0.01868190629353449,
          -0.008569842913637066,
          -0.014494100351743505,
          -0.06914953179868212,
          0.03917686888036972,
          0.05161593441157889,
          0.0775166255175817,
          -0.07970331092772275,
          -0.005636002795862847,
          0.026834264450934738,
          0.13871694633898132,
          0.07189463858502025,
          -0.006478574432075382,
          0.02298543709086979,
          -0.03534301867182168,
          0.030242986792572774,
          0.009705882989450817,
          -0.06852123210535986,
          0.017045071970452335,
          0.11792847317335259,
          0.07366412400229565,
          0.09294212591444019,
          -0.013962549908854453,
          -0.01880930296414143,
          -0.016584814877409045,
          0.015128374023394255,
          -0.013005627736180482,
          0.06729255872485311,
          0.12196491772910163,
          -0.08883751615773318,
          -0.0075538215480335895,
          0.05680626650485048,
          0.09228253610001792,
          0.08600085274222989,
          -0.1009786933109006,
          -0.003889833006208972,
          -0.049982426671228805,
          0.07549015908518561,
          0.0752688701921667,
          -0.021801977980740444,
          -0.04683074687763274,
          -0.02550826265733336,
          -0.03302474452191526,
          0.04845893572100333,
          0.055716495827982083,
          0.047291133232991514,
          -0.024568484954279123,
          0.025753077475570783,
          -0.0745235641831699,
          0.0490609364112259,
          0.07705560239172732
         ],
         "yaxis": "y"
        }
       ],
       "frames": [
        {
         "data": [
          {
           "hovertemplate": "Community=1<br>Time=0<br>Dimension 1=%{x}<br>Dimension 2=%{y}<extra></extra>",
           "legendgroup": "1",
           "marker": {
            "color": "#636efa",
            "symbol": "circle"
           },
           "mode": "markers",
           "name": "1",
           "orientation": "v",
           "showlegend": true,
           "type": "scatter",
           "x": [
            -0.7192490153761518,
            -0.6953291483036853,
            -0.6618282838531132,
            -0.6669463190043817,
            -0.6849145694030792,
            -0.6573996426289701,
            -0.6980742216838078,
            -0.6671820026741206,
            -0.6592282049735756,
            -0.6775501742917251,
            -0.6859105091011434,
            -0.6715500674920667,
            -0.6871274418470585,
            -0.6806532025431956,
            -0.6792755538938843,
            -0.6721962096870362,
            -0.6778195148053098,
            -0.7002276171169186,
            -0.691069638672305,
            -0.6668330143407168,
            -0.6967121657036085,
            -0.6721977414200633,
            -0.6973641101002929,
            -0.7068609976244851,
            -0.6901200793623022,
            -0.6907416516236958,
            -0.7036648894888986,
            -0.6573470885230422,
            -0.6764206025428332,
            -0.6954230830847676,
            -0.702302991041698,
            -0.6547565882044206,
            -0.6776684900098515,
            -0.7207412376211831,
            -0.6919847738428839,
            -0.6901034103759559,
            -0.7000829168134088,
            -0.6984822470753349,
            -0.6770132830070144,
            -0.6391411851047253,
            -0.6942595307621247,
            -0.6991159966678244,
            -0.6951823326517063,
            -0.7065529082340615,
            -0.6936948141524997,
            -0.6943968242221437,
            -0.661914232044683,
            -0.7023441316531552,
            -0.6970987739981069,
            -0.6895739949646987,
            -0.6983998467370703,
            -0.6728171516782239,
            -0.6942113045050429,
            -0.6874556500345158,
            -0.6809549186758236,
            -0.7021147538588095,
            -0.6863317449824131,
            -0.693820087211434,
            -0.6888245885248909,
            -0.6731523878164474,
            -0.653936159937282,
            -0.6902090400107549,
            -0.6718086012496083,
            -0.693139846857916,
            -0.6863099949474291,
            -0.6712931140551303,
            -0.6856554047848411,
            -0.6911929749976722,
            -0.7064316921660003,
            -0.6656692559053734,
            -0.6761425208362892,
            -0.6920288374938246,
            -0.6537073997178827,
            -0.6685202121825189,
            -0.6899715378713317,
            -0.7001684163542132,
            -0.6982589710786444,
            -0.6689251956106305,
            -0.7030866507020153,
            -0.7046076734711111,
            -0.7013156919627441,
            -0.6800461674076986,
            -0.6855930008130439,
            -0.6654698399821336,
            -0.6860055339650162,
            -0.6883965292050414,
            -0.6914823532075554,
            -0.6967628951451215,
            -0.6926485588510075,
            -0.6835678526400298,
            -0.6988345208016167,
            -0.6995610331401712,
            -0.6824895704093011,
            -0.6603152975910918,
            -0.6954815435811715,
            -0.6632001598847802,
            -0.6801633376032248,
            -0.6886990714627245,
            -0.6632134050160394,
            -0.6754722985481664,
            -0.6808719082906538,
            -0.6758810900139893,
            -0.6912608288643451,
            -0.6800639790128072,
            -0.6611734643236893,
            -0.690310172700919,
            -0.6657811740524046,
            -0.7074065039035031,
            -0.6627403302203811,
            -0.6979232431389111,
            -0.6938553608603543,
            -0.7027798556484606,
            -0.7339735848110184,
            -0.6738848118755971,
            -0.6903394319813058,
            -0.6999254628464,
            -0.6796330263265961,
            -0.7026798372993526,
            -0.6629318930176566,
            -0.6842785994092626,
            -0.6566484506055513,
            -0.7178239814643594,
            -0.7006450486611,
            -0.6919563059022094,
            -0.6793885351296184,
            -0.6648220568998219,
            -0.6980954028179865,
            -0.7041617410965978,
            -0.6540897995768626,
            -0.7030934991656013,
            -0.6761639025283246,
            -0.6626120835190555,
            -0.7057747585368814,
            -0.699086550749561,
            -0.6635552070121389,
            -0.6981766928381188,
            -0.6694086554793458,
            -0.6926386793167114,
            -0.6750308776446469,
            -0.6782824857200668,
            -0.6823491524986312,
            -0.7068293894737079,
            -0.68258896696586,
            -0.712203941920164,
            -0.6896917729478249,
            -0.7006322425821229,
            -0.6937415054335712,
            -0.676157173699045,
            -0.7042290972816492,
            -0.7095927633513693,
            -0.6720755360596854,
            -0.6804570161845539,
            -0.6648059621893588,
            -0.6609084656655823,
            -0.7041701294175511,
            -0.6982183548662984,
            -0.687085293565377,
            -0.7020499130872857,
            -0.6725557161152028,
            -0.7039958200361577,
            -0.6685004348998546,
            -0.6980212269384171,
            -0.6547946088698781,
            -0.6888048522901371,
            -0.6517291174724599,
            -0.6753317832611327,
            -0.6678253080535514,
            -0.6760015735154432,
            -0.6916618291214318,
            -0.6465850057378227,
            -0.684898655010495,
            -0.6890681543824172,
            -0.6978123715872112,
            -0.6758928443226995,
            -0.6921267720514784,
            -0.7168669031563933,
            -0.6895463902759428,
            -0.6948882465009011,
            -0.6755444307290067,
            -0.6521328330050546,
            -0.7263225102612486,
            -0.6915306515271715,
            -0.6774535789477731,
            -0.6865994084026605,
            -0.689246797232032,
            -0.6756868686842532,
            -0.6798177665289022,
            -0.6443371679220411,
            -0.6610826905460004,
            -0.6725189412594923,
            -0.6885387332000948,
            -0.6861943897273718,
            -0.697758872579958,
            -0.6892915402883695,
            -0.685340850555222,
            -0.6774165590487153,
            -0.6877812503868994,
            -0.6925482068536558,
            -0.6838643585072454,
            -0.6821817042486047,
            -0.6715362004482055,
            -0.6635672752213954,
            -0.6695401983494303,
            -0.6804487272941278,
            -0.6641040763583511,
            -0.6637532846234625,
            -0.6896973554861834,
            -0.6813412156814008,
            -0.6596302967325142,
            -0.6940791135604607,
            -0.6883039328248634,
            -0.6974515095426945,
            -0.6802826388241366,
            -0.6837273117080015,
            -0.6705014016146021,
            -0.7205288549032701,
            -0.676598816374373,
            -0.6823468329673007,
            -0.7300612424488685,
            -0.6765895030329718,
            -0.6711233932118328,
            -0.7073005474303963,
            -0.682614613868136,
            -0.6836654541597212,
            -0.6790918663386972,
            -0.6905079228945148,
            -0.6670794142187099,
            -0.6842143695996048,
            -0.6896840107210023,
            -0.6584143512707169,
            -0.6717625904682311,
            -0.7006371240932846,
            -0.7045113523209345,
            -0.7059638600245012,
            -0.6785062824798294,
            -0.7025991424629738,
            -0.7228306937188361,
            -0.6988950706467961,
            -0.6937764837342199,
            -0.6962989541811181,
            -0.6934633468590331,
            -0.6795069480143214,
            -0.6551512729729041,
            -0.7015745166316301,
            -0.6791349001331553,
            -0.6741043588040734,
            -0.6642010099427422,
            -0.6796472388588551,
            -0.7072881199854523,
            -0.6976010344759578
           ],
           "xaxis": "x",
           "y": [
            -0.19238773671002052,
            -0.16906207530019904,
            -0.15711623570985964,
            -0.2074226005403376,
            -0.26411088413619455,
            -0.20359646581544702,
            -0.14506412321545847,
            -0.18956142160576966,
            -0.3184571030881829,
            -0.12905110533762268,
            -0.2325636586639322,
            -0.2209585938725115,
            -0.24872466220150258,
            -0.22800560765786,
            -0.2027514690205657,
            -0.29177135680670957,
            -0.2171961054079159,
            -0.22348966563074615,
            -0.23817406052235504,
            -0.2360925170631505,
            -0.22570335044789366,
            -0.28522620417498185,
            -0.20922830229174,
            -0.214930346009522,
            -0.25595323949919874,
            -0.1958613364346732,
            -0.171979680520076,
            -0.21001763345281696,
            -0.19131300534215812,
            -0.257629401909267,
            -0.11476019296168118,
            -0.25964348994311665,
            -0.1829622042591258,
            -0.16461930910799089,
            -0.1837519511856586,
            -0.1860291535665219,
            -0.18862843133835325,
            -0.11094265494781497,
            -0.31197805865080963,
            -0.1595457100452484,
            -0.28268808044398347,
            -0.2016827034384734,
            -0.1807954400765643,
            -0.18056241812832313,
            -0.16926774541047185,
            -0.18933620378429789,
            -0.2509877904427052,
            -0.24184276884761027,
            -0.22404372952503884,
            -0.24056960788681958,
            -0.2807548802789114,
            -0.24463541260536137,
            -0.15788842253422342,
            -0.17687365197764973,
            -0.2093295395173534,
            -0.15704407462859094,
            -0.12555032922484116,
            -0.23107855441868555,
            -0.22886204071445596,
            -0.19162673357782772,
            -0.1643988434869687,
            -0.15474044032505777,
            -0.21686682109957056,
            -0.18597144119599954,
            -0.10779535247806962,
            -0.14149210547455435,
            -0.17859396147612847,
            -0.16193649765352844,
            -0.18514989272899232,
            -0.24105017093361614,
            -0.16970052460194401,
            -0.21347699493233524,
            -0.1690356727345188,
            -0.15140972152119891,
            -0.21530482478526078,
            -0.21844887655487102,
            -0.18054571025743166,
            -0.19501456982281132,
            -0.21666544346343652,
            -0.18590279205766222,
            -0.20738338007751309,
            -0.1546399037479166,
            -0.1936999734034985,
            -0.24720340377740257,
            -0.17007214975266854,
            -0.19674298921367184,
            -0.14394586439996523,
            -0.18080707319303949,
            -0.16658035202051225,
            -0.20676578387530087,
            -0.20506398800539563,
            -0.15943666000364254,
            -0.20674172271822353,
            -0.33982256300543334,
            -0.11958657112540756,
            -0.2504656222034788,
            -0.11784552147484377,
            -0.16245752527695909,
            -0.3045700615183599,
            -0.2980491810457713,
            -0.27543668243276315,
            -0.21780565466058366,
            -0.17440248929883692,
            -0.18779839017319871,
            -0.24387510644535706,
            -0.2251776960795156,
            -0.1718454709811891,
            -0.1989127457794138,
            -0.24819044503373652,
            -0.20150048021289402,
            -0.2073248871915382,
            -0.10305240156529184,
            -0.15754399503180594,
            -0.1767587015412965,
            -0.25196216081285705,
            -0.1461892481265662,
            -0.25728453506931037,
            -0.14407867009123254,
            -0.15990836686290355,
            -0.22094200042893875,
            -0.24985727256699714,
            -0.177846295030672,
            -0.28059306014468854,
            -0.2582353620490051,
            -0.33701901213373814,
            -0.2071545780784274,
            -0.1808924504262177,
            -0.17863927620886322,
            -0.2657606938474582,
            -0.2171882272480021,
            -0.2059244302318681,
            -0.2278299317016009,
            -0.09152426631347138,
            -0.1902816128491907,
            -0.1402127575501181,
            -0.18302835347280413,
            -0.22234851671630945,
            -0.17011796364569665,
            -0.30350080434525056,
            -0.1954424105844936,
            -0.15001919077161796,
            -0.2573226155099021,
            -0.1769453111538561,
            -0.24463898055858121,
            -0.2769550647900707,
            -0.14482825436897898,
            -0.23562307629305793,
            -0.25553368572359,
            -0.10536512177485562,
            -0.17460317374164258,
            -0.23664009991625434,
            -0.2896235886622434,
            -0.2192319706994814,
            -0.23787350579734973,
            -0.30108398441658507,
            -0.14745449028525118,
            -0.20119790209790123,
            -0.19630586325119373,
            -0.208074252319575,
            -0.2519733089130181,
            -0.3013461415299329,
            -0.20992533357192028,
            -0.3319482790219708,
            -0.10427886739409781,
            -0.22522891176796764,
            -0.2278306907663624,
            -0.2693833541339593,
            -0.1599655711900154,
            -0.21402962446610654,
            -0.2526484104403954,
            -0.1640433101386906,
            -0.20992414192929362,
            -0.18289077983243715,
            -0.1555076162491664,
            -0.22151656521530594,
            -0.2028896619109717,
            -0.16796624132843416,
            -0.2321445493064673,
            -0.28238192357330527,
            -0.23479259801885877,
            -0.1990071766038906,
            -0.24327410929934212,
            -0.2837090039542018,
            -0.17658975372021438,
            -0.2730135972543097,
            -0.218694685513937,
            -0.17336436019234655,
            -0.24430694120869548,
            -0.25653021318622354,
            -0.07989610305150635,
            -0.1660897060449364,
            -0.23074734145660594,
            -0.18014540087733882,
            -0.19835176890006156,
            -0.23798470586877662,
            -0.2816293011319576,
            -0.024829669503065744,
            -0.13020509377523384,
            -0.15680314316475288,
            -0.16434293077553933,
            -0.2500046177186742,
            -0.24819158531548302,
            -0.22784291551314936,
            -0.1510488846105685,
            -0.1545590662210226,
            -0.19040136732385288,
            -0.2155462652989015,
            -0.24015749578383094,
            -0.2121478861411577,
            -0.1707590512386642,
            -0.255022513166223,
            -0.1729237017330179,
            -0.09306932314231732,
            -0.1680798665994701,
            -0.16421421062467328,
            -0.17397458135608712,
            -0.17753892172833502,
            -0.20474309979634375,
            -0.04119325037100122,
            -0.16472077585785538,
            -0.28650167649805497,
            -0.28534856263082253,
            -0.17498661063956397,
            -0.2187260739484088,
            -0.22331510368210838,
            -0.224421356554826,
            -0.11800129564846136,
            -0.2343472435958069,
            -0.1610884516552399,
            -0.21922581371153435,
            -0.18786056969394027,
            -0.18412512298722636,
            -0.1854719255634822,
            -0.15660797239104665,
            -0.22414581921423574,
            -0.2232049484564059,
            -0.2625725669154996,
            -0.21291225141017325,
            -0.12556989195675824,
            -0.15519028465807255,
            -0.2218336897891524,
            -0.16487523016578953,
            -0.13421928900233476,
            -0.1584220485298463,
            -0.23713310397845963,
            -0.23739919371277404,
            -0.3358343645504312,
            -0.19997794257041906,
            -0.25150105972431924,
            -0.19291476345554182
           ],
           "yaxis": "y"
          },
          {
           "hovertemplate": "Community=0<br>Time=0<br>Dimension 1=%{x}<br>Dimension 2=%{y}<extra></extra>",
           "legendgroup": "0",
           "marker": {
            "color": "#EF553B",
            "symbol": "circle"
           },
           "mode": "markers",
           "name": "0",
           "orientation": "v",
           "showlegend": true,
           "type": "scatter",
           "x": [
            -0.4997345855631138,
            -0.4816382320216941,
            -0.49045356769685167,
            -0.4398392600363411,
            -0.5015610439514998,
            -0.4808924054060748,
            -0.4786042861322531,
            -0.4816815766410477,
            -0.5009139851339804,
            -0.49022030849789466,
            -0.4857664622237808,
            -0.45393824174136316,
            -0.48576831315759594,
            -0.456889664072773,
            -0.5118114073167157,
            -0.48823999250232675,
            -0.4804598946288161,
            -0.49706601279408996,
            -0.4828858023439545,
            -0.48145789268944844,
            -0.5274725294312349,
            -0.5056892028085899,
            -0.4826220158371687,
            -0.4781035955962487,
            -0.5187043048415378,
            -0.5013244521282385,
            -0.47266853659493474,
            -0.4669476840015503,
            -0.512379599178303,
            -0.4873527431327445,
            -0.4844774279327072,
            -0.42827441418632684,
            -0.45253878161410793,
            -0.4888987972509084,
            -0.519023069161905,
            -0.4788454629674248,
            -0.48110470980133446,
            -0.4878120152931854,
            -0.4593437557447281,
            -0.4452353377677602,
            -0.488130263003409,
            -0.45792442498966596,
            -0.48121937356298106,
            -0.47512795106120226,
            -0.5283504582972298,
            -0.5273772062724706,
            -0.4719567512729535,
            -0.451599799513197,
            -0.47354810952970006,
            -0.48517071544490925,
            -0.4900554179764766,
            -0.4469822510967652,
            -0.4738831513700914,
            -0.5051693443306036,
            -0.4692228005889552,
            -0.47734150677782583,
            -0.47315250946088316,
            -0.46256878053070566,
            -0.45671351794036485,
            -0.4746324744245396,
            -0.48918386699957733,
            -0.4984304911178266,
            -0.4864677503979665,
            -0.48095938701182933,
            -0.44884484447108564,
            -0.49091606486894696,
            -0.47877868332397505,
            -0.48267843981985314,
            -0.5238262362248539,
            -0.4557750524767968,
            -0.48058791908949966,
            -0.48448809258398934,
            -0.46388074153302283,
            -0.4619716133230277,
            -0.47198948749937586,
            -0.4680942385314741,
            -0.47748179212908204,
            -0.441159564216128,
            -0.4687033146109427,
            -0.4838331786398096,
            -0.4966216565361386,
            -0.47734821472770994,
            -0.4574122009196572,
            -0.4779548566711626,
            -0.4931641428636015,
            -0.46071154823293853,
            -0.46872279302250647,
            -0.4596344329386238,
            -0.5064838657829338,
            -0.4443685121604208,
            -0.47803164449481916,
            -0.4840233747600176,
            -0.483436415557386,
            -0.4899527989571084,
            -0.5060041755954665,
            -0.514018740032812,
            -0.444468534568405,
            -0.500939218464672,
            -0.4948078972191945,
            -0.480570466075601,
            -0.48897009521547036,
            -0.501230736314216,
            -0.4747995187646328,
            -0.48420873859487445,
            -0.48816873429173335,
            -0.4804221979599244,
            -0.4992677204827048,
            -0.5042995074061453,
            -0.47001410393584736,
            -0.4959159220905016,
            -0.44295675179099064,
            -0.5270857513245534,
            -0.48108590414468677,
            -0.4810342642767391,
            -0.5224310285660492,
            -0.4585235705280471,
            -0.48544438918142746,
            -0.4798909945443256,
            -0.5106963612351973,
            -0.5003287717981073,
            -0.5002461868564032,
            -0.45046955964685015,
            -0.4929597663279846,
            -0.5055287568887723,
            -0.4760443411104274,
            -0.49108779593507246,
            -0.4811763652335508,
            -0.5078120482198907,
            -0.4635349875741858,
            -0.5052462786120752,
            -0.42618316938392387,
            -0.4537871926975989,
            -0.4573710574725791,
            -0.48396056842467516,
            -0.4719292683546625,
            -0.5117808167687953,
            -0.4769343586658828,
            -0.4600537279187767,
            -0.4506274745363495,
            -0.4849773385577458,
            -0.4885509146575943,
            -0.47985350232842344,
            -0.5007455547712085,
            -0.4845758997407081,
            -0.48879762829054635,
            -0.5146534767267428,
            -0.4636798455849155,
            -0.4704956327559177,
            -0.4773745166004319,
            -0.4690442423992273,
            -0.4590992679034598,
            -0.468034124688544,
            -0.4606047200559273,
            -0.45931513450122347,
            -0.47716192330414875,
            -0.46820675062197975,
            -0.4604726024526298,
            -0.48692677029598663,
            -0.4840754972992746,
            -0.5141583417540613,
            -0.4892664800488151,
            -0.49305054971434015,
            -0.48117759314563796,
            -0.4932993375045622,
            -0.51198306973691,
            -0.48255017595730393,
            -0.46757782450279395,
            -0.48378992293589484,
            -0.4890533048850783,
            -0.4980072833779211,
            -0.4626696864624863,
            -0.44751664258823787,
            -0.47899706399955133,
            -0.5038363309081543,
            -0.49114945450744457,
            -0.4762420077745256,
            -0.5258359400731393,
            -0.47685677417160893,
            -0.5139857017979342,
            -0.4939842134608252,
            -0.4554995768975984,
            -0.5071871687331078,
            -0.4779265160568522,
            -0.46778207258485704,
            -0.48343196294854696,
            -0.4676114320688842,
            -0.4811899000333697,
            -0.47689325289920137,
            -0.48075216921585795,
            -0.4755398295028047,
            -0.49619731093062924,
            -0.5098894274879416,
            -0.46312325707882884,
            -0.4689688961034835,
            -0.4454501793040268,
            -0.47374394266944914,
            -0.48009762153241436,
            -0.4602461045359906,
            -0.45606866105526717,
            -0.5125979726532714,
            -0.4730877283133638,
            -0.49519921653320537,
            -0.48048876720222305,
            -0.5049722210135543,
            -0.5231205571941357,
            -0.4786302822125031,
            -0.48754208943778415,
            -0.46918255697609,
            -0.4847507240528247,
            -0.4643804663503516,
            -0.47013294562050006,
            -0.4954265769281548,
            -0.468969244260494,
            -0.4944934713585191,
            -0.494248756292184,
            -0.455721668818806,
            -0.4686485422815796,
            -0.46915170671919393,
            -0.4477869964029176,
            -0.519843023330244,
            -0.5125480114178902,
            -0.49606628242729395,
            -0.486932273134454,
            -0.4747729018976466,
            -0.4748379284409202,
            -0.4708312086697417,
            -0.5148493493672448,
            -0.49846511716333747,
            -0.47719076038323494,
            -0.4796811851436128,
            -0.5003409629378226,
            -0.4805663602974517,
            -0.4827857098106069,
            -0.49293246981502836,
            -0.4876931378629151,
            -0.44247472603821564,
            -0.45858895396766675,
            -0.47747821401107565,
            -0.4700955197076622,
            -0.46181422365685765,
            -0.47511689187551187,
            -0.458492409114601,
            -0.45783971787154254,
            -0.510994029552909,
            -0.4475769456468399,
            -0.5193128207915001,
            -0.47732937554100624,
            -0.5095328137597086,
            -0.4536517049051919,
            -0.49125194290112556
           ],
           "xaxis": "x",
           "y": [
            0.05817478291507503,
            0.04376729332672378,
            0.027500494624268106,
            0.012274488490203692,
            -0.059759869361937175,
            -0.008404525685867095,
            0.05918914097169706,
            0.004259007628496164,
            -0.06969123020979508,
            0.038248188705490044,
            0.01919148214509975,
            0.02900224628618343,
            -0.0133671487218525,
            0.13539536090347684,
            0.07170276026746472,
            -0.045027246731206394,
            -0.02796615639287625,
            0.11821562545771884,
            0.042202163065941836,
            0.13969657225904408,
            -0.05808320384891049,
            -0.09079877001397024,
            -0.07421655124226723,
            -0.011324000186915912,
            0.012998784528330391,
            0.0937773565884144,
            -0.00236282199498487,
            -0.021557562094536464,
            0.03774188253311647,
            -0.08755350398172253,
            -0.01733283116973812,
            0.029154873264018222,
            0.06509631728591554,
            0.07047351488676068,
            0.03371937502384719,
            -0.020601784468128534,
            0.04106905635310271,
            -0.08640905020977538,
            0.05448967849913568,
            0.012883918672727175,
            -0.10640400585559678,
            0.0012959761134886478,
            0.009737493714100988,
            0.07513855052080297,
            0.08569099899375887,
            -0.01132812828635738,
            0.005975721103711579,
            -0.000501318536126535,
            -0.023978247388802113,
            0.06144210025210936,
            -0.0002470453869753258,
            0.00959488621737903,
            -0.008123549414115576,
            0.09808604391554503,
            0.002930548563391381,
            0.010081121205882834,
            -0.09212312783397376,
            0.014794506142113327,
            0.0497459457965517,
            -0.10133564251175968,
            0.06843832905125817,
            0.07766546334645767,
            -0.0387511811399316,
            0.06894017355672756,
            0.09922093535554341,
            -0.03637674794120608,
            -0.16782881388360157,
            0.018407023270802413,
            0.06030479733429425,
            0.015186696458000656,
            -0.03456108289815217,
            -0.0542353217689731,
            0.03260247692136708,
            -0.020052133817961885,
            0.030080506688349294,
            -0.0033738189633365436,
            0.060495503971045396,
            0.02111121254231897,
            0.03071869935911606,
            0.08420297692249773,
            0.030073295462833053,
            0.031942382114974625,
            0.08060915515701604,
            0.018091976412603614,
            -0.03114841153403725,
            -0.021503571206225484,
            -0.04785642159518145,
            0.04878568642770268,
            0.028788237654759543,
            0.08730289839196122,
            0.010068678593228644,
            -0.08753766597472697,
            -0.09206735481333146,
            0.0023179114365369214,
            0.04026431541825807,
            0.01105924227011365,
            0.09398377769894183,
            -0.05707074207172433,
            -0.05014745588131686,
            0.14056095201853896,
            -0.1004546995363604,
            0.04505974872828542,
            -0.05771395228082485,
            0.007236156945386461,
            -0.047947676885769085,
            -0.014420396750740095,
            -0.04087959946387834,
            -0.1085461205350476,
            -0.08087839249391274,
            -0.06396174901167558,
            -0.005920422962620727,
            0.08539278936791865,
            -0.036021205967022296,
            0.05135083122139496,
            0.030495239099499857,
            0.06585204631725483,
            0.030061210310372354,
            -0.06103782932900838,
            0.00921439130660238,
            -0.029267093071943768,
            0.027833770714041667,
            -0.10055776336634697,
            0.0762816428939806,
            -0.030458492392882213,
            -0.06049381304997893,
            0.06809077559730421,
            -0.04192830840173869,
            0.06389791275071104,
            0.07015142194495325,
            -0.03923479226931699,
            -0.053425266593238374,
            0.05767423990902019,
            -0.07401937046058593,
            -0.0801312736813109,
            -0.04857323779270336,
            -0.08873176174100332,
            -0.05831486121076996,
            0.07708037515399213,
            0.08746768448471455,
            0.03822019834904822,
            -0.04027970088248616,
            0.08901426669356205,
            0.05728251438561774,
            -0.07264413539571274,
            0.03897774027115418,
            -0.05483596483404198,
            0.053788486548476434,
            -0.13924580002865972,
            0.011429817700956186,
            -0.03579492050545637,
            -0.026617951567410203,
            0.02048728814738217,
            -0.07370757650257158,
            0.15948370991740346,
            -0.04988092752971661,
            0.030456867708816313,
            0.08242177355700561,
            0.06704565781004349,
            0.06392023025855413,
            0.028722916575975258,
            0.07999172850247624,
            0.05836092859562179,
            0.03288929627958347,
            0.029980254061334293,
            -0.004502775607710185,
            -0.0666967020232523,
            0.02548597269270248,
            0.08461807260556449,
            0.04289141238989795,
            0.043818240467978595,
            0.10396005768609302,
            -0.05708358383988306,
            0.10779991904519023,
            -0.010244963939007657,
            -0.08941015949379627,
            0.05566307139026792,
            -0.01925102749649424,
            -0.0018296810487943656,
            0.008217879098807451,
            -0.05011243076110828,
            0.0545883330886906,
            -0.03867424333579349,
            0.07086388722997496,
            -0.019379054934110684,
            0.035076918398377566,
            0.03674031154332013,
            0.0151241149909873,
            0.02717618651517962,
            -0.044024764192129306,
            -0.09308116686342259,
            0.004228730181822384,
            -0.033951300525112686,
            0.007542117948391265,
            0.06506478954596068,
            -0.033461940067332975,
            0.06489597244254618,
            0.01146709505651511,
            0.05420004885053394,
            -0.033792450698830176,
            -0.01868190629353449,
            -0.008569842913637066,
            -0.014494100351743505,
            -0.06914953179868212,
            0.03917686888036972,
            0.05161593441157889,
            0.0775166255175817,
            -0.07970331092772275,
            -0.005636002795862847,
            0.026834264450934738,
            0.13871694633898132,
            0.07189463858502025,
            -0.006478574432075382,
            0.02298543709086979,
            -0.03534301867182168,
            0.030242986792572774,
            0.009705882989450817,
            -0.06852123210535986,
            0.017045071970452335,
            0.11792847317335259,
            0.07366412400229565,
            0.09294212591444019,
            -0.013962549908854453,
            -0.01880930296414143,
            -0.016584814877409045,
            0.015128374023394255,
            -0.013005627736180482,
            0.06729255872485311,
            0.12196491772910163,
            -0.08883751615773318,
            -0.0075538215480335895,
            0.05680626650485048,
            0.09228253610001792,
            0.08600085274222989,
            -0.1009786933109006,
            -0.003889833006208972,
            -0.049982426671228805,
            0.07549015908518561,
            0.0752688701921667,
            -0.021801977980740444,
            -0.04683074687763274,
            -0.02550826265733336,
            -0.03302474452191526,
            0.04845893572100333,
            0.055716495827982083,
            0.047291133232991514,
            -0.024568484954279123,
            0.025753077475570783,
            -0.0745235641831699,
            0.0490609364112259,
            0.07705560239172732
           ],
           "yaxis": "y"
          }
         ],
         "name": "0"
        },
        {
         "data": [
          {
           "hovertemplate": "Community=1<br>Time=1<br>Dimension 1=%{x}<br>Dimension 2=%{y}<extra></extra>",
           "legendgroup": "1",
           "marker": {
            "color": "#636efa",
            "symbol": "circle"
           },
           "mode": "markers",
           "name": "1",
           "orientation": "v",
           "showlegend": true,
           "type": "scatter",
           "x": [
            -0.7298950341722871,
            -0.7060197674047591,
            -0.6748545143254057,
            -0.6470409857206167,
            -0.712370822634868,
            -0.655926743673628,
            -0.6923982570506548,
            -0.6854798937663874,
            -0.6516776507253511,
            -0.6947621967113479,
            -0.6983670308952459,
            -0.6595756649158511,
            -0.6742725988577385,
            -0.6488684460106228,
            -0.7158695831009416,
            -0.6541939704964882,
            -0.7066964222025739,
            -0.7048727070266817,
            -0.6900683452801643,
            -0.6777705399052805,
            -0.6910249651439265,
            -0.6633792504107909,
            -0.725854779831534,
            -0.7466820086462562,
            -0.7245533415014693,
            -0.6859421655280395,
            -0.7064262976755297,
            -0.6601469019712858,
            -0.6932859402164899,
            -0.6958744370424277,
            -0.7276287550648767,
            -0.6706891072106075,
            -0.7112562637984021,
            -0.7323042738467519,
            -0.7195200923267873,
            -0.6858160349952966,
            -0.7273024045074248,
            -0.6965992819176369,
            -0.6604136591490677,
            -0.648412239385235,
            -0.7220201281255495,
            -0.7147052736267139,
            -0.6828270252279964,
            -0.7313018016967674,
            -0.7282544585117039,
            -0.7346326464492868,
            -0.6706362462971517,
            -0.722179264255988,
            -0.70567199930507,
            -0.6876027366456752,
            -0.7396569341653035,
            -0.6903724505093503,
            -0.7108217340193034,
            -0.712034457210429,
            -0.6994144626471598,
            -0.7039774929388664,
            -0.7135070262413596,
            -0.7128853323594899,
            -0.7012457425817491,
            -0.6511433715365489,
            -0.6733462894072626,
            -0.6843444113775228,
            -0.6856296972817426,
            -0.709042448223923,
            -0.7043980661682134,
            -0.6774029922501273,
            -0.6854856355762633,
            -0.698348882334434,
            -0.7017344340175904,
            -0.665384894300936,
            -0.6886779326545708,
            -0.7033380236359791,
            -0.6697456792288725,
            -0.6311270617656012,
            -0.7356597610928788,
            -0.7271782747196773,
            -0.7199430957532041,
            -0.6945418326941423,
            -0.7097793726928624,
            -0.7214286878389228,
            -0.7237930610602294,
            -0.6939386464290699,
            -0.6660694636616942,
            -0.6826342301577282,
            -0.6953394000161769,
            -0.7147695460290945,
            -0.6996733130876076,
            -0.6939581940178344,
            -0.7162700892853561,
            -0.684238459252377,
            -0.7303005676245441,
            -0.6769672340679411,
            -0.6748151891996766,
            -0.6474830620286041,
            -0.6963121469759339,
            -0.6370097108701105,
            -0.7140156971176563,
            -0.7195218921215573,
            -0.6691713197484114,
            -0.6820962831323424,
            -0.6909872869285791,
            -0.6697587622440546,
            -0.7058531398396849,
            -0.6984667521786371,
            -0.677171190168525,
            -0.7041429874304052,
            -0.6667075890886511,
            -0.7424922314741228,
            -0.6875578539413939,
            -0.689168768698266,
            -0.6881644405826881,
            -0.7079288110252083,
            -0.7390443146834875,
            -0.6982892029035525,
            -0.6913365060865876,
            -0.699447414762185,
            -0.6957035296900167,
            -0.7273429547953659,
            -0.6900469932612054,
            -0.7110641001602562,
            -0.6848146872934485,
            -0.7212984499634457,
            -0.7005000599474778,
            -0.6948648616324289,
            -0.7067210977290173,
            -0.6420710565542062,
            -0.715577443125162,
            -0.7342142467513681,
            -0.6512063276752009,
            -0.730746392507048,
            -0.6597887240947343,
            -0.6654632962891242,
            -0.6819724823355577,
            -0.7176705503795822,
            -0.6389227961532257,
            -0.724178884877725,
            -0.6770554526611022,
            -0.6854004545921702,
            -0.6891255997266543,
            -0.7027687194374895,
            -0.684456173293408,
            -0.7088718855943701,
            -0.6713381346068066,
            -0.7189760511953289,
            -0.7209593123230535,
            -0.7277481839740433,
            -0.6954440192480212,
            -0.6905882012305462,
            -0.706582115337668,
            -0.7186987651624992,
            -0.6777620964963688,
            -0.7069622928359195,
            -0.6583170784962731,
            -0.6753246225601135,
            -0.716697992208402,
            -0.7369384595731274,
            -0.6732007901696654,
            -0.6882756617580371,
            -0.7012066373608103,
            -0.7091775650233114,
            -0.6918531688437698,
            -0.7036053295880325,
            -0.6982004141289843,
            -0.7266224265653887,
            -0.6758699856168326,
            -0.6690895506090269,
            -0.6661224673506622,
            -0.6763970228302817,
            -0.7116130540239144,
            -0.6343493947628571,
            -0.7169231842112017,
            -0.6984892978836729,
            -0.6999440108654761,
            -0.6797706921029086,
            -0.7173806935713541,
            -0.7163571924650093,
            -0.687153319780779,
            -0.7174756068506428,
            -0.7125875435466767,
            -0.6512175417269253,
            -0.7665692053605331,
            -0.7157231325849704,
            -0.6993376340110519,
            -0.7249221942329789,
            -0.6995657937931733,
            -0.6563480177233487,
            -0.6951128222114378,
            -0.666749509360979,
            -0.6901249908823979,
            -0.6871978650993326,
            -0.6923919800385655,
            -0.729088018530131,
            -0.7144589647385055,
            -0.6992080031661114,
            -0.6793789845207834,
            -0.6494786457653631,
            -0.6779723798240299,
            -0.7027126749281289,
            -0.6804726640463352,
            -0.6876644822779386,
            -0.6846431176594756,
            -0.6608607422153148,
            -0.6713879180841736,
            -0.6540203248300094,
            -0.7028601911716712,
            -0.6674825810242808,
            -0.7076457696420335,
            -0.7034808717026632,
            -0.6714309393847897,
            -0.7203331811586866,
            -0.7092669690919088,
            -0.7108993246253432,
            -0.6756365951197313,
            -0.6846989397236043,
            -0.6921261386639878,
            -0.751004794710304,
            -0.7128539536852561,
            -0.6960913504949701,
            -0.7277667154355877,
            -0.6991448004608362,
            -0.6891498466856011,
            -0.7198480739328893,
            -0.694496543631631,
            -0.7091493881287632,
            -0.7175903076083561,
            -0.697248333110528,
            -0.6991623752521539,
            -0.7177533067706764,
            -0.678101349109564,
            -0.6707884998340096,
            -0.6926584793725141,
            -0.7337052700714422,
            -0.7291742733781472,
            -0.7159449217473987,
            -0.691036605837526,
            -0.714469879868395,
            -0.7295667716742795,
            -0.6998916897954968,
            -0.7110682499490542,
            -0.7122595770201956,
            -0.6879229502571613,
            -0.6794647468988906,
            -0.6445951726964033,
            -0.7332542374707858,
            -0.6901623418366075,
            -0.6994146130326234,
            -0.6602027918493517,
            -0.6739607372493789,
            -0.7181106296510618,
            -0.7386957146692394
           ],
           "xaxis": "x",
           "y": [
            -0.17943742290360792,
            -0.2999773213035065,
            -0.2471563480646904,
            -0.2598893329891383,
            -0.18552798000656937,
            -0.33088519032707325,
            -0.23591351944611608,
            -0.27112401319380053,
            -0.2032115574891726,
            -0.28377759703341954,
            -0.19731282778935763,
            -0.29785532251798463,
            -0.30053338468534974,
            -0.19418427457722118,
            -0.21066742500216204,
            -0.20566606185954592,
            -0.24384802696213861,
            -0.2626079346756485,
            -0.3357322377993907,
            -0.34549517935568125,
            -0.20610986071371123,
            -0.189516742202286,
            -0.20309165693418216,
            -0.13930165565036295,
            -0.23039093992025592,
            -0.219260484973129,
            -0.2216199660459981,
            -0.2854780749562457,
            -0.2922922802167167,
            -0.2004078737129837,
            -0.1412184387370278,
            -0.2936325210420895,
            -0.20943696015065544,
            -0.18605563006527767,
            -0.2515041091128019,
            -0.18247554158602336,
            -0.2622254991733163,
            -0.2184486420654722,
            -0.19436133343475762,
            -0.2047605823079091,
            -0.23178563119735868,
            -0.2122320734739315,
            -0.2106525977172845,
            -0.23156806368762053,
            -0.19244285634123945,
            -0.24831720378137026,
            -0.2168210856006384,
            -0.2821291644773886,
            -0.20372178766064067,
            -0.16688325865018905,
            -0.2756696924982862,
            -0.2993571820306033,
            -0.15589320274124863,
            -0.28938158859458274,
            -0.1388705406469711,
            -0.2743879247273331,
            -0.19293367040099646,
            -0.248998879787967,
            -0.18158645542819166,
            -0.26770604114535557,
            -0.27534950095307736,
            -0.29702462799083285,
            -0.2541342590708027,
            -0.2580202201102816,
            -0.2059876105271468,
            -0.17145578130902833,
            -0.26640295724314444,
            -0.20762756142973177,
            -0.2197294297608118,
            -0.23911181604713855,
            -0.1656754071739642,
            -0.16451702675992916,
            -0.28521668290559077,
            -0.21806671393246532,
            -0.23375739185003722,
            -0.234612880561004,
            -0.24447105067397545,
            -0.24094277120014543,
            -0.27689562378410587,
            -0.11739465205815172,
            -0.1589400264343097,
            -0.20208194360104084,
            -0.19243814493687766,
            -0.27333067017830276,
            -0.1758118714250207,
            -0.17053184302291352,
            -0.2416185258084135,
            -0.18977787443338326,
            -0.2193438452945842,
            -0.29275922126089604,
            -0.18935402371973736,
            -0.3284986159806587,
            -0.25180878169102816,
            -0.3295362730721241,
            -0.19688251395056489,
            -0.22667113656384297,
            -0.22741275772221278,
            -0.157071425947153,
            -0.31086301646608877,
            -0.18369916851217152,
            -0.22982997304377725,
            -0.3255658051335748,
            -0.29540977296305376,
            -0.26463149176471723,
            -0.2906491563154958,
            -0.25330878330043793,
            -0.2729385570439496,
            -0.2068399768854143,
            -0.3442080427130395,
            -0.3270127512661077,
            -0.1490295436255924,
            -0.24090416431557188,
            -0.17162477424290187,
            -0.2925722258154333,
            -0.21731562437768548,
            -0.18580540575202376,
            -0.2664035323643944,
            -0.19473350531291456,
            -0.19713442657279406,
            -0.2967838148528611,
            -0.18991911893158492,
            -0.19644750591626928,
            -0.3015264147265206,
            -0.1479456147723696,
            -0.26525991264600346,
            -0.2623837417527596,
            -0.30287956452452486,
            -0.24018850198114391,
            -0.2975973404939297,
            -0.25016823641586844,
            -0.3574675455952109,
            -0.2590959056685458,
            -0.31901426068777716,
            -0.16813200063679948,
            -0.21424661839132747,
            -0.26569464590298175,
            -0.2511005432006716,
            -0.31900062829591325,
            -0.2620148414333309,
            -0.14458200029589427,
            -0.17721593321119408,
            -0.22271651409212292,
            -0.18053184350595672,
            -0.29176762612861185,
            -0.3018052589808031,
            -0.16676217003543933,
            -0.18449705892526883,
            -0.24908840676105057,
            -0.10796881604123448,
            -0.19166181374272243,
            -0.20963037021869532,
            -0.3075630723758354,
            -0.29907211660606015,
            -0.2712439710296468,
            -0.2500736004224386,
            -0.2095990389245636,
            -0.361105025046817,
            -0.28671825237602094,
            -0.28924230874489576,
            -0.2756985125104083,
            -0.20568511795269911,
            -0.3344425250784165,
            -0.3329401686981022,
            -0.1741645842697235,
            -0.23976619108367753,
            -0.28518296132020743,
            -0.4018359071371324,
            -0.3063509434284162,
            -0.24256382593588383,
            -0.25363122550747436,
            -0.2278214644495851,
            -0.21323949007123033,
            -0.19513183229697995,
            -0.21091217489321898,
            -0.22849681112402706,
            -0.2696725094281036,
            -0.24515297011769838,
            -0.2869446677332322,
            -0.2269750143357175,
            -0.27137081412491226,
            -0.19036479908976597,
            -0.24294980405070576,
            -0.23273354429729345,
            -0.10366582211021692,
            -0.3042288056829482,
            -0.2135422127463437,
            -0.19133412871920197,
            -0.23662698888187228,
            -0.19146211724795378,
            -0.22614530741368283,
            -0.28489730289316395,
            -0.21749588499995193,
            -0.2466203338108732,
            -0.29929950428820656,
            -0.21701673533426516,
            -0.2726903834493273,
            -0.23768767999109502,
            -0.1621781074109752,
            -0.215685376532132,
            -0.24593003805429087,
            -0.32803063601978033,
            -0.3221459126857026,
            -0.22551105966281512,
            -0.22006275476017742,
            -0.11812460221674007,
            -0.23524828982706428,
            -0.2276592665816149,
            -0.18905167524301075,
            -0.2692648014513204,
            -0.22933106968452535,
            -0.24389327050475668,
            -0.23840925815788855,
            -0.3577509150232563,
            -0.25174384996382765,
            -0.1367726030741954,
            -0.21117901454029697,
            -0.19052811649276727,
            -0.27476736504865046,
            -0.23220345959222646,
            -0.22182198681265008,
            -0.21695303380944925,
            -0.21597924630615375,
            -0.236796246229938,
            -0.3704549946808807,
            -0.25722572375744984,
            -0.18393791528963244,
            -0.2229419638701573,
            -0.18914123621048082,
            -0.2098760194059078,
            -0.2585266819853829,
            -0.21722541572304943,
            -0.19120426907179616,
            -0.2663097340621747,
            -0.27117669034268305,
            -0.12520692128092936,
            -0.23750762696702019,
            -0.33720918063262684,
            -0.12867862246182704,
            -0.21503165456310405,
            -0.19341408861363302,
            -0.23138271654409145,
            -0.22651816969055824,
            -0.23578616459066937,
            -0.2291320250140218,
            -0.30365845945453274,
            -0.3392031329353835,
            -0.2788088220652503,
            -0.24294641303367998,
            -0.23436743474615293,
            -0.23694058637908952
           ],
           "yaxis": "y"
          },
          {
           "hovertemplate": "Community=0<br>Time=1<br>Dimension 1=%{x}<br>Dimension 2=%{y}<extra></extra>",
           "legendgroup": "0",
           "marker": {
            "color": "#EF553B",
            "symbol": "circle"
           },
           "mode": "markers",
           "name": "0",
           "orientation": "v",
           "showlegend": true,
           "type": "scatter",
           "x": [
            -0.4860896326754302,
            -0.4732607485996322,
            -0.5072631649341444,
            -0.44823896315024425,
            -0.4935832607305861,
            -0.48538498558256543,
            -0.47126748504859206,
            -0.4705142316916573,
            -0.5007732196019319,
            -0.4724753245027433,
            -0.49760809430594555,
            -0.42547224490937335,
            -0.48970056213546576,
            -0.4491523880339929,
            -0.5434232390343933,
            -0.471388790693851,
            -0.45261444167771797,
            -0.5048403941372779,
            -0.46227815981044645,
            -0.4790217457651142,
            -0.5529758459770475,
            -0.547630890502458,
            -0.4858974223272831,
            -0.4883686281653275,
            -0.5142118245424505,
            -0.5176357093039443,
            -0.46120843017977464,
            -0.4810755773057649,
            -0.4843665599244168,
            -0.4885819853915702,
            -0.5005337756568307,
            -0.47132213466758804,
            -0.4344493807530673,
            -0.5227092995822441,
            -0.5091360457466008,
            -0.5052717404685826,
            -0.4765349925847993,
            -0.501773242679155,
            -0.4831114978415044,
            -0.4147820411489131,
            -0.47821661371900454,
            -0.40441583085905186,
            -0.4804483018563066,
            -0.447732494300743,
            -0.5040406828240488,
            -0.528773564961209,
            -0.4748994308205462,
            -0.44102156517094687,
            -0.48417336282467366,
            -0.45591444859431407,
            -0.5135319386170696,
            -0.4983930017278842,
            -0.4919295776124709,
            -0.5462425127402989,
            -0.49645198344843244,
            -0.48258929862405175,
            -0.4140613503460208,
            -0.4580376278330236,
            -0.4453966915495894,
            -0.48533539560763383,
            -0.5015352218030383,
            -0.46402675243027025,
            -0.5256065593201381,
            -0.5119756309443372,
            -0.4792418365316687,
            -0.5036654018118081,
            -0.46510890543233097,
            -0.45185028899905827,
            -0.5352221037899347,
            -0.4584709015998524,
            -0.4751758002231896,
            -0.4601613103404249,
            -0.44785978959413786,
            -0.46473100437374093,
            -0.44419173321263405,
            -0.4681730233760558,
            -0.5025676470211389,
            -0.4746127880682179,
            -0.467467868772826,
            -0.4782555493783286,
            -0.5118449648546076,
            -0.4637701639956513,
            -0.48617233309900343,
            -0.49081510046771554,
            -0.5055404045030958,
            -0.4399479654462391,
            -0.47710477929806083,
            -0.48736401613746333,
            -0.47699280374030867,
            -0.4270857127970694,
            -0.5075997542711617,
            -0.48539057205395303,
            -0.503283261318723,
            -0.4626647061934854,
            -0.5514254865287387,
            -0.5246706371533969,
            -0.45060847803934007,
            -0.5343588768951333,
            -0.48370998059806974,
            -0.4857396292356093,
            -0.4914681846263282,
            -0.5027362449101891,
            -0.47930074375000853,
            -0.491629680889464,
            -0.5328846589123899,
            -0.4830969715453797,
            -0.48880692056719827,
            -0.4937455601436637,
            -0.4791315011902256,
            -0.5016367402620645,
            -0.4815019500474104,
            -0.5370549450775197,
            -0.4843841685862056,
            -0.51479869787885,
            -0.5243660973664989,
            -0.4753290247525431,
            -0.4869378667129893,
            -0.46902162771416256,
            -0.5171965160772134,
            -0.49715977828565433,
            -0.510089879835088,
            -0.4027562794569116,
            -0.503534346179187,
            -0.543584040084955,
            -0.4813322600884586,
            -0.5128260610505111,
            -0.45979045864802853,
            -0.5232912028612665,
            -0.44184452622498094,
            -0.5347199596710117,
            -0.3867880119621452,
            -0.43509123310568937,
            -0.45722028328417963,
            -0.47749689772208836,
            -0.44146847737769584,
            -0.4791557394803551,
            -0.46405361782895255,
            -0.4936519364735463,
            -0.45352479314967353,
            -0.46121733840891643,
            -0.45455851020858407,
            -0.5044227905163919,
            -0.48150316793648,
            -0.46249839956021066,
            -0.44572274847468707,
            -0.5213702143757538,
            -0.4765213142327883,
            -0.4254778612588447,
            -0.4737256028344878,
            -0.4806873099535137,
            -0.46408290178703043,
            -0.4571068512724277,
            -0.4934005599877397,
            -0.4622430194254611,
            -0.49243264532236325,
            -0.4442702999551311,
            -0.44919710389603584,
            -0.46516802616994846,
            -0.5097548898965518,
            -0.5265284258413008,
            -0.44167461611006004,
            -0.4853688560414301,
            -0.49055611068248656,
            -0.5092914581327314,
            -0.49693148990047264,
            -0.533266163381002,
            -0.4827835138455736,
            -0.47835595079154214,
            -0.4798226467731171,
            -0.5071074126545964,
            -0.5181633679751665,
            -0.46034098463781664,
            -0.5188604352064273,
            -0.5219874399339725,
            -0.47888455561366505,
            -0.4758145454677954,
            -0.5305023916242027,
            -0.4604591813749247,
            -0.5377740740146418,
            -0.49746480838641377,
            -0.488328351663056,
            -0.5216043029586788,
            -0.45642046386385027,
            -0.5109036085168234,
            -0.44231539050428637,
            -0.4302832873681817,
            -0.4754368899290213,
            -0.4403884999299728,
            -0.4273850531855042,
            -0.4853677756126722,
            -0.5251761313605618,
            -0.508861407801604,
            -0.4637050031047425,
            -0.4896964246647873,
            -0.443691107764529,
            -0.4689535844854019,
            -0.4744689779065383,
            -0.5053468236585081,
            -0.4534311633472006,
            -0.5022859201218437,
            -0.4469459440260292,
            -0.47261539391539203,
            -0.519622686885059,
            -0.5273219613667037,
            -0.48935372864884136,
            -0.4817404658250556,
            -0.48000250680138495,
            -0.46591962487276617,
            -0.4474513582641663,
            -0.4953685401621991,
            -0.45563072854833664,
            -0.502952173811287,
            -0.5122374160098937,
            -0.45938047112839586,
            -0.48073296504895296,
            -0.43225349029706256,
            -0.4852160525402849,
            -0.4606921205293627,
            -0.4707134586961719,
            -0.5316036082037171,
            -0.5193068390780758,
            -0.5153025686109707,
            -0.45680251059973515,
            -0.4660108909119541,
            -0.43218833271656637,
            -0.4530981566935355,
            -0.5090528258186672,
            -0.4475664603227398,
            -0.49613500944234334,
            -0.4497025744448322,
            -0.5075696963965061,
            -0.48104009619323107,
            -0.4707040240742291,
            -0.5371518447115482,
            -0.4828886287209194,
            -0.424514285443172,
            -0.4660281022140031,
            -0.47976720342211177,
            -0.46844562206230383,
            -0.4927667347344293,
            -0.4929272865874119,
            -0.4755632596445714,
            -0.4780177167825137,
            -0.5171165938789162,
            -0.4538494192151114,
            -0.5505699991464953,
            -0.4517180266665938,
            -0.5088777944202403,
            -0.4444586063893503,
            -0.508930173573312
           ],
           "xaxis": "x",
           "y": [
            0.07158850090939956,
            -0.0165621838193412,
            -0.009192814557022066,
            -0.10755680407901098,
            0.021925704474606785,
            -0.005520009904336523,
            -0.042618271131802145,
            -0.0014572594180534905,
            -0.0015741099454687636,
            0.01646212031992995,
            0.011748608999596982,
            -0.027412977143785967,
            0.008259784184211362,
            0.13858415074427557,
            0.015609963854167845,
            0.08854497624861705,
            -0.03126135880138638,
            0.04048685533087038,
            0.10653773355484238,
            0.09472725153470601,
            -0.06241893271641287,
            -0.05549835177337655,
            -0.05972512056911579,
            -0.05260258937390209,
            -0.028447861081978974,
            -0.06101005746433568,
            -0.031786182768110245,
            0.04121859933859361,
            0.10315476103910562,
            -0.07522776233820762,
            0.06453520602551506,
            -0.02845517028396858,
            0.03844586566539086,
            0.019782999730743076,
            0.04958955604357724,
            0.06851032307183615,
            0.08716028571677,
            -0.09090145771332964,
            0.014312533070986197,
            0.06179965022507845,
            0.009012243025157862,
            0.03432212027820463,
            0.02363878303048722,
            0.02005659309061094,
            -0.11438847594034027,
            0.018586232727814716,
            0.0691051980594666,
            0.052017807137891475,
            -0.05036300517585997,
            0.019007374155583692,
            0.062464776164898636,
            -0.12221286352185547,
            -0.16489719637680064,
            0.035589512802924446,
            -0.07170118413530023,
            -0.01653724468367335,
            -0.0064301674321622345,
            -0.05103618898637986,
            0.19412315171512573,
            -0.018579515546362817,
            0.00257603194377414,
            0.060397192511736614,
            0.010001774229058857,
            0.12433326759402226,
            0.021752051372121453,
            0.040643882650093895,
            -0.07905747150198703,
            0.005381765701094774,
            0.09193743710489032,
            -0.003071414909552162,
            -0.012365629029629292,
            -0.07614461721347479,
            0.017209649102811374,
            0.03712356144946213,
            0.08572887086346469,
            -0.038901138559443986,
            -0.03367536151106734,
            0.02012223814726035,
            0.05151063066695759,
            -0.055204720031440786,
            0.05644944275188381,
            0.12092224567917542,
            0.12245216033222657,
            -0.12066166218066063,
            0.0325452321964585,
            0.0033714742046563675,
            0.011215355787640118,
            0.06719996995003087,
            -0.02264217794686765,
            -0.03697879909241702,
            0.05648588228046835,
            0.00045703304171777976,
            0.0978995358642798,
            0.09190850719659102,
            0.10581901186986949,
            0.07089836144845779,
            -0.03418025453349946,
            -0.04898385409697069,
            0.008635394829202569,
            -0.011552487473951868,
            -0.03778485387463482,
            -0.06584419011959804,
            0.0415391809098241,
            -0.09222832424452193,
            -0.0868339912429729,
            -0.05501872164428615,
            -0.07988551010663547,
            0.0931783676662676,
            -0.11630486850474177,
            -0.02802056939825755,
            0.04457983543416488,
            0.004385027202378117,
            -0.011560333354659433,
            -0.07965893326973993,
            0.0011705136403287386,
            -0.04577301397308367,
            0.031035312897835912,
            0.006950701056806399,
            -0.12674357177663564,
            -0.06457415441927873,
            -0.018096615110158296,
            0.1377887255377023,
            -0.004442070034355899,
            -0.0037045825005789655,
            0.08594132440079255,
            0.14449510968778906,
            0.007362789141661419,
            -0.04504523334525499,
            -0.005145299845607961,
            -0.04123736583413279,
            -0.12899758652025622,
            -0.10786222339306385,
            0.06025976440408447,
            -0.13296578978490003,
            0.040686319557793164,
            -0.049408619109449554,
            -0.004699402307247275,
            0.2101716496894115,
            -0.024017651327652823,
            -0.03260272129141697,
            0.04857941215298919,
            0.04119605252612098,
            0.06617443261908562,
            0.005614163217302607,
            0.041946085323893795,
            -0.04921415432254604,
            -0.02144847008218357,
            -0.018733491602351965,
            0.04900377898699061,
            0.10743042101106175,
            0.09393690183489702,
            0.01595601754948939,
            -0.028267638696357174,
            0.036113628946688965,
            -0.052108929769410506,
            0.08489816714339285,
            0.007355947160933223,
            -0.029274217630122782,
            0.04690250626932838,
            0.03575740040362413,
            0.021084672332835484,
            0.07976392167595546,
            0.10556337189573442,
            -0.044950278703159555,
            0.015857145312364013,
            -0.04616776660810742,
            -0.03488655990003205,
            -0.01125260300318467,
            -0.004004751312406854,
            -0.06876931980119441,
            0.12201226577540093,
            0.013451939855252738,
            -0.017745234030576432,
            0.12273904771232248,
            -0.0827216420718729,
            0.12531575454410046,
            -0.08958088627485038,
            -0.07521610258171603,
            0.14254879979880622,
            -0.06387979364858988,
            0.06048192362657178,
            -0.02511164764989023,
            -0.02836485481245139,
            0.12278680193631965,
            0.015993464275451917,
            -0.019326792207306796,
            -0.07223053287797494,
            -0.0814028265431015,
            -0.1006661944053091,
            -0.12294057128160847,
            -0.018529185590799916,
            -0.03467500766254362,
            -0.008310404088745369,
            0.009656106557104232,
            0.06958707037429637,
            -0.00028216270261964137,
            0.07381576768886809,
            0.13688170770562538,
            -0.06355917403918568,
            -0.022694716945141694,
            -0.015843193709972718,
            -0.01709844961497058,
            0.01501387012269234,
            0.05042667604568535,
            -0.04520437367241988,
            -0.09757881434891534,
            -0.07360835111666321,
            -0.024259108591692398,
            -0.009206596645095638,
            0.037604926094448765,
            -0.02231077529188935,
            -0.054466824187840136,
            0.006944222864915409,
            0.035902269410132595,
            -0.05645924092456733,
            0.06894237417550687,
            0.025010718189551334,
            0.08180850623410703,
            0.13846505489440453,
            0.11104152792317251,
            0.044178785670096477,
            0.032388248311342314,
            -0.0844662182641906,
            0.05708257208058835,
            0.05744020894739188,
            0.055224247117883346,
            -0.07292208593747412,
            0.0020762661673353424,
            0.0076670131708343305,
            -0.004436674644442183,
            0.0200300654434747,
            0.07392782492065843,
            -0.052834152237904164,
            -0.0974922220369537,
            -0.0026588176513101178,
            -0.045048083430084256,
            0.09038480982049454,
            0.04688689277694504,
            -0.054985540904394344,
            0.017822049669907466,
            -0.007036628120047925,
            -0.023936549520990155,
            -0.11443172557942394,
            0.017861738806406232,
            -0.02426825988484494,
            -0.010345063630960553,
            0.01966239596730915,
            -0.03036982583034081,
            -0.026178098844462188,
            -0.04226918733078233
           ],
           "yaxis": "y"
          }
         ],
         "name": "1"
        },
        {
         "data": [
          {
           "hovertemplate": "Community=1<br>Time=2<br>Dimension 1=%{x}<br>Dimension 2=%{y}<extra></extra>",
           "legendgroup": "1",
           "marker": {
            "color": "#636efa",
            "symbol": "circle"
           },
           "mode": "markers",
           "name": "1",
           "orientation": "v",
           "showlegend": true,
           "type": "scatter",
           "x": [
            -0.724346360816501,
            -0.696730928806859,
            -0.6614136523834098,
            -0.6515580954866245,
            -0.7245859968533352,
            -0.6829788789264506,
            -0.7060143694568466,
            -0.6809586979705063,
            -0.6817439298660877,
            -0.6735128472619724,
            -0.7122033578251026,
            -0.6748999356009406,
            -0.7271135831576567,
            -0.7240542906344075,
            -0.7050138050590979,
            -0.684491637664049,
            -0.6738986420190771,
            -0.71302452271422,
            -0.7026203277820451,
            -0.6734960226014837,
            -0.7111181550860338,
            -0.6813563783362321,
            -0.7204720260792803,
            -0.6989256787349387,
            -0.6918993866652231,
            -0.7106885390926436,
            -0.7115019382124859,
            -0.6830044642881956,
            -0.6707223335573337,
            -0.7404257683312895,
            -0.7058522797750799,
            -0.6755540185013394,
            -0.6976667435073548,
            -0.7423092226178728,
            -0.6914638740235763,
            -0.7149021793162971,
            -0.705873951337229,
            -0.6847727907230308,
            -0.6980326220712039,
            -0.6396187592416248,
            -0.7177282153057268,
            -0.6819836697936443,
            -0.6765433161783696,
            -0.7133226895978997,
            -0.6928590031907401,
            -0.6894598086851849,
            -0.6681162516964837,
            -0.7223176178952937,
            -0.7043191262054657,
            -0.686669334563446,
            -0.717083299771932,
            -0.6841421760294915,
            -0.7286851773072177,
            -0.7073438946087045,
            -0.6763226133133466,
            -0.6937213648890475,
            -0.6814595912377817,
            -0.72134736842251,
            -0.7032715860193022,
            -0.6894824245428388,
            -0.6734627244318449,
            -0.707415095068582,
            -0.6632672167033062,
            -0.7091031787398777,
            -0.693890752225788,
            -0.7204091700196932,
            -0.711260539314884,
            -0.74213970688566,
            -0.7323955088963803,
            -0.6904045238571853,
            -0.6972375023893056,
            -0.7051379627092145,
            -0.6692050126394135,
            -0.6620841076613011,
            -0.7091640223928742,
            -0.7286617349255857,
            -0.6692464993535066,
            -0.7170935048882305,
            -0.7490099462220416,
            -0.7063797796834338,
            -0.7006411813087797,
            -0.6874171949553441,
            -0.6906219182128753,
            -0.6744373302953576,
            -0.6803406385471844,
            -0.6982459361538695,
            -0.7035585297330438,
            -0.6865086366170103,
            -0.7097220794831843,
            -0.7172957230374241,
            -0.7319236730532932,
            -0.6993879730834749,
            -0.6744121869224465,
            -0.6628385635544747,
            -0.7109233560704499,
            -0.6581308048344929,
            -0.6895340547720962,
            -0.6981303513595338,
            -0.6482549351378231,
            -0.7047586166217168,
            -0.6854404383329311,
            -0.6800688610245602,
            -0.7138612596896394,
            -0.6932959491259698,
            -0.6349609451957496,
            -0.6973696621408176,
            -0.6733055124515629,
            -0.7088283053439646,
            -0.6758823624784873,
            -0.7199424092576369,
            -0.6780180310084456,
            -0.7146480494671784,
            -0.7287131610939596,
            -0.6999103792622549,
            -0.7168757836945655,
            -0.709127359042999,
            -0.6915829254376795,
            -0.7243738067381502,
            -0.6983332004630577,
            -0.7288984709345365,
            -0.6630825642793243,
            -0.7210374472014695,
            -0.676589143562006,
            -0.7171070435118461,
            -0.6981228889928148,
            -0.6702394417098628,
            -0.6859813867091435,
            -0.7050000632614841,
            -0.6736439950554483,
            -0.7027848153215952,
            -0.6786282033680694,
            -0.6632695899709263,
            -0.7315031530376855,
            -0.706476586878662,
            -0.6721068550344443,
            -0.7126216388921264,
            -0.6616125900799189,
            -0.7107738660129856,
            -0.6995193378478759,
            -0.7126737657966608,
            -0.6863058271951521,
            -0.7430020291344812,
            -0.6976487976758546,
            -0.7644476217837697,
            -0.6898216039960758,
            -0.6765936313211011,
            -0.7185744825051328,
            -0.6772362829101459,
            -0.6995705145835499,
            -0.7080528738440379,
            -0.7179626325209251,
            -0.6974405407027225,
            -0.6970016689451762,
            -0.6897882808718815,
            -0.7104596815356395,
            -0.7400424110653536,
            -0.6887178274948396,
            -0.7308590933840265,
            -0.6948651862495294,
            -0.7152431285664594,
            -0.6794136803663198,
            -0.7038642017356065,
            -0.6649055312498255,
            -0.6987385416413606,
            -0.6864590395374204,
            -0.7017472413742915,
            -0.670203616249722,
            -0.6812747006192607,
            -0.6973611517258209,
            -0.651521240791183,
            -0.6794161128206677,
            -0.7202258854386472,
            -0.7151289115260687,
            -0.6747936231185321,
            -0.7254501506305164,
            -0.7115141456098208,
            -0.704843019894816,
            -0.7004005270776303,
            -0.6796697292775905,
            -0.688637647546102,
            -0.7441661881506202,
            -0.6934390912645748,
            -0.6863381428954494,
            -0.7240449840524612,
            -0.6902218435446142,
            -0.6922755025635379,
            -0.7023564525294078,
            -0.6749284185257899,
            -0.6743165761672355,
            -0.6777627627208899,
            -0.7185824894290493,
            -0.7154258844367952,
            -0.7271773674455164,
            -0.7060639582025897,
            -0.7209835006274737,
            -0.695088923476938,
            -0.7022798290606614,
            -0.693989836473089,
            -0.7022830002723268,
            -0.6955122381258776,
            -0.686305958910992,
            -0.6705828440096359,
            -0.7012939220416876,
            -0.7117370129217089,
            -0.7125969476332563,
            -0.6786326228578217,
            -0.7282934407247658,
            -0.6895041048402443,
            -0.685529227543663,
            -0.6830794952152865,
            -0.6799883930002842,
            -0.6976705667979176,
            -0.7056373714364973,
            -0.6641464082862218,
            -0.6881473566339881,
            -0.7558545549499881,
            -0.6813497654616611,
            -0.6994183907598849,
            -0.713716948857942,
            -0.6950783516006396,
            -0.6822178053530426,
            -0.724128651404457,
            -0.7052202096694408,
            -0.7080332246188114,
            -0.6903906334892338,
            -0.7364703882116725,
            -0.6629570551329422,
            -0.6619571007841835,
            -0.7019263612355887,
            -0.695276815838927,
            -0.6825046894215735,
            -0.7200901488636386,
            -0.7325456694340521,
            -0.7180238140040079,
            -0.7118691468253984,
            -0.7185087449338675,
            -0.7338106767170888,
            -0.7082998021359908,
            -0.7102656421316851,
            -0.7180916250149613,
            -0.720163581465452,
            -0.6760908915242986,
            -0.6460422013804081,
            -0.7199357120844474,
            -0.669735494832397,
            -0.6634144581156718,
            -0.6846626239288324,
            -0.6891293912611295,
            -0.7114578785118485,
            -0.7070872627452448
           ],
           "xaxis": "x",
           "y": [
            0.40146375013419056,
            0.4243038733127173,
            0.5683747387570065,
            0.4364809091823024,
            0.4158941589379885,
            0.4076916129767405,
            0.44771799906020265,
            0.3770939160684981,
            0.4260584163422599,
            0.3722328959126492,
            0.4354437772705119,
            0.5056418030569493,
            0.46058450765617376,
            0.45247950141175874,
            0.4297781027586579,
            0.4414843996205707,
            0.466801726435523,
            0.3760244829598663,
            0.48780870478279886,
            0.5133766777132919,
            0.4256232607270614,
            0.47573655057008085,
            0.4791440258921965,
            0.3754873677720469,
            0.43229029932173246,
            0.3954798923360156,
            0.4074807809443894,
            0.4791983795205973,
            0.3761829101283398,
            0.4647031614636102,
            0.38306560973966286,
            0.5012154258964551,
            0.37744970044986476,
            0.3464398823250661,
            0.34314099198215303,
            0.39420424736835047,
            0.3754315481740611,
            0.502626761981407,
            0.4587497560546887,
            0.3470461061355642,
            0.432319134931426,
            0.40267387203184596,
            0.44884327295989357,
            0.5043777514975418,
            0.4131358472992112,
            0.36577109188295964,
            0.47633706286858124,
            0.4790825652709429,
            0.4258251807006268,
            0.3872171239318599,
            0.36530014010949957,
            0.5010631552598638,
            0.35736811779031213,
            0.39557347641883495,
            0.5022249628856412,
            0.35179588900181796,
            0.4320794288255847,
            0.3951026112923731,
            0.365258895441977,
            0.369775544089057,
            0.337290744798901,
            0.3805389578543094,
            0.5264408472653617,
            0.3536917638842488,
            0.368671867776139,
            0.29960716433703866,
            0.4633505868666351,
            0.27283553152974793,
            0.4485056287700629,
            0.5521941187930856,
            0.4162488759257352,
            0.4787254778717352,
            0.551508517656999,
            0.43986867302805377,
            0.47068304293146945,
            0.3229232901717779,
            0.46348251876164065,
            0.3593180026127557,
            0.36619404320299115,
            0.31967484068934926,
            0.3554332190920079,
            0.3754148876328264,
            0.4583173786829346,
            0.47810665268365704,
            0.360500152401932,
            0.38231679448355127,
            0.4385804830940016,
            0.3806892733942038,
            0.3968011921521976,
            0.44811214837488655,
            0.3658475611263346,
            0.4347003654826957,
            0.3884327450161008,
            0.45164609763429875,
            0.4356261737426933,
            0.4760660054777316,
            0.40164468814218346,
            0.18962739784861282,
            0.5552135138313157,
            0.4719486152084286,
            0.48845543888224363,
            0.5278959541223334,
            0.54021277422806,
            0.397473013273912,
            0.4980793332262726,
            0.47650238955377433,
            0.4770506756118729,
            0.416351890686442,
            0.5061622501032368,
            0.4677807213560109,
            0.4709466256306405,
            0.33871067889029355,
            0.3569715504553938,
            0.44449706269381356,
            0.2972341172129134,
            0.415881233602254,
            0.43581029028107837,
            0.35753698324236893,
            0.3621512835765237,
            0.44102587820210903,
            0.41228166726091015,
            0.36032201932828944,
            0.5533280609790409,
            0.41849118685359765,
            0.4847479756240098,
            0.45631000428134433,
            0.46218795602268453,
            0.3832050112539351,
            0.48804218848673575,
            0.4022478704159608,
            0.4905330818990897,
            0.4447446647961662,
            0.33916002035180615,
            0.46320301022872445,
            0.4869515901957441,
            0.4799994928480597,
            0.4419414864612839,
            0.5174853829381559,
            0.5068639439259099,
            0.3739432129667767,
            0.36173779007936296,
            0.38216709513657876,
            0.3869776148764082,
            0.3190530571758495,
            0.4634559966986321,
            0.4090968454013698,
            0.46261452867201325,
            0.4812454575316293,
            0.393586931272215,
            0.4302973580100216,
            0.38863322629602876,
            0.4519270028496104,
            0.4691139715756936,
            0.4213043269341276,
            0.4332618686025975,
            0.5047190125106936,
            0.3594724292106335,
            0.4799154066346276,
            0.45558002480060883,
            0.42542148647157024,
            0.5173189623150947,
            0.48623517030641417,
            0.46267840158203166,
            0.36479581195843686,
            0.36096549462060723,
            0.3654579016426971,
            0.5010887175510618,
            0.5131937352327273,
            0.3398157310104998,
            0.5133830572995567,
            0.34651603249815616,
            0.4159032593490905,
            0.48782003235196547,
            0.43962822483388664,
            0.29126353586150294,
            0.4710417137248809,
            0.4676214079779786,
            0.4552834493724677,
            0.5484806958737025,
            0.40692100746207505,
            0.42243631372812973,
            0.4691645880613635,
            0.43401270731539376,
            0.3389640027017686,
            0.4858469232825477,
            0.39776500057643066,
            0.32110400784526266,
            0.5141676101324566,
            0.49073140333118964,
            0.3435257839815912,
            0.3366827243679819,
            0.3955562814150662,
            0.4040693798178666,
            0.4536591588642259,
            0.4918451778068668,
            0.4376381507146866,
            0.3769259568353289,
            0.492488103414601,
            0.38008362758747327,
            0.3937685720556922,
            0.43118630978670847,
            0.5097445867594836,
            0.33364915105143267,
            0.38041270627360524,
            0.3830638785037081,
            0.3637962867813519,
            0.39346560094855504,
            0.3851861387648802,
            0.46564061521511685,
            0.3644918918446335,
            0.4915413238438382,
            0.37024971325255296,
            0.3974112838738678,
            0.5481973017651395,
            0.33968819861984745,
            0.3731389356605614,
            0.40881491185122354,
            0.5201567839668303,
            0.3787100134185358,
            0.48011005938325835,
            0.46881430903627525,
            0.3983116027475876,
            0.3131793308854553,
            0.5121730291274792,
            0.47379144147000385,
            0.34923519785501467,
            0.41905402264715225,
            0.4858585031079359,
            0.418395263176555,
            0.47846296856738674,
            0.5134983617109695,
            0.40166155002287995,
            0.4424966706772147,
            0.3389165656672259,
            0.42145807132414753,
            0.4868132310153437,
            0.41463529254254944,
            0.3823044114139135,
            0.37551278928560144,
            0.45858998288040764,
            0.34522178439455853,
            0.3947719618551313,
            0.5225722794484858,
            0.3705706457954467,
            0.4726179299112685,
            0.5933492162156218,
            0.4558845148271168,
            0.5022569340826165,
            0.41442897040049137,
            0.4502966161305263
           ],
           "yaxis": "y"
          },
          {
           "hovertemplate": "Community=0<br>Time=2<br>Dimension 1=%{x}<br>Dimension 2=%{y}<extra></extra>",
           "legendgroup": "0",
           "marker": {
            "color": "#EF553B",
            "symbol": "circle"
           },
           "mode": "markers",
           "name": "0",
           "orientation": "v",
           "showlegend": true,
           "type": "scatter",
           "x": [
            -0.4970032541668944,
            -0.4975741891727856,
            -0.4554979386062596,
            -0.4701091361878067,
            -0.5368092985223888,
            -0.44607669178000553,
            -0.45688587589219315,
            -0.4813235147142896,
            -0.4797283881384544,
            -0.48538765917933724,
            -0.46250478966368047,
            -0.4668203978808375,
            -0.4879186107964937,
            -0.4560723449331711,
            -0.4967040071105596,
            -0.5103076335816739,
            -0.4809234381741547,
            -0.46033782287683755,
            -0.4894342893202496,
            -0.4781056469132873,
            -0.5252095163361481,
            -0.5271227506189375,
            -0.5108348694349382,
            -0.4864374714212804,
            -0.5116606967634855,
            -0.4855501152987331,
            -0.5067223769305216,
            -0.45176865200485694,
            -0.5059795443826802,
            -0.4785847161479506,
            -0.4794348771401636,
            -0.41768059436613925,
            -0.4450625267732174,
            -0.48794333288988095,
            -0.528240839926916,
            -0.4796097401424617,
            -0.44727280899846533,
            -0.4961779985016723,
            -0.4566230454240874,
            -0.4328052942065015,
            -0.5150659868008843,
            -0.44516468077814886,
            -0.49270289966192815,
            -0.4690806764448928,
            -0.5399776601149612,
            -0.5212406684944114,
            -0.44523172800407584,
            -0.46280128194145403,
            -0.48369380571661774,
            -0.4852643606881744,
            -0.5036110367213761,
            -0.41369381318275694,
            -0.46145234844688465,
            -0.5006024502698634,
            -0.48786998894669326,
            -0.4621996739122609,
            -0.476194741138552,
            -0.4668173723396663,
            -0.42995574645168705,
            -0.5026874406754139,
            -0.4827817692803534,
            -0.4888925633158431,
            -0.4905055540587573,
            -0.5054064088540069,
            -0.48253761769686776,
            -0.4827359311814471,
            -0.4565316472835321,
            -0.46901742408558,
            -0.5536694361008676,
            -0.4231175717333315,
            -0.49522370780334374,
            -0.4828209032221714,
            -0.45545721463170774,
            -0.4502122891147306,
            -0.49940070063391134,
            -0.4569435451242671,
            -0.48094200032603895,
            -0.4293294781416621,
            -0.48475518214555624,
            -0.4602130303585494,
            -0.4751643215512153,
            -0.46358468104726896,
            -0.4277216649390979,
            -0.4805000398632884,
            -0.4865000412816064,
            -0.41012210674113386,
            -0.4606853056826077,
            -0.45048484452003096,
            -0.5278341934596571,
            -0.47180530496081574,
            -0.4580331628843627,
            -0.4864748193317002,
            -0.5358421033475378,
            -0.5160250551213577,
            -0.5018474200509224,
            -0.5089417835254363,
            -0.4180440063676725,
            -0.5177976235891882,
            -0.4952741747108773,
            -0.4615769609395203,
            -0.4921493802962052,
            -0.5228914073835544,
            -0.4474382709662928,
            -0.49718738332194695,
            -0.5119623606476261,
            -0.4522817692848242,
            -0.5227623344542943,
            -0.5066506351218397,
            -0.4413742874426615,
            -0.5039775285970537,
            -0.46626921179369646,
            -0.5225097181614275,
            -0.4633963896535187,
            -0.4658415371109574,
            -0.5454644788117923,
            -0.467721932872916,
            -0.4862097881080647,
            -0.4861613511059814,
            -0.5150449549883394,
            -0.4922995221792616,
            -0.5261467251747309,
            -0.46072146200452363,
            -0.4704986844727586,
            -0.525798204810716,
            -0.4833711341259615,
            -0.48370689541939943,
            -0.4741473611682778,
            -0.5239436578166131,
            -0.4743600267154138,
            -0.5092261371989942,
            -0.42312077225715644,
            -0.47622984419187087,
            -0.4334762900314019,
            -0.4685349262345249,
            -0.48347092632811334,
            -0.5268494449732906,
            -0.47553821360417153,
            -0.47897730995938426,
            -0.4450646915227693,
            -0.5189083170349341,
            -0.5204380488247466,
            -0.44318300804693345,
            -0.47889196223140745,
            -0.4827061275389769,
            -0.5078442672986856,
            -0.4897123135449046,
            -0.4351561636172531,
            -0.4716587882649726,
            -0.4764342551984916,
            -0.4907327181262664,
            -0.41860059005720424,
            -0.4686243195595012,
            -0.4451692060611124,
            -0.4756195480967842,
            -0.4733852122890194,
            -0.45332086283131345,
            -0.459237768695842,
            -0.5005239067308287,
            -0.45270379560572666,
            -0.5535264297768049,
            -0.4878150114820085,
            -0.4969768806956775,
            -0.480834315434683,
            -0.5033113212689164,
            -0.5007430977261004,
            -0.5110663438750898,
            -0.4532734428271942,
            -0.4761459843613983,
            -0.47881720844551523,
            -0.4580929621548694,
            -0.44967537865510543,
            -0.4542297078090705,
            -0.45583208714237333,
            -0.5251646737072758,
            -0.5049551544118656,
            -0.4413069268992596,
            -0.5309934225021548,
            -0.47536539793781935,
            -0.5075019313847976,
            -0.4957336995091016,
            -0.44121251635268466,
            -0.5109835695695151,
            -0.43294259004849356,
            -0.47948898165808623,
            -0.4775477303346004,
            -0.45497832997139925,
            -0.4791032908500977,
            -0.43703120639197596,
            -0.46686826906902407,
            -0.45043298266277176,
            -0.5057825553768178,
            -0.5228404719482872,
            -0.458876465487587,
            -0.4555315752536775,
            -0.39590297008684705,
            -0.5082211975254458,
            -0.5096251654687868,
            -0.4651549522459863,
            -0.4373086988277033,
            -0.5205657246927627,
            -0.477051114604239,
            -0.5580975736251483,
            -0.46555169716176903,
            -0.4960566778928932,
            -0.5077739462848959,
            -0.49484143397553465,
            -0.5129359886494029,
            -0.5054381244896367,
            -0.50859995608728,
            -0.4594776820088606,
            -0.48231225306379516,
            -0.48650795610371483,
            -0.4660561026393059,
            -0.49888306942647576,
            -0.5320790562541781,
            -0.4308681672338057,
            -0.44781163013723374,
            -0.4387680220504057,
            -0.46622908551541714,
            -0.5054764122377442,
            -0.48862055077163435,
            -0.48664481645923513,
            -0.48574231063506446,
            -0.4965990940527217,
            -0.512559890974574,
            -0.45929415330214524,
            -0.5184971579386783,
            -0.49080840604166237,
            -0.5036530298245485,
            -0.448091690272654,
            -0.5231595291983494,
            -0.4420186935423366,
            -0.49086572113460253,
            -0.5281353139748477,
            -0.4920763707907678,
            -0.4649716166164298,
            -0.46444490326840326,
            -0.45613074380658963,
            -0.4977346724704569,
            -0.4851084345408492,
            -0.47726504122970237,
            -0.4701252194443503,
            -0.45559539735669813,
            -0.5294823156752206,
            -0.43016347287502593,
            -0.509071434510103,
            -0.5232884649268565,
            -0.5084074151931607,
            -0.43635906245511236,
            -0.49132965034313064
           ],
           "xaxis": "x",
           "y": [
            -0.06437557996668307,
            -0.027056681857292493,
            -0.12065963946955127,
            -0.06363213961869266,
            0.03240133661298691,
            -0.07327849585862421,
            -0.1919442096051578,
            0.006847045292311541,
            -0.11749225060696722,
            0.004204326496943543,
            0.089915617208014,
            0.005350474659500932,
            -0.04972920035504352,
            -0.062113111343846554,
            0.0004420458413901922,
            0.007101598428248092,
            0.0337274091106951,
            -0.15596801101116164,
            -0.10203121526490692,
            -0.039131965697649006,
            0.08137951693279444,
            0.0778192018927804,
            0.2379724892505926,
            0.12836265009146602,
            -0.15160728232124526,
            -0.03579622729757772,
            0.021489264755684124,
            0.053099762099019204,
            -0.08411322796991207,
            -0.0706346419709768,
            0.044860509997631505,
            -0.016418259520997975,
            0.002747115983949086,
            -0.1051262674148594,
            0.02161719295245347,
            0.04438396319189317,
            -0.03062435240707691,
            0.17916074507766108,
            0.05251898838626018,
            -0.06782879969601018,
            -0.005763827485697507,
            -0.008562556117808082,
            -0.02519715410339648,
            0.03351672509412602,
            0.09536537985214652,
            -0.06220358911200292,
            0.08620413539773206,
            0.08383032165320904,
            -0.033134999705876175,
            0.1209863189881962,
            -0.16377365381616577,
            -0.04208439301756614,
            0.011618948830798814,
            -0.09800110860550124,
            -0.08616890295966152,
            -0.029562232332400896,
            0.049276399257842045,
            0.09889793615641859,
            0.022684594075067344,
            0.18165756872505165,
            0.08628192864434908,
            -0.025643081702182078,
            0.035492233005487824,
            0.06926080140680702,
            -0.04831374015144378,
            -0.019765193564567105,
            0.011936889752123411,
            -0.05408698243638855,
            0.02972749427496323,
            0.005543020472154385,
            0.04577214027793412,
            -0.027003871516377634,
            -0.017060696752643576,
            -0.14747958183067567,
            0.013953983322640473,
            -0.06582134223758694,
            -0.04804057087910771,
            -0.04540825688582938,
            0.01953575487859581,
            -0.031616881508673506,
            0.015600001879480718,
            -0.11575912859512161,
            -0.016172810814352078,
            -0.029883644856844305,
            -0.14845218639830896,
            -0.15779627274877278,
            -0.038006557757837164,
            0.05378908702301184,
            -0.08513120948506286,
            0.05565519519068676,
            -0.08999114940413046,
            0.004865531562233355,
            0.1763077799196166,
            0.012023518052070593,
            0.11121224253910854,
            -0.1350679258448687,
            0.00929444862080482,
            0.19298019750288034,
            0.12727331911054166,
            -0.02864601039189993,
            0.02175713293753135,
            -0.04018745599297664,
            -0.07545067453564866,
            0.026853652631839444,
            0.1372012617362744,
            -0.010116360252972276,
            -0.040424563304382904,
            -0.012588803583093023,
            0.051969618786063015,
            0.012881416465301125,
            0.06462676520093678,
            0.025781484708833666,
            -0.007363812400324007,
            0.00952346355072533,
            -0.04633974682285217,
            0.07062531093965287,
            0.004121955642212839,
            0.07936175209584957,
            0.12202779178951045,
            0.08042375451401247,
            0.045308780685116005,
            0.06881057505078798,
            -0.027146261722840966,
            0.052205147617663476,
            0.03244442464137351,
            -0.08744049541437876,
            0.028850131349751115,
            0.03715220706337572,
            -0.12473917717204841,
            -0.043900850766349434,
            -0.018656553022653042,
            -0.035511417074270746,
            -0.045192550270390125,
            0.022504476795580833,
            -0.11467678872347434,
            0.008320227933323052,
            0.04034548571330293,
            -0.06083644212066887,
            0.05225486140706139,
            0.12519683916924151,
            -0.043674543407995196,
            0.11095246733244603,
            0.12798413188234142,
            0.028811140598419663,
            0.007495706307866972,
            -0.1410785674818341,
            -0.008801730197512935,
            0.034101373453422304,
            0.043274393062060025,
            0.07242101204864966,
            0.06177035573297127,
            -0.027525840582470987,
            -0.06912279002910636,
            -0.011588136024609366,
            -0.050693235146680976,
            0.07763268245286097,
            -0.006029988706190819,
            -0.13396402005779948,
            0.162063359138724,
            0.05314585399416062,
            -0.033707462697557006,
            -0.0828248230710445,
            0.06195198406780031,
            0.1143061894800069,
            -0.12810190615752054,
            0.14086897578613033,
            -0.0018852813144259514,
            -0.04079160303885364,
            0.02688492092634484,
            0.07973207129576804,
            -0.034547807678672514,
            0.0219751784787915,
            -0.05178183474551201,
            0.0008985436635084358,
            0.08053702711932198,
            -0.07743216653314006,
            -0.010034684887563134,
            -0.05872706552632957,
            0.03965644764439559,
            -0.06596244327768686,
            -0.06544738144895945,
            0.02445135587600432,
            -0.09206698248577543,
            -0.0808828859407287,
            -0.01857902888913466,
            0.009392253319608178,
            0.1403856670720024,
            0.08504248512050491,
            -0.06791138571245155,
            0.12286267836156552,
            -0.14897922208460335,
            0.003320340198850968,
            -0.00887574716436914,
            0.0801917047244083,
            0.056026907700889965,
            0.11612684557963175,
            -0.04281266052310459,
            -0.12019035690548989,
            0.012769265972096686,
            0.14149991751840282,
            0.05701180211281701,
            0.019599730908372894,
            -0.041494063468398665,
            -0.054866603693894435,
            0.11549003468544088,
            -0.045996601268026585,
            0.06844745564291747,
            -0.01793274254722062,
            0.029715652359597833,
            -0.10005891804991106,
            0.052862389869552766,
            0.06047481583933208,
            -0.0949612541846308,
            -0.051417137956756266,
            0.18167591836852068,
            -0.14183376348852866,
            -0.012789418416387817,
            -0.025241490177293945,
            -0.10362334075468572,
            -0.08430749232191447,
            -0.13717001420753022,
            -0.023383339467716667,
            0.001908435767832161,
            0.04967057614417838,
            0.0695365956770044,
            0.049605243431601595,
            -0.03073390940545706,
            0.022649113975350275,
            -0.0667080673735534,
            -0.006063747170767915,
            0.005569931549607369,
            -0.14273082276456056,
            -0.04505068497932825,
            0.07714337098611986,
            0.029074425873079103,
            0.0019592485843534977,
            0.03928629601958181,
            0.08009551969730017,
            0.02789780819361089,
            0.03080799991511693,
            0.06723919437924115,
            -0.006058848350773206,
            -0.0503484748634759,
            -0.029495532744032858,
            0.0025658012663763233,
            0.007297446397409088,
            -0.01923780102504142,
            -0.03626146029778494,
            0.008436083926386643,
            0.05206565291424855
           ],
           "yaxis": "y"
          }
         ],
         "name": "2"
        }
       ],
       "layout": {
        "legend": {
         "title": {
          "text": "Community"
         },
         "tracegroupgap": 0
        },
        "margin": {
         "t": 60
        },
        "sliders": [
         {
          "active": 0,
          "currentvalue": {
           "prefix": "Time="
          },
          "len": 0.9,
          "pad": {
           "b": 10,
           "t": 60
          },
          "steps": [
           {
            "args": [
             [
              "0"
             ],
             {
              "frame": {
               "duration": 0,
               "redraw": false
              },
              "fromcurrent": true,
              "mode": "immediate",
              "transition": {
               "duration": 0,
               "easing": "linear"
              }
             }
            ],
            "label": "0",
            "method": "animate"
           },
           {
            "args": [
             [
              "1"
             ],
             {
              "frame": {
               "duration": 0,
               "redraw": false
              },
              "fromcurrent": true,
              "mode": "immediate",
              "transition": {
               "duration": 0,
               "easing": "linear"
              }
             }
            ],
            "label": "1",
            "method": "animate"
           },
           {
            "args": [
             [
              "2"
             ],
             {
              "frame": {
               "duration": 0,
               "redraw": false
              },
              "fromcurrent": true,
              "mode": "immediate",
              "transition": {
               "duration": 0,
               "easing": "linear"
              }
             }
            ],
            "label": "2",
            "method": "animate"
           }
          ],
          "x": 0.1,
          "xanchor": "left",
          "y": 0,
          "yanchor": "top"
         }
        ],
        "template": {
         "data": {
          "bar": [
           {
            "error_x": {
             "color": "#2a3f5f"
            },
            "error_y": {
             "color": "#2a3f5f"
            },
            "marker": {
             "line": {
              "color": "#E5ECF6",
              "width": 0.5
             },
             "pattern": {
              "fillmode": "overlay",
              "size": 10,
              "solidity": 0.2
             }
            },
            "type": "bar"
           }
          ],
          "barpolar": [
           {
            "marker": {
             "line": {
              "color": "#E5ECF6",
              "width": 0.5
             },
             "pattern": {
              "fillmode": "overlay",
              "size": 10,
              "solidity": 0.2
             }
            },
            "type": "barpolar"
           }
          ],
          "carpet": [
           {
            "aaxis": {
             "endlinecolor": "#2a3f5f",
             "gridcolor": "white",
             "linecolor": "white",
             "minorgridcolor": "white",
             "startlinecolor": "#2a3f5f"
            },
            "baxis": {
             "endlinecolor": "#2a3f5f",
             "gridcolor": "white",
             "linecolor": "white",
             "minorgridcolor": "white",
             "startlinecolor": "#2a3f5f"
            },
            "type": "carpet"
           }
          ],
          "choropleth": [
           {
            "colorbar": {
             "outlinewidth": 0,
             "ticks": ""
            },
            "type": "choropleth"
           }
          ],
          "contour": [
           {
            "colorbar": {
             "outlinewidth": 0,
             "ticks": ""
            },
            "colorscale": [
             [
              0,
              "#0d0887"
             ],
             [
              0.1111111111111111,
              "#46039f"
             ],
             [
              0.2222222222222222,
              "#7201a8"
             ],
             [
              0.3333333333333333,
              "#9c179e"
             ],
             [
              0.4444444444444444,
              "#bd3786"
             ],
             [
              0.5555555555555556,
              "#d8576b"
             ],
             [
              0.6666666666666666,
              "#ed7953"
             ],
             [
              0.7777777777777778,
              "#fb9f3a"
             ],
             [
              0.8888888888888888,
              "#fdca26"
             ],
             [
              1,
              "#f0f921"
             ]
            ],
            "type": "contour"
           }
          ],
          "contourcarpet": [
           {
            "colorbar": {
             "outlinewidth": 0,
             "ticks": ""
            },
            "type": "contourcarpet"
           }
          ],
          "heatmap": [
           {
            "colorbar": {
             "outlinewidth": 0,
             "ticks": ""
            },
            "colorscale": [
             [
              0,
              "#0d0887"
             ],
             [
              0.1111111111111111,
              "#46039f"
             ],
             [
              0.2222222222222222,
              "#7201a8"
             ],
             [
              0.3333333333333333,
              "#9c179e"
             ],
             [
              0.4444444444444444,
              "#bd3786"
             ],
             [
              0.5555555555555556,
              "#d8576b"
             ],
             [
              0.6666666666666666,
              "#ed7953"
             ],
             [
              0.7777777777777778,
              "#fb9f3a"
             ],
             [
              0.8888888888888888,
              "#fdca26"
             ],
             [
              1,
              "#f0f921"
             ]
            ],
            "type": "heatmap"
           }
          ],
          "heatmapgl": [
           {
            "colorbar": {
             "outlinewidth": 0,
             "ticks": ""
            },
            "colorscale": [
             [
              0,
              "#0d0887"
             ],
             [
              0.1111111111111111,
              "#46039f"
             ],
             [
              0.2222222222222222,
              "#7201a8"
             ],
             [
              0.3333333333333333,
              "#9c179e"
             ],
             [
              0.4444444444444444,
              "#bd3786"
             ],
             [
              0.5555555555555556,
              "#d8576b"
             ],
             [
              0.6666666666666666,
              "#ed7953"
             ],
             [
              0.7777777777777778,
              "#fb9f3a"
             ],
             [
              0.8888888888888888,
              "#fdca26"
             ],
             [
              1,
              "#f0f921"
             ]
            ],
            "type": "heatmapgl"
           }
          ],
          "histogram": [
           {
            "marker": {
             "pattern": {
              "fillmode": "overlay",
              "size": 10,
              "solidity": 0.2
             }
            },
            "type": "histogram"
           }
          ],
          "histogram2d": [
           {
            "colorbar": {
             "outlinewidth": 0,
             "ticks": ""
            },
            "colorscale": [
             [
              0,
              "#0d0887"
             ],
             [
              0.1111111111111111,
              "#46039f"
             ],
             [
              0.2222222222222222,
              "#7201a8"
             ],
             [
              0.3333333333333333,
              "#9c179e"
             ],
             [
              0.4444444444444444,
              "#bd3786"
             ],
             [
              0.5555555555555556,
              "#d8576b"
             ],
             [
              0.6666666666666666,
              "#ed7953"
             ],
             [
              0.7777777777777778,
              "#fb9f3a"
             ],
             [
              0.8888888888888888,
              "#fdca26"
             ],
             [
              1,
              "#f0f921"
             ]
            ],
            "type": "histogram2d"
           }
          ],
          "histogram2dcontour": [
           {
            "colorbar": {
             "outlinewidth": 0,
             "ticks": ""
            },
            "colorscale": [
             [
              0,
              "#0d0887"
             ],
             [
              0.1111111111111111,
              "#46039f"
             ],
             [
              0.2222222222222222,
              "#7201a8"
             ],
             [
              0.3333333333333333,
              "#9c179e"
             ],
             [
              0.4444444444444444,
              "#bd3786"
             ],
             [
              0.5555555555555556,
              "#d8576b"
             ],
             [
              0.6666666666666666,
              "#ed7953"
             ],
             [
              0.7777777777777778,
              "#fb9f3a"
             ],
             [
              0.8888888888888888,
              "#fdca26"
             ],
             [
              1,
              "#f0f921"
             ]
            ],
            "type": "histogram2dcontour"
           }
          ],
          "mesh3d": [
           {
            "colorbar": {
             "outlinewidth": 0,
             "ticks": ""
            },
            "type": "mesh3d"
           }
          ],
          "parcoords": [
           {
            "line": {
             "colorbar": {
              "outlinewidth": 0,
              "ticks": ""
             }
            },
            "type": "parcoords"
           }
          ],
          "pie": [
           {
            "automargin": true,
            "type": "pie"
           }
          ],
          "scatter": [
           {
            "fillpattern": {
             "fillmode": "overlay",
             "size": 10,
             "solidity": 0.2
            },
            "type": "scatter"
           }
          ],
          "scatter3d": [
           {
            "line": {
             "colorbar": {
              "outlinewidth": 0,
              "ticks": ""
             }
            },
            "marker": {
             "colorbar": {
              "outlinewidth": 0,
              "ticks": ""
             }
            },
            "type": "scatter3d"
           }
          ],
          "scattercarpet": [
           {
            "marker": {
             "colorbar": {
              "outlinewidth": 0,
              "ticks": ""
             }
            },
            "type": "scattercarpet"
           }
          ],
          "scattergeo": [
           {
            "marker": {
             "colorbar": {
              "outlinewidth": 0,
              "ticks": ""
             }
            },
            "type": "scattergeo"
           }
          ],
          "scattergl": [
           {
            "marker": {
             "colorbar": {
              "outlinewidth": 0,
              "ticks": ""
             }
            },
            "type": "scattergl"
           }
          ],
          "scattermapbox": [
           {
            "marker": {
             "colorbar": {
              "outlinewidth": 0,
              "ticks": ""
             }
            },
            "type": "scattermapbox"
           }
          ],
          "scatterpolar": [
           {
            "marker": {
             "colorbar": {
              "outlinewidth": 0,
              "ticks": ""
             }
            },
            "type": "scatterpolar"
           }
          ],
          "scatterpolargl": [
           {
            "marker": {
             "colorbar": {
              "outlinewidth": 0,
              "ticks": ""
             }
            },
            "type": "scatterpolargl"
           }
          ],
          "scatterternary": [
           {
            "marker": {
             "colorbar": {
              "outlinewidth": 0,
              "ticks": ""
             }
            },
            "type": "scatterternary"
           }
          ],
          "surface": [
           {
            "colorbar": {
             "outlinewidth": 0,
             "ticks": ""
            },
            "colorscale": [
             [
              0,
              "#0d0887"
             ],
             [
              0.1111111111111111,
              "#46039f"
             ],
             [
              0.2222222222222222,
              "#7201a8"
             ],
             [
              0.3333333333333333,
              "#9c179e"
             ],
             [
              0.4444444444444444,
              "#bd3786"
             ],
             [
              0.5555555555555556,
              "#d8576b"
             ],
             [
              0.6666666666666666,
              "#ed7953"
             ],
             [
              0.7777777777777778,
              "#fb9f3a"
             ],
             [
              0.8888888888888888,
              "#fdca26"
             ],
             [
              1,
              "#f0f921"
             ]
            ],
            "type": "surface"
           }
          ],
          "table": [
           {
            "cells": {
             "fill": {
              "color": "#EBF0F8"
             },
             "line": {
              "color": "white"
             }
            },
            "header": {
             "fill": {
              "color": "#C8D4E3"
             },
             "line": {
              "color": "white"
             }
            },
            "type": "table"
           }
          ]
         },
         "layout": {
          "annotationdefaults": {
           "arrowcolor": "#2a3f5f",
           "arrowhead": 0,
           "arrowwidth": 1
          },
          "autotypenumbers": "strict",
          "coloraxis": {
           "colorbar": {
            "outlinewidth": 0,
            "ticks": ""
           }
          },
          "colorscale": {
           "diverging": [
            [
             0,
             "#8e0152"
            ],
            [
             0.1,
             "#c51b7d"
            ],
            [
             0.2,
             "#de77ae"
            ],
            [
             0.3,
             "#f1b6da"
            ],
            [
             0.4,
             "#fde0ef"
            ],
            [
             0.5,
             "#f7f7f7"
            ],
            [
             0.6,
             "#e6f5d0"
            ],
            [
             0.7,
             "#b8e186"
            ],
            [
             0.8,
             "#7fbc41"
            ],
            [
             0.9,
             "#4d9221"
            ],
            [
             1,
             "#276419"
            ]
           ],
           "sequential": [
            [
             0,
             "#0d0887"
            ],
            [
             0.1111111111111111,
             "#46039f"
            ],
            [
             0.2222222222222222,
             "#7201a8"
            ],
            [
             0.3333333333333333,
             "#9c179e"
            ],
            [
             0.4444444444444444,
             "#bd3786"
            ],
            [
             0.5555555555555556,
             "#d8576b"
            ],
            [
             0.6666666666666666,
             "#ed7953"
            ],
            [
             0.7777777777777778,
             "#fb9f3a"
            ],
            [
             0.8888888888888888,
             "#fdca26"
            ],
            [
             1,
             "#f0f921"
            ]
           ],
           "sequentialminus": [
            [
             0,
             "#0d0887"
            ],
            [
             0.1111111111111111,
             "#46039f"
            ],
            [
             0.2222222222222222,
             "#7201a8"
            ],
            [
             0.3333333333333333,
             "#9c179e"
            ],
            [
             0.4444444444444444,
             "#bd3786"
            ],
            [
             0.5555555555555556,
             "#d8576b"
            ],
            [
             0.6666666666666666,
             "#ed7953"
            ],
            [
             0.7777777777777778,
             "#fb9f3a"
            ],
            [
             0.8888888888888888,
             "#fdca26"
            ],
            [
             1,
             "#f0f921"
            ]
           ]
          },
          "colorway": [
           "#636efa",
           "#EF553B",
           "#00cc96",
           "#ab63fa",
           "#FFA15A",
           "#19d3f3",
           "#FF6692",
           "#B6E880",
           "#FF97FF",
           "#FECB52"
          ],
          "font": {
           "color": "#2a3f5f"
          },
          "geo": {
           "bgcolor": "white",
           "lakecolor": "white",
           "landcolor": "#E5ECF6",
           "showlakes": true,
           "showland": true,
           "subunitcolor": "white"
          },
          "hoverlabel": {
           "align": "left"
          },
          "hovermode": "closest",
          "mapbox": {
           "style": "light"
          },
          "paper_bgcolor": "white",
          "plot_bgcolor": "#E5ECF6",
          "polar": {
           "angularaxis": {
            "gridcolor": "white",
            "linecolor": "white",
            "ticks": ""
           },
           "bgcolor": "#E5ECF6",
           "radialaxis": {
            "gridcolor": "white",
            "linecolor": "white",
            "ticks": ""
           }
          },
          "scene": {
           "xaxis": {
            "backgroundcolor": "#E5ECF6",
            "gridcolor": "white",
            "gridwidth": 2,
            "linecolor": "white",
            "showbackground": true,
            "ticks": "",
            "zerolinecolor": "white"
           },
           "yaxis": {
            "backgroundcolor": "#E5ECF6",
            "gridcolor": "white",
            "gridwidth": 2,
            "linecolor": "white",
            "showbackground": true,
            "ticks": "",
            "zerolinecolor": "white"
           },
           "zaxis": {
            "backgroundcolor": "#E5ECF6",
            "gridcolor": "white",
            "gridwidth": 2,
            "linecolor": "white",
            "showbackground": true,
            "ticks": "",
            "zerolinecolor": "white"
           }
          },
          "shapedefaults": {
           "line": {
            "color": "#2a3f5f"
           }
          },
          "ternary": {
           "aaxis": {
            "gridcolor": "white",
            "linecolor": "white",
            "ticks": ""
           },
           "baxis": {
            "gridcolor": "white",
            "linecolor": "white",
            "ticks": ""
           },
           "bgcolor": "#E5ECF6",
           "caxis": {
            "gridcolor": "white",
            "linecolor": "white",
            "ticks": ""
           }
          },
          "title": {
           "x": 0.05
          },
          "xaxis": {
           "automargin": true,
           "gridcolor": "white",
           "linecolor": "white",
           "ticks": "",
           "title": {
            "standoff": 15
           },
           "zerolinecolor": "white",
           "zerolinewidth": 2
          },
          "yaxis": {
           "automargin": true,
           "gridcolor": "white",
           "linecolor": "white",
           "ticks": "",
           "title": {
            "standoff": 15
           },
           "zerolinecolor": "white",
           "zerolinewidth": 2
          }
         }
        },
        "updatemenus": [
         {
          "buttons": [
           {
            "args": [
             null,
             {
              "frame": {
               "duration": 500,
               "redraw": false
              },
              "fromcurrent": true,
              "mode": "immediate",
              "transition": {
               "duration": 500,
               "easing": "linear"
              }
             }
            ],
            "label": "&#9654;",
            "method": "animate"
           },
           {
            "args": [
             [
              null
             ],
             {
              "frame": {
               "duration": 0,
               "redraw": false
              },
              "fromcurrent": true,
              "mode": "immediate",
              "transition": {
               "duration": 0,
               "easing": "linear"
              }
             }
            ],
            "label": "&#9724;",
            "method": "animate"
           }
          ],
          "direction": "left",
          "pad": {
           "r": 10,
           "t": 70
          },
          "showactive": false,
          "type": "buttons",
          "x": 0.1,
          "xanchor": "right",
          "y": 0,
          "yanchor": "top"
         }
        ],
        "xaxis": {
         "anchor": "y",
         "domain": [
          0,
          1
         ],
         "range": [
          -0.7741648292285008,
          -0.37919238809417743
         ],
         "title": {
          "text": "Dimension 1"
         }
        },
        "yaxis": {
         "anchor": "x",
         "domain": [
          0,
          1
         ],
         "range": [
          -0.4217396096041875,
          0.6132529186826768
         ],
         "title": {
          "text": "Dimension 2"
         }
        }
       }
      }
     },
     "metadata": {},
     "output_type": "display_data"
    }
   ],
   "source": [
    "plot_embedding(UASE([A_obs, A_row_jumble[0], A_row_jumble[1]], 2), n, 3, tau)"
   ]
  },
  {
   "cell_type": "code",
   "execution_count": 27,
   "metadata": {},
   "outputs": [],
   "source": [
    "def edgelist_jackknife(A, B):\n",
    "    \"\"\"\n",
    "    Pick a random entry and set it to zero\n",
    "    \"\"\"\n",
    "    n = A.shape[0]\n",
    "    A_star = np.zeros((B, n, n))\n",
    "\n",
    "    for i in range(B):\n",
    "        A_star[i] = A.copy()\n",
    "        for j in range(3):\n",
    "            idx = np.random.choice(n, size=2, replace=True)\n",
    "            A_star[i][idx[0], idx[1]] = 0\n",
    "            A_star[i][idx[1], idx[0]] = 0\n",
    "\n",
    "    return A_star\n",
    "\n",
    "# Bootstrap\n",
    "A_jk = edgelist_jackknife(A_obs, B=B)\n",
    "\n",
    "# Testing\n",
    "p_vals = []\n",
    "for i in range(B):\n",
    "    A_jk_sample = A_jk[i, :, :]\n",
    "\n",
    "    # Embed the observed and bootstrapped graphs\n",
    "    Y_unf = UASE([A_obs, A_jk_sample], d=d)\n",
    "\n",
    "    # Compute the p-value\n",
    "    p_val = test_temporal_displacement_two_times(Y_unf, n)\n",
    "    p_vals.append(p_val)\n"
   ]
  },
  {
   "cell_type": "code",
   "execution_count": 28,
   "metadata": {},
   "outputs": [
    {
     "data": {
      "image/png": "[encoded data removed]",
      "text/plain": [
       "<Figure size 432x288 with 1 Axes>"
      ]
     },
     "metadata": {
      "needs_background": "light"
     },
     "output_type": "display_data"
    },
    {
     "data": {
      "text/plain": [
       "0.13"
      ]
     },
     "execution_count": 28,
     "metadata": {},
     "output_type": "execute_result"
    }
   ],
   "source": [
    "plot_power(p_vals)"
   ]
  },
  {
   "cell_type": "code",
   "execution_count": 40,
   "metadata": {},
   "outputs": [
    {
     "ename": "NameError",
     "evalue": "name 'A_jk' is not defined",
     "output_type": "error",
     "traceback": [
      "\u001b[0;31m---------------------------------------------------------------------------\u001b[0m",
      "\u001b[0;31mNameError\u001b[0m                                 Traceback (most recent call last)",
      "\u001b[0;32m/tmp/ipykernel_19282/2364777347.py\u001b[0m in \u001b[0;36m<module>\u001b[0;34m\u001b[0m\n\u001b[0;32m----> 1\u001b[0;31m \u001b[0mplot_embedding\u001b[0m\u001b[0;34m(\u001b[0m\u001b[0mUASE\u001b[0m\u001b[0;34m(\u001b[0m\u001b[0;34m[\u001b[0m\u001b[0mA_obs\u001b[0m\u001b[0;34m,\u001b[0m \u001b[0mA_jk\u001b[0m\u001b[0;34m[\u001b[0m\u001b[0;36m0\u001b[0m\u001b[0;34m]\u001b[0m\u001b[0;34m,\u001b[0m \u001b[0mA_jk\u001b[0m\u001b[0;34m[\u001b[0m\u001b[0;36m1\u001b[0m\u001b[0;34m]\u001b[0m\u001b[0;34m]\u001b[0m\u001b[0;34m,\u001b[0m \u001b[0;36m2\u001b[0m\u001b[0;34m)\u001b[0m\u001b[0;34m,\u001b[0m \u001b[0mn\u001b[0m\u001b[0;34m,\u001b[0m \u001b[0;36m3\u001b[0m\u001b[0;34m,\u001b[0m \u001b[0mtau\u001b[0m\u001b[0;34m)\u001b[0m\u001b[0;34m\u001b[0m\u001b[0;34m\u001b[0m\u001b[0m\n\u001b[0m",
      "\u001b[0;31mNameError\u001b[0m: name 'A_jk' is not defined"
     ]
    }
   ],
   "source": [
    "plot_embedding(UASE([A_obs, A_jk[0], A_jk[1]], 2), n, 3, tau)"
   ]
  },
  {
   "cell_type": "markdown",
   "metadata": {},
   "source": [
    "## 3 April 2024 - KNN stuff"
   ]
  },
  {
   "cell_type": "code",
   "execution_count": 2,
   "metadata": {},
   "outputs": [],
   "source": [
    "# Run a k-NN on a K community SBM\n",
    "# Do we run k-NN on an embedding or the adjacency matrix? - should try both \n",
    "# would proof on the adj. mat be easier to prove something about?\n",
    "\n",
    "n = 2000\n",
    "T = 1\n",
    "d = 2\n",
    "\n",
    "# Generate an SBM\n",
    "# As, tau = make_iid(n, T, iid_prob=0.9)\n",
    "\n",
    "K = 5\n",
    "As, tau, _ = make_temporal_simple(n, T, K=K) # K community SBM\n",
    "A_obs = As[0]"
   ]
  },
  {
   "cell_type": "code",
   "execution_count": 3,
   "metadata": {},
   "outputs": [],
   "source": [
    "yhat = UASE(As, d=d, flat=False)"
   ]
  },
  {
   "cell_type": "code",
   "execution_count": 39,
   "metadata": {},
   "outputs": [
    {
     "data": {
      "application/vnd.plotly.v1+json": {
       "config": {
        "plotlyServerURL": "https://plot.ly"
       },
       "data": [
        {
         "hovertemplate": "Community=0<br>Time=0<br>Dimension 1=%{x}<br>Dimension 2=%{y}<extra></extra>",
         "legendgroup": "0",
         "marker": {
          "color": "#636efa",
          "symbol": "circle"
         },
         "mode": "markers",
         "name": "0",
         "orientation": "v",
         "showlegend": true,
         "type": "scatter",
         "x": [
          -0.6087796045624373,
          -0.5772539993254365,
          -0.4709491097140139,
          -0.612792612972145,
          -0.6172909027140775,
          -0.5354715719464465,
          -0.5463005912930173,
          -0.5392581706195309,
          -0.4897565711576509,
          -0.5599126131686001,
          -0.6002728803121065,
          -0.5923500808204429,
          -0.5340061716890472,
          -0.6250532036892734,
          -0.6308344861362288,
          -0.608490202355751,
          -0.5795441472114783,
          -0.5940757269016788,
          -0.570007251348246,
          -0.6814654855441211,
          -0.6657406412647078,
          -0.5913266757775879,
          -0.5145389676197545,
          -0.5870342537948684,
          -0.5316252319588113,
          -0.5771225823070145,
          -0.6161725777033303,
          -0.5423251214787435,
          -0.5001170402297508,
          -0.5551304422224926,
          -0.593645769077792,
          -0.568036200661808,
          -0.5744432986276332,
          -0.6016024258243909,
          -0.6152166332664984,
          -0.6023405698165706,
          -0.6328932834996607,
          -0.6270323643463382,
          -0.5286488710338548,
          -0.5602046226816053,
          -0.5966811303318704,
          -0.46587784249670716,
          -0.581646328955627,
          -0.5913637179652745,
          -0.5003239265077909,
          -0.6255277244261946,
          -0.5748416728991483,
          -0.5415569504732117,
          -0.6000502119798132,
          -0.6025937973429988,
          -0.5557701719222137,
          -0.6027183906233262,
          -0.5115131193057021,
          -0.6228538215557431,
          -0.5332083911487748,
          -0.5436374946049918,
          -0.5604177772571618,
          -0.6010986076697196,
          -0.6265886182048221,
          -0.5388657094941277,
          -0.5896412463225917,
          -0.5754202949844242,
          -0.5699649872230861,
          -0.6257417277535797,
          -0.5753948510816719,
          -0.5798436578587565,
          -0.553738931023861,
          -0.5571052040096083,
          -0.6380915833723236,
          -0.6260354174974678,
          -0.5538870583221088,
          -0.5244202528410851,
          -0.601526669048803,
          -0.5713986460643713,
          -0.5937600442421466,
          -0.5818216174411991,
          -0.47709583641293235,
          -0.5600431958531058,
          -0.5852812855312902,
          -0.5852244158651096,
          -0.5748885236979182,
          -0.5322160388339868,
          -0.5639425735564798,
          -0.5464964768473138,
          -0.6092407200238793,
          -0.562945436071797,
          -0.6361585195349494,
          -0.6292128259771971,
          -0.603392886457964,
          -0.6068395356066876,
          -0.5341374575889203,
          -0.5496638919075001,
          -0.5147723651883872,
          -0.5392351119533971,
          -0.536897363341273,
          -0.6100912082127111,
          -0.6206024496446363,
          -0.5373317515073608,
          -0.5804220793886223,
          -0.5981976461753414,
          -0.4736681122613951,
          -0.6177911787608029,
          -0.5816482656528725,
          -0.5834710136021024,
          -0.5380107751430268,
          -0.5721310251249454,
          -0.5433875781065737,
          -0.6455233975156375,
          -0.5196283429958077,
          -0.6112110685088751,
          -0.5186939106372436,
          -0.6174388941227655,
          -0.6480435368646317,
          -0.6113204105565309,
          -0.6632516250993855,
          -0.5744884850181459,
          -0.6072574063082286,
          -0.5418676539886222,
          -0.6170755317814017,
          -0.5292267875962199,
          -0.6410500017841243,
          -0.5732277844072372,
          -0.6141828806934484,
          -0.48300547926008164,
          -0.5903903785472785,
          -0.5936150637523776,
          -0.6472643786087886,
          -0.46952569246664533,
          -0.5931701658142903,
          -0.540901823978384,
          -0.6137616472428411,
          -0.6349014517677607,
          -0.613397348144765,
          -0.5695516444981902,
          -0.6361935433068983,
          -0.5371817069362107,
          -0.592105130691787,
          -0.6344524879101622,
          -0.5810683023010841,
          -0.5530175888263739,
          -0.5571129972312223,
          -0.6410729323395007,
          -0.5783867470062534,
          -0.5435935066240594,
          -0.48815013880425434,
          -0.5549162086031318,
          -0.6064780955186482,
          -0.603336978364525,
          -0.5976642002010153,
          -0.5666042359000839
         ],
         "xaxis": "x",
         "y": [
          -0.4383260202881125,
          -0.39326975235981254,
          -0.37108562697442543,
          -0.5717333351631734,
          -0.3767466424964869,
          -0.4041960826983549,
          -0.5082162756686169,
          -0.3574345962986204,
          -0.2278206117342387,
          -0.41296838886424847,
          -0.37301069115149016,
          -0.5039403139469426,
          -0.38842000545895544,
          -0.41263451605597085,
          -0.3682946290386072,
          -0.3580599277019827,
          -0.38384919710884324,
          -0.46603348394173144,
          -0.45570896089270096,
          -0.49479288882282824,
          -0.43231820580610414,
          -0.35734881471809266,
          -0.3777596456103048,
          -0.38676069654875517,
          -0.4166160410994568,
          -0.5880031750694972,
          -0.300077726168373,
          -0.3289013991561651,
          -0.3924492984232053,
          -0.4277044139973116,
          -0.4453335031664943,
          -0.250732187983576,
          -0.3421589791768466,
          -0.4493732179639674,
          -0.45424868018081693,
          -0.4469275797245185,
          -0.3811601501077994,
          -0.560069556899991,
          -0.37335338439874716,
          -0.5354783906758597,
          -0.3995544447197152,
          -0.3018473836378505,
          -0.43200282014425384,
          -0.4453641924634619,
          -0.4145244445436836,
          -0.3357563182704897,
          -0.3773143646862294,
          -0.347815646448346,
          -0.509874419076655,
          -0.4901287698007922,
          -0.5054562216828942,
          -0.40898229848649675,
          -0.48736473201839314,
          -0.4793863849474459,
          -0.40096249980602594,
          -0.39271043404890177,
          -0.34718308976528867,
          -0.4380555939884729,
          -0.47590768177693893,
          -0.4860247232078403,
          -0.406111580440246,
          -0.4384581605098904,
          -0.48490525273153623,
          -0.38963760265007563,
          -0.4850965480708922,
          -0.39590926969999374,
          -0.41507550362082085,
          -0.5168514474198745,
          -0.4150448679872656,
          -0.43990468673012756,
          -0.3395801830807286,
          -0.29133721408139784,
          -0.4649667637169919,
          -0.39033131660903875,
          -0.4267251073181051,
          -0.4360661945692375,
          -0.4079947631100954,
          -0.40760289907065456,
          -0.5007610614503728,
          -0.3895197778575236,
          -0.3609488813300212,
          -0.46724708703669465,
          -0.3249907665679919,
          -0.3549410476151412,
          -0.4890988710473945,
          -0.3505284519225306,
          -0.45600993577652177,
          -0.4722793429972433,
          -0.4287288377116663,
          -0.5433371585584942,
          -0.5038730176554828,
          -0.3432918131523767,
          -0.34523338274138105,
          -0.3573463582187807,
          -0.4011489054463313,
          -0.47606019497906493,
          -0.4877478167923891,
          -0.3909744854470874,
          -0.34818208329331063,
          -0.5828949732037053,
          -0.4177164862995562,
          -0.42843180370304185,
          -0.29871091279425316,
          -0.46609243184672616,
          -0.27487102085356824,
          -0.4614931761512143,
          -0.28998903206898297,
          -0.3275726977459183,
          -0.4073139973091181,
          -0.4411045018863711,
          -0.40588450488259736,
          -0.46538925750745225,
          -0.3056875518383322,
          -0.510875090919345,
          -0.42597218968347433,
          -0.3173476061959731,
          -0.5148013728442412,
          -0.3103444550354604,
          -0.358094174922581,
          -0.32198911120332235,
          -0.3335156735613322,
          -0.42109597237191687,
          -0.41040105863680726,
          -0.3450565562134063,
          -0.3751596643806133,
          -0.5140305883239623,
          -0.4278071932113583,
          -0.4067749606371796,
          -0.4464791394516356,
          -0.42403755285195677,
          -0.34239840717022585,
          -0.37961863005229285,
          -0.33236652831096736,
          -0.3703234969049914,
          -0.4917769923020698,
          -0.2538043391889728,
          -0.2661027378725872,
          -0.3714024889437447,
          -0.2647925752031906,
          -0.34688492804479565,
          -0.33658677138612003,
          -0.49211712156232906,
          -0.43583136897246405,
          -0.45575808139392704,
          -0.35799728016678983,
          -0.4850572077751317,
          -0.42524153050370034,
          -0.39320289315124896,
          -0.3541031944387188,
          -0.46459090486891214
         ],
         "yaxis": "y"
        },
        {
         "hovertemplate": "Community=1<br>Time=0<br>Dimension 1=%{x}<br>Dimension 2=%{y}<extra></extra>",
         "legendgroup": "1",
         "marker": {
          "color": "#EF553B",
          "symbol": "circle"
         },
         "mode": "markers",
         "name": "1",
         "orientation": "v",
         "showlegend": true,
         "type": "scatter",
         "x": [
          -0.5934050376039078,
          -0.5933203796503087,
          -0.6174222590637115,
          -0.6728623649912744,
          -0.6066661907090455,
          -0.6605237211834742,
          -0.6794513156802641,
          -0.6645956098538541,
          -0.6406981946924564,
          -0.6192168071879898,
          -0.6944273906478909,
          -0.6063245180985063,
          -0.6514683893641647,
          -0.617316206548807,
          -0.5950054613704628,
          -0.6352082932834204,
          -0.53988845568069,
          -0.6081889149307164,
          -0.5750345946687495,
          -0.6984419735556366,
          -0.5798346668114279,
          -0.6651733965272675,
          -0.6353268628031425,
          -0.5820940393039221,
          -0.6191507839173606,
          -0.5906642803347111,
          -0.6044362337408146,
          -0.6555184019560514,
          -0.6521679779319183,
          -0.6382012977177798,
          -0.6000121227871399,
          -0.5974358995265793,
          -0.6325638830691329,
          -0.6374370242800691,
          -0.6457409884487377,
          -0.5925615148243031,
          -0.581368612472385,
          -0.605780901270548,
          -0.6852902316060452,
          -0.6687179647419982,
          -0.6123946511964643,
          -0.6670648452631706,
          -0.6140266543882995,
          -0.5902355456108613,
          -0.6513480946111416,
          -0.5419464992038391,
          -0.6449099641674496,
          -0.7241283782723802,
          -0.6175998571720565,
          -0.5586236805324772,
          -0.5734244369747388,
          -0.5969324482649874,
          -0.588695118013413,
          -0.6313366729799895,
          -0.5609065925064141,
          -0.6057242044515935,
          -0.5818158786902322,
          -0.5852198644104027,
          -0.5786674940315196,
          -0.6128842269436842,
          -0.6073507072540741,
          -0.6612659472295993,
          -0.5735602092298369,
          -0.6063788027845133,
          -0.540252008994853,
          -0.5685412439475639,
          -0.5693565141221946,
          -0.5657134908957134,
          -0.6600419782472239,
          -0.6298989761560095,
          -0.6614443590622566,
          -0.6014019968222476,
          -0.5148672854917827,
          -0.627505932463155,
          -0.5579833704252358,
          -0.6444540983320953,
          -0.527876746604991,
          -0.6079288315686656,
          -0.6999931990946204,
          -0.7316039931546696,
          -0.6318237938214308,
          -0.5872785496103405,
          -0.6026498752593685,
          -0.6515384729748392,
          -0.5811528695216464,
          -0.6195313694639257,
          -0.6230010641552354,
          -0.629087954490308,
          -0.6208892953168859,
          -0.6409612569027585,
          -0.6490678283273527,
          -0.6760474408392423,
          -0.6539661728403673,
          -0.629152893096432,
          -0.6480096567359956,
          -0.6072504390175721,
          -0.632175001667138,
          -0.582407774884506,
          -0.644013432907431,
          -0.6344954487611981,
          -0.630257341656396,
          -0.6649676216954455,
          -0.6055474939172232,
          -0.6870623586210475,
          -0.5798201569067684,
          -0.6746500010273446,
          -0.6093056507292504,
          -0.6910634617557353,
          -0.5791090774813098,
          -0.6179386089118407,
          -0.6397478139977749,
          -0.5814179170937173,
          -0.617524295198106,
          -0.6364099365296292,
          -0.5748213060387916,
          -0.47974759774712916,
          -0.5786701984148579,
          -0.6380058330642221,
          -0.650859087336899,
          -0.5485329008057009,
          -0.5752723660468917,
          -0.6141082533589762,
          -0.663282413212665,
          -0.6552604294627048,
          -0.5497332287306649,
          -0.6638903785443191,
          -0.6681413459401133,
          -0.6627283567774618,
          -0.6160203088401858,
          -0.6090726969169517,
          -0.557143289456942,
          -0.6007711774322798,
          -0.6350602198835955,
          -0.5664258574195745,
          -0.7005637655958926,
          -0.6653822021601019,
          -0.6245035321867658,
          -0.537682271061268,
          -0.6642422384268397,
          -0.5850533622941452,
          -0.5355606762598297,
          -0.5915615175936095,
          -0.6186379592503599,
          -0.5345618698890136,
          -0.6649629921814132,
          -0.6264568476401692,
          -0.6106393834346994,
          -0.5777978483122631,
          -0.6061438721293511,
          -0.6819357461604606
         ],
         "xaxis": "x",
         "y": [
          0.38570362413312737,
          0.2781792473400817,
          0.33941874459134636,
          0.5147126290506399,
          0.298618975102465,
          0.38770514621295843,
          0.49509251386956654,
          0.43952952243516563,
          0.3570415750747153,
          0.4030561501529431,
          0.32353271104292436,
          0.38136514295051555,
          0.45552638448993454,
          0.3325066390345543,
          0.33806373063413925,
          0.4266182916744491,
          0.25160979243924386,
          0.4059237672128338,
          0.25394530907903856,
          0.32401915320149494,
          0.25533517488623064,
          0.4302332736454462,
          0.46231171445376507,
          0.34052697625601164,
          0.45288429124427443,
          0.5007295689045754,
          0.4014294685023053,
          0.4357857599213269,
          0.290003835629385,
          0.33927506580833683,
          0.4016263131068242,
          0.4902447769815519,
          0.3597216876736454,
          0.3575432586243591,
          0.39522088595178473,
          0.4448927849686121,
          0.37354568782144304,
          0.33881974078433047,
          0.4512838889729624,
          0.4128046700432771,
          0.37601250477338155,
          0.4820532829979726,
          0.41226492444447266,
          0.43644571131653037,
          0.3597261092331335,
          0.3470421325167576,
          0.32796489372021764,
          0.36012251857679944,
          0.3219096796768494,
          0.4624103198438184,
          0.43754103009114814,
          0.3271892335907394,
          0.3637037635943241,
          0.45591394907501936,
          0.32382095713204645,
          0.37322207692289416,
          0.3407735055811889,
          0.3992309347684869,
          0.39315047805513165,
          0.4600981753794723,
          0.36186142359517437,
          0.30147502662673087,
          0.3965876832206369,
          0.30885714974885947,
          0.3682294455589717,
          0.5042637407260717,
          0.32099926759624137,
          0.35242769166743476,
          0.37515418441887294,
          0.35550684610419314,
          0.3445695861883394,
          0.3326578822382338,
          0.3032437205041986,
          0.3594826955479354,
          0.31009118723865364,
          0.33856447311781157,
          0.40682685669682456,
          0.42923564284784965,
          0.4940829295425223,
          0.40629590473561017,
          0.4872980394658402,
          0.4186958780162748,
          0.38014255399618535,
          0.4317262042763496,
          0.46551298062304985,
          0.5065652077632088,
          0.4205989244921491,
          0.2083623387306425,
          0.43071445347333326,
          0.4491273132516958,
          0.395123986308542,
          0.4669610306941373,
          0.5176430012236063,
          0.25607654795637724,
          0.29054997823286666,
          0.4485915438783411,
          0.28178860103820397,
          0.39834137995051294,
          0.3845065075733594,
          0.35103130269370847,
          0.4271720503774449,
          0.44406661429931354,
          0.451244683508134,
          0.36050400431837604,
          0.4037227673775997,
          0.40820008690151693,
          0.3353163673442752,
          0.4045260569388836,
          0.3133576836988352,
          0.4745297001172599,
          0.42440891815806425,
          0.32993515383920186,
          0.44471509719955216,
          0.320354203856219,
          0.29895005591782037,
          0.30760423199095305,
          0.3817255737612089,
          0.4710392840927887,
          0.39255447394048076,
          0.300399260364592,
          0.29408269174295393,
          0.4643543325272162,
          0.4294180332850926,
          0.3730841702420397,
          0.46193601155168224,
          0.4450785396404313,
          0.37152553792067966,
          0.41972881859874317,
          0.3187919863074516,
          0.22666153091747887,
          0.29856681743523644,
          0.43721533245798233,
          0.2399437183415042,
          0.33884265638840544,
          0.4236552221276683,
          0.40024791048754654,
          0.39990927527877573,
          0.4216449919737534,
          0.3457043565500492,
          0.2767806452408559,
          0.47895818741834795,
          0.42728147267371164,
          0.35553884714226164,
          0.3837855743838672,
          0.38867181671664086,
          0.5212124535994718,
          0.4118387696932294,
          0.2555721969467993,
          0.37179743449282787,
          0.3288956869452531
         ],
         "yaxis": "y"
        }
       ],
       "layout": {
        "legend": {
         "title": {
          "text": "Community"
         },
         "tracegroupgap": 0
        },
        "margin": {
         "t": 60
        },
        "template": {
         "data": {
          "bar": [
           {
            "error_x": {
             "color": "#2a3f5f"
            },
            "error_y": {
             "color": "#2a3f5f"
            },
            "marker": {
             "line": {
              "color": "#E5ECF6",
              "width": 0.5
             },
             "pattern": {
              "fillmode": "overlay",
              "size": 10,
              "solidity": 0.2
             }
            },
            "type": "bar"
           }
          ],
          "barpolar": [
           {
            "marker": {
             "line": {
              "color": "#E5ECF6",
              "width": 0.5
             },
             "pattern": {
              "fillmode": "overlay",
              "size": 10,
              "solidity": 0.2
             }
            },
            "type": "barpolar"
           }
          ],
          "carpet": [
           {
            "aaxis": {
             "endlinecolor": "#2a3f5f",
             "gridcolor": "white",
             "linecolor": "white",
             "minorgridcolor": "white",
             "startlinecolor": "#2a3f5f"
            },
            "baxis": {
             "endlinecolor": "#2a3f5f",
             "gridcolor": "white",
             "linecolor": "white",
             "minorgridcolor": "white",
             "startlinecolor": "#2a3f5f"
            },
            "type": "carpet"
           }
          ],
          "choropleth": [
           {
            "colorbar": {
             "outlinewidth": 0,
             "ticks": ""
            },
            "type": "choropleth"
           }
          ],
          "contour": [
           {
            "colorbar": {
             "outlinewidth": 0,
             "ticks": ""
            },
            "colorscale": [
             [
              0,
              "#0d0887"
             ],
             [
              0.1111111111111111,
              "#46039f"
             ],
             [
              0.2222222222222222,
              "#7201a8"
             ],
             [
              0.3333333333333333,
              "#9c179e"
             ],
             [
              0.4444444444444444,
              "#bd3786"
             ],
             [
              0.5555555555555556,
              "#d8576b"
             ],
             [
              0.6666666666666666,
              "#ed7953"
             ],
             [
              0.7777777777777778,
              "#fb9f3a"
             ],
             [
              0.8888888888888888,
              "#fdca26"
             ],
             [
              1,
              "#f0f921"
             ]
            ],
            "type": "contour"
           }
          ],
          "contourcarpet": [
           {
            "colorbar": {
             "outlinewidth": 0,
             "ticks": ""
            },
            "type": "contourcarpet"
           }
          ],
          "heatmap": [
           {
            "colorbar": {
             "outlinewidth": 0,
             "ticks": ""
            },
            "colorscale": [
             [
              0,
              "#0d0887"
             ],
             [
              0.1111111111111111,
              "#46039f"
             ],
             [
              0.2222222222222222,
              "#7201a8"
             ],
             [
              0.3333333333333333,
              "#9c179e"
             ],
             [
              0.4444444444444444,
              "#bd3786"
             ],
             [
              0.5555555555555556,
              "#d8576b"
             ],
             [
              0.6666666666666666,
              "#ed7953"
             ],
             [
              0.7777777777777778,
              "#fb9f3a"
             ],
             [
              0.8888888888888888,
              "#fdca26"
             ],
             [
              1,
              "#f0f921"
             ]
            ],
            "type": "heatmap"
           }
          ],
          "heatmapgl": [
           {
            "colorbar": {
             "outlinewidth": 0,
             "ticks": ""
            },
            "colorscale": [
             [
              0,
              "#0d0887"
             ],
             [
              0.1111111111111111,
              "#46039f"
             ],
             [
              0.2222222222222222,
              "#7201a8"
             ],
             [
              0.3333333333333333,
              "#9c179e"
             ],
             [
              0.4444444444444444,
              "#bd3786"
             ],
             [
              0.5555555555555556,
              "#d8576b"
             ],
             [
              0.6666666666666666,
              "#ed7953"
             ],
             [
              0.7777777777777778,
              "#fb9f3a"
             ],
             [
              0.8888888888888888,
              "#fdca26"
             ],
             [
              1,
              "#f0f921"
             ]
            ],
            "type": "heatmapgl"
           }
          ],
          "histogram": [
           {
            "marker": {
             "pattern": {
              "fillmode": "overlay",
              "size": 10,
              "solidity": 0.2
             }
            },
            "type": "histogram"
           }
          ],
          "histogram2d": [
           {
            "colorbar": {
             "outlinewidth": 0,
             "ticks": ""
            },
            "colorscale": [
             [
              0,
              "#0d0887"
             ],
             [
              0.1111111111111111,
              "#46039f"
             ],
             [
              0.2222222222222222,
              "#7201a8"
             ],
             [
              0.3333333333333333,
              "#9c179e"
             ],
             [
              0.4444444444444444,
              "#bd3786"
             ],
             [
              0.5555555555555556,
              "#d8576b"
             ],
             [
              0.6666666666666666,
              "#ed7953"
             ],
             [
              0.7777777777777778,
              "#fb9f3a"
             ],
             [
              0.8888888888888888,
              "#fdca26"
             ],
             [
              1,
              "#f0f921"
             ]
            ],
            "type": "histogram2d"
           }
          ],
          "histogram2dcontour": [
           {
            "colorbar": {
             "outlinewidth": 0,
             "ticks": ""
            },
            "colorscale": [
             [
              0,
              "#0d0887"
             ],
             [
              0.1111111111111111,
              "#46039f"
             ],
             [
              0.2222222222222222,
              "#7201a8"
             ],
             [
              0.3333333333333333,
              "#9c179e"
             ],
             [
              0.4444444444444444,
              "#bd3786"
             ],
             [
              0.5555555555555556,
              "#d8576b"
             ],
             [
              0.6666666666666666,
              "#ed7953"
             ],
             [
              0.7777777777777778,
              "#fb9f3a"
             ],
             [
              0.8888888888888888,
              "#fdca26"
             ],
             [
              1,
              "#f0f921"
             ]
            ],
            "type": "histogram2dcontour"
           }
          ],
          "mesh3d": [
           {
            "colorbar": {
             "outlinewidth": 0,
             "ticks": ""
            },
            "type": "mesh3d"
           }
          ],
          "parcoords": [
           {
            "line": {
             "colorbar": {
              "outlinewidth": 0,
              "ticks": ""
             }
            },
            "type": "parcoords"
           }
          ],
          "pie": [
           {
            "automargin": true,
            "type": "pie"
           }
          ],
          "scatter": [
           {
            "fillpattern": {
             "fillmode": "overlay",
             "size": 10,
             "solidity": 0.2
            },
            "type": "scatter"
           }
          ],
          "scatter3d": [
           {
            "line": {
             "colorbar": {
              "outlinewidth": 0,
              "ticks": ""
             }
            },
            "marker": {
             "colorbar": {
              "outlinewidth": 0,
              "ticks": ""
             }
            },
            "type": "scatter3d"
           }
          ],
          "scattercarpet": [
           {
            "marker": {
             "colorbar": {
              "outlinewidth": 0,
              "ticks": ""
             }
            },
            "type": "scattercarpet"
           }
          ],
          "scattergeo": [
           {
            "marker": {
             "colorbar": {
              "outlinewidth": 0,
              "ticks": ""
             }
            },
            "type": "scattergeo"
           }
          ],
          "scattergl": [
           {
            "marker": {
             "colorbar": {
              "outlinewidth": 0,
              "ticks": ""
             }
            },
            "type": "scattergl"
           }
          ],
          "scattermapbox": [
           {
            "marker": {
             "colorbar": {
              "outlinewidth": 0,
              "ticks": ""
             }
            },
            "type": "scattermapbox"
           }
          ],
          "scatterpolar": [
           {
            "marker": {
             "colorbar": {
              "outlinewidth": 0,
              "ticks": ""
             }
            },
            "type": "scatterpolar"
           }
          ],
          "scatterpolargl": [
           {
            "marker": {
             "colorbar": {
              "outlinewidth": 0,
              "ticks": ""
             }
            },
            "type": "scatterpolargl"
           }
          ],
          "scatterternary": [
           {
            "marker": {
             "colorbar": {
              "outlinewidth": 0,
              "ticks": ""
             }
            },
            "type": "scatterternary"
           }
          ],
          "surface": [
           {
            "colorbar": {
             "outlinewidth": 0,
             "ticks": ""
            },
            "colorscale": [
             [
              0,
              "#0d0887"
             ],
             [
              0.1111111111111111,
              "#46039f"
             ],
             [
              0.2222222222222222,
              "#7201a8"
             ],
             [
              0.3333333333333333,
              "#9c179e"
             ],
             [
              0.4444444444444444,
              "#bd3786"
             ],
             [
              0.5555555555555556,
              "#d8576b"
             ],
             [
              0.6666666666666666,
              "#ed7953"
             ],
             [
              0.7777777777777778,
              "#fb9f3a"
             ],
             [
              0.8888888888888888,
              "#fdca26"
             ],
             [
              1,
              "#f0f921"
             ]
            ],
            "type": "surface"
           }
          ],
          "table": [
           {
            "cells": {
             "fill": {
              "color": "#EBF0F8"
             },
             "line": {
              "color": "white"
             }
            },
            "header": {
             "fill": {
              "color": "#C8D4E3"
             },
             "line": {
              "color": "white"
             }
            },
            "type": "table"
           }
          ]
         },
         "layout": {
          "annotationdefaults": {
           "arrowcolor": "#2a3f5f",
           "arrowhead": 0,
           "arrowwidth": 1
          },
          "autotypenumbers": "strict",
          "coloraxis": {
           "colorbar": {
            "outlinewidth": 0,
            "ticks": ""
           }
          },
          "colorscale": {
           "diverging": [
            [
             0,
             "#8e0152"
            ],
            [
             0.1,
             "#c51b7d"
            ],
            [
             0.2,
             "#de77ae"
            ],
            [
             0.3,
             "#f1b6da"
            ],
            [
             0.4,
             "#fde0ef"
            ],
            [
             0.5,
             "#f7f7f7"
            ],
            [
             0.6,
             "#e6f5d0"
            ],
            [
             0.7,
             "#b8e186"
            ],
            [
             0.8,
             "#7fbc41"
            ],
            [
             0.9,
             "#4d9221"
            ],
            [
             1,
             "#276419"
            ]
           ],
           "sequential": [
            [
             0,
             "#0d0887"
            ],
            [
             0.1111111111111111,
             "#46039f"
            ],
            [
             0.2222222222222222,
             "#7201a8"
            ],
            [
             0.3333333333333333,
             "#9c179e"
            ],
            [
             0.4444444444444444,
             "#bd3786"
            ],
            [
             0.5555555555555556,
             "#d8576b"
            ],
            [
             0.6666666666666666,
             "#ed7953"
            ],
            [
             0.7777777777777778,
             "#fb9f3a"
            ],
            [
             0.8888888888888888,
             "#fdca26"
            ],
            [
             1,
             "#f0f921"
            ]
           ],
           "sequentialminus": [
            [
             0,
             "#0d0887"
            ],
            [
             0.1111111111111111,
             "#46039f"
            ],
            [
             0.2222222222222222,
             "#7201a8"
            ],
            [
             0.3333333333333333,
             "#9c179e"
            ],
            [
             0.4444444444444444,
             "#bd3786"
            ],
            [
             0.5555555555555556,
             "#d8576b"
            ],
            [
             0.6666666666666666,
             "#ed7953"
            ],
            [
             0.7777777777777778,
             "#fb9f3a"
            ],
            [
             0.8888888888888888,
             "#fdca26"
            ],
            [
             1,
             "#f0f921"
            ]
           ]
          },
          "colorway": [
           "#636efa",
           "#EF553B",
           "#00cc96",
           "#ab63fa",
           "#FFA15A",
           "#19d3f3",
           "#FF6692",
           "#B6E880",
           "#FF97FF",
           "#FECB52"
          ],
          "font": {
           "color": "#2a3f5f"
          },
          "geo": {
           "bgcolor": "white",
           "lakecolor": "white",
           "landcolor": "#E5ECF6",
           "showlakes": true,
           "showland": true,
           "subunitcolor": "white"
          },
          "hoverlabel": {
           "align": "left"
          },
          "hovermode": "closest",
          "mapbox": {
           "style": "light"
          },
          "paper_bgcolor": "white",
          "plot_bgcolor": "#E5ECF6",
          "polar": {
           "angularaxis": {
            "gridcolor": "white",
            "linecolor": "white",
            "ticks": ""
           },
           "bgcolor": "#E5ECF6",
           "radialaxis": {
            "gridcolor": "white",
            "linecolor": "white",
            "ticks": ""
           }
          },
          "scene": {
           "xaxis": {
            "backgroundcolor": "#E5ECF6",
            "gridcolor": "white",
            "gridwidth": 2,
            "linecolor": "white",
            "showbackground": true,
            "ticks": "",
            "zerolinecolor": "white"
           },
           "yaxis": {
            "backgroundcolor": "#E5ECF6",
            "gridcolor": "white",
            "gridwidth": 2,
            "linecolor": "white",
            "showbackground": true,
            "ticks": "",
            "zerolinecolor": "white"
           },
           "zaxis": {
            "backgroundcolor": "#E5ECF6",
            "gridcolor": "white",
            "gridwidth": 2,
            "linecolor": "white",
            "showbackground": true,
            "ticks": "",
            "zerolinecolor": "white"
           }
          },
          "shapedefaults": {
           "line": {
            "color": "#2a3f5f"
           }
          },
          "ternary": {
           "aaxis": {
            "gridcolor": "white",
            "linecolor": "white",
            "ticks": ""
           },
           "baxis": {
            "gridcolor": "white",
            "linecolor": "white",
            "ticks": ""
           },
           "bgcolor": "#E5ECF6",
           "caxis": {
            "gridcolor": "white",
            "linecolor": "white",
            "ticks": ""
           }
          },
          "title": {
           "x": 0.05
          },
          "xaxis": {
           "automargin": true,
           "gridcolor": "white",
           "linecolor": "white",
           "ticks": "",
           "title": {
            "standoff": 15
           },
           "zerolinecolor": "white",
           "zerolinewidth": 2
          },
          "yaxis": {
           "automargin": true,
           "gridcolor": "white",
           "linecolor": "white",
           "ticks": "",
           "title": {
            "standoff": 15
           },
           "zerolinecolor": "white",
           "zerolinewidth": 2
          }
         }
        },
        "xaxis": {
         "anchor": "y",
         "domain": [
          0,
          1
         ],
         "range": [
          -0.7369185161678289,
          -0.4605633194835479
         ],
         "title": {
          "text": "Dimension 1"
         }
        },
        "yaxis": {
         "anchor": "x",
         "domain": [
          0,
          1
         ],
         "range": [
          -0.6101874876428766,
          0.5433967661728512
         ],
         "title": {
          "text": "Dimension 2"
         }
        }
       }
      }
     },
     "metadata": {},
     "output_type": "display_data"
    }
   ],
   "source": [
    "# plt.plot(yhat[0, :, 0], yhat[0, :, 1], 'o', c=tau/K)\n",
    "yhat_plot = UASE(As, d=d, flat=True)\n",
    "plot_embedding(yhat_plot, n, T, tau)"
   ]
  },
  {
   "cell_type": "code",
   "execution_count": 6,
   "metadata": {},
   "outputs": [],
   "source": [
    "# run a k-NN on the embedding yhat\n",
    "# n_neighbors = n//K\n",
    "n_neighbors = 5\n",
    "\n",
    "# Here we use Minkowski distance\n",
    "from sklearn.neighbors import NearestNeighbors\n",
    "nbrs = NearestNeighbors(n_neighbors=n_neighbors, algorithm='ball_tree').fit(yhat[0])\n",
    "distances, indices = nbrs.kneighbors(yhat[0])\n",
    "\n",
    "# # Here we use cosine distance\n",
    "# # Note we need to use brute force for cosine distance\n",
    "# from sklearn.neighbors import NearestNeighbors\n",
    "# nbrs = NearestNeighbors(n_neighbors=n_neighbors, algorithm='brute', metric='cosine').fit(yhat[0])\n",
    "# distances, indices = nbrs.kneighbors(yhat[0])\n",
    "\n",
    "\n",
    "# what is k?\n",
    "# what is n_neighbors?\n",
    "# answer: k is the number of neighbors to consider, n_neighbors is the number of neighbors to return"
   ]
  },
  {
   "cell_type": "code",
   "execution_count": 7,
   "metadata": {},
   "outputs": [
    {
     "data": {
      "text/plain": [
       "array([[   0,  249,  225,  127,  115],\n",
       "       [   1,  363,  376,   92,  372],\n",
       "       [   2,  181,  151,  165,  149],\n",
       "       ...,\n",
       "       [1997, 1812, 1943, 1832, 1699],\n",
       "       [1998, 1874, 1928, 1771, 1908],\n",
       "       [1999, 1889, 1683, 1872, 1944]])"
      ]
     },
     "execution_count": 7,
     "metadata": {},
     "output_type": "execute_result"
    }
   ],
   "source": [
    "indices"
   ]
  },
  {
   "cell_type": "code",
   "execution_count": 8,
   "metadata": {},
   "outputs": [
    {
     "data": {
      "text/plain": [
       "[<matplotlib.lines.Line2D at 0x7f2fb3c7f040>]"
      ]
     },
     "execution_count": 8,
     "metadata": {},
     "output_type": "execute_result"
    },
    {
     "data": {
      "image/png": "[encoded data removed]",
      "text/plain": [
       "<Figure size 432x288 with 1 Axes>"
      ]
     },
     "metadata": {
      "needs_background": "light"
     },
     "output_type": "display_data"
    }
   ],
   "source": [
    "# plot whole embedding in the background\n",
    "plt.plot(yhat[0, :, 0], yhat[0, :, 1], 'o', alpha=0.1, color='gray')\n",
    "# plot the first embedding point and its neighbours\n",
    "plt.plot(yhat[0, indices[0], 0], yhat[0, indices[0], 1], 'o')\n",
    "plt.plot(yhat[0, 0, 0], yhat[0, 0, 1], markersize=10, marker='o')"
   ]
  },
  {
   "cell_type": "code",
   "execution_count": 9,
   "metadata": {},
   "outputs": [],
   "source": [
    "import numba as nb\n",
    "\n",
    "@nb.njit\n",
    "def P_est_from_A_obs(n, A_obs):\n",
    "    P_est = np.zeros((n, n))\n",
    "    for i in range(n):\n",
    "        idx = indices[i]\n",
    "        A_i = (1/n_neighbors) * np.sum(A_obs[:, idx], axis=1)\n",
    "        P_est[:, i] = A_i\n",
    "    return P_est\n",
    "\n",
    "# compile the function\n",
    "P_est_fake = P_est_from_A_obs(1, np.zeros((1,1)))"
   ]
  },
  {
   "cell_type": "code",
   "execution_count": 10,
   "metadata": {},
   "outputs": [],
   "source": [
    "P_est = P_est_from_A_obs(n, A_obs)"
   ]
  },
  {
   "cell_type": "code",
   "execution_count": 11,
   "metadata": {},
   "outputs": [],
   "source": [
    "# P_est = np.zeros((n, n))\n",
    "# for i in range(n):\n",
    "#     idx = indices[i]\n",
    "#     A_i = (1/n_neighbors) * np.sum(A_obs[:, idx], axis=1)\n",
    "#     P_est[:, i] = A_i"
   ]
  },
  {
   "cell_type": "code",
   "execution_count": 12,
   "metadata": {},
   "outputs": [
    {
     "data": {
      "text/plain": [
       "[<matplotlib.lines.Line2D at 0x7f2fad8be4f0>]"
      ]
     },
     "execution_count": 12,
     "metadata": {},
     "output_type": "execute_result"
    },
    {
     "data": {
      "image/png": "[encoded data removed]",
      "text/plain": [
       "<Figure size 432x288 with 1 Axes>"
      ]
     },
     "metadata": {
      "needs_background": "light"
     },
     "output_type": "display_data"
    }
   ],
   "source": [
    "# # draw bernoulli trials from P_est\n",
    "# A_est = np.zeros((n, n))\n",
    "# for i in range(n):\n",
    "#     for j in range(n):\n",
    "#         A_est[i, j] = np.random.binomial(1, P_est[i, j])\n",
    "\n",
    "A_est = make_inhomogeneous_rg(P_est)\n",
    "\n",
    "yhat_est = UASE([A_obs,A_est], d=d, flat=False)\n",
    "\n",
    "plt.plot(yhat_est[0, :, 0], yhat_est[0, :, 1], 'o', markersize=1)\n",
    "plt.plot(yhat_est[1, :, 0], yhat_est[1, :, 1], 'o', markersize=1)"
   ]
  },
  {
   "cell_type": "code",
   "execution_count": 13,
   "metadata": {},
   "outputs": [],
   "source": [
    "# TODO: we assume that KNN is deteministic???\n",
    "B = 100\n",
    "p_vals = []\n",
    "for i in range(B):\n",
    "    A_est = make_inhomogeneous_rg(P_est)\n",
    "\n",
    "    yhat_est = UASE([A_obs,A_est], d=2)\n",
    "    p_val = test_temporal_displacement_two_times(yhat_est, n)\n",
    "    p_vals.append(p_val)\n",
    "\n",
    "# yhat_est = UASE([A_obs,A_est], d=d, flat=False)\n",
    "\n",
    "# plt.plot(yhat_est[0, :, 0], yhat_est[0, :, 1], 'o')\n",
    "# plt.plot(yhat_est[1, :, 0], yhat_est[1, :, 1], 'o')"
   ]
  },
  {
   "cell_type": "code",
   "execution_count": 14,
   "metadata": {},
   "outputs": [
    {
     "data": {
      "image/png": "[encoded data removed]",
      "text/plain": [
       "<Figure size 432x288 with 1 Axes>"
      ]
     },
     "metadata": {
      "needs_background": "light"
     },
     "output_type": "display_data"
    },
    {
     "data": {
      "text/plain": [
       "0.06"
      ]
     },
     "execution_count": 14,
     "metadata": {},
     "output_type": "execute_result"
    }
   ],
   "source": [
    "plot_power(p_vals)"
   ]
  },
  {
   "cell_type": "markdown",
   "metadata": {},
   "source": [
    "Try k-NN on $A$ not $\\hat{Y}$"
   ]
  },
  {
   "cell_type": "code",
   "execution_count": 14,
   "metadata": {},
   "outputs": [],
   "source": [
    "# run a k-NN on the adjacency matrix\n",
    "n_neighbors=3\n",
    "nbrs = NearestNeighbors(n_neighbors=n_neighbors, algorithm='ball_tree').fit(A_obs)\n",
    "distances, indices = nbrs.kneighbors(A_obs)"
   ]
  },
  {
   "cell_type": "code",
   "execution_count": 15,
   "metadata": {},
   "outputs": [],
   "source": [
    "P_est = np.zeros((n, n))\n",
    "for i in range(n):\n",
    "    idx = indices[i]\n",
    "    A_i = (1/n_neighbors) * np.sum(A_obs[:, idx], axis=1)\n",
    "    P_est[:, i] = A_i"
   ]
  },
  {
   "cell_type": "code",
   "execution_count": 16,
   "metadata": {},
   "outputs": [],
   "source": [
    "# TODO: we assume that KNN is deteministic???\n",
    "B = 100\n",
    "p_vals = []\n",
    "for i in range(B):\n",
    "    A_est = make_inhomogeneous_rg(P_est)\n",
    "\n",
    "    yhat_est = UASE([A_obs,A_est], d=2)\n",
    "    p_val = test_temporal_displacement_two_times(yhat_est, n)\n",
    "    p_vals.append(p_val)"
   ]
  },
  {
   "cell_type": "code",
   "execution_count": 17,
   "metadata": {},
   "outputs": [
    {
     "data": {
      "image/png": "[encoded data removed]",
      "text/plain": [
       "<Figure size 432x288 with 1 Axes>"
      ]
     },
     "metadata": {
      "needs_background": "light"
     },
     "output_type": "display_data"
    },
    {
     "data": {
      "text/plain": [
       "1.0"
      ]
     },
     "execution_count": 17,
     "metadata": {},
     "output_type": "execute_result"
    }
   ],
   "source": [
    "plot_power(p_vals)"
   ]
  },
  {
   "cell_type": "code",
   "execution_count": 18,
   "metadata": {},
   "outputs": [
    {
     "data": {
      "text/plain": [
       "[<matplotlib.lines.Line2D at 0x7ff212b66940>]"
      ]
     },
     "execution_count": 18,
     "metadata": {},
     "output_type": "execute_result"
    },
    {
     "data": {
      "image/png": "[encoded data removed]",
      "text/plain": [
       "<Figure size 432x288 with 1 Axes>"
      ]
     },
     "metadata": {
      "needs_background": "light"
     },
     "output_type": "display_data"
    }
   ],
   "source": [
    "yhat_est = UASE([A_obs,A_est], d=d, flat=False)\n",
    "\n",
    "plt.plot(yhat_est[0, :, 0], yhat_est[0, :, 1], 'o')\n",
    "plt.plot(yhat_est[1, :, 0], yhat_est[1, :, 1], 'o')"
   ]
  },
  {
   "cell_type": "markdown",
   "metadata": {},
   "source": [
    "Let's compare the kNN bootstrap with the parametric bootstrap to estimate the variance of each of $K$=2 clusters ( we will increase $K$ as we get good at coding)\n",
    "We want to compare these with the truthm, and anticipate the better bootstrap will give a closer to the truth estimate of variance than the less good one"
   ]
  },
  {
   "cell_type": "code",
   "execution_count": 48,
   "metadata": {},
   "outputs": [],
   "source": [
    "# Run a k-NN on a K=2 community SBM\n",
    "\n",
    "n = 300\n",
    "T = 1\n",
    "d = 2\n",
    "\n",
    "# Generate an SBM\n",
    "# As, tau = make_iid(n, T, iid_prob=0.9)\n",
    "\n",
    "K = 2\n",
    "As, tau, _ = make_temporal_simple(n, T, K=K) # K community SBM\n",
    "A_obs = As[0]"
   ]
  },
  {
   "cell_type": "code",
   "execution_count": 49,
   "metadata": {},
   "outputs": [],
   "source": [
    "yhat = UASE(As, d=d, flat=False)"
   ]
  },
  {
   "cell_type": "code",
   "execution_count": 62,
   "metadata": {},
   "outputs": [],
   "source": [
    "# run a k-NN on the embedding yhat\n",
    "n_neighbors = 5\n",
    "\n",
    "# Here we use Minkowski distance\n",
    "from sklearn.neighbors import NearestNeighbors\n",
    "nbrs = NearestNeighbors(n_neighbors=n_neighbors, algorithm='ball_tree').fit(yhat[0])\n",
    "distances, indices = nbrs.kneighbors(yhat[0])"
   ]
  },
  {
   "cell_type": "code",
   "execution_count": 63,
   "metadata": {},
   "outputs": [],
   "source": [
    "@nb.njit\n",
    "def P_est_from_A_obs(n, A_obs, n_neighbors, indices):\n",
    "    P_est = np.zeros((n, n))\n",
    "    for i in range(n):\n",
    "        idx = indices[i]\n",
    "        A_i = (1/n_neighbors) * np.sum(A_obs[:, idx], axis=1)\n",
    "        P_est[:, i] = A_i\n",
    "    return P_est\n",
    "\n",
    "# compile the function\n",
    "# P_est_fake = P_est_from_A_obs(1, np.zeros((1,1)))"
   ]
  },
  {
   "cell_type": "code",
   "execution_count": 64,
   "metadata": {},
   "outputs": [],
   "source": [
    "P_est = P_est_from_A_obs(n, A_obs, n_neighbors, indices)"
   ]
  },
  {
   "cell_type": "code",
   "execution_count": 65,
   "metadata": {},
   "outputs": [
    {
     "data": {
      "image/png": "[encoded data removed]",
      "text/plain": [
       "<Figure size 432x288 with 1 Axes>"
      ]
     },
     "metadata": {
      "needs_background": "light"
     },
     "output_type": "display_data"
    },
    {
     "data": {
      "text/plain": [
       "0.01"
      ]
     },
     "execution_count": 65,
     "metadata": {},
     "output_type": "execute_result"
    }
   ],
   "source": [
    "B = 100\n",
    "p_vals = []\n",
    "A_boots = []\n",
    "for i in range(B):\n",
    "    A_est = make_inhomogeneous_rg(P_est)\n",
    "\n",
    "    yhat_est = UASE([A_obs,A_est], d=2)\n",
    "    p_val = test_temporal_displacement_two_times(yhat_est, n)\n",
    "    p_vals.append(p_val)\n",
    "    A_boots.append(A_est)\n",
    "\n",
    "#plot\n",
    "plot_power(p_vals)"
   ]
  },
  {
   "cell_type": "code",
   "execution_count": null,
   "metadata": {},
   "outputs": [],
   "source": []
  },
  {
   "cell_type": "code",
   "execution_count": 100,
   "metadata": {},
   "outputs": [],
   "source": [
    "# # YUCK WE HATE THIS\n",
    "# yhat_cov_ests = []\n",
    "\n",
    "# # for each cluster, compute the covariance matrix, based on yhat obtained from A_obs\n",
    "# # we assume this is the \"true\" cluster variance\n",
    "# for clust in range(K):\n",
    "#     yhat_obs_clust = yhat_obs[tau == clust]\n",
    "#     cov_obs = np.cov(yhat_obs_clust, rowvar=False)\n",
    "#     yhat_cov_ests.append(cov_obs)\n",
    "\n",
    "# yhat_cov_ests_n = [yhat_cov_ests[comm] for comm in tau]\n",
    "# assert len(yhat_cov_ests_n) == n"
   ]
  },
  {
   "cell_type": "code",
   "execution_count": 21,
   "metadata": {},
   "outputs": [],
   "source": [
    "# Draw M samples from the same P matrix\n",
    "A_redraws = []\n",
    "# this means that there are the same number of bootstraps as there are draws total from P\n",
    "M = B-1\n",
    "for m in range(M):\n",
    "    As, tau, _ = make_temporal_simple(n, T, K=K) # K community SBM\n",
    "    # NEED TO MAKE SURE THE FUNCTION ABOVE DOESN'T JUMBLE THE TAUS LEAVE THEM IN ORDER FOR CHRIST'S SAKE\n",
    "    A_redraws.append(As[0])"
   ]
  },
  {
   "cell_type": "code",
   "execution_count": 22,
   "metadata": {},
   "outputs": [],
   "source": [
    "A_redraws_unfolded = np.column_stack(A_redraws)\n",
    "assert A_redraws_unfolded.shape == (n, n*M)"
   ]
  },
  {
   "cell_type": "code",
   "execution_count": 24,
   "metadata": {},
   "outputs": [],
   "source": [
    "# put A_obs and A_redraws with A_boots\n",
    "A_concat = A_boots.copy()\n",
    "A_concat.append(A_obs) # [A_boots, A_obs]\n",
    "A_concat.extend(A_redraws) # [A_boots, A_obs, A_redraws]\n",
    "\n",
    "yhat_concat = UASE(A_concat, d=d, flat=False)\n",
    "yhat_boots = yhat_concat[:-B]\n",
    "yhat_obs = yhat_concat[B:] # this is the obs and the redraws\n",
    "\n",
    "assert len(A_concat) == 2*B\n",
    "\n",
    "# store the n covariance matrix estimates from the bootstraps\n",
    "cov_ests_boots = []\n",
    "for i in range(n):\n",
    "    # these are the B emebeddings of node i\n",
    "    pts_node_i = yhat_boots[:, i, :]\n",
    "    cov_node_i = np.cov(pts_node_i, rowvar=False) # d x d matrix\n",
    "    # print(cov_node_i.shape)\n",
    "    # print(cov_node_i)\n",
    "    cov_ests_boots.append(cov_node_i)\n",
    "\n",
    "# store the n covariance matrix estimates from the obs and redraws\n",
    "cov_ests_obs = []\n",
    "for i in range(n):\n",
    "    # these are the B emebeddings of node i\n",
    "    pts_node_i = yhat_obs[:, i, :]\n",
    "    cov_node_i = np.cov(pts_node_i, rowvar=False) # d x d matrix\n",
    "    # print(cov_node_i.shape)\n",
    "    # print(cov_node_i)\n",
    "    cov_ests_obs.append(cov_node_i)"
   ]
  },
  {
   "cell_type": "markdown",
   "metadata": {},
   "source": [
    "need to figure out how to compare variance estimates in the d x d case"
   ]
  },
  {
   "cell_type": "code",
   "execution_count": 25,
   "metadata": {},
   "outputs": [],
   "source": [
    "# compute mse between the two sets of covariance estimates for each node\n",
    "mse = []\n",
    "for i in range(n):\n",
    "    mse_i = np.linalg.norm(cov_ests_boots[i] - cov_ests_obs[i])\n",
    "    mse.append(mse_i)"
   ]
  },
  {
   "cell_type": "code",
   "execution_count": 1,
   "metadata": {},
   "outputs": [
    {
     "ename": "NameError",
     "evalue": "name 'plt' is not defined",
     "output_type": "error",
     "traceback": [
      "\u001b[0;31m---------------------------------------------------------------------------\u001b[0m",
      "\u001b[0;31mNameError\u001b[0m                                 Traceback (most recent call last)",
      "\u001b[0;32m/tmp/ipykernel_21112/422981037.py\u001b[0m in \u001b[0;36m<module>\u001b[0;34m\u001b[0m\n\u001b[0;32m----> 1\u001b[0;31m \u001b[0mplt\u001b[0m\u001b[0;34m.\u001b[0m\u001b[0mplot\u001b[0m\u001b[0;34m(\u001b[0m\u001b[0mmse\u001b[0m\u001b[0;34m)\u001b[0m\u001b[0;34m\u001b[0m\u001b[0;34m\u001b[0m\u001b[0m\n\u001b[0m\u001b[1;32m      2\u001b[0m \u001b[0mprint\u001b[0m\u001b[0;34m(\u001b[0m\u001b[0;34m\"Average MSE: \"\u001b[0m\u001b[0;34m,\u001b[0m \u001b[0mnp\u001b[0m\u001b[0;34m.\u001b[0m\u001b[0mmean\u001b[0m\u001b[0;34m(\u001b[0m\u001b[0mmse\u001b[0m\u001b[0;34m)\u001b[0m\u001b[0;34m)\u001b[0m\u001b[0;34m\u001b[0m\u001b[0;34m\u001b[0m\u001b[0m\n",
      "\u001b[0;31mNameError\u001b[0m: name 'plt' is not defined"
     ]
    }
   ],
   "source": [
    "plt.plot(mse)\n",
    "print(\"Average MSE: \", np.mean(mse))"
   ]
  },
  {
   "cell_type": "markdown",
   "metadata": {},
   "source": [
    "Try looking at KL divergence"
   ]
  },
  {
   "cell_type": "code",
   "execution_count": 53,
   "metadata": {},
   "outputs": [],
   "source": [
    "from scipy.stats import wasserstein_distance\n",
    "\n",
    "cov_error = []\n",
    "for i in range(n):\n",
    "    boots_for_i = np.mean(yhat_boots[:, i, :], axis=1)\n",
    "    obs_for_i = np.mean(yhat_obs[:, i, :], axis=1)\n",
    "    wass_dist = wasserstein_distance(boots_for_i, obs_for_i)\n",
    "    cov_error.append(wass_dist)"
   ]
  },
  {
   "cell_type": "markdown",
   "metadata": {},
   "source": [
    "Running many bootstraps and looking at how good the variance estimation is"
   ]
  },
  {
   "cell_type": "code",
   "execution_count": 20,
   "metadata": {},
   "outputs": [
    {
     "data": {
      "text/plain": [
       "300"
      ]
     },
     "execution_count": 20,
     "metadata": {},
     "output_type": "execute_result"
    }
   ],
   "source": [
    "n"
   ]
  },
  {
   "cell_type": "code",
   "execution_count": 151,
   "metadata": {},
   "outputs": [
    {
     "name": "stderr",
     "output_type": "stream",
     "text": [
      "  0%|          | 0/20 [00:00<?, ?it/s]"
     ]
    },
    {
     "data": {
      "image/png": "[encoded data removed]",
      "text/plain": [
       "<Figure size 432x288 with 1 Axes>"
      ]
     },
     "metadata": {
      "needs_background": "light"
     },
     "output_type": "display_data"
    },
    {
     "name": "stderr",
     "output_type": "stream",
     "text": [
      "  5%|▌         | 1/20 [00:00<00:09,  1.94it/s]"
     ]
    },
    {
     "data": {
      "image/png": "[encoded data removed]",
      "text/plain": [
       "<Figure size 432x288 with 1 Axes>"
      ]
     },
     "metadata": {
      "needs_background": "light"
     },
     "output_type": "display_data"
    },
    {
     "name": "stderr",
     "output_type": "stream",
     "text": [
      " 10%|█         | 2/20 [00:01<00:09,  1.98it/s]"
     ]
    },
    {
     "data": {
      "image/png": "[encoded data removed]",
      "text/plain": [
       "<Figure size 432x288 with 1 Axes>"
      ]
     },
     "metadata": {
      "needs_background": "light"
     },
     "output_type": "display_data"
    },
    {
     "name": "stderr",
     "output_type": "stream",
     "text": [
      " 15%|█▌        | 3/20 [00:01<00:09,  1.82it/s]"
     ]
    },
    {
     "data": {
      "image/png": "[encoded data removed]",
      "text/plain": [
       "<Figure size 432x288 with 1 Axes>"
      ]
     },
     "metadata": {
      "needs_background": "light"
     },
     "output_type": "display_data"
    },
    {
     "name": "stderr",
     "output_type": "stream",
     "text": [
      " 20%|██        | 4/20 [00:02<00:08,  1.85it/s]"
     ]
    },
    {
     "data": {
      "image/png": "[encoded data removed]",
      "text/plain": [
       "<Figure size 432x288 with 1 Axes>"
      ]
     },
     "metadata": {
      "needs_background": "light"
     },
     "output_type": "display_data"
    },
    {
     "name": "stderr",
     "output_type": "stream",
     "text": [
      " 25%|██▌       | 5/20 [00:02<00:08,  1.80it/s]"
     ]
    },
    {
     "data": {
      "image/png": "[encoded data removed]",
      "text/plain": [
       "<Figure size 432x288 with 1 Axes>"
      ]
     },
     "metadata": {
      "needs_background": "light"
     },
     "output_type": "display_data"
    },
    {
     "name": "stderr",
     "output_type": "stream",
     "text": [
      " 30%|███       | 6/20 [00:03<00:07,  1.83it/s]"
     ]
    },
    {
     "data": {
      "image/png": "[encoded data removed]",
      "text/plain": [
       "<Figure size 432x288 with 1 Axes>"
      ]
     },
     "metadata": {
      "needs_background": "light"
     },
     "output_type": "display_data"
    },
    {
     "name": "stderr",
     "output_type": "stream",
     "text": [
      " 35%|███▌      | 7/20 [00:03<00:07,  1.78it/s]"
     ]
    },
    {
     "data": {
      "image/png": "[encoded data removed]",
      "text/plain": [
       "<Figure size 432x288 with 1 Axes>"
      ]
     },
     "metadata": {
      "needs_background": "light"
     },
     "output_type": "display_data"
    },
    {
     "name": "stderr",
     "output_type": "stream",
     "text": [
      " 40%|████      | 8/20 [00:04<00:06,  1.75it/s]"
     ]
    },
    {
     "data": {
      "image/png": "[encoded data removed]",
      "text/plain": [
       "<Figure size 432x288 with 1 Axes>"
      ]
     },
     "metadata": {
      "needs_background": "light"
     },
     "output_type": "display_data"
    },
    {
     "name": "stderr",
     "output_type": "stream",
     "text": [
      " 45%|████▌     | 9/20 [00:05<00:06,  1.66it/s]"
     ]
    },
    {
     "data": {
      "image/png": "[encoded data removed]",
      "text/plain": [
       "<Figure size 432x288 with 1 Axes>"
      ]
     },
     "metadata": {
      "needs_background": "light"
     },
     "output_type": "display_data"
    },
    {
     "name": "stderr",
     "output_type": "stream",
     "text": [
      " 50%|█████     | 10/20 [00:05<00:05,  1.71it/s]"
     ]
    },
    {
     "data": {
      "image/png": "[encoded data removed]",
      "text/plain": [
       "<Figure size 432x288 with 1 Axes>"
      ]
     },
     "metadata": {
      "needs_background": "light"
     },
     "output_type": "display_data"
    },
    {
     "name": "stderr",
     "output_type": "stream",
     "text": [
      " 55%|█████▌    | 11/20 [00:06<00:05,  1.76it/s]"
     ]
    },
    {
     "data": {
      "image/png": "[encoded data removed]",
      "text/plain": [
       "<Figure size 432x288 with 1 Axes>"
      ]
     },
     "metadata": {
      "needs_background": "light"
     },
     "output_type": "display_data"
    },
    {
     "name": "stderr",
     "output_type": "stream",
     "text": [
      " 60%|██████    | 12/20 [00:06<00:04,  1.80it/s]"
     ]
    },
    {
     "data": {
      "image/png": "[encoded data removed]",
      "text/plain": [
       "<Figure size 432x288 with 1 Axes>"
      ]
     },
     "metadata": {
      "needs_background": "light"
     },
     "output_type": "display_data"
    },
    {
     "name": "stderr",
     "output_type": "stream",
     "text": [
      " 65%|██████▌   | 13/20 [00:07<00:03,  1.77it/s]"
     ]
    },
    {
     "data": {
      "image/png": "[encoded data removed]",
      "text/plain": [
       "<Figure size 432x288 with 1 Axes>"
      ]
     },
     "metadata": {
      "needs_background": "light"
     },
     "output_type": "display_data"
    },
    {
     "name": "stderr",
     "output_type": "stream",
     "text": [
      " 70%|███████   | 14/20 [00:07<00:03,  1.71it/s]"
     ]
    },
    {
     "data": {
      "image/png": "[encoded data removed]",
      "text/plain": [
       "<Figure size 432x288 with 1 Axes>"
      ]
     },
     "metadata": {
      "needs_background": "light"
     },
     "output_type": "display_data"
    },
    {
     "name": "stderr",
     "output_type": "stream",
     "text": [
      " 75%|███████▌  | 15/20 [00:08<00:02,  1.78it/s]"
     ]
    },
    {
     "data": {
      "image/png": "[encoded data removed]",
      "text/plain": [
       "<Figure size 432x288 with 1 Axes>"
      ]
     },
     "metadata": {
      "needs_background": "light"
     },
     "output_type": "display_data"
    },
    {
     "name": "stderr",
     "output_type": "stream",
     "text": [
      " 80%|████████  | 16/20 [00:08<00:02,  1.80it/s]"
     ]
    },
    {
     "data": {
      "image/png": "[encoded data removed]",
      "text/plain": [
       "<Figure size 432x288 with 1 Axes>"
      ]
     },
     "metadata": {
      "needs_background": "light"
     },
     "output_type": "display_data"
    },
    {
     "name": "stderr",
     "output_type": "stream",
     "text": [
      " 85%|████████▌ | 17/20 [00:09<00:01,  1.81it/s]"
     ]
    },
    {
     "data": {
      "image/png": "[encoded data removed]",
      "text/plain": [
       "<Figure size 432x288 with 1 Axes>"
      ]
     },
     "metadata": {
      "needs_background": "light"
     },
     "output_type": "display_data"
    },
    {
     "name": "stderr",
     "output_type": "stream",
     "text": [
      " 90%|█████████ | 18/20 [00:10<00:01,  1.78it/s]"
     ]
    },
    {
     "data": {
      "image/png": "[encoded data removed]",
      "text/plain": [
       "<Figure size 432x288 with 1 Axes>"
      ]
     },
     "metadata": {
      "needs_background": "light"
     },
     "output_type": "display_data"
    },
    {
     "name": "stderr",
     "output_type": "stream",
     "text": [
      " 95%|█████████▌| 19/20 [00:10<00:00,  1.66it/s]"
     ]
    },
    {
     "data": {
      "image/png": "[encoded data removed]",
      "text/plain": [
       "<Figure size 432x288 with 1 Axes>"
      ]
     },
     "metadata": {
      "needs_background": "light"
     },
     "output_type": "display_data"
    },
    {
     "name": "stderr",
     "output_type": "stream",
     "text": [
      "100%|██████████| 20/20 [00:11<00:00,  1.72it/s]\n"
     ]
    }
   ],
   "source": [
    "n_neighbors_to_try = [5] + list(np.linspace(n//4, n, 20).astype(int))\n",
    "# n_neighbors_to_try = [5]\n",
    "\n",
    "powers = []\n",
    "avg_dist_errors = []\n",
    "for n_neighbors in tqdm(n_neighbors_to_try):\n",
    "\n",
    "    # Generate graphs -------------------------------\n",
    "    n = 100\n",
    "    T = 1\n",
    "    d = 2\n",
    "    K = 2\n",
    "    As, tau, _ = make_temporal_simple(n, T, K=K) # K community SBM\n",
    "    A_obs = As[0]\n",
    "\n",
    "\n",
    "    # Embed the graphs -------------------------------  \n",
    "    yhat = UASE(As, d=d, flat=False)\n",
    "\n",
    "    # # run a k-NN on the embedding yhat\n",
    "    # n_neighbors = 5\n",
    "\n",
    "    # Here we use Minkowski distance\n",
    "    from sklearn.neighbors import NearestNeighbors\n",
    "    nbrs = NearestNeighbors(n_neighbors=n_neighbors, algorithm='ball_tree').fit(yhat[0])\n",
    "    distances, indices = nbrs.kneighbors(yhat[0])\n",
    "\n",
    "    # Estimate the P matrix -------------------------------\n",
    "    P_est = P_est_from_A_obs(n, A_obs, n_neighbors=n_neighbors, indices=indices)\n",
    "\n",
    "    # Bootstrap -----------------------------------------\n",
    "    B = 100\n",
    "    p_vals = []\n",
    "    A_boots = []\n",
    "    for i in range(B):\n",
    "        A_est = make_inhomogeneous_rg(P_est)\n",
    "\n",
    "        yhat_est = UASE([A_obs,A_est], d=2)\n",
    "        p_val = test_temporal_displacement_two_times(yhat_est, n)\n",
    "        p_vals.append(p_val)\n",
    "        A_boots.append(A_est)\n",
    "\n",
    "    powers.append(plot_power(p_vals, plot=True))\n",
    "\n",
    "    # Compare to true resamples -------------------------\n",
    "    A_redraws = []\n",
    "    M = B-1\n",
    "    for m in range(M):\n",
    "        As, tau, _ = make_temporal_simple(n, T, K=K) # K community SBM\n",
    "        A_redraws.append(As[0])\n",
    "\n",
    "\n",
    "    # Embed all together -------------------------------\n",
    "    A_concat = A_boots.copy()\n",
    "    A_concat.append(A_obs)\n",
    "    A_concat.extend(A_redraws)\n",
    "\n",
    "    yhat_concat = UASE(A_concat, d=d, flat=False)\n",
    "    yhat_boots = yhat_concat[:B]\n",
    "    yhat_obs = yhat_concat[B:]\n",
    "\n",
    "    assert len(A_concat) == 2*B\n",
    "\n",
    "    # Get the distance between the bootstrap and observed resamples ---------------------\n",
    "    dist_errors = []\n",
    "    for i in range(1):\n",
    "        # Compute the distance between the bootstrapped and truly resampled embeddings\n",
    "        kde_boots_i = gaussian_kde(yhat_boots[:, i, :].T)\n",
    "        kde_obs_i = gaussian_kde(yhat_obs[:, i, :].T)\n",
    "\n",
    "        dist = kl_divergence_2d(kde_boots_i, kde_obs_i)\n",
    "        dist_errors.append(dist)\n",
    "\n",
    "    avg_dist_errors.append(np.mean(dist_errors))\n"
   ]
  },
  {
   "cell_type": "code",
   "execution_count": 146,
   "metadata": {},
   "outputs": [
    {
     "data": {
      "text/plain": [
       "[<matplotlib.lines.Line2D at 0x7f3375f2fd60>]"
      ]
     },
     "execution_count": 146,
     "metadata": {},
     "output_type": "execute_result"
    },
    {
     "data": {
      "image/png": "[encoded data removed]",
      "text/plain": [
       "<Figure size 432x288 with 1 Axes>"
      ]
     },
     "metadata": {
      "needs_background": "light"
     },
     "output_type": "display_data"
    }
   ],
   "source": [
    "plt.plot(avg_dist_errors, marker=\"o\")"
   ]
  },
  {
   "cell_type": "code",
   "execution_count": 72,
   "metadata": {},
   "outputs": [],
   "source": [
    "from scipy.stats import gaussian_kde"
   ]
  },
  {
   "cell_type": "code",
   "execution_count": null,
   "metadata": {},
   "outputs": [],
   "source": [
    "# Assuming you have your samples stored in arrays x and y\n",
    "# x and y should be 1D arrays of the same length containing your sample data\n",
    "\n",
    "# Stack x and y to create a 2D array of (x, y) pairs\n",
    "xy = np.vstack([x, y])\n",
    "\n",
    "# Fit a bivariate KDE to your data\n",
    "kde = gaussian_kde(xy)\n",
    "\n",
    "# Evaluate the KDE at a grid of points to create a density estimate\n",
    "# You can specify the number of points in the grid using the 'meshgrid' function\n",
    "x_grid, y_grid = np.meshgrid(np.linspace(min(x), max(x), 100),\n",
    "                              np.linspace(min(y), max(y), 100))\n",
    "grid_coords = np.vstack([x_grid.ravel(), y_grid.ravel()])\n",
    "density_estimate = kde(grid_coords).reshape(x_grid.shape)\n",
    "\n",
    "# 'density_estimate' now contains the estimated density values at each point of the grid"
   ]
  },
  {
   "cell_type": "code",
   "execution_count": 102,
   "metadata": {},
   "outputs": [
    {
     "data": {
      "text/plain": [
       "(2, 100)"
      ]
     },
     "execution_count": 102,
     "metadata": {},
     "output_type": "execute_result"
    }
   ],
   "source": [
    "# node 0\n",
    "yhat_boots_node0 = np.transpose(yhat_boots[:, 0, :])\n",
    "yhat_obs_node0 = np.transpose(yhat_obs[:, 0, :])\n",
    "yhat_obs_node0.shape"
   ]
  },
  {
   "cell_type": "code",
   "execution_count": 103,
   "metadata": {},
   "outputs": [],
   "source": [
    "# Fit a bivariate KDE to your data - twice\n",
    "kde_boots_node0 = gaussian_kde(yhat_boots_node0)\n",
    "kde_obs_node0 = gaussian_kde(yhat_obs_node0)"
   ]
  },
  {
   "cell_type": "code",
   "execution_count": 104,
   "metadata": {},
   "outputs": [],
   "source": [
    "x = yhat_boots_node0[0,:]\n",
    "y = yhat_boots_node0[1,:]\n",
    "\n",
    "# Evaluate the KDE at a grid of points to create a density estimate\n",
    "# You can specify the number of points in the grid using the 'meshgrid' function\n",
    "x_grid, y_grid = np.meshgrid(np.linspace(min(x), max(x), 100),\n",
    "                              np.linspace(min(y), max(y), 100))\n",
    "grid_coords = np.vstack([x_grid.ravel(), y_grid.ravel()])\n",
    "density_estimate_boots_node0 = kde_boots_node0(grid_coords).reshape(x_grid.shape)"
   ]
  },
  {
   "cell_type": "code",
   "execution_count": 105,
   "metadata": {},
   "outputs": [],
   "source": [
    "x = yhat_obs_node0[0,:]\n",
    "y = yhat_obs_node0[1,:]\n",
    "\n",
    "# Evaluate the KDE at a grid of points to create a density estimate\n",
    "# You can specify the number of points in the grid using the 'meshgrid' function\n",
    "x_grid, y_grid = np.meshgrid(np.linspace(min(x), max(x), 100),\n",
    "                              np.linspace(min(y), max(y), 100))\n",
    "grid_coords = np.vstack([x_grid.ravel(), y_grid.ravel()])\n",
    "density_estimate_obs_node0 = kde_obs_node0(grid_coords).reshape(x_grid.shape)"
   ]
  },
  {
   "cell_type": "code",
   "execution_count": 106,
   "metadata": {},
   "outputs": [
    {
     "data": {
      "image/png": "[encoded data removed]",
      "text/plain": [
       "<Figure size 1152x432 with 4 Axes>"
      ]
     },
     "metadata": {
      "needs_background": "light"
     },
     "output_type": "display_data"
    }
   ],
   "source": [
    "# Create subplots\n",
    "fig, axes = plt.subplots(1, 2, figsize=(16, 6))\n",
    "\n",
    "# Plot the first density estimate\n",
    "contour1 = axes[0].contourf(x_grid, y_grid, density_estimate_boots_node0, cmap='Blues')\n",
    "axes[0].set_xlabel('X')\n",
    "axes[0].set_ylabel('Y')\n",
    "axes[0].set_title('Density Estimate bootstrap node 0')\n",
    "fig.colorbar(contour1, ax=axes[0], label='Density')\n",
    "\n",
    "# Plot the second density estimate\n",
    "contour2 = axes[1].contourf(x_grid, y_grid, density_estimate_obs_node0, cmap='Reds')\n",
    "axes[1].set_xlabel('X')\n",
    "axes[1].set_ylabel('Y')\n",
    "axes[1].set_title('Density Estimate obs node 0')\n",
    "fig.colorbar(contour2, ax=axes[1], label='Density')\n",
    "\n",
    "plt.show()"
   ]
  },
  {
   "cell_type": "code",
   "execution_count": 107,
   "metadata": {},
   "outputs": [
    {
     "data": {
      "image/png": "[encoded data removed]",
      "text/plain": [
       "<Figure size 576x432 with 3 Axes>"
      ]
     },
     "metadata": {
      "needs_background": "light"
     },
     "output_type": "display_data"
    }
   ],
   "source": [
    "# Plot both density estimates\n",
    "plt.figure(figsize=(8, 6))\n",
    "\n",
    "# Plot the first density estimate\n",
    "plt.contourf(x_grid, y_grid, density_estimate_boots_node0, cmap='Blues', alpha=0.5)  # alpha for transparency\n",
    "plt.colorbar(label='Density')\n",
    "\n",
    "# Plot the second density estimate\n",
    "plt.contourf(x_grid, y_grid, density_estimate_obs_node0, cmap='Reds', alpha=0.5)  # alpha for transparency\n",
    "plt.colorbar(label='Density')\n",
    "\n",
    "plt.xlabel('X')\n",
    "plt.ylabel('Y')\n",
    "plt.title('Comparison of Density Estimates from Bivariate KDE')\n",
    "plt.show()"
   ]
  },
  {
   "cell_type": "code",
   "execution_count": 108,
   "metadata": {},
   "outputs": [],
   "source": [
    "from scipy.integrate import dblquad"
   ]
  },
  {
   "cell_type": "code",
   "execution_count": 142,
   "metadata": {},
   "outputs": [
    {
     "name": "stdout",
     "output_type": "stream",
     "text": [
      "KL Divergence: 28.65150819730036\n"
     ]
    }
   ],
   "source": [
    "# Define a function to compute the KL divergence for bivariate KDEs\n",
    "def kl_divergence_2d(p, q):\n",
    "    epsilon = 1e-14  # Small epsilon value to avoid division by zero\n",
    "    integrand = lambda x, y: p([x, y]) * np.log((p([x, y]) + epsilon) / (q([x, y]) + epsilon))\n",
    "    return dblquad(integrand, -np.inf, np.inf, -np.inf, np.inf)[0]\n",
    "\n",
    "# Compute KL divergence\n",
    "kl_div = kl_divergence_2d(kde_boots_node0.pdf, kde_obs_node0.pdf)\n",
    "\n",
    "print(\"KL Divergence:\", kl_div)"
   ]
  },
  {
   "cell_type": "code",
   "execution_count": 127,
   "metadata": {},
   "outputs": [],
   "source": [
    "p = kde_boots_node0.pdf\n",
    "q = kde_obs_node0.pdf\n",
    "epsilon = 1e-14\n",
    "\n",
    "x = yhat_boots_node0[0,:]\n",
    "y = yhat_boots_node0[1,:]\n",
    "\n",
    "integrand = lambda x, y: p([x, y]) * np.log((p([x, y]) + epsilon) / (q([x, y]) + epsilon))\n",
    "integran_eval = integrand(x, y)"
   ]
  },
  {
   "cell_type": "code",
   "execution_count": 134,
   "metadata": {},
   "outputs": [
    {
     "data": {
      "text/plain": [
       "(28.65150819730036, 8.091934167109337e-06)"
      ]
     },
     "execution_count": 134,
     "metadata": {},
     "output_type": "execute_result"
    }
   ],
   "source": [
    "\n",
    "dblquad(integrand, -np.inf, np.inf, -np.inf, np.inf)\n",
    "\n",
    "# plt.plot(integran_eval)"
   ]
  },
  {
   "cell_type": "markdown",
   "metadata": {},
   "source": [
    "check this works"
   ]
  },
  {
   "cell_type": "code",
   "execution_count": 137,
   "metadata": {},
   "outputs": [
    {
     "data": {
      "text/plain": [
       "[<matplotlib.lines.Line2D at 0x7f337f25c550>]"
      ]
     },
     "execution_count": 137,
     "metadata": {},
     "output_type": "execute_result"
    },
    {
     "data": {
      "image/png": "[encoded data removed]",
      "text/plain": [
       "<Figure size 432x288 with 1 Axes>"
      ]
     },
     "metadata": {
      "needs_background": "light"
     },
     "output_type": "display_data"
    }
   ],
   "source": [
    "As, tau, _ = make_temporal_simple(n, 2, K=2) # K community SBM\n",
    "ya = UASE(As, d=d, flat=False)\n",
    "\n",
    "clust_1 = ya[0][tau == 0]\n",
    "clust_2 = ya[0][tau == 1]\n",
    "clust_3 = ya[1][tau == 0]\n",
    "clust_4 = ya[1][tau == 1]\n",
    "\n",
    "# plot clusters\n",
    "plt.plot(clust_1[:, 0], clust_1[:, 1], 'o', c=\"C0\")\n",
    "plt.plot(clust_2[:, 0], clust_2[:, 1], 'o', c=\"C1\")\n",
    "plt.plot(clust_3[:, 0], clust_3[:, 1], 'o', c=\"C2\")\n",
    "plt.plot(clust_4[:, 0], clust_4[:, 1], 'o', c=\"C3\")\n",
    "\n",
    "# clust 1 and 3 are exch\n",
    "# clust 2 and 4 are not\n"
   ]
  },
  {
   "cell_type": "code",
   "execution_count": 138,
   "metadata": {},
   "outputs": [
    {
     "data": {
      "text/plain": [
       "(0.11705186152838949, 1.4847729297971022e-08)"
      ]
     },
     "execution_count": 138,
     "metadata": {},
     "output_type": "execute_result"
    }
   ],
   "source": [
    "clust_1_kde = gaussian_kde(clust_1.T)\n",
    "clust_2_kde = gaussian_kde(clust_2.T)\n",
    "clust_3_kde = gaussian_kde(clust_3.T)\n",
    "clust_4_kde = gaussian_kde(clust_4.T)\n",
    "\n",
    "# Very close - should be small\n",
    "integrand = lambda x, y: clust_1_kde([x, y]) * np.log((clust_1_kde([x, y]) + epsilon) / (clust_3_kde([x, y]) + epsilon))\n",
    "dblquad(integrand, -np.inf, np.inf, -np.inf, np.inf)"
   ]
  },
  {
   "cell_type": "code",
   "execution_count": 139,
   "metadata": {},
   "outputs": [
    {
     "data": {
      "text/plain": [
       "(0.5598683824558062, 6.621876790475347e-08)"
      ]
     },
     "execution_count": 139,
     "metadata": {},
     "output_type": "execute_result"
    }
   ],
   "source": [
    "# Bit further apart\n",
    "integrand = lambda x, y: clust_2_kde([x, y]) * np.log((clust_2_kde([x, y]) + epsilon) / (clust_4_kde([x, y]) + epsilon))\n",
    "dblquad(integrand, -np.inf, np.inf, -np.inf, np.inf)\n"
   ]
  },
  {
   "cell_type": "code",
   "execution_count": 140,
   "metadata": {},
   "outputs": [
    {
     "data": {
      "text/plain": [
       "(35.31865210097744, 2.8181146225270722e-06)"
      ]
     },
     "execution_count": 140,
     "metadata": {},
     "output_type": "execute_result"
    }
   ],
   "source": [
    "# Far apart\n",
    "integrand = lambda x, y: clust_1_kde([x, y]) * np.log((clust_1_kde([x, y]) + epsilon) / (clust_2_kde([x, y]) + epsilon))\n",
    "dblquad(integrand, -np.inf, np.inf, -np.inf, np.inf)"
   ]
  }
 ],
 "metadata": {
  "kernelspec": {
   "display_name": "Python 3",
   "language": "python",
   "name": "python3"
  },
  "language_info": {
   "codemirror_mode": {
    "name": "ipython",
    "version": 3
   },
   "file_extension": ".py",
   "mimetype": "text/x-python",
   "name": "python",
   "nbconvert_exporter": "python",
   "pygments_lexer": "ipython3",
   "version": "3.9.7"
  }
 },
 "nbformat": 4,
 "nbformat_minor": 2
}
