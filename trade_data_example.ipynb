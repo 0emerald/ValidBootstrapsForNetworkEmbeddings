{
 "cells": [
  {
   "cell_type": "markdown",
   "metadata": {},
   "source": [
    "Try out our kNN bootstrap method on the degree heterogeneous international trade data. \n",
    "\n",
    "Will bootstrap the 2020 data, then can compare it to 2021 for the whole, is this the same?"
   ]
  },
  {
   "cell_type": "code",
   "execution_count": 1,
   "metadata": {},
   "outputs": [],
   "source": [
    "import numpy as np\n",
    "import matplotlib.pyplot as plt\n",
    "import pandas as pd\n",
    "from embedding_functions import *\n",
    "from experiment_setup import *\n",
    "from functions_for_bootstrap import *\n",
    "import numba as nb\n",
    "from tqdm import tqdm"
   ]
  },
  {
   "cell_type": "code",
   "execution_count": 2,
   "metadata": {},
   "outputs": [],
   "source": [
    "folder = \"/home/uj21900/Documents/CommonCrawlData/InternationalTradeData/\""
   ]
  },
  {
   "cell_type": "code",
   "execution_count": 3,
   "metadata": {},
   "outputs": [],
   "source": [
    "# Read in the export data from 2016 to 2021\n",
    "M_2016_2021_list = []\n",
    "for t in range(2016,2022):\n",
    "    filename = folder + 'M_export_' + str(t) + '.csv'\n",
    "    df = pd.read_csv(filename)\n",
    "    M = np.array(df)\n",
    "    M_2016_2021_list.append(M)"
   ]
  },
  {
   "cell_type": "code",
   "execution_count": 4,
   "metadata": {},
   "outputs": [],
   "source": [
    "# read in the export indices names\n",
    "total = pd.read_csv(folder+'exportMatricesIndices.csv', header=None)\n",
    "\n",
    "total = list(total[0])"
   ]
  },
  {
   "cell_type": "code",
   "execution_count": 5,
   "metadata": {},
   "outputs": [
    {
     "name": "stdout",
     "output_type": "stream",
     "text": [
      "144 6\n"
     ]
    }
   ],
   "source": [
    "M_2016_2021_list\n",
    "n = M_2016_2021_list[0].shape[0]\n",
    "T = len(M_2016_2021_list)\n",
    "print(n,T)"
   ]
  },
  {
   "cell_type": "code",
   "execution_count": 6,
   "metadata": {},
   "outputs": [],
   "source": [
    "# put A_list into a 3D array\n",
    "As = np.zeros((T,n,n))\n",
    "for t in range(T):\n",
    "    As[t,:,:] = M_2016_2021_list[t]"
   ]
  },
  {
   "cell_type": "code",
   "execution_count": 7,
   "metadata": {},
   "outputs": [],
   "source": [
    "# read in inflation rate data, at a world level\n",
    "# https://data.worldbank.org/indicator/FP.CPI.TOTL.ZG\n",
    "inflationrates = pd.read_csv(folder+'worldbank_inflationRateData.csv')\n",
    "\n",
    "worldIR = inflationrates[inflationrates['Country Name']=='World']"
   ]
  },
  {
   "cell_type": "code",
   "execution_count": 8,
   "metadata": {},
   "outputs": [
    {
     "data": {
      "text/html": [
       "<div>\n",
       "<style scoped>\n",
       "    .dataframe tbody tr th:only-of-type {\n",
       "        vertical-align: middle;\n",
       "    }\n",
       "\n",
       "    .dataframe tbody tr th {\n",
       "        vertical-align: top;\n",
       "    }\n",
       "\n",
       "    .dataframe thead th {\n",
       "        text-align: right;\n",
       "    }\n",
       "</style>\n",
       "<table border=\"1\" class=\"dataframe\">\n",
       "  <thead>\n",
       "    <tr style=\"text-align: right;\">\n",
       "      <th></th>\n",
       "      <th>2016</th>\n",
       "      <th>2017</th>\n",
       "      <th>2018</th>\n",
       "      <th>2019</th>\n",
       "      <th>2020</th>\n",
       "      <th>2021</th>\n",
       "    </tr>\n",
       "  </thead>\n",
       "  <tbody>\n",
       "    <tr>\n",
       "      <th>0</th>\n",
       "      <td>1.550016</td>\n",
       "      <td>2.19201</td>\n",
       "      <td>2.438737</td>\n",
       "      <td>2.206073</td>\n",
       "      <td>1.928955</td>\n",
       "      <td>3.475403</td>\n",
       "    </tr>\n",
       "  </tbody>\n",
       "</table>\n",
       "</div>"
      ],
      "text/plain": [
       "       2016     2017      2018      2019      2020      2021\n",
       "0  1.550016  2.19201  2.438737  2.206073  1.928955  3.475403"
      ]
     },
     "execution_count": 8,
     "metadata": {},
     "output_type": "execute_result"
    }
   ],
   "source": [
    "worldIR = worldIR.iloc[:, -(T+1):]\n",
    "# remove the last column as it's for 2022\n",
    "worldIR = worldIR.iloc[:, :-1]\n",
    "worldIR = worldIR.reset_index(drop=True)\n",
    "worldIR"
   ]
  },
  {
   "cell_type": "code",
   "execution_count": 9,
   "metadata": {},
   "outputs": [],
   "source": [
    "# put the values in a list\n",
    "worldIRlist = list(worldIR.iloc[0,:])\n",
    "\n",
    "# want it to be the proportion, i.e, 3% = 1.03\n",
    "worldIRlist_prop = [x/100 + 1 for x in worldIRlist]"
   ]
  },
  {
   "cell_type": "code",
   "execution_count": 10,
   "metadata": {},
   "outputs": [],
   "source": [
    "IRadj_As = np.zeros((T,n,n))\n",
    "\n",
    "from functools import reduce\n",
    "\n",
    "for t in range(T):\n",
    "    mat = As[t]\n",
    "    cumulative_inflation = worldIRlist_prop[(t+1):T]\n",
    "    # multiply all items in a list\n",
    "    if len(cumulative_inflation) > 0:\n",
    "        cumulative_inflation = reduce(lambda x, y: x*y, cumulative_inflation)\n",
    "    else:\n",
    "        cumulative_inflation = 1\n",
    "    mat = mat*cumulative_inflation\n",
    "    IRadj_As[t] = mat"
   ]
  },
  {
   "cell_type": "code",
   "execution_count": 11,
   "metadata": {},
   "outputs": [],
   "source": [
    "# LOOK AT 2020\n",
    "A_2020 = IRadj_As[4]\n",
    "d=2\n",
    "ya = UASE([A_2020], d)\n",
    "# plot_embedding(ya, n, 1, np.ones(n))"
   ]
  },
  {
   "cell_type": "code",
   "execution_count": 12,
   "metadata": {},
   "outputs": [],
   "source": [
    "yadf = pd.DataFrame(ya)\n",
    "\n",
    "# rename the columns - this is called a list comprehension\n",
    "yadf.columns = [\"Dimension_{}\".format(i+1) for i in range(yadf.shape[1])] \n",
    "# give each node a number\n",
    "yadf['node_number'] = list(range(n))\n",
    "yadf['country'] = total"
   ]
  },
  {
   "cell_type": "code",
   "execution_count": 13,
   "metadata": {},
   "outputs": [
    {
     "data": {
      "application/vnd.plotly.v1+json": {
       "config": {
        "plotlyServerURL": "https://plot.ly"
       },
       "data": [
        {
         "customdata": [
          [
           "French Polynesia",
           0
          ],
          [
           "Mauritius",
           1
          ],
          [
           "Guyana",
           2
          ],
          [
           "Bermuda",
           3
          ],
          [
           "Nicaragua",
           4
          ],
          [
           "Kenya",
           5
          ],
          [
           "Chile",
           6
          ],
          [
           "Congo",
           7
          ],
          [
           "Kuwait",
           8
          ],
          [
           "India",
           9
          ],
          [
           "Dem. Rep. of the Congo",
           10
          ],
          [
           "China, Hong Kong SAR",
           11
          ],
          [
           "Suriname",
           12
          ],
          [
           "Slovakia",
           13
          ],
          [
           "China",
           14
          ],
          [
           "Mauritania",
           15
          ],
          [
           "Luxembourg",
           16
          ],
          [
           "Bahrain",
           17
          ],
          [
           "Uruguay",
           18
          ],
          [
           "Nepal",
           19
          ],
          [
           "Niger",
           20
          ],
          [
           "State of Palestine",
           21
          ],
          [
           "Kyrgyzstan",
           22
          ],
          [
           "Belize",
           23
          ],
          [
           "Lebanon",
           24
          ],
          [
           "Pakistan",
           25
          ],
          [
           "Trinidad and Tobago",
           26
          ],
          [
           "USA",
           27
          ],
          [
           "Brunei Darussalam",
           28
          ],
          [
           "Greece",
           29
          ],
          [
           "Cyprus",
           30
          ],
          [
           "Hungary",
           31
          ],
          [
           "Costa Rica",
           32
          ],
          [
           "Madagascar",
           33
          ],
          [
           "Peru",
           34
          ],
          [
           "Norway",
           35
          ],
          [
           "Zambia",
           36
          ],
          [
           "Poland",
           37
          ],
          [
           "Lithuania",
           38
          ],
          [
           "Mozambique",
           39
          ],
          [
           "Denmark",
           40
          ],
          [
           "Montenegro",
           41
          ],
          [
           "Guatemala",
           42
          ],
          [
           "Sao Tome and Principe",
           43
          ],
          [
           "Czechia",
           44
          ],
          [
           "Gambia",
           45
          ],
          [
           "Mexico",
           46
          ],
          [
           "Angola",
           47
          ],
          [
           "Botswana",
           48
          ],
          [
           "Bulgaria",
           49
          ],
          [
           "Philippines",
           50
          ],
          [
           "Tajikistan",
           51
          ],
          [
           "Israel",
           52
          ],
          [
           "Saudi Arabia",
           53
          ],
          [
           "Panama",
           54
          ],
          [
           "Honduras",
           55
          ],
          [
           "Netherlands",
           56
          ],
          [
           "Egypt",
           57
          ],
          [
           "Rep. of Korea",
           58
          ],
          [
           "Romania",
           59
          ],
          [
           "Saint Vincent and the Grenadines",
           60
          ],
          [
           "Colombia",
           61
          ],
          [
           "Azerbaijan",
           62
          ],
          [
           "Lao People's Dem. Rep.",
           63
          ],
          [
           "Viet Nam",
           64
          ],
          [
           "Japan",
           65
          ],
          [
           "Malaysia",
           66
          ],
          [
           "Rep. of Moldova",
           67
          ],
          [
           "China, Macao SAR",
           68
          ],
          [
           "Nigeria",
           69
          ],
          [
           "Barbados",
           70
          ],
          [
           "Rwanda",
           71
          ],
          [
           "Thailand",
           72
          ],
          [
           "Latvia",
           73
          ],
          [
           "Iceland",
           74
          ],
          [
           "Canada",
           75
          ],
          [
           "United Arab Emirates",
           76
          ],
          [
           "Eswatini",
           77
          ],
          [
           "Armenia",
           78
          ],
          [
           "Jamaica",
           79
          ],
          [
           "Aruba",
           80
          ],
          [
           "Singapore",
           81
          ],
          [
           "Brazil",
           82
          ],
          [
           "Oman",
           83
          ],
          [
           "Burkina Faso",
           84
          ],
          [
           "Estonia",
           85
          ],
          [
           "United Kingdom",
           86
          ],
          [
           "Paraguay",
           87
          ],
          [
           "Ireland",
           88
          ],
          [
           "Lesotho",
           89
          ],
          [
           "Myanmar",
           90
          ],
          [
           "Spain",
           91
          ],
          [
           "Bosnia Herzegovina",
           92
          ],
          [
           "Georgia",
           93
          ],
          [
           "Croatia",
           94
          ],
          [
           "Serbia",
           95
          ],
          [
           "Austria",
           96
          ],
          [
           "Morocco",
           97
          ],
          [
           "North Macedonia",
           98
          ],
          [
           "New Zealand",
           99
          ],
          [
           "Tunisia",
           100
          ],
          [
           "Kazakhstan",
           101
          ],
          [
           "Portugal",
           102
          ],
          [
           "Russian Federation",
           103
          ],
          [
           "Indonesia",
           104
          ],
          [
           "Ukraine",
           105
          ],
          [
           "Germany",
           106
          ],
          [
           "Australia",
           107
          ],
          [
           "Comoros",
           108
          ],
          [
           "Albania",
           109
          ],
          [
           "Italy",
           110
          ],
          [
           "Cambodia",
           111
          ],
          [
           "Fiji",
           112
          ],
          [
           "South Africa",
           113
          ],
          [
           "Namibia",
           114
          ],
          [
           "Belarus",
           115
          ],
          [
           "Burundi",
           116
          ],
          [
           "Slovenia",
           117
          ],
          [
           "Andorra",
           118
          ],
          [
           "United Rep. of Tanzania",
           119
          ],
          [
           "Belgium",
           120
          ],
          [
           "Other Asia, nes",
           121
          ],
          [
           "Jordan",
           122
          ],
          [
           "Senegal",
           123
          ],
          [
           "Benin",
           124
          ],
          [
           "Mongolia",
           125
          ],
          [
           "Switzerland",
           126
          ],
          [
           "Bolivia (Plurinational State of)",
           127
          ],
          [
           "Zimbabwe",
           128
          ],
          [
           "Ethiopia",
           129
          ],
          [
           "Malawi",
           130
          ],
          [
           "Malta",
           131
          ],
          [
           "Ecuador",
           132
          ],
          [
           "Togo",
           133
          ],
          [
           "Grenada",
           134
          ],
          [
           "Argentina",
           135
          ],
          [
           "Finland",
           136
          ],
          [
           "T�rkiye",
           137
          ],
          [
           "Qatar",
           138
          ],
          [
           "Dominican Rep.",
           139
          ],
          [
           "Seychelles",
           140
          ],
          [
           "El Salvador",
           141
          ],
          [
           "Sweden",
           142
          ],
          [
           "France",
           143
          ]
         ],
         "hovertemplate": "Dimension_1=%{x}<br>Dimension_2=%{y}<br>country=%{customdata[0]}<br>node_number=%{customdata[1]}<extra></extra>",
         "legendgroup": "",
         "marker": {
          "color": "#636efa",
          "symbol": "circle"
         },
         "mode": "markers",
         "name": "",
         "orientation": "v",
         "showlegend": false,
         "type": "scatter",
         "x": [
          -206.8315478718529,
          -786.9709424209752,
          -444.0748492500788,
          -412.20617710846074,
          -1057.3274133221769,
          -5274.002744872133,
          -17903.14045193017,
          -614.1218135566676,
          -4992.773288334706,
          -78435.75954975605,
          -1847.9863847034462,
          -258229.65490298814,
          -298.55246621225814,
          -9500.413249649437,
          -232027.56949882244,
          -736.0990574261568,
          -3887.7473350230593,
          -1714.1139346253688,
          -2081.40351245121,
          -1544.611813554203,
          -339.0581371566173,
          -136.56577805963246,
          -2466.1488853850137,
          -253.8301138513051,
          -1597.9094134362533,
          -15098.655025897458,
          -1023.8325158606325,
          -724325.5885032259,
          -662.9026245088172,
          -10256.16653783997,
          -1421.8788442998068,
          -18400.12286143958,
          -3118.1165584487,
          -930.3768445990082,
          -10451.701228785489,
          -9980.548904686797,
          -684.1379707200512,
          -53113.652971542084,
          -3773.124732388777,
          -2012.3239531707875,
          -15965.577151654034,
          -180.5635890425456,
          -4304.009352204235,
          -19.762040045123783,
          -29478.91340121704,
          -486.0321653460799,
          -94125.36947144511,
          -1832.8219561344013,
          -437.10062092844913,
          -3715.5402960170914,
          -43570.534212158265,
          -906.4845082502899,
          -15704.448302520948,
          -32603.520426179788,
          -10879.871965751354,
          -2062.2249861674454,
          -121816.50453266362,
          -16343.872736764439,
          -133657.8371337132,
          -12564.132624600725,
          -34.85192862611565,
          -12713.630063981831,
          -1024.9404036818216,
          -1584.8728431939203,
          -114533.38210376189,
          -162955.91018298359,
          -62805.71966051383,
          -408.48927272758647,
          -3016.8370295213163,
          -16157.106458580283,
          -240.17299389905432,
          -301.46915286322167,
          -58440.82062635168,
          -2131.6392380890234,
          -517.9371702242832,
          -103373.29291099409,
          -40734.72273280338,
          -69.66950219176337,
          -397.7023379461518,
          -1047.454682190513,
          -121.51284639373664,
          -72983.67006759354,
          -44825.014000312825,
          -4192.948422051448,
          -412.8450741412826,
          -2003.7315672466086,
          -125528.59443948626,
          -1597.8195687257141,
          -13132.546190304538,
          -81.48572729570556,
          -11397.551286814647,
          -51286.93000926104,
          -545.4664944635707,
          -1485.3101663249552,
          -3308.8013943376372,
          -3098.677043450934,
          -27268.038444177113,
          -6375.609796842615,
          -728.5416943355389,
          -8128.358109398666,
          -2581.736457640162,
          -11661.040419031991,
          -10138.558371395837,
          -57417.20206384749,
          -44647.17295314568,
          -9149.759686076113,
          -148192.3493749581,
          -61818.87268357609,
          -51.99445830254113,
          -788.0945812422596,
          -67599.41383387618,
          -8321.621773317573,
          -360.15383052673684,
          -17905.96678676085,
          -292.2023291474808,
          -3444.0178806441772,
          -77.83139233874876,
          -6372.975335018769,
          -96.77073064952664,
          -3836.6151198940042,
          -57200.25394805666,
          -80847.07313528885,
          -3732.859292171395,
          -2629.225455566111,
          -987.4900545217793,
          -1621.6711727189029,
          -41086.53810343631,
          -875.9796406972765,
          -533.7348285847195,
          -2473.3308719187207,
          -231.8312062491448,
          -2419.9985061133975,
          -4298.469649084955,
          -2682.8671098445193,
          -43.59786380588464,
          -9297.764479987116,
          -8584.866585556754,
          -34101.00223601859,
          -5048.444668970093,
          -4267.838069259119,
          -113.26042761108745,
          -1842.151045188284,
          -20421.695432702545,
          -91248.90915432961
         ],
         "xaxis": "x",
         "y": [
          146.4862755769968,
          -68.95554986728233,
          466.9177897643956,
          747.7986684335798,
          844.054676558937,
          -1392.6838834373418,
          6441.5275374673765,
          -57.60709716642022,
          2097.698739234558,
          19950.14436918403,
          -573.291924688424,
          -65995.46359227864,
          193.62092414845796,
          6743.18855256195,
          519579.6606832718,
          -115.41932845142803,
          3607.4307086978984,
          934.926539280974,
          839.3837058076185,
          -311.88842707322215,
          48.436908049426066,
          13.838036970019289,
          -964.7198803723692,
          239.65031894508274,
          882.6453225390186,
          -1893.0525767977574,
          2046.4599847912843,
          -282136.38835398585,
          202.29480875143608,
          2258.143269870131,
          299.776580232409,
          12321.95059239831,
          4428.775354653065,
          -313.5641506129831,
          3563.4322427128827,
          6257.394120778762,
          -95.70505309632898,
          26160.756668235663,
          2594.2288362955346,
          -477.93953836393604,
          9009.063554950513,
          56.37839724720563,
          3710.493793295592,
          -4.730473421805922,
          16471.640348280296,
          -156.0412701571511,
          182320.75474222196,
          -113.79936585164515,
          5.304188322157733,
          2076.9216550711994,
          -1188.4250785385454,
          -282.22412768195255,
          8781.234671369404,
          4181.8318684244405,
          2888.6863847251166,
          3210.4589027535735,
          55336.64696470697,
          3068.6990888825276,
          29304.296682986744,
          7100.484590233288,
          66.13247165265254,
          7200.035023156842,
          543.8620720651006,
          -395.014460270276,
          -10266.360093207308,
          31781.481271289897,
          3366.813981700394,
          368.7702476997666,
          3367.1368445086537,
          -3254.5952567066533,
          456.3486807637424,
          -4.215345536832054,
          7461.165397244736,
          1240.4506634043935,
          580.5815139500072,
          215796.7736641393,
          11805.407903936622,
          38.22109118034506,
          312.9054424792949,
          1309.5951327920034,
          281.2407559103008,
          26303.594642344666,
          22619.07993032601,
          1018.1797209071027,
          13.99157033171179,
          1428.3786089496775,
          74709.53048175812,
          1209.7526511376516,
          12153.975405665093,
          19.546010066241962,
          -4094.3194063135275,
          23205.884170931244,
          397.11252741470867,
          250.93325084404356,
          1592.7363808054017,
          1310.5946138399,
          26665.538770567553,
          2602.9323797797656,
          489.41740922493256,
          3890.89807541883,
          1017.8176872545887,
          -1195.4979752508345,
          6276.822666289959,
          -541.9921457327704,
          -522.4012777525793,
          2428.942360323851,
          62009.28579092182,
          10771.433138515937,
          -12.87883055813037,
          24.468378288667672,
          39208.2455342296,
          -1531.896666867206,
          32.866005138825635,
          1999.9185718522265,
          72.56879619189779,
          2347.899460297587,
          -15.812689215331112,
          1599.7527011819318,
          107.1982257384746,
          -1267.5859669643603,
          46663.805567258016,
          31783.77646835896,
          732.7152148259611,
          -351.34157095285633,
          -154.58253190043428,
          -162.16999028791932,
          53960.478827820865,
          376.92186424282255,
          -79.3272614083596,
          354.67589232513126,
          -27.666470168463736,
          886.085766804367,
          2650.6138413298777,
          118.99048950968988,
          87.26402238734421,
          4712.532883461833,
          6450.40436037773,
          16510.759572037583,
          3983.745730327819,
          5845.325332492763,
          46.05967269748646,
          1705.3487505553446,
          13489.858170214962,
          60829.80140626397
         ],
         "yaxis": "y"
        }
       ],
       "layout": {
        "legend": {
         "tracegroupgap": 0
        },
        "template": {
         "data": {
          "bar": [
           {
            "error_x": {
             "color": "#2a3f5f"
            },
            "error_y": {
             "color": "#2a3f5f"
            },
            "marker": {
             "line": {
              "color": "#E5ECF6",
              "width": 0.5
             },
             "pattern": {
              "fillmode": "overlay",
              "size": 10,
              "solidity": 0.2
             }
            },
            "type": "bar"
           }
          ],
          "barpolar": [
           {
            "marker": {
             "line": {
              "color": "#E5ECF6",
              "width": 0.5
             },
             "pattern": {
              "fillmode": "overlay",
              "size": 10,
              "solidity": 0.2
             }
            },
            "type": "barpolar"
           }
          ],
          "carpet": [
           {
            "aaxis": {
             "endlinecolor": "#2a3f5f",
             "gridcolor": "white",
             "linecolor": "white",
             "minorgridcolor": "white",
             "startlinecolor": "#2a3f5f"
            },
            "baxis": {
             "endlinecolor": "#2a3f5f",
             "gridcolor": "white",
             "linecolor": "white",
             "minorgridcolor": "white",
             "startlinecolor": "#2a3f5f"
            },
            "type": "carpet"
           }
          ],
          "choropleth": [
           {
            "colorbar": {
             "outlinewidth": 0,
             "ticks": ""
            },
            "type": "choropleth"
           }
          ],
          "contour": [
           {
            "colorbar": {
             "outlinewidth": 0,
             "ticks": ""
            },
            "colorscale": [
             [
              0,
              "#0d0887"
             ],
             [
              0.1111111111111111,
              "#46039f"
             ],
             [
              0.2222222222222222,
              "#7201a8"
             ],
             [
              0.3333333333333333,
              "#9c179e"
             ],
             [
              0.4444444444444444,
              "#bd3786"
             ],
             [
              0.5555555555555556,
              "#d8576b"
             ],
             [
              0.6666666666666666,
              "#ed7953"
             ],
             [
              0.7777777777777778,
              "#fb9f3a"
             ],
             [
              0.8888888888888888,
              "#fdca26"
             ],
             [
              1,
              "#f0f921"
             ]
            ],
            "type": "contour"
           }
          ],
          "contourcarpet": [
           {
            "colorbar": {
             "outlinewidth": 0,
             "ticks": ""
            },
            "type": "contourcarpet"
           }
          ],
          "heatmap": [
           {
            "colorbar": {
             "outlinewidth": 0,
             "ticks": ""
            },
            "colorscale": [
             [
              0,
              "#0d0887"
             ],
             [
              0.1111111111111111,
              "#46039f"
             ],
             [
              0.2222222222222222,
              "#7201a8"
             ],
             [
              0.3333333333333333,
              "#9c179e"
             ],
             [
              0.4444444444444444,
              "#bd3786"
             ],
             [
              0.5555555555555556,
              "#d8576b"
             ],
             [
              0.6666666666666666,
              "#ed7953"
             ],
             [
              0.7777777777777778,
              "#fb9f3a"
             ],
             [
              0.8888888888888888,
              "#fdca26"
             ],
             [
              1,
              "#f0f921"
             ]
            ],
            "type": "heatmap"
           }
          ],
          "heatmapgl": [
           {
            "colorbar": {
             "outlinewidth": 0,
             "ticks": ""
            },
            "colorscale": [
             [
              0,
              "#0d0887"
             ],
             [
              0.1111111111111111,
              "#46039f"
             ],
             [
              0.2222222222222222,
              "#7201a8"
             ],
             [
              0.3333333333333333,
              "#9c179e"
             ],
             [
              0.4444444444444444,
              "#bd3786"
             ],
             [
              0.5555555555555556,
              "#d8576b"
             ],
             [
              0.6666666666666666,
              "#ed7953"
             ],
             [
              0.7777777777777778,
              "#fb9f3a"
             ],
             [
              0.8888888888888888,
              "#fdca26"
             ],
             [
              1,
              "#f0f921"
             ]
            ],
            "type": "heatmapgl"
           }
          ],
          "histogram": [
           {
            "marker": {
             "pattern": {
              "fillmode": "overlay",
              "size": 10,
              "solidity": 0.2
             }
            },
            "type": "histogram"
           }
          ],
          "histogram2d": [
           {
            "colorbar": {
             "outlinewidth": 0,
             "ticks": ""
            },
            "colorscale": [
             [
              0,
              "#0d0887"
             ],
             [
              0.1111111111111111,
              "#46039f"
             ],
             [
              0.2222222222222222,
              "#7201a8"
             ],
             [
              0.3333333333333333,
              "#9c179e"
             ],
             [
              0.4444444444444444,
              "#bd3786"
             ],
             [
              0.5555555555555556,
              "#d8576b"
             ],
             [
              0.6666666666666666,
              "#ed7953"
             ],
             [
              0.7777777777777778,
              "#fb9f3a"
             ],
             [
              0.8888888888888888,
              "#fdca26"
             ],
             [
              1,
              "#f0f921"
             ]
            ],
            "type": "histogram2d"
           }
          ],
          "histogram2dcontour": [
           {
            "colorbar": {
             "outlinewidth": 0,
             "ticks": ""
            },
            "colorscale": [
             [
              0,
              "#0d0887"
             ],
             [
              0.1111111111111111,
              "#46039f"
             ],
             [
              0.2222222222222222,
              "#7201a8"
             ],
             [
              0.3333333333333333,
              "#9c179e"
             ],
             [
              0.4444444444444444,
              "#bd3786"
             ],
             [
              0.5555555555555556,
              "#d8576b"
             ],
             [
              0.6666666666666666,
              "#ed7953"
             ],
             [
              0.7777777777777778,
              "#fb9f3a"
             ],
             [
              0.8888888888888888,
              "#fdca26"
             ],
             [
              1,
              "#f0f921"
             ]
            ],
            "type": "histogram2dcontour"
           }
          ],
          "mesh3d": [
           {
            "colorbar": {
             "outlinewidth": 0,
             "ticks": ""
            },
            "type": "mesh3d"
           }
          ],
          "parcoords": [
           {
            "line": {
             "colorbar": {
              "outlinewidth": 0,
              "ticks": ""
             }
            },
            "type": "parcoords"
           }
          ],
          "pie": [
           {
            "automargin": true,
            "type": "pie"
           }
          ],
          "scatter": [
           {
            "fillpattern": {
             "fillmode": "overlay",
             "size": 10,
             "solidity": 0.2
            },
            "type": "scatter"
           }
          ],
          "scatter3d": [
           {
            "line": {
             "colorbar": {
              "outlinewidth": 0,
              "ticks": ""
             }
            },
            "marker": {
             "colorbar": {
              "outlinewidth": 0,
              "ticks": ""
             }
            },
            "type": "scatter3d"
           }
          ],
          "scattercarpet": [
           {
            "marker": {
             "colorbar": {
              "outlinewidth": 0,
              "ticks": ""
             }
            },
            "type": "scattercarpet"
           }
          ],
          "scattergeo": [
           {
            "marker": {
             "colorbar": {
              "outlinewidth": 0,
              "ticks": ""
             }
            },
            "type": "scattergeo"
           }
          ],
          "scattergl": [
           {
            "marker": {
             "colorbar": {
              "outlinewidth": 0,
              "ticks": ""
             }
            },
            "type": "scattergl"
           }
          ],
          "scattermapbox": [
           {
            "marker": {
             "colorbar": {
              "outlinewidth": 0,
              "ticks": ""
             }
            },
            "type": "scattermapbox"
           }
          ],
          "scatterpolar": [
           {
            "marker": {
             "colorbar": {
              "outlinewidth": 0,
              "ticks": ""
             }
            },
            "type": "scatterpolar"
           }
          ],
          "scatterpolargl": [
           {
            "marker": {
             "colorbar": {
              "outlinewidth": 0,
              "ticks": ""
             }
            },
            "type": "scatterpolargl"
           }
          ],
          "scatterternary": [
           {
            "marker": {
             "colorbar": {
              "outlinewidth": 0,
              "ticks": ""
             }
            },
            "type": "scatterternary"
           }
          ],
          "surface": [
           {
            "colorbar": {
             "outlinewidth": 0,
             "ticks": ""
            },
            "colorscale": [
             [
              0,
              "#0d0887"
             ],
             [
              0.1111111111111111,
              "#46039f"
             ],
             [
              0.2222222222222222,
              "#7201a8"
             ],
             [
              0.3333333333333333,
              "#9c179e"
             ],
             [
              0.4444444444444444,
              "#bd3786"
             ],
             [
              0.5555555555555556,
              "#d8576b"
             ],
             [
              0.6666666666666666,
              "#ed7953"
             ],
             [
              0.7777777777777778,
              "#fb9f3a"
             ],
             [
              0.8888888888888888,
              "#fdca26"
             ],
             [
              1,
              "#f0f921"
             ]
            ],
            "type": "surface"
           }
          ],
          "table": [
           {
            "cells": {
             "fill": {
              "color": "#EBF0F8"
             },
             "line": {
              "color": "white"
             }
            },
            "header": {
             "fill": {
              "color": "#C8D4E3"
             },
             "line": {
              "color": "white"
             }
            },
            "type": "table"
           }
          ]
         },
         "layout": {
          "annotationdefaults": {
           "arrowcolor": "#2a3f5f",
           "arrowhead": 0,
           "arrowwidth": 1
          },
          "autotypenumbers": "strict",
          "coloraxis": {
           "colorbar": {
            "outlinewidth": 0,
            "ticks": ""
           }
          },
          "colorscale": {
           "diverging": [
            [
             0,
             "#8e0152"
            ],
            [
             0.1,
             "#c51b7d"
            ],
            [
             0.2,
             "#de77ae"
            ],
            [
             0.3,
             "#f1b6da"
            ],
            [
             0.4,
             "#fde0ef"
            ],
            [
             0.5,
             "#f7f7f7"
            ],
            [
             0.6,
             "#e6f5d0"
            ],
            [
             0.7,
             "#b8e186"
            ],
            [
             0.8,
             "#7fbc41"
            ],
            [
             0.9,
             "#4d9221"
            ],
            [
             1,
             "#276419"
            ]
           ],
           "sequential": [
            [
             0,
             "#0d0887"
            ],
            [
             0.1111111111111111,
             "#46039f"
            ],
            [
             0.2222222222222222,
             "#7201a8"
            ],
            [
             0.3333333333333333,
             "#9c179e"
            ],
            [
             0.4444444444444444,
             "#bd3786"
            ],
            [
             0.5555555555555556,
             "#d8576b"
            ],
            [
             0.6666666666666666,
             "#ed7953"
            ],
            [
             0.7777777777777778,
             "#fb9f3a"
            ],
            [
             0.8888888888888888,
             "#fdca26"
            ],
            [
             1,
             "#f0f921"
            ]
           ],
           "sequentialminus": [
            [
             0,
             "#0d0887"
            ],
            [
             0.1111111111111111,
             "#46039f"
            ],
            [
             0.2222222222222222,
             "#7201a8"
            ],
            [
             0.3333333333333333,
             "#9c179e"
            ],
            [
             0.4444444444444444,
             "#bd3786"
            ],
            [
             0.5555555555555556,
             "#d8576b"
            ],
            [
             0.6666666666666666,
             "#ed7953"
            ],
            [
             0.7777777777777778,
             "#fb9f3a"
            ],
            [
             0.8888888888888888,
             "#fdca26"
            ],
            [
             1,
             "#f0f921"
            ]
           ]
          },
          "colorway": [
           "#636efa",
           "#EF553B",
           "#00cc96",
           "#ab63fa",
           "#FFA15A",
           "#19d3f3",
           "#FF6692",
           "#B6E880",
           "#FF97FF",
           "#FECB52"
          ],
          "font": {
           "color": "#2a3f5f"
          },
          "geo": {
           "bgcolor": "white",
           "lakecolor": "white",
           "landcolor": "#E5ECF6",
           "showlakes": true,
           "showland": true,
           "subunitcolor": "white"
          },
          "hoverlabel": {
           "align": "left"
          },
          "hovermode": "closest",
          "mapbox": {
           "style": "light"
          },
          "paper_bgcolor": "white",
          "plot_bgcolor": "#E5ECF6",
          "polar": {
           "angularaxis": {
            "gridcolor": "white",
            "linecolor": "white",
            "ticks": ""
           },
           "bgcolor": "#E5ECF6",
           "radialaxis": {
            "gridcolor": "white",
            "linecolor": "white",
            "ticks": ""
           }
          },
          "scene": {
           "xaxis": {
            "backgroundcolor": "#E5ECF6",
            "gridcolor": "white",
            "gridwidth": 2,
            "linecolor": "white",
            "showbackground": true,
            "ticks": "",
            "zerolinecolor": "white"
           },
           "yaxis": {
            "backgroundcolor": "#E5ECF6",
            "gridcolor": "white",
            "gridwidth": 2,
            "linecolor": "white",
            "showbackground": true,
            "ticks": "",
            "zerolinecolor": "white"
           },
           "zaxis": {
            "backgroundcolor": "#E5ECF6",
            "gridcolor": "white",
            "gridwidth": 2,
            "linecolor": "white",
            "showbackground": true,
            "ticks": "",
            "zerolinecolor": "white"
           }
          },
          "shapedefaults": {
           "line": {
            "color": "#2a3f5f"
           }
          },
          "ternary": {
           "aaxis": {
            "gridcolor": "white",
            "linecolor": "white",
            "ticks": ""
           },
           "baxis": {
            "gridcolor": "white",
            "linecolor": "white",
            "ticks": ""
           },
           "bgcolor": "#E5ECF6",
           "caxis": {
            "gridcolor": "white",
            "linecolor": "white",
            "ticks": ""
           }
          },
          "title": {
           "x": 0.05
          },
          "xaxis": {
           "automargin": true,
           "gridcolor": "white",
           "linecolor": "white",
           "ticks": "",
           "title": {
            "standoff": 15
           },
           "zerolinecolor": "white",
           "zerolinewidth": 2
          },
          "yaxis": {
           "automargin": true,
           "gridcolor": "white",
           "linecolor": "white",
           "ticks": "",
           "title": {
            "standoff": 15
           },
           "zerolinecolor": "white",
           "zerolinewidth": 2
          }
         }
        },
        "title": {
         "text": "The A matrix for 2020 embedded, with UASE d=2"
        },
        "xaxis": {
         "anchor": "y",
         "domain": [
          0,
          1
         ],
         "title": {
          "text": "Dimension_1"
         }
        },
        "yaxis": {
         "anchor": "x",
         "domain": [
          0,
          1
         ],
         "title": {
          "text": "Dimension_2"
         }
        }
       }
      }
     },
     "metadata": {},
     "output_type": "display_data"
    }
   ],
   "source": [
    "fig = px.scatter(yadf, x=\"Dimension_1\", y=\"Dimension_2\",\n",
    "                hover_data=[\"country\", \"node_number\"],\n",
    "                color_continuous_scale = 'Bluered', title=f\"The A matrix for 2020 embedded, with UASE d={d}\")\n",
    "\n",
    "fig.show()"
   ]
  },
  {
   "cell_type": "code",
   "execution_count": 14,
   "metadata": {},
   "outputs": [],
   "source": [
    "pvalues, A_bootstraps = test_bootstrap(A_2020, d=2, dc=False)"
   ]
  },
  {
   "cell_type": "code",
   "execution_count": 18,
   "metadata": {},
   "outputs": [
    {
     "data": {
      "image/png": "[encoded data removed]",
      "text/plain": [
       "<Figure size 432x288 with 1 Axes>"
      ]
     },
     "metadata": {
      "needs_background": "light"
     },
     "output_type": "display_data"
    },
    {
     "data": {
      "text/plain": [
       "1.0"
      ]
     },
     "execution_count": 18,
     "metadata": {},
     "output_type": "execute_result"
    }
   ],
   "source": [
    "plot_power(pvalues, plot=True)"
   ]
  },
  {
   "cell_type": "code",
   "execution_count": 28,
   "metadata": {},
   "outputs": [
    {
     "data": {
      "text/plain": [
       "<matplotlib.legend.Legend at 0x7f0842acca30>"
      ]
     },
     "execution_count": 28,
     "metadata": {},
     "output_type": "execute_result"
    },
    {
     "data": {
      "image/png": "[encoded data removed]",
      "text/plain": [
       "<Figure size 432x288 with 1 Axes>"
      ]
     },
     "metadata": {
      "needs_background": "light"
     },
     "output_type": "display_data"
    }
   ],
   "source": [
    "yhat_plot = UASE([A_2020, A_bootstraps[0]], d=2, flat=False)\n",
    "\n",
    "plt.plot(yhat_plot[0, :, 0], yhat_plot[0, :, 1], 'o', label=\"Observed\", alpha=1)\n",
    "plt.plot(yhat_plot[1, :, 0], yhat_plot[1, :, 1], 'o', label=\"Bootstrap\", alpha=1)\n",
    "\n",
    "plt.legend()"
   ]
  },
  {
   "cell_type": "code",
   "execution_count": 22,
   "metadata": {},
   "outputs": [
    {
     "data": {
      "text/plain": [
       "(2, 144, 2)"
      ]
     },
     "execution_count": 22,
     "metadata": {},
     "output_type": "execute_result"
    }
   ],
   "source": [
    "yhat_plot.shape"
   ]
  },
  {
   "cell_type": "markdown",
   "metadata": {},
   "source": [
    "Try some, divide by degree, then multiply back by it later"
   ]
  },
  {
   "cell_type": "markdown",
   "metadata": {},
   "source": [
    "Perhaps symmetrise first will be more helpful"
   ]
  },
  {
   "cell_type": "code",
   "execution_count": 58,
   "metadata": {},
   "outputs": [],
   "source": [
    "# symmetrise the matrices\n",
    "\n",
    "symm_IRadj_As = np.zeros((T,n,n))\n",
    "\n",
    "for t in range(T):\n",
    "    mat = IRadj_As[t]\n",
    "    matT = np.transpose(mat)\n",
    "    symm_mat = (mat + matT)/2\n",
    "    symm_IRadj_As[t] = symm_mat"
   ]
  },
  {
   "cell_type": "code",
   "execution_count": 59,
   "metadata": {},
   "outputs": [],
   "source": [
    "# LOOK AT 2020\n",
    "A_symm_2020 = symm_IRadj_As[4]\n",
    "\n",
    "deg_mat = np.diag(np.sum(A_symm_2020, axis=1))\n",
    "\n",
    "A_symm_2020_DC = np.linalg.inv(np.sqrt(deg_mat)) @ A_symm_2020 @ np.linalg.inv(np.sqrt(deg_mat))"
   ]
  },
  {
   "cell_type": "code",
   "execution_count": 60,
   "metadata": {},
   "outputs": [],
   "source": [
    "p_values_DC, A_bootstraps_DC = test_bootstrap(A_symm_2020_DC, d=2, dc=False)"
   ]
  },
  {
   "cell_type": "code",
   "execution_count": 62,
   "metadata": {},
   "outputs": [
    {
     "data": {
      "image/png": "[encoded data removed]",
      "text/plain": [
       "<Figure size 432x288 with 1 Axes>"
      ]
     },
     "metadata": {
      "needs_background": "light"
     },
     "output_type": "display_data"
    },
    {
     "data": {
      "text/plain": [
       "0.03"
      ]
     },
     "execution_count": 62,
     "metadata": {},
     "output_type": "execute_result"
    }
   ],
   "source": [
    "plot_power(p_values_DC, plot=True)"
   ]
  },
  {
   "cell_type": "code",
   "execution_count": 63,
   "metadata": {},
   "outputs": [
    {
     "data": {
      "text/plain": [
       "<matplotlib.legend.Legend at 0x7f083f998d30>"
      ]
     },
     "execution_count": 63,
     "metadata": {},
     "output_type": "execute_result"
    },
    {
     "data": {
      "image/png": "[encoded data removed]",
      "text/plain": [
       "<Figure size 432x288 with 1 Axes>"
      ]
     },
     "metadata": {
      "needs_background": "light"
     },
     "output_type": "display_data"
    }
   ],
   "source": [
    "yhat_plot = UASE([A_symm_2020_DC, A_bootstraps_DC[0]], d=2, flat=False)\n",
    "\n",
    "plt.plot(yhat_plot[0, :, 0], yhat_plot[0, :, 1], 'o', label=\"Observed\", alpha=1)\n",
    "plt.plot(yhat_plot[1, :, 0], yhat_plot[1, :, 1], 'o', label=\"Bootstrap\", alpha=1)\n",
    "\n",
    "plt.legend()\n"
   ]
  },
  {
   "cell_type": "code",
   "execution_count": 51,
   "metadata": {},
   "outputs": [],
   "source": [
    "# make A_2020_symm_binary  where this is a 1 if A_2020_symm > 0, and 0 otherwise\n",
    "A_symm_2020_binary = np.zeros((n,n))\n",
    "A_symm_2020_binary[A_symm_2020 > 0] = 1\n",
    "\n",
    "p_values_binary, A_bootstraps_binary = test_bootstrap(A_symm_2020_binary, d=2, dc=False)"
   ]
  },
  {
   "cell_type": "code",
   "execution_count": 55,
   "metadata": {},
   "outputs": [
    {
     "data": {
      "image/png": "[encoded data removed]",
      "text/plain": [
       "<Figure size 432x288 with 1 Axes>"
      ]
     },
     "metadata": {
      "needs_background": "light"
     },
     "output_type": "display_data"
    },
    {
     "data": {
      "text/plain": [
       "0.06"
      ]
     },
     "execution_count": 55,
     "metadata": {},
     "output_type": "execute_result"
    }
   ],
   "source": [
    "plot_power(p_values_binary, plot=True)"
   ]
  },
  {
   "cell_type": "code",
   "execution_count": 110,
   "metadata": {},
   "outputs": [
    {
     "data": {
      "text/plain": [
       "<matplotlib.legend.Legend at 0x7f083fdfbc40>"
      ]
     },
     "execution_count": 110,
     "metadata": {},
     "output_type": "execute_result"
    },
    {
     "data": {
      "image/png": "[encoded data removed]",
      "text/plain": [
       "<Figure size 432x288 with 1 Axes>"
      ]
     },
     "metadata": {
      "needs_background": "light"
     },
     "output_type": "display_data"
    }
   ],
   "source": [
    "yhat_plot = UASE([A_symm_2020_binary, A_bootstraps_binary[1]], d=2, flat=False)\n",
    "\n",
    "plt.plot(yhat_plot[0, :, 0], yhat_plot[0, :, 1], 'o', label=\"Observed\", alpha=1)\n",
    "plt.plot(yhat_plot[1, :, 0], yhat_plot[1, :, 1], 'o', label=\"Bootstrap\", alpha=1)\n",
    "\n",
    "plt.legend()"
   ]
  },
  {
   "cell_type": "code",
   "execution_count": 68,
   "metadata": {},
   "outputs": [
    {
     "data": {
      "text/plain": [
       "[<matplotlib.lines.Line2D at 0x7f083f7dd610>]"
      ]
     },
     "execution_count": 68,
     "metadata": {},
     "output_type": "execute_result"
    },
    {
     "data": {
      "image/png": "[encoded data removed]",
      "text/plain": [
       "<Figure size 432x288 with 1 Axes>"
      ]
     },
     "metadata": {
      "needs_background": "light"
     },
     "output_type": "display_data"
    }
   ],
   "source": [
    "yhat_transform = deg_mat @ yhat_plot\n",
    "\n",
    "plt.plot(yhat_transform[0, :, 0], yhat_transform[0, :, 1], 'o', label=\"Observed transformed\", alpha=1)\n",
    "plt.plot(yhat_transform[1, :, 0], yhat_transform[1, :, 1], 'o', label=\"Bootstrap tranformed\", alpha=1)"
   ]
  },
  {
   "cell_type": "code",
   "execution_count": 75,
   "metadata": {},
   "outputs": [
    {
     "data": {
      "text/plain": [
       "(288, 2)"
      ]
     },
     "execution_count": 75,
     "metadata": {},
     "output_type": "execute_result"
    }
   ],
   "source": [
    "yhat_transform_flat = np.row_stack(yhat_transform)\n",
    "yhat_transform_flat.shape"
   ]
  },
  {
   "cell_type": "code",
   "execution_count": 78,
   "metadata": {},
   "outputs": [],
   "source": [
    "yadf_transformed = pd.DataFrame(yhat_transform_flat)\n",
    "\n",
    "# rename the columns - this is called a list comprehension\n",
    "yadf_transformed.columns = [\"Dimension_{}\".format(i+1) for i in range(yadf_transformed.shape[1])] \n",
    "# give each node a number\n",
    "yadf_transformed['node_number'] = list(range(n))*2\n",
    "yadf_transformed['country'] = total*2\n",
    "yadf_transformed['type'] = ['Observed']*n + ['Bootstrap']*n"
   ]
  },
  {
   "cell_type": "code",
   "execution_count": 79,
   "metadata": {},
   "outputs": [
    {
     "data": {
      "application/vnd.plotly.v1+json": {
       "config": {
        "plotlyServerURL": "https://plot.ly"
       },
       "data": [
        {
         "customdata": [
          [
           "French Polynesia",
           0
          ],
          [
           "Mauritius",
           1
          ],
          [
           "Guyana",
           2
          ],
          [
           "Bermuda",
           3
          ],
          [
           "Nicaragua",
           4
          ],
          [
           "Kenya",
           5
          ],
          [
           "Chile",
           6
          ],
          [
           "Congo",
           7
          ],
          [
           "Kuwait",
           8
          ],
          [
           "India",
           9
          ],
          [
           "Dem. Rep. of the Congo",
           10
          ],
          [
           "China, Hong Kong SAR",
           11
          ],
          [
           "Suriname",
           12
          ],
          [
           "Slovakia",
           13
          ],
          [
           "China",
           14
          ],
          [
           "Mauritania",
           15
          ],
          [
           "Luxembourg",
           16
          ],
          [
           "Bahrain",
           17
          ],
          [
           "Uruguay",
           18
          ],
          [
           "Nepal",
           19
          ],
          [
           "Niger",
           20
          ],
          [
           "State of Palestine",
           21
          ],
          [
           "Kyrgyzstan",
           22
          ],
          [
           "Belize",
           23
          ],
          [
           "Lebanon",
           24
          ],
          [
           "Pakistan",
           25
          ],
          [
           "Trinidad and Tobago",
           26
          ],
          [
           "USA",
           27
          ],
          [
           "Brunei Darussalam",
           28
          ],
          [
           "Greece",
           29
          ],
          [
           "Cyprus",
           30
          ],
          [
           "Hungary",
           31
          ],
          [
           "Costa Rica",
           32
          ],
          [
           "Madagascar",
           33
          ],
          [
           "Peru",
           34
          ],
          [
           "Norway",
           35
          ],
          [
           "Zambia",
           36
          ],
          [
           "Poland",
           37
          ],
          [
           "Lithuania",
           38
          ],
          [
           "Mozambique",
           39
          ],
          [
           "Denmark",
           40
          ],
          [
           "Montenegro",
           41
          ],
          [
           "Guatemala",
           42
          ],
          [
           "Sao Tome and Principe",
           43
          ],
          [
           "Czechia",
           44
          ],
          [
           "Gambia",
           45
          ],
          [
           "Mexico",
           46
          ],
          [
           "Angola",
           47
          ],
          [
           "Botswana",
           48
          ],
          [
           "Bulgaria",
           49
          ],
          [
           "Philippines",
           50
          ],
          [
           "Tajikistan",
           51
          ],
          [
           "Israel",
           52
          ],
          [
           "Saudi Arabia",
           53
          ],
          [
           "Panama",
           54
          ],
          [
           "Honduras",
           55
          ],
          [
           "Netherlands",
           56
          ],
          [
           "Egypt",
           57
          ],
          [
           "Rep. of Korea",
           58
          ],
          [
           "Romania",
           59
          ],
          [
           "Saint Vincent and the Grenadines",
           60
          ],
          [
           "Colombia",
           61
          ],
          [
           "Azerbaijan",
           62
          ],
          [
           "Lao People's Dem. Rep.",
           63
          ],
          [
           "Viet Nam",
           64
          ],
          [
           "Japan",
           65
          ],
          [
           "Malaysia",
           66
          ],
          [
           "Rep. of Moldova",
           67
          ],
          [
           "China, Macao SAR",
           68
          ],
          [
           "Nigeria",
           69
          ],
          [
           "Barbados",
           70
          ],
          [
           "Rwanda",
           71
          ],
          [
           "Thailand",
           72
          ],
          [
           "Latvia",
           73
          ],
          [
           "Iceland",
           74
          ],
          [
           "Canada",
           75
          ],
          [
           "United Arab Emirates",
           76
          ],
          [
           "Eswatini",
           77
          ],
          [
           "Armenia",
           78
          ],
          [
           "Jamaica",
           79
          ],
          [
           "Aruba",
           80
          ],
          [
           "Singapore",
           81
          ],
          [
           "Brazil",
           82
          ],
          [
           "Oman",
           83
          ],
          [
           "Burkina Faso",
           84
          ],
          [
           "Estonia",
           85
          ],
          [
           "United Kingdom",
           86
          ],
          [
           "Paraguay",
           87
          ],
          [
           "Ireland",
           88
          ],
          [
           "Lesotho",
           89
          ],
          [
           "Myanmar",
           90
          ],
          [
           "Spain",
           91
          ],
          [
           "Bosnia Herzegovina",
           92
          ],
          [
           "Georgia",
           93
          ],
          [
           "Croatia",
           94
          ],
          [
           "Serbia",
           95
          ],
          [
           "Austria",
           96
          ],
          [
           "Morocco",
           97
          ],
          [
           "North Macedonia",
           98
          ],
          [
           "New Zealand",
           99
          ],
          [
           "Tunisia",
           100
          ],
          [
           "Kazakhstan",
           101
          ],
          [
           "Portugal",
           102
          ],
          [
           "Russian Federation",
           103
          ],
          [
           "Indonesia",
           104
          ],
          [
           "Ukraine",
           105
          ],
          [
           "Germany",
           106
          ],
          [
           "Australia",
           107
          ],
          [
           "Comoros",
           108
          ],
          [
           "Albania",
           109
          ],
          [
           "Italy",
           110
          ],
          [
           "Cambodia",
           111
          ],
          [
           "Fiji",
           112
          ],
          [
           "South Africa",
           113
          ],
          [
           "Namibia",
           114
          ],
          [
           "Belarus",
           115
          ],
          [
           "Burundi",
           116
          ],
          [
           "Slovenia",
           117
          ],
          [
           "Andorra",
           118
          ],
          [
           "United Rep. of Tanzania",
           119
          ],
          [
           "Belgium",
           120
          ],
          [
           "Other Asia, nes",
           121
          ],
          [
           "Jordan",
           122
          ],
          [
           "Senegal",
           123
          ],
          [
           "Benin",
           124
          ],
          [
           "Mongolia",
           125
          ],
          [
           "Switzerland",
           126
          ],
          [
           "Bolivia (Plurinational State of)",
           127
          ],
          [
           "Zimbabwe",
           128
          ],
          [
           "Ethiopia",
           129
          ],
          [
           "Malawi",
           130
          ],
          [
           "Malta",
           131
          ],
          [
           "Ecuador",
           132
          ],
          [
           "Togo",
           133
          ],
          [
           "Grenada",
           134
          ],
          [
           "Argentina",
           135
          ],
          [
           "Finland",
           136
          ],
          [
           "T�rkiye",
           137
          ],
          [
           "Qatar",
           138
          ],
          [
           "Dominican Rep.",
           139
          ],
          [
           "Seychelles",
           140
          ],
          [
           "El Salvador",
           141
          ],
          [
           "Sweden",
           142
          ],
          [
           "France",
           143
          ]
         ],
         "hovertemplate": "type=Observed<br>Dimension_1=%{x}<br>Dimension_2=%{y}<br>country=%{customdata[0]}<br>node_number=%{customdata[1]}<extra></extra>",
         "legendgroup": "Observed",
         "marker": {
          "color": "#636efa",
          "symbol": "circle"
         },
         "mode": "markers",
         "name": "Observed",
         "orientation": "v",
         "showlegend": true,
         "type": "scatter",
         "x": [
          -390518139.48312414,
          -2074201097.6041832,
          -1729627784.9819877,
          -651945479.5497063,
          -3929468091.4444,
          -9664560645.092337,
          -58156553126.87455,
          -2817742249.991537,
          -14047040072.118181,
          -249288362870.20065,
          -7227633909.866404,
          -516136285475.2025,
          -1019828575.943956,
          -72704687790.33876,
          -1928887865602.1316,
          -2018943890.4147022,
          -16341379605.448345,
          -8610996752.897322,
          -5945967336.248412,
          -3349887621.224454,
          -667041647.7118939,
          -543879054.6595783,
          -2596588863.844024,
          -369191788.8384395,
          -6434772633.085721,
          -29391302185.191254,
          -4028048842.1463723,
          -1702097806985.365,
          -3422339733.0441756,
          -39725196351.317276,
          -5805347631.475812,
          -103207704795.71068,
          -10085857336.795378,
          -1923959015.9523003,
          -30029508068.80078,
          -71971785274.06964,
          -4712111168.816587,
          -236632410040.32877,
          -28309996210.052525,
          -5686226218.418988,
          -80796526174.31004,
          -936280250.8725121,
          -11114867084.992071,
          -25223179.4547138,
          -157559114627.70798,
          -476901706.05263394,
          -330284867089.9279,
          -11918276621.102123,
          -3288473242.669479,
          -29185516503.608425,
          -81393065850.77504,
          -979456901.998231,
          -49109088071.52708,
          -79809714055.30557,
          -16639057084.427551,
          -5083284648.468131,
          -493621456840.53656,
          -41954935912.76036,
          -418481649106.56396,
          -71367483362.20604,
          -82418145.47572301,
          -31803090104.442867,
          -8656369947.154884,
          -3610313083.6700635,
          -247976503172.92554,
          -531103666674.96857,
          -196035560001.8263,
          -2993340059.2000074,
          -3125496155.1986766,
          -32007160121.304714,
          -530228135.5928994,
          -1005073337.2839757,
          -189179350648.03403,
          -15933385220.660883,
          -3655408822.070966,
          -361850118516.1787,
          -143982654075.69382,
          -1069648544.04453,
          -1881500846.0820947,
          -2030900188.5371535,
          -221488613.26509044,
          -296229408563.45557,
          -162941011277.63425,
          -18011656935.434216,
          -2358086255.480638,
          -15815824384.830746,
          -451661527990.4637,
          -6233709269.577539,
          -121432760751.412,
          -590077707.1296232,
          -17552516616.72073,
          -267651757784.74246,
          -5751591580.590516,
          -4425077743.638082,
          -19302014265.910526,
          -19086940415.522793,
          -145736762610.96625,
          -28842470756.586937,
          -5480036846.598919,
          -31666603586.77353,
          -12263442057.79938,
          -31536816775.64737,
          -61012000134.901596,
          -243596090223.4762,
          -135841700703.97845,
          -45031026852.57181,
          -1122907217170.3088,
          -185939250373.69827,
          -82418696.63033788,
          -2910242614.7147746,
          -409165416311.60583,
          -17633707687.87184,
          -627731833.3711296,
          -66626683621.55227,
          -3765522396.0182467,
          -24466661247.6392,
          -226414414.14181408,
          -34789897909.64589,
          -648833615.4172502,
          -7278794593.904262,
          -294464669263.9286,
          -276524268871.7661,
          -9879351955.247986,
          -5201845291.613176,
          -1468303557.5282507,
          -3993623639.5941324,
          -274576294574.43896,
          -4526479823.213282,
          -2469681533.692551,
          -4289835557.4051785,
          -739727184.3986771,
          -7472852006.121832,
          -14925370647.573326,
          -4155132874.1663065,
          -81922090.07148331,
          -39640967324.94458,
          -58522136260.78842,
          -153224469733.92587,
          -32597950606.478252,
          -10396950497.226076,
          -529770975.829068,
          -4917793517.730797,
          -130885118949.12106,
          -466414001655.91516
         ],
         "xaxis": "x",
         "y": [
          -459687008.816171,
          10443509.795049733,
          -968286136.5931034,
          -772952324.5143902,
          -1889696169.0700924,
          1332065831.4675539,
          13814609104.55545,
          -594814525.1104844,
          361038477.9254035,
          89513546314.3607,
          -4315025894.286119,
          170742150862.2687,
          -621057403.5919348,
          18407985038.651512,
          692617943753.2996,
          -1116503444.02713,
          3511535029.2911296,
          -890014487.1031638,
          -632484889.0750195,
          -1658346500.3364499,
          -407470902.71084446,
          -650196864.3837644,
          -2339136403.4867883,
          -349017575.653755,
          938216595.8304399,
          9320253502.52882,
          -1250147121.8911262,
          611183005588.1405,
          -3003078400.477464,
          14280011271.814426,
          1731941264.4515252,
          30661711125.74263,
          -1426413899.915359,
          -439191328.6045946,
          -2353490305.039555,
          19808478511.69644,
          -1952957066.5828307,
          85258648660.30396,
          9031384560.21496,
          -1574432668.9192417,
          29012118754.654083,
          -855315541.6855514,
          -2142557006.4053538,
          -36048678.265258506,
          56634808039.40932,
          -368148825.141456,
          45062985237.0175,
          -1532718570.6606245,
          -1920406419.691084,
          10479827670.95537,
          20445767690.64772,
          -1240880216.3527412,
          16643815543.422186,
          18725382278.16181,
          -2760192667.9256573,
          -3141490546.6501975,
          177247772940.22437,
          9020629175.000015,
          150588587481.59082,
          19495138604.455196,
          -73880647.9244934,
          8675596140.020844,
          -2936026186.6273255,
          -2315879560.652809,
          40782132056.99128,
          176576033721.99976,
          70708925517.99774,
          -1248102799.3749514,
          -3013012803.458503,
          467496449.4592442,
          -307464493.4742842,
          -689736048.8593174,
          67929823803.17019,
          4858617250.099354,
          -1493726800.476968,
          130074223261.82533,
          51700760619.860634,
          -408641876.7027075,
          -1199633763.2931697,
          -794452948.0984162,
          -213327673.8614655,
          106596842137.3313,
          58569337085.074,
          1663673059.726691,
          -1245682853.1955664,
          2844723467.447046,
          162180956377.97696,
          -1844681150.0906243,
          43704209566.94809,
          -542165223.4752994,
          -2446038216.5477157,
          96313295681.93831,
          -1195520691.862465,
          -1170778640.2213385,
          4028591825.9627795,
          1348051223.6192389,
          52442726419.03266,
          5117717330.45889,
          -2069474597.2599545,
          10465599487.586351,
          132968294.3663127,
          -15794907871.777935,
          21930834810.193256,
          81685520493.91647,
          48777537095.53781,
          16186455271.971914,
          403209383838.10815,
          56724857970.757515,
          -82660041.36636454,
          -1213396584.4417331,
          147236186390.0792,
          -2218758438.0497212,
          -545013055.0038747,
          23974068584.50111,
          -459639596.2435106,
          1956696947.9742475,
          -176739370.1573252,
          9313505734.426641,
          -200689893.17206678,
          -1422546594.0245142,
          105851177148.44403,
          91493267599.73088,
          802684137.321332,
          -563079433.5019675,
          -828934832.8223258,
          -3130491326.714604,
          98810085975.9788,
          -2238317007.5407434,
          -1453815618.1502218,
          -114877918.35387856,
          -405892678.8576412,
          765802354.9995159,
          -532946920.9712279,
          -1397112311.4668396,
          -83073482.20677091,
          4638680239.754757,
          21013912941.14682,
          55019277715.593185,
          -157945947.35851648,
          -306913094.0946121,
          -409772601.73780245,
          -2061611688.5523968,
          46997745991.90993,
          167662218936.78558
         ],
         "yaxis": "y"
        },
        {
         "customdata": [
          [
           "French Polynesia",
           0
          ],
          [
           "Mauritius",
           1
          ],
          [
           "Guyana",
           2
          ],
          [
           "Bermuda",
           3
          ],
          [
           "Nicaragua",
           4
          ],
          [
           "Kenya",
           5
          ],
          [
           "Chile",
           6
          ],
          [
           "Congo",
           7
          ],
          [
           "Kuwait",
           8
          ],
          [
           "India",
           9
          ],
          [
           "Dem. Rep. of the Congo",
           10
          ],
          [
           "China, Hong Kong SAR",
           11
          ],
          [
           "Suriname",
           12
          ],
          [
           "Slovakia",
           13
          ],
          [
           "China",
           14
          ],
          [
           "Mauritania",
           15
          ],
          [
           "Luxembourg",
           16
          ],
          [
           "Bahrain",
           17
          ],
          [
           "Uruguay",
           18
          ],
          [
           "Nepal",
           19
          ],
          [
           "Niger",
           20
          ],
          [
           "State of Palestine",
           21
          ],
          [
           "Kyrgyzstan",
           22
          ],
          [
           "Belize",
           23
          ],
          [
           "Lebanon",
           24
          ],
          [
           "Pakistan",
           25
          ],
          [
           "Trinidad and Tobago",
           26
          ],
          [
           "USA",
           27
          ],
          [
           "Brunei Darussalam",
           28
          ],
          [
           "Greece",
           29
          ],
          [
           "Cyprus",
           30
          ],
          [
           "Hungary",
           31
          ],
          [
           "Costa Rica",
           32
          ],
          [
           "Madagascar",
           33
          ],
          [
           "Peru",
           34
          ],
          [
           "Norway",
           35
          ],
          [
           "Zambia",
           36
          ],
          [
           "Poland",
           37
          ],
          [
           "Lithuania",
           38
          ],
          [
           "Mozambique",
           39
          ],
          [
           "Denmark",
           40
          ],
          [
           "Montenegro",
           41
          ],
          [
           "Guatemala",
           42
          ],
          [
           "Sao Tome and Principe",
           43
          ],
          [
           "Czechia",
           44
          ],
          [
           "Gambia",
           45
          ],
          [
           "Mexico",
           46
          ],
          [
           "Angola",
           47
          ],
          [
           "Botswana",
           48
          ],
          [
           "Bulgaria",
           49
          ],
          [
           "Philippines",
           50
          ],
          [
           "Tajikistan",
           51
          ],
          [
           "Israel",
           52
          ],
          [
           "Saudi Arabia",
           53
          ],
          [
           "Panama",
           54
          ],
          [
           "Honduras",
           55
          ],
          [
           "Netherlands",
           56
          ],
          [
           "Egypt",
           57
          ],
          [
           "Rep. of Korea",
           58
          ],
          [
           "Romania",
           59
          ],
          [
           "Saint Vincent and the Grenadines",
           60
          ],
          [
           "Colombia",
           61
          ],
          [
           "Azerbaijan",
           62
          ],
          [
           "Lao People's Dem. Rep.",
           63
          ],
          [
           "Viet Nam",
           64
          ],
          [
           "Japan",
           65
          ],
          [
           "Malaysia",
           66
          ],
          [
           "Rep. of Moldova",
           67
          ],
          [
           "China, Macao SAR",
           68
          ],
          [
           "Nigeria",
           69
          ],
          [
           "Barbados",
           70
          ],
          [
           "Rwanda",
           71
          ],
          [
           "Thailand",
           72
          ],
          [
           "Latvia",
           73
          ],
          [
           "Iceland",
           74
          ],
          [
           "Canada",
           75
          ],
          [
           "United Arab Emirates",
           76
          ],
          [
           "Eswatini",
           77
          ],
          [
           "Armenia",
           78
          ],
          [
           "Jamaica",
           79
          ],
          [
           "Aruba",
           80
          ],
          [
           "Singapore",
           81
          ],
          [
           "Brazil",
           82
          ],
          [
           "Oman",
           83
          ],
          [
           "Burkina Faso",
           84
          ],
          [
           "Estonia",
           85
          ],
          [
           "United Kingdom",
           86
          ],
          [
           "Paraguay",
           87
          ],
          [
           "Ireland",
           88
          ],
          [
           "Lesotho",
           89
          ],
          [
           "Myanmar",
           90
          ],
          [
           "Spain",
           91
          ],
          [
           "Bosnia Herzegovina",
           92
          ],
          [
           "Georgia",
           93
          ],
          [
           "Croatia",
           94
          ],
          [
           "Serbia",
           95
          ],
          [
           "Austria",
           96
          ],
          [
           "Morocco",
           97
          ],
          [
           "North Macedonia",
           98
          ],
          [
           "New Zealand",
           99
          ],
          [
           "Tunisia",
           100
          ],
          [
           "Kazakhstan",
           101
          ],
          [
           "Portugal",
           102
          ],
          [
           "Russian Federation",
           103
          ],
          [
           "Indonesia",
           104
          ],
          [
           "Ukraine",
           105
          ],
          [
           "Germany",
           106
          ],
          [
           "Australia",
           107
          ],
          [
           "Comoros",
           108
          ],
          [
           "Albania",
           109
          ],
          [
           "Italy",
           110
          ],
          [
           "Cambodia",
           111
          ],
          [
           "Fiji",
           112
          ],
          [
           "South Africa",
           113
          ],
          [
           "Namibia",
           114
          ],
          [
           "Belarus",
           115
          ],
          [
           "Burundi",
           116
          ],
          [
           "Slovenia",
           117
          ],
          [
           "Andorra",
           118
          ],
          [
           "United Rep. of Tanzania",
           119
          ],
          [
           "Belgium",
           120
          ],
          [
           "Other Asia, nes",
           121
          ],
          [
           "Jordan",
           122
          ],
          [
           "Senegal",
           123
          ],
          [
           "Benin",
           124
          ],
          [
           "Mongolia",
           125
          ],
          [
           "Switzerland",
           126
          ],
          [
           "Bolivia (Plurinational State of)",
           127
          ],
          [
           "Zimbabwe",
           128
          ],
          [
           "Ethiopia",
           129
          ],
          [
           "Malawi",
           130
          ],
          [
           "Malta",
           131
          ],
          [
           "Ecuador",
           132
          ],
          [
           "Togo",
           133
          ],
          [
           "Grenada",
           134
          ],
          [
           "Argentina",
           135
          ],
          [
           "Finland",
           136
          ],
          [
           "T�rkiye",
           137
          ],
          [
           "Qatar",
           138
          ],
          [
           "Dominican Rep.",
           139
          ],
          [
           "Seychelles",
           140
          ],
          [
           "El Salvador",
           141
          ],
          [
           "Sweden",
           142
          ],
          [
           "France",
           143
          ]
         ],
         "hovertemplate": "type=Bootstrap<br>Dimension_1=%{x}<br>Dimension_2=%{y}<br>country=%{customdata[0]}<br>node_number=%{customdata[1]}<extra></extra>",
         "legendgroup": "Bootstrap",
         "marker": {
          "color": "#EF553B",
          "symbol": "circle"
         },
         "mode": "markers",
         "name": "Bootstrap",
         "orientation": "v",
         "showlegend": true,
         "type": "scatter",
         "x": [
          -376404275.06997705,
          -2157364699.7181115,
          -1749006883.9482157,
          -680780884.1648327,
          -3948449445.6710978,
          -9678101029.45377,
          -57073800801.732864,
          -2853548416.8383465,
          -14000101078.573008,
          -249296323229.08334,
          -6993705636.5544,
          -511906731325.3059,
          -1044746371.3486679,
          -73074313505.86354,
          -1898488677315.2173,
          -2026033472.0687149,
          -16333452140.912548,
          -8551326910.4830265,
          -5855130621.00903,
          -3360629098.6018577,
          -673067680.2579676,
          -585107357.9246087,
          -2664277458.775185,
          -394701088.1903933,
          -6556230896.175847,
          -29584390161.120422,
          -4063917895.134101,
          -1702206514362.7642,
          -3247791982.8908095,
          -40042594844.03774,
          -5781394434.104773,
          -102402063878.99709,
          -10309840375.440475,
          -1962311464.8901994,
          -30158376019.10771,
          -72242420523.59407,
          -4802526130.11878,
          -238508076111.01624,
          -28169225452.904686,
          -5933676951.208794,
          -81444658507.98645,
          -875285617.0833422,
          -11101085086.124094,
          -29160935.23405506,
          -157559114627.70798,
          -480150609.9126365,
          -326276520697.92413,
          -12177550027.419638,
          -3208548202.393017,
          -29187373039.651703,
          -80668169905.12581,
          -985786081.7059178,
          -50297789138.49278,
          -80024066938.90358,
          -17232537445.216976,
          -5074784159.510102,
          -497581181867.3847,
          -41877984330.106606,
          -415151512392.6957,
          -71402099213.26785,
          -81917578.05765812,
          -32254270526.067047,
          -8877612785.833124,
          -3496713188.629712,
          -246987774872.6805,
          -530995413517.4802,
          -192921697859.1662,
          -3023497369.752733,
          -2970031504.347193,
          -31480201865.872944,
          -547617098.6794024,
          -997560523.6805614,
          -187691665826.24506,
          -16125792784.514727,
          -3456089760.985926,
          -358970451902.24255,
          -145137651920.4486,
          -1140584952.2173212,
          -1852302481.9215775,
          -1937252848.6463912,
          -210924667.46956652,
          -293872038330.20715,
          -162941011277.6342,
          -18476197849.511665,
          -2425378382.4037952,
          -15638462446.45567,
          -451690259342.48804,
          -6315986634.00227,
          -120477887643.79617,
          -608334944.6470208,
          -16818854540.341116,
          -267643279051.9685,
          -6013704844.854481,
          -4648685815.150311,
          -19337515848.91646,
          -19516537373.455956,
          -146896487073.10776,
          -28468208630.61327,
          -5435188924.235202,
          -31633504641.79268,
          -12309632397.62103,
          -31027973352.001507,
          -61013932948.03623,
          -244633424623.85477,
          -136931393573.91566,
          -45390806618.35641,
          -1122978933553.551,
          -186777979248.17426,
          -78871385.4199446,
          -2711061191.4256077,
          -412421418401.58636,
          -16934277306.559053,
          -660364207.521688,
          -66094346326.20942,
          -3821099168.2927976,
          -24289949158.845425,
          -219852011.54359123,
          -34905590551.46566,
          -656935826.9770248,
          -7070516598.567205,
          -294474072207.6465,
          -276524268871.7661,
          -9660165753.075731,
          -5034222292.282674,
          -1476244696.0442235,
          -3865264910.5440187,
          -274576364626.14758,
          -4469369415.794543,
          -2511674689.1903634,
          -4330829276.060167,
          -733274692.01701,
          -7618023688.725208,
          -14210683905.60932,
          -4112590444.171631,
          -84329610.5107435,
          -38741329219.08764,
          -58991588235.30281,
          -154453603433.69324,
          -32787462796.50813,
          -10301749557.660358,
          -483746027.6638099,
          -5050870212.444944,
          -129847658722.58693,
          -470140580184.6551
         ],
         "xaxis": "x",
         "y": [
          -463871772.55543756,
          362206823.1406311,
          -872942441.1080706,
          -814537615.7682413,
          -2177688576.224929,
          2205106440.3197217,
          11488287983.367863,
          -549270314.0640175,
          851526008.1646748,
          89609854970.12155,
          -5080923916.008856,
          180515818666.8012,
          -632108798.0447406,
          20295220361.08836,
          763575640765.1787,
          -1173651949.1368983,
          3580914116.27683,
          -1047617778.8001921,
          -932607707.8306468,
          -1541023734.185655,
          -396484127.25881755,
          -687153477.2704781,
          -2167942890.5943155,
          -344073966.07334715,
          642772572.1979749,
          9830804011.035656,
          -1463661683.6234622,
          612499579779.7255,
          -3001837813.7876153,
          13608189777.07509,
          2009937731.7354546,
          32449820947.543404,
          -658707338.7345797,
          -256979807.56222242,
          2428828247.282036,
          21781001089.605965,
          -2327877580.573462,
          81055265667.10626,
          8160087990.738116,
          -535673059.0057076,
          27678385319.99578,
          -822128571.9197723,
          -1910810879.8803568,
          -39727159.8238533,
          56634808039.40932,
          -341467871.55632687,
          35402256376.96437,
          -870045969.7789301,
          -1925403442.6757572,
          10502934328.716959,
          21979134097.585793,
          -1116071692.3721294,
          19710772198.69943,
          23274430736.01783,
          -1281934493.2555807,
          -3082150870.836075,
          169099409734.20456,
          9577010407.93171,
          157827801872.6229,
          18320327146.329624,
          -82457557.64979477,
          9805422384.69933,
          -3230997069.678227,
          -2902576019.5313544,
          49848235155.87374,
          178059658893.80933,
          77593462010.34004,
          -1021382997.0980138,
          -3409469093.8457875,
          438280209.4892147,
          -379530762.8971199,
          -627324504.4982375,
          71444169434.56119,
          4982903270.292664,
          -1808972648.2737336,
          136340422433.9202,
          49323994082.43179,
          -375095475.42630035,
          -1096829102.0102255,
          -1219689883.7138462,
          -212140149.15863627,
          111726516292.1153,
          58569337085.074,
          2575651156.1520796,
          -1001267121.6183021,
          3612852970.89694,
          162538732660.5646,
          -2023253918.6048892,
          45960010204.80058,
          -547373366.5211114,
          -2961050193.3887477,
          96204689699.8789,
          -308891137.5619606,
          -544734178.2219601,
          3377629070.636659,
          2942158179.191159,
          49921721643.22548,
          5080251231.312312,
          -2500803214.853915,
          10538443956.736338,
          853611716.1125826,
          -14094967425.768421,
          21955592645.381683,
          70504252441.76509,
          46535155812.22777,
          15425741338.765467,
          404077953585.1601,
          62324486781.47392,
          -80255680.15371747,
          -1754930415.6983604,
          140158472536.52536,
          -4410388231.597907,
          -529279408.6536868,
          25102017872.149593,
          -649314440.1094044,
          1946262636.170392,
          -232498902.61231622,
          11055608925.212452,
          -193227357.7168614,
          -2008289768.8218954,
          105965063649.4443,
          91493267599.73088,
          78259002.68712611,
          -1171312067.8284235,
          -676316101.4356327,
          -3186604134.9301043,
          98805090070.67757,
          -2147842690.7297254,
          -1596271200.7132704,
          50333459.95067707,
          -443016503.18597335,
          1045227407.9455354,
          -3899361479.850147,
          -1192851640.024884,
          -102285856.98851123,
          2186265771.613249,
          20047869801.739418,
          52489953647.24104,
          -738438594.3839952,
          187987105.1255785,
          -448602602.9026724,
          -2529223875.477366,
          49314932835.9216,
          159773917299.2079
         ],
         "yaxis": "y"
        }
       ],
       "layout": {
        "legend": {
         "title": {
          "text": "type"
         },
         "tracegroupgap": 0
        },
        "template": {
         "data": {
          "bar": [
           {
            "error_x": {
             "color": "#2a3f5f"
            },
            "error_y": {
             "color": "#2a3f5f"
            },
            "marker": {
             "line": {
              "color": "#E5ECF6",
              "width": 0.5
             },
             "pattern": {
              "fillmode": "overlay",
              "size": 10,
              "solidity": 0.2
             }
            },
            "type": "bar"
           }
          ],
          "barpolar": [
           {
            "marker": {
             "line": {
              "color": "#E5ECF6",
              "width": 0.5
             },
             "pattern": {
              "fillmode": "overlay",
              "size": 10,
              "solidity": 0.2
             }
            },
            "type": "barpolar"
           }
          ],
          "carpet": [
           {
            "aaxis": {
             "endlinecolor": "#2a3f5f",
             "gridcolor": "white",
             "linecolor": "white",
             "minorgridcolor": "white",
             "startlinecolor": "#2a3f5f"
            },
            "baxis": {
             "endlinecolor": "#2a3f5f",
             "gridcolor": "white",
             "linecolor": "white",
             "minorgridcolor": "white",
             "startlinecolor": "#2a3f5f"
            },
            "type": "carpet"
           }
          ],
          "choropleth": [
           {
            "colorbar": {
             "outlinewidth": 0,
             "ticks": ""
            },
            "type": "choropleth"
           }
          ],
          "contour": [
           {
            "colorbar": {
             "outlinewidth": 0,
             "ticks": ""
            },
            "colorscale": [
             [
              0,
              "#0d0887"
             ],
             [
              0.1111111111111111,
              "#46039f"
             ],
             [
              0.2222222222222222,
              "#7201a8"
             ],
             [
              0.3333333333333333,
              "#9c179e"
             ],
             [
              0.4444444444444444,
              "#bd3786"
             ],
             [
              0.5555555555555556,
              "#d8576b"
             ],
             [
              0.6666666666666666,
              "#ed7953"
             ],
             [
              0.7777777777777778,
              "#fb9f3a"
             ],
             [
              0.8888888888888888,
              "#fdca26"
             ],
             [
              1,
              "#f0f921"
             ]
            ],
            "type": "contour"
           }
          ],
          "contourcarpet": [
           {
            "colorbar": {
             "outlinewidth": 0,
             "ticks": ""
            },
            "type": "contourcarpet"
           }
          ],
          "heatmap": [
           {
            "colorbar": {
             "outlinewidth": 0,
             "ticks": ""
            },
            "colorscale": [
             [
              0,
              "#0d0887"
             ],
             [
              0.1111111111111111,
              "#46039f"
             ],
             [
              0.2222222222222222,
              "#7201a8"
             ],
             [
              0.3333333333333333,
              "#9c179e"
             ],
             [
              0.4444444444444444,
              "#bd3786"
             ],
             [
              0.5555555555555556,
              "#d8576b"
             ],
             [
              0.6666666666666666,
              "#ed7953"
             ],
             [
              0.7777777777777778,
              "#fb9f3a"
             ],
             [
              0.8888888888888888,
              "#fdca26"
             ],
             [
              1,
              "#f0f921"
             ]
            ],
            "type": "heatmap"
           }
          ],
          "heatmapgl": [
           {
            "colorbar": {
             "outlinewidth": 0,
             "ticks": ""
            },
            "colorscale": [
             [
              0,
              "#0d0887"
             ],
             [
              0.1111111111111111,
              "#46039f"
             ],
             [
              0.2222222222222222,
              "#7201a8"
             ],
             [
              0.3333333333333333,
              "#9c179e"
             ],
             [
              0.4444444444444444,
              "#bd3786"
             ],
             [
              0.5555555555555556,
              "#d8576b"
             ],
             [
              0.6666666666666666,
              "#ed7953"
             ],
             [
              0.7777777777777778,
              "#fb9f3a"
             ],
             [
              0.8888888888888888,
              "#fdca26"
             ],
             [
              1,
              "#f0f921"
             ]
            ],
            "type": "heatmapgl"
           }
          ],
          "histogram": [
           {
            "marker": {
             "pattern": {
              "fillmode": "overlay",
              "size": 10,
              "solidity": 0.2
             }
            },
            "type": "histogram"
           }
          ],
          "histogram2d": [
           {
            "colorbar": {
             "outlinewidth": 0,
             "ticks": ""
            },
            "colorscale": [
             [
              0,
              "#0d0887"
             ],
             [
              0.1111111111111111,
              "#46039f"
             ],
             [
              0.2222222222222222,
              "#7201a8"
             ],
             [
              0.3333333333333333,
              "#9c179e"
             ],
             [
              0.4444444444444444,
              "#bd3786"
             ],
             [
              0.5555555555555556,
              "#d8576b"
             ],
             [
              0.6666666666666666,
              "#ed7953"
             ],
             [
              0.7777777777777778,
              "#fb9f3a"
             ],
             [
              0.8888888888888888,
              "#fdca26"
             ],
             [
              1,
              "#f0f921"
             ]
            ],
            "type": "histogram2d"
           }
          ],
          "histogram2dcontour": [
           {
            "colorbar": {
             "outlinewidth": 0,
             "ticks": ""
            },
            "colorscale": [
             [
              0,
              "#0d0887"
             ],
             [
              0.1111111111111111,
              "#46039f"
             ],
             [
              0.2222222222222222,
              "#7201a8"
             ],
             [
              0.3333333333333333,
              "#9c179e"
             ],
             [
              0.4444444444444444,
              "#bd3786"
             ],
             [
              0.5555555555555556,
              "#d8576b"
             ],
             [
              0.6666666666666666,
              "#ed7953"
             ],
             [
              0.7777777777777778,
              "#fb9f3a"
             ],
             [
              0.8888888888888888,
              "#fdca26"
             ],
             [
              1,
              "#f0f921"
             ]
            ],
            "type": "histogram2dcontour"
           }
          ],
          "mesh3d": [
           {
            "colorbar": {
             "outlinewidth": 0,
             "ticks": ""
            },
            "type": "mesh3d"
           }
          ],
          "parcoords": [
           {
            "line": {
             "colorbar": {
              "outlinewidth": 0,
              "ticks": ""
             }
            },
            "type": "parcoords"
           }
          ],
          "pie": [
           {
            "automargin": true,
            "type": "pie"
           }
          ],
          "scatter": [
           {
            "fillpattern": {
             "fillmode": "overlay",
             "size": 10,
             "solidity": 0.2
            },
            "type": "scatter"
           }
          ],
          "scatter3d": [
           {
            "line": {
             "colorbar": {
              "outlinewidth": 0,
              "ticks": ""
             }
            },
            "marker": {
             "colorbar": {
              "outlinewidth": 0,
              "ticks": ""
             }
            },
            "type": "scatter3d"
           }
          ],
          "scattercarpet": [
           {
            "marker": {
             "colorbar": {
              "outlinewidth": 0,
              "ticks": ""
             }
            },
            "type": "scattercarpet"
           }
          ],
          "scattergeo": [
           {
            "marker": {
             "colorbar": {
              "outlinewidth": 0,
              "ticks": ""
             }
            },
            "type": "scattergeo"
           }
          ],
          "scattergl": [
           {
            "marker": {
             "colorbar": {
              "outlinewidth": 0,
              "ticks": ""
             }
            },
            "type": "scattergl"
           }
          ],
          "scattermapbox": [
           {
            "marker": {
             "colorbar": {
              "outlinewidth": 0,
              "ticks": ""
             }
            },
            "type": "scattermapbox"
           }
          ],
          "scatterpolar": [
           {
            "marker": {
             "colorbar": {
              "outlinewidth": 0,
              "ticks": ""
             }
            },
            "type": "scatterpolar"
           }
          ],
          "scatterpolargl": [
           {
            "marker": {
             "colorbar": {
              "outlinewidth": 0,
              "ticks": ""
             }
            },
            "type": "scatterpolargl"
           }
          ],
          "scatterternary": [
           {
            "marker": {
             "colorbar": {
              "outlinewidth": 0,
              "ticks": ""
             }
            },
            "type": "scatterternary"
           }
          ],
          "surface": [
           {
            "colorbar": {
             "outlinewidth": 0,
             "ticks": ""
            },
            "colorscale": [
             [
              0,
              "#0d0887"
             ],
             [
              0.1111111111111111,
              "#46039f"
             ],
             [
              0.2222222222222222,
              "#7201a8"
             ],
             [
              0.3333333333333333,
              "#9c179e"
             ],
             [
              0.4444444444444444,
              "#bd3786"
             ],
             [
              0.5555555555555556,
              "#d8576b"
             ],
             [
              0.6666666666666666,
              "#ed7953"
             ],
             [
              0.7777777777777778,
              "#fb9f3a"
             ],
             [
              0.8888888888888888,
              "#fdca26"
             ],
             [
              1,
              "#f0f921"
             ]
            ],
            "type": "surface"
           }
          ],
          "table": [
           {
            "cells": {
             "fill": {
              "color": "#EBF0F8"
             },
             "line": {
              "color": "white"
             }
            },
            "header": {
             "fill": {
              "color": "#C8D4E3"
             },
             "line": {
              "color": "white"
             }
            },
            "type": "table"
           }
          ]
         },
         "layout": {
          "annotationdefaults": {
           "arrowcolor": "#2a3f5f",
           "arrowhead": 0,
           "arrowwidth": 1
          },
          "autotypenumbers": "strict",
          "coloraxis": {
           "colorbar": {
            "outlinewidth": 0,
            "ticks": ""
           }
          },
          "colorscale": {
           "diverging": [
            [
             0,
             "#8e0152"
            ],
            [
             0.1,
             "#c51b7d"
            ],
            [
             0.2,
             "#de77ae"
            ],
            [
             0.3,
             "#f1b6da"
            ],
            [
             0.4,
             "#fde0ef"
            ],
            [
             0.5,
             "#f7f7f7"
            ],
            [
             0.6,
             "#e6f5d0"
            ],
            [
             0.7,
             "#b8e186"
            ],
            [
             0.8,
             "#7fbc41"
            ],
            [
             0.9,
             "#4d9221"
            ],
            [
             1,
             "#276419"
            ]
           ],
           "sequential": [
            [
             0,
             "#0d0887"
            ],
            [
             0.1111111111111111,
             "#46039f"
            ],
            [
             0.2222222222222222,
             "#7201a8"
            ],
            [
             0.3333333333333333,
             "#9c179e"
            ],
            [
             0.4444444444444444,
             "#bd3786"
            ],
            [
             0.5555555555555556,
             "#d8576b"
            ],
            [
             0.6666666666666666,
             "#ed7953"
            ],
            [
             0.7777777777777778,
             "#fb9f3a"
            ],
            [
             0.8888888888888888,
             "#fdca26"
            ],
            [
             1,
             "#f0f921"
            ]
           ],
           "sequentialminus": [
            [
             0,
             "#0d0887"
            ],
            [
             0.1111111111111111,
             "#46039f"
            ],
            [
             0.2222222222222222,
             "#7201a8"
            ],
            [
             0.3333333333333333,
             "#9c179e"
            ],
            [
             0.4444444444444444,
             "#bd3786"
            ],
            [
             0.5555555555555556,
             "#d8576b"
            ],
            [
             0.6666666666666666,
             "#ed7953"
            ],
            [
             0.7777777777777778,
             "#fb9f3a"
            ],
            [
             0.8888888888888888,
             "#fdca26"
            ],
            [
             1,
             "#f0f921"
            ]
           ]
          },
          "colorway": [
           "#636efa",
           "#EF553B",
           "#00cc96",
           "#ab63fa",
           "#FFA15A",
           "#19d3f3",
           "#FF6692",
           "#B6E880",
           "#FF97FF",
           "#FECB52"
          ],
          "font": {
           "color": "#2a3f5f"
          },
          "geo": {
           "bgcolor": "white",
           "lakecolor": "white",
           "landcolor": "#E5ECF6",
           "showlakes": true,
           "showland": true,
           "subunitcolor": "white"
          },
          "hoverlabel": {
           "align": "left"
          },
          "hovermode": "closest",
          "mapbox": {
           "style": "light"
          },
          "paper_bgcolor": "white",
          "plot_bgcolor": "#E5ECF6",
          "polar": {
           "angularaxis": {
            "gridcolor": "white",
            "linecolor": "white",
            "ticks": ""
           },
           "bgcolor": "#E5ECF6",
           "radialaxis": {
            "gridcolor": "white",
            "linecolor": "white",
            "ticks": ""
           }
          },
          "scene": {
           "xaxis": {
            "backgroundcolor": "#E5ECF6",
            "gridcolor": "white",
            "gridwidth": 2,
            "linecolor": "white",
            "showbackground": true,
            "ticks": "",
            "zerolinecolor": "white"
           },
           "yaxis": {
            "backgroundcolor": "#E5ECF6",
            "gridcolor": "white",
            "gridwidth": 2,
            "linecolor": "white",
            "showbackground": true,
            "ticks": "",
            "zerolinecolor": "white"
           },
           "zaxis": {
            "backgroundcolor": "#E5ECF6",
            "gridcolor": "white",
            "gridwidth": 2,
            "linecolor": "white",
            "showbackground": true,
            "ticks": "",
            "zerolinecolor": "white"
           }
          },
          "shapedefaults": {
           "line": {
            "color": "#2a3f5f"
           }
          },
          "ternary": {
           "aaxis": {
            "gridcolor": "white",
            "linecolor": "white",
            "ticks": ""
           },
           "baxis": {
            "gridcolor": "white",
            "linecolor": "white",
            "ticks": ""
           },
           "bgcolor": "#E5ECF6",
           "caxis": {
            "gridcolor": "white",
            "linecolor": "white",
            "ticks": ""
           }
          },
          "title": {
           "x": 0.05
          },
          "xaxis": {
           "automargin": true,
           "gridcolor": "white",
           "linecolor": "white",
           "ticks": "",
           "title": {
            "standoff": 15
           },
           "zerolinecolor": "white",
           "zerolinewidth": 2
          },
          "yaxis": {
           "automargin": true,
           "gridcolor": "white",
           "linecolor": "white",
           "ticks": "",
           "title": {
            "standoff": 15
           },
           "zerolinecolor": "white",
           "zerolinewidth": 2
          }
         }
        },
        "title": {
         "text": "The A matrix for 2020 embedded, with UASE d=2"
        },
        "xaxis": {
         "anchor": "y",
         "domain": [
          0,
          1
         ],
         "title": {
          "text": "Dimension_1"
         }
        },
        "yaxis": {
         "anchor": "x",
         "domain": [
          0,
          1
         ],
         "title": {
          "text": "Dimension_2"
         }
        }
       }
      }
     },
     "metadata": {},
     "output_type": "display_data"
    }
   ],
   "source": [
    "fig = px.scatter(yadf_transformed, x=\"Dimension_1\", y=\"Dimension_2\",\n",
    "                hover_data=[\"country\", \"node_number\"],\n",
    "                color='type', \n",
    "                color_continuous_scale = 'Bluered', title=f\"The A matrix for 2020 embedded, with UASE d={d}\")\n",
    "\n",
    "fig.show()"
   ]
  },
  {
   "cell_type": "code",
   "execution_count": 123,
   "metadata": {},
   "outputs": [
    {
     "data": {
      "text/plain": [
       "[<matplotlib.lines.Line2D at 0x7f083f0c8550>]"
      ]
     },
     "execution_count": 123,
     "metadata": {},
     "output_type": "execute_result"
    },
    {
     "data": {
      "image/png": "[encoded data removed]",
      "text/plain": [
       "<Figure size 432x288 with 1 Axes>"
      ]
     },
     "metadata": {
      "needs_background": "light"
     },
     "output_type": "display_data"
    }
   ],
   "source": [
    "# plot the sorted degree of 2020 binary\n",
    "deg = np.sum(A_symm_2020_binary, axis=0)\n",
    "deg_sort = np.sort(deg)\n",
    "\n",
    "plt.plot(deg_sort)"
   ]
  },
  {
   "cell_type": "code",
   "execution_count": 120,
   "metadata": {},
   "outputs": [
    {
     "name": "stderr",
     "output_type": "stream",
     "text": [
      "No handles with labels found to put in legend.\n"
     ]
    },
    {
     "data": {
      "text/plain": [
       "<matplotlib.legend.Legend at 0x7f083ee6e7f0>"
      ]
     },
     "execution_count": 120,
     "metadata": {},
     "output_type": "execute_result"
    },
    {
     "data": {
      "image/png": "[encoded data removed]",
      "text/plain": [
       "<Figure size 432x288 with 1 Axes>"
      ]
     },
     "metadata": {
      "needs_background": "light"
     },
     "output_type": "display_data"
    }
   ],
   "source": [
    "yhat_plot = UASE(A_obs_and_bootstraps, d=2, flat=False)\n",
    "\n",
    "# plt.plot(yhat_plot[1:, 14, 0], yhat_plot[1: , 14, 1], 'o', label=\"Bootstrap\", alpha=1)\n",
    "# plt.plot(yhat_plot[0, 14, 0], yhat_plot[0, 14, 1], 'o', label=\"Observed\", alpha=1)\n",
    "\n",
    "# plt.plot(yhat_plot[1:, 86, 0], yhat_plot[1: , 86, 1], 'o', label=\"Bootstrap\", alpha=1)\n",
    "# plt.plot(yhat_plot[0, 86, 0], yhat_plot[0, 86, 1], 'o', label=\"Observed\", alpha=1)\n",
    "\n",
    "plt.scatter(yhat_plot[1:, :, 0], yhat_plot[1:, :, 1], alpha=0.03)\n",
    "\n",
    "plt.scatter(yhat_plot[0, :, 0], yhat_plot[0, :, 1])\n",
    "# plt.scatter(yhat_plot[1, :, 0], yhat_plot[1, :, 1])\n",
    "# plt.scatter(yhat_plot[2, :, 0], yhat_plot[2, :, 1])\n",
    "\n",
    "\n",
    "plt.legend()\n",
    "\n",
    "# the lone dot, we think is overlapped the countries that all export to all the other places, \n",
    "# so by kNN they have zero resample variance in the binary setting"
   ]
  },
  {
   "cell_type": "code",
   "execution_count": 124,
   "metadata": {},
   "outputs": [
    {
     "data": {
      "text/plain": [
       "<AxesSubplot:>"
      ]
     },
     "execution_count": 124,
     "metadata": {},
     "output_type": "execute_result"
    },
    {
     "data": {
      "image/png": "[encoded data removed]",
      "text/plain": [
       "<Figure size 432x288 with 2 Axes>"
      ]
     },
     "metadata": {
      "needs_background": "light"
     },
     "output_type": "display_data"
    }
   ],
   "source": [
    "sns.heatmap(A_symm_2020_binary)"
   ]
  },
  {
   "cell_type": "code",
   "execution_count": null,
   "metadata": {},
   "outputs": [],
   "source": [
    "# we need to compare yadf_transformed['bootstrap'] and yadf from the true A"
   ]
  }
 ],
 "metadata": {
  "kernelspec": {
   "display_name": "base",
   "language": "python",
   "name": "python3"
  },
  "language_info": {
   "codemirror_mode": {
    "name": "ipython",
    "version": 3
   },
   "file_extension": ".py",
   "mimetype": "text/x-python",
   "name": "python",
   "nbconvert_exporter": "python",
   "pygments_lexer": "ipython3",
   "version": "3.9.7"
  }
 },
 "nbformat": 4,
 "nbformat_minor": 2
}
