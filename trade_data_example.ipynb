{
 "cells": [
  {
   "cell_type": "markdown",
   "metadata": {},
   "source": [
    "Try out our kNN bootstrap method on the degree heterogeneous international trade data. \n",
    "\n",
    "Will bootstrap the 2020 data, then can compare it to 2021 for the whole, is this the same?"
   ]
  },
  {
   "cell_type": "code",
   "execution_count": 1,
   "metadata": {},
   "outputs": [],
   "source": [
    "import numpy as np\n",
    "import matplotlib.pyplot as plt\n",
    "import pandas as pd\n",
    "from embedding_functions import *\n",
    "from experiment_setup import *\n",
    "from functions_for_bootstrap import *\n",
    "import numba as nb\n",
    "from tqdm import tqdm\n",
    "import random"
   ]
  },
  {
   "cell_type": "code",
   "execution_count": 2,
   "metadata": {},
   "outputs": [],
   "source": [
    "folder = \"/home/uj21900/Documents/CommonCrawlData/InternationalTradeData/\""
   ]
  },
  {
   "cell_type": "code",
   "execution_count": 3,
   "metadata": {},
   "outputs": [],
   "source": [
    "# Read in the export data from 2016 to 2021\n",
    "M_2016_2021_list = []\n",
    "for t in range(2016,2022):\n",
    "    filename = folder + 'M_export_' + str(t) + '.csv'\n",
    "    df = pd.read_csv(filename)\n",
    "    M = np.array(df)\n",
    "    M_2016_2021_list.append(M)"
   ]
  },
  {
   "cell_type": "code",
   "execution_count": 4,
   "metadata": {},
   "outputs": [],
   "source": [
    "# read in the export indices names\n",
    "total = pd.read_csv(folder+'exportMatricesIndices.csv', header=None)\n",
    "\n",
    "total = list(total[0])"
   ]
  },
  {
   "cell_type": "code",
   "execution_count": 5,
   "metadata": {},
   "outputs": [
    {
     "name": "stdout",
     "output_type": "stream",
     "text": [
      "144 6\n"
     ]
    }
   ],
   "source": [
    "M_2016_2021_list\n",
    "n = M_2016_2021_list[0].shape[0]\n",
    "T = len(M_2016_2021_list)\n",
    "print(n,T)"
   ]
  },
  {
   "cell_type": "code",
   "execution_count": 6,
   "metadata": {},
   "outputs": [],
   "source": [
    "# put A_list into a 3D array\n",
    "As = np.zeros((T,n,n))\n",
    "for t in range(T):\n",
    "    As[t,:,:] = M_2016_2021_list[t]"
   ]
  },
  {
   "cell_type": "code",
   "execution_count": 7,
   "metadata": {},
   "outputs": [],
   "source": [
    "# read in inflation rate data, at a world level\n",
    "# https://data.worldbank.org/indicator/FP.CPI.TOTL.ZG\n",
    "inflationrates = pd.read_csv(folder+'worldbank_inflationRateData.csv')\n",
    "\n",
    "worldIR = inflationrates[inflationrates['Country Name']=='World']"
   ]
  },
  {
   "cell_type": "code",
   "execution_count": 8,
   "metadata": {},
   "outputs": [
    {
     "data": {
      "text/html": [
       "<div>\n",
       "<style scoped>\n",
       "    .dataframe tbody tr th:only-of-type {\n",
       "        vertical-align: middle;\n",
       "    }\n",
       "\n",
       "    .dataframe tbody tr th {\n",
       "        vertical-align: top;\n",
       "    }\n",
       "\n",
       "    .dataframe thead th {\n",
       "        text-align: right;\n",
       "    }\n",
       "</style>\n",
       "<table border=\"1\" class=\"dataframe\">\n",
       "  <thead>\n",
       "    <tr style=\"text-align: right;\">\n",
       "      <th></th>\n",
       "      <th>2016</th>\n",
       "      <th>2017</th>\n",
       "      <th>2018</th>\n",
       "      <th>2019</th>\n",
       "      <th>2020</th>\n",
       "      <th>2021</th>\n",
       "    </tr>\n",
       "  </thead>\n",
       "  <tbody>\n",
       "    <tr>\n",
       "      <th>0</th>\n",
       "      <td>1.550016</td>\n",
       "      <td>2.19201</td>\n",
       "      <td>2.438737</td>\n",
       "      <td>2.206073</td>\n",
       "      <td>1.928955</td>\n",
       "      <td>3.475403</td>\n",
       "    </tr>\n",
       "  </tbody>\n",
       "</table>\n",
       "</div>"
      ],
      "text/plain": [
       "       2016     2017      2018      2019      2020      2021\n",
       "0  1.550016  2.19201  2.438737  2.206073  1.928955  3.475403"
      ]
     },
     "execution_count": 8,
     "metadata": {},
     "output_type": "execute_result"
    }
   ],
   "source": [
    "worldIR = worldIR.iloc[:, -(T+1):]\n",
    "# remove the last column as it's for 2022\n",
    "worldIR = worldIR.iloc[:, :-1]\n",
    "worldIR = worldIR.reset_index(drop=True)\n",
    "worldIR"
   ]
  },
  {
   "cell_type": "code",
   "execution_count": 9,
   "metadata": {},
   "outputs": [],
   "source": [
    "# put the values in a list\n",
    "worldIRlist = list(worldIR.iloc[0,:])\n",
    "\n",
    "# want it to be the proportion, i.e, 3% = 1.03\n",
    "worldIRlist_prop = [x/100 + 1 for x in worldIRlist]"
   ]
  },
  {
   "cell_type": "code",
   "execution_count": 10,
   "metadata": {},
   "outputs": [],
   "source": [
    "IRadj_As = np.zeros((T,n,n))\n",
    "\n",
    "from functools import reduce\n",
    "\n",
    "for t in range(T):\n",
    "    mat = As[t]\n",
    "    cumulative_inflation = worldIRlist_prop[(t+1):T]\n",
    "    # multiply all items in a list\n",
    "    if len(cumulative_inflation) > 0:\n",
    "        cumulative_inflation = reduce(lambda x, y: x*y, cumulative_inflation)\n",
    "    else:\n",
    "        cumulative_inflation = 1\n",
    "    mat = mat*cumulative_inflation\n",
    "    IRadj_As[t] = mat"
   ]
  },
  {
   "cell_type": "code",
   "execution_count": 11,
   "metadata": {},
   "outputs": [],
   "source": [
    "# LOOK AT 2020\n",
    "A_2020 = IRadj_As[4]\n",
    "d=2\n",
    "ya = UASE([A_2020], d)\n",
    "# plot_embedding(ya, n, 1, np.ones(n))"
   ]
  },
  {
   "cell_type": "code",
   "execution_count": 13,
   "metadata": {},
   "outputs": [],
   "source": [
    "yadf = pd.DataFrame(ya)\n",
    "\n",
    "# rename the columns - this is called a list comprehension\n",
    "yadf.columns = [\"Dimension_{}\".format(i+1) for i in range(yadf.shape[1])] \n",
    "# give each node a number\n",
    "yadf['node_number'] = list(range(n))\n",
    "yadf['country'] = total"
   ]
  },
  {
   "cell_type": "code",
   "execution_count": 14,
   "metadata": {},
   "outputs": [
    {
     "data": {
      "application/vnd.plotly.v1+json": {
       "config": {
        "plotlyServerURL": "https://plot.ly"
       },
       "data": [
        {
         "customdata": [
          [
           "French Polynesia",
           0
          ],
          [
           "Mauritius",
           1
          ],
          [
           "Guyana",
           2
          ],
          [
           "Bermuda",
           3
          ],
          [
           "Nicaragua",
           4
          ],
          [
           "Kenya",
           5
          ],
          [
           "Chile",
           6
          ],
          [
           "Congo",
           7
          ],
          [
           "Kuwait",
           8
          ],
          [
           "India",
           9
          ],
          [
           "Dem. Rep. of the Congo",
           10
          ],
          [
           "China, Hong Kong SAR",
           11
          ],
          [
           "Suriname",
           12
          ],
          [
           "Slovakia",
           13
          ],
          [
           "China",
           14
          ],
          [
           "Mauritania",
           15
          ],
          [
           "Luxembourg",
           16
          ],
          [
           "Bahrain",
           17
          ],
          [
           "Uruguay",
           18
          ],
          [
           "Nepal",
           19
          ],
          [
           "Niger",
           20
          ],
          [
           "State of Palestine",
           21
          ],
          [
           "Kyrgyzstan",
           22
          ],
          [
           "Belize",
           23
          ],
          [
           "Lebanon",
           24
          ],
          [
           "Pakistan",
           25
          ],
          [
           "Trinidad and Tobago",
           26
          ],
          [
           "USA",
           27
          ],
          [
           "Brunei Darussalam",
           28
          ],
          [
           "Greece",
           29
          ],
          [
           "Cyprus",
           30
          ],
          [
           "Hungary",
           31
          ],
          [
           "Costa Rica",
           32
          ],
          [
           "Madagascar",
           33
          ],
          [
           "Peru",
           34
          ],
          [
           "Norway",
           35
          ],
          [
           "Zambia",
           36
          ],
          [
           "Poland",
           37
          ],
          [
           "Lithuania",
           38
          ],
          [
           "Mozambique",
           39
          ],
          [
           "Denmark",
           40
          ],
          [
           "Montenegro",
           41
          ],
          [
           "Guatemala",
           42
          ],
          [
           "Sao Tome and Principe",
           43
          ],
          [
           "Czechia",
           44
          ],
          [
           "Gambia",
           45
          ],
          [
           "Mexico",
           46
          ],
          [
           "Angola",
           47
          ],
          [
           "Botswana",
           48
          ],
          [
           "Bulgaria",
           49
          ],
          [
           "Philippines",
           50
          ],
          [
           "Tajikistan",
           51
          ],
          [
           "Israel",
           52
          ],
          [
           "Saudi Arabia",
           53
          ],
          [
           "Panama",
           54
          ],
          [
           "Honduras",
           55
          ],
          [
           "Netherlands",
           56
          ],
          [
           "Egypt",
           57
          ],
          [
           "Rep. of Korea",
           58
          ],
          [
           "Romania",
           59
          ],
          [
           "Saint Vincent and the Grenadines",
           60
          ],
          [
           "Colombia",
           61
          ],
          [
           "Azerbaijan",
           62
          ],
          [
           "Lao People's Dem. Rep.",
           63
          ],
          [
           "Viet Nam",
           64
          ],
          [
           "Japan",
           65
          ],
          [
           "Malaysia",
           66
          ],
          [
           "Rep. of Moldova",
           67
          ],
          [
           "China, Macao SAR",
           68
          ],
          [
           "Nigeria",
           69
          ],
          [
           "Barbados",
           70
          ],
          [
           "Rwanda",
           71
          ],
          [
           "Thailand",
           72
          ],
          [
           "Latvia",
           73
          ],
          [
           "Iceland",
           74
          ],
          [
           "Canada",
           75
          ],
          [
           "United Arab Emirates",
           76
          ],
          [
           "Eswatini",
           77
          ],
          [
           "Armenia",
           78
          ],
          [
           "Jamaica",
           79
          ],
          [
           "Aruba",
           80
          ],
          [
           "Singapore",
           81
          ],
          [
           "Brazil",
           82
          ],
          [
           "Oman",
           83
          ],
          [
           "Burkina Faso",
           84
          ],
          [
           "Estonia",
           85
          ],
          [
           "United Kingdom",
           86
          ],
          [
           "Paraguay",
           87
          ],
          [
           "Ireland",
           88
          ],
          [
           "Lesotho",
           89
          ],
          [
           "Myanmar",
           90
          ],
          [
           "Spain",
           91
          ],
          [
           "Bosnia Herzegovina",
           92
          ],
          [
           "Georgia",
           93
          ],
          [
           "Croatia",
           94
          ],
          [
           "Serbia",
           95
          ],
          [
           "Austria",
           96
          ],
          [
           "Morocco",
           97
          ],
          [
           "North Macedonia",
           98
          ],
          [
           "New Zealand",
           99
          ],
          [
           "Tunisia",
           100
          ],
          [
           "Kazakhstan",
           101
          ],
          [
           "Portugal",
           102
          ],
          [
           "Russian Federation",
           103
          ],
          [
           "Indonesia",
           104
          ],
          [
           "Ukraine",
           105
          ],
          [
           "Germany",
           106
          ],
          [
           "Australia",
           107
          ],
          [
           "Comoros",
           108
          ],
          [
           "Albania",
           109
          ],
          [
           "Italy",
           110
          ],
          [
           "Cambodia",
           111
          ],
          [
           "Fiji",
           112
          ],
          [
           "South Africa",
           113
          ],
          [
           "Namibia",
           114
          ],
          [
           "Belarus",
           115
          ],
          [
           "Burundi",
           116
          ],
          [
           "Slovenia",
           117
          ],
          [
           "Andorra",
           118
          ],
          [
           "United Rep. of Tanzania",
           119
          ],
          [
           "Belgium",
           120
          ],
          [
           "Other Asia, nes",
           121
          ],
          [
           "Jordan",
           122
          ],
          [
           "Senegal",
           123
          ],
          [
           "Benin",
           124
          ],
          [
           "Mongolia",
           125
          ],
          [
           "Switzerland",
           126
          ],
          [
           "Bolivia (Plurinational State of)",
           127
          ],
          [
           "Zimbabwe",
           128
          ],
          [
           "Ethiopia",
           129
          ],
          [
           "Malawi",
           130
          ],
          [
           "Malta",
           131
          ],
          [
           "Ecuador",
           132
          ],
          [
           "Togo",
           133
          ],
          [
           "Grenada",
           134
          ],
          [
           "Argentina",
           135
          ],
          [
           "Finland",
           136
          ],
          [
           "T�rkiye",
           137
          ],
          [
           "Qatar",
           138
          ],
          [
           "Dominican Rep.",
           139
          ],
          [
           "Seychelles",
           140
          ],
          [
           "El Salvador",
           141
          ],
          [
           "Sweden",
           142
          ],
          [
           "France",
           143
          ]
         ],
         "hovertemplate": "Dimension_1=%{x}<br>Dimension_2=%{y}<br>country=%{customdata[0]}<br>node_number=%{customdata[1]}<extra></extra>",
         "legendgroup": "",
         "marker": {
          "color": "#636efa",
          "symbol": "circle"
         },
         "mode": "markers",
         "name": "",
         "orientation": "v",
         "showlegend": false,
         "type": "scatter",
         "x": [
          -206.8315478718529,
          -786.9709424209752,
          -444.074849250074,
          -412.2061771084576,
          -1057.3274133221837,
          -5274.002744872138,
          -17903.140451930176,
          -614.1218135566656,
          -4992.773288334709,
          -78435.75954975601,
          -1847.9863847034524,
          -258229.65490298803,
          -298.55246621226047,
          -9500.413249649437,
          -232027.56949882253,
          -736.0990574261557,
          -3887.7473350230603,
          -1714.1139346253735,
          -2081.403512451213,
          -1544.6118135542047,
          -339.0581371566288,
          -136.56577805963173,
          -2466.1488853850146,
          -253.83011385130473,
          -1597.909413436251,
          -15098.655025897462,
          -1023.8325158606401,
          -724325.5885032259,
          -662.9026245088158,
          -10256.166537839998,
          -1421.8788442998077,
          -18400.122861439573,
          -3118.116558448688,
          -930.3768445990047,
          -10451.701228785483,
          -9980.548904686804,
          -684.137970720049,
          -53113.65297154208,
          -3773.1247323887737,
          -2012.3239531707836,
          -15965.577151654019,
          -180.56358904253136,
          -4304.00935220425,
          -19.76204004512504,
          -29478.913401217025,
          -486.03216534608435,
          -94125.3694714451,
          -1832.8219561343733,
          -437.1006209284477,
          -3715.5402960170954,
          -43570.53421215828,
          -906.4845082503033,
          -15704.448302520927,
          -32603.52042617983,
          -10879.871965751365,
          -2062.224986167464,
          -121816.50453266372,
          -16343.872736764444,
          -133657.8371337133,
          -12564.132624600734,
          -34.85192862611885,
          -12713.630063981833,
          -1024.9404036818103,
          -1584.8728431939119,
          -114533.38210376192,
          -162955.9101829835,
          -62805.71966051382,
          -408.4892727275906,
          -3016.8370295213267,
          -16157.106458580287,
          -240.17299389905267,
          -301.46915286321916,
          -58440.82062635168,
          -2131.639238089024,
          -517.937170224299,
          -103373.29291099412,
          -40734.72273280338,
          -69.66950219174805,
          -397.70233794615444,
          -1047.4546821905265,
          -121.5128463937344,
          -72983.67006759362,
          -44825.01400031283,
          -4192.948422051448,
          -412.84507414129,
          -2003.7315672466113,
          -125528.59443948636,
          -1597.8195687257198,
          -13132.546190304527,
          -81.48572729570137,
          -11397.551286814656,
          -51286.93000926106,
          -545.4664944635579,
          -1485.3101663249615,
          -3308.8013943376504,
          -3098.6770434509317,
          -27268.038444177128,
          -6375.60979684261,
          -728.5416943355347,
          -8128.358109398676,
          -2581.7364576401474,
          -11661.04041903199,
          -10138.558371395844,
          -57417.202063847515,
          -44647.17295314569,
          -9149.759686076124,
          -148192.34937495823,
          -61818.87268357619,
          -51.99445830254405,
          -788.0945812422485,
          -67599.41383387618,
          -8321.621773317573,
          -360.1538305267323,
          -17905.96678676085,
          -292.2023291474871,
          -3444.0178806441686,
          -77.83139233874718,
          -6372.975335018779,
          -96.77073064952756,
          -3836.615119893998,
          -57200.25394805668,
          -80847.07313528887,
          -3732.8592921713885,
          -2629.2254555661043,
          -987.4900545217814,
          -1621.671172718883,
          -41086.53810343631,
          -875.9796406972775,
          -533.7348285847053,
          -2473.3308719187103,
          -231.8312062491495,
          -2419.9985061134053,
          -4298.469649084957,
          -2682.8671098445084,
          -43.59786380589107,
          -9297.76447998713,
          -8584.866585556758,
          -34101.00223601858,
          -5048.444668970087,
          -4267.838069259127,
          -113.2604276110788,
          -1842.1510451882766,
          -20421.695432702538,
          -91248.90915432962
         ],
         "xaxis": "x",
         "y": [
          146.4862755769968,
          -68.95554986728096,
          466.91778976438775,
          747.798668433556,
          844.0546765589296,
          -1392.6838834373532,
          6441.527537467382,
          -57.60709716642246,
          2097.69873923456,
          19950.144369183967,
          -573.2919246884143,
          -65995.46359227868,
          193.62092414846833,
          6743.188552561946,
          519579.6606832716,
          -115.4193284514284,
          3607.430708697896,
          934.9265392809805,
          839.3837058075984,
          -311.88842707321766,
          48.43690804941979,
          13.838036970031506,
          -964.7198803723712,
          239.65031894508508,
          882.6453225390179,
          -1893.0525767977704,
          2046.459984791292,
          -282136.38835398585,
          202.294808751423,
          2258.1432698701406,
          299.7765802324083,
          12321.950592398285,
          4428.775354653065,
          -313.5641506129876,
          3563.432242712878,
          6257.394120778779,
          -95.70505309632489,
          26160.75666823563,
          2594.228836295539,
          -477.9395383639615,
          9009.063554950504,
          56.37839724722113,
          3710.4937932955986,
          -4.7304734218014115,
          16471.640348280285,
          -156.04127015715403,
          182320.75474222223,
          -113.79936585167056,
          5.304188322159336,
          2076.9216550711994,
          -1188.425078538565,
          -282.2241276819099,
          8781.234671369406,
          4181.8318684244605,
          2888.68638472513,
          3210.4589027535762,
          55336.646964707004,
          3068.6990888825176,
          29304.29668298671,
          7100.484590233268,
          66.13247165266552,
          7200.035023156835,
          543.8620720650891,
          -395.0144602702893,
          -10266.360093207399,
          31781.481271289846,
          3366.8139817003457,
          368.7702476997712,
          3367.1368445086546,
          -3254.5952567066606,
          456.3486807637357,
          -4.215345536846292,
          7461.165397244683,
          1240.4506634044017,
          580.5815139500241,
          215796.77366413962,
          11805.407903936608,
          38.22109118032536,
          312.90544247929415,
          1309.5951327920232,
          281.2407559102996,
          26303.594642344648,
          22619.07993032604,
          1018.1797209070928,
          13.991570331724676,
          1428.37860894967,
          74709.5304817581,
          1209.7526511376648,
          12153.975405665093,
          19.546010066237987,
          -4094.319406313538,
          23205.88417093123,
          397.1125274147108,
          250.93325084405012,
          1592.7363808054206,
          1310.5946138398872,
          26665.538770567546,
          2602.932379779761,
          489.4174092249263,
          3890.8980754188306,
          1017.8176872545667,
          -1195.4979752508407,
          6276.822666289949,
          -541.9921457328248,
          -522.4012777526174,
          2428.942360323854,
          62009.285790921815,
          10771.433138515978,
          -12.878830558130394,
          24.468378288655092,
          39208.245534229616,
          -1531.8966668672247,
          32.866005138822736,
          1999.9185718522301,
          72.5687961919054,
          2347.8994602975686,
          -15.812689215335366,
          1599.752701181904,
          107.19822573847658,
          -1267.585966964368,
          46663.80556725795,
          31783.776468358938,
          732.7152148259415,
          -351.34157095285195,
          -154.5825319004364,
          -162.16999028791278,
          53960.47882782086,
          376.9218642428354,
          -79.32726140835577,
          354.67589232512586,
          -27.666470168454477,
          886.085766804342,
          2650.6138413298922,
          118.99048950969288,
          87.26402238732304,
          4712.532883461834,
          6450.404360377727,
          16510.75957203755,
          3983.7457303278247,
          5845.325332492776,
          46.05967269747245,
          1705.3487505553267,
          13489.858170214957,
          60829.80140626394
         ],
         "yaxis": "y"
        }
       ],
       "layout": {
        "legend": {
         "tracegroupgap": 0
        },
        "template": {
         "data": {
          "bar": [
           {
            "error_x": {
             "color": "#2a3f5f"
            },
            "error_y": {
             "color": "#2a3f5f"
            },
            "marker": {
             "line": {
              "color": "#E5ECF6",
              "width": 0.5
             },
             "pattern": {
              "fillmode": "overlay",
              "size": 10,
              "solidity": 0.2
             }
            },
            "type": "bar"
           }
          ],
          "barpolar": [
           {
            "marker": {
             "line": {
              "color": "#E5ECF6",
              "width": 0.5
             },
             "pattern": {
              "fillmode": "overlay",
              "size": 10,
              "solidity": 0.2
             }
            },
            "type": "barpolar"
           }
          ],
          "carpet": [
           {
            "aaxis": {
             "endlinecolor": "#2a3f5f",
             "gridcolor": "white",
             "linecolor": "white",
             "minorgridcolor": "white",
             "startlinecolor": "#2a3f5f"
            },
            "baxis": {
             "endlinecolor": "#2a3f5f",
             "gridcolor": "white",
             "linecolor": "white",
             "minorgridcolor": "white",
             "startlinecolor": "#2a3f5f"
            },
            "type": "carpet"
           }
          ],
          "choropleth": [
           {
            "colorbar": {
             "outlinewidth": 0,
             "ticks": ""
            },
            "type": "choropleth"
           }
          ],
          "contour": [
           {
            "colorbar": {
             "outlinewidth": 0,
             "ticks": ""
            },
            "colorscale": [
             [
              0,
              "#0d0887"
             ],
             [
              0.1111111111111111,
              "#46039f"
             ],
             [
              0.2222222222222222,
              "#7201a8"
             ],
             [
              0.3333333333333333,
              "#9c179e"
             ],
             [
              0.4444444444444444,
              "#bd3786"
             ],
             [
              0.5555555555555556,
              "#d8576b"
             ],
             [
              0.6666666666666666,
              "#ed7953"
             ],
             [
              0.7777777777777778,
              "#fb9f3a"
             ],
             [
              0.8888888888888888,
              "#fdca26"
             ],
             [
              1,
              "#f0f921"
             ]
            ],
            "type": "contour"
           }
          ],
          "contourcarpet": [
           {
            "colorbar": {
             "outlinewidth": 0,
             "ticks": ""
            },
            "type": "contourcarpet"
           }
          ],
          "heatmap": [
           {
            "colorbar": {
             "outlinewidth": 0,
             "ticks": ""
            },
            "colorscale": [
             [
              0,
              "#0d0887"
             ],
             [
              0.1111111111111111,
              "#46039f"
             ],
             [
              0.2222222222222222,
              "#7201a8"
             ],
             [
              0.3333333333333333,
              "#9c179e"
             ],
             [
              0.4444444444444444,
              "#bd3786"
             ],
             [
              0.5555555555555556,
              "#d8576b"
             ],
             [
              0.6666666666666666,
              "#ed7953"
             ],
             [
              0.7777777777777778,
              "#fb9f3a"
             ],
             [
              0.8888888888888888,
              "#fdca26"
             ],
             [
              1,
              "#f0f921"
             ]
            ],
            "type": "heatmap"
           }
          ],
          "heatmapgl": [
           {
            "colorbar": {
             "outlinewidth": 0,
             "ticks": ""
            },
            "colorscale": [
             [
              0,
              "#0d0887"
             ],
             [
              0.1111111111111111,
              "#46039f"
             ],
             [
              0.2222222222222222,
              "#7201a8"
             ],
             [
              0.3333333333333333,
              "#9c179e"
             ],
             [
              0.4444444444444444,
              "#bd3786"
             ],
             [
              0.5555555555555556,
              "#d8576b"
             ],
             [
              0.6666666666666666,
              "#ed7953"
             ],
             [
              0.7777777777777778,
              "#fb9f3a"
             ],
             [
              0.8888888888888888,
              "#fdca26"
             ],
             [
              1,
              "#f0f921"
             ]
            ],
            "type": "heatmapgl"
           }
          ],
          "histogram": [
           {
            "marker": {
             "pattern": {
              "fillmode": "overlay",
              "size": 10,
              "solidity": 0.2
             }
            },
            "type": "histogram"
           }
          ],
          "histogram2d": [
           {
            "colorbar": {
             "outlinewidth": 0,
             "ticks": ""
            },
            "colorscale": [
             [
              0,
              "#0d0887"
             ],
             [
              0.1111111111111111,
              "#46039f"
             ],
             [
              0.2222222222222222,
              "#7201a8"
             ],
             [
              0.3333333333333333,
              "#9c179e"
             ],
             [
              0.4444444444444444,
              "#bd3786"
             ],
             [
              0.5555555555555556,
              "#d8576b"
             ],
             [
              0.6666666666666666,
              "#ed7953"
             ],
             [
              0.7777777777777778,
              "#fb9f3a"
             ],
             [
              0.8888888888888888,
              "#fdca26"
             ],
             [
              1,
              "#f0f921"
             ]
            ],
            "type": "histogram2d"
           }
          ],
          "histogram2dcontour": [
           {
            "colorbar": {
             "outlinewidth": 0,
             "ticks": ""
            },
            "colorscale": [
             [
              0,
              "#0d0887"
             ],
             [
              0.1111111111111111,
              "#46039f"
             ],
             [
              0.2222222222222222,
              "#7201a8"
             ],
             [
              0.3333333333333333,
              "#9c179e"
             ],
             [
              0.4444444444444444,
              "#bd3786"
             ],
             [
              0.5555555555555556,
              "#d8576b"
             ],
             [
              0.6666666666666666,
              "#ed7953"
             ],
             [
              0.7777777777777778,
              "#fb9f3a"
             ],
             [
              0.8888888888888888,
              "#fdca26"
             ],
             [
              1,
              "#f0f921"
             ]
            ],
            "type": "histogram2dcontour"
           }
          ],
          "mesh3d": [
           {
            "colorbar": {
             "outlinewidth": 0,
             "ticks": ""
            },
            "type": "mesh3d"
           }
          ],
          "parcoords": [
           {
            "line": {
             "colorbar": {
              "outlinewidth": 0,
              "ticks": ""
             }
            },
            "type": "parcoords"
           }
          ],
          "pie": [
           {
            "automargin": true,
            "type": "pie"
           }
          ],
          "scatter": [
           {
            "fillpattern": {
             "fillmode": "overlay",
             "size": 10,
             "solidity": 0.2
            },
            "type": "scatter"
           }
          ],
          "scatter3d": [
           {
            "line": {
             "colorbar": {
              "outlinewidth": 0,
              "ticks": ""
             }
            },
            "marker": {
             "colorbar": {
              "outlinewidth": 0,
              "ticks": ""
             }
            },
            "type": "scatter3d"
           }
          ],
          "scattercarpet": [
           {
            "marker": {
             "colorbar": {
              "outlinewidth": 0,
              "ticks": ""
             }
            },
            "type": "scattercarpet"
           }
          ],
          "scattergeo": [
           {
            "marker": {
             "colorbar": {
              "outlinewidth": 0,
              "ticks": ""
             }
            },
            "type": "scattergeo"
           }
          ],
          "scattergl": [
           {
            "marker": {
             "colorbar": {
              "outlinewidth": 0,
              "ticks": ""
             }
            },
            "type": "scattergl"
           }
          ],
          "scattermapbox": [
           {
            "marker": {
             "colorbar": {
              "outlinewidth": 0,
              "ticks": ""
             }
            },
            "type": "scattermapbox"
           }
          ],
          "scatterpolar": [
           {
            "marker": {
             "colorbar": {
              "outlinewidth": 0,
              "ticks": ""
             }
            },
            "type": "scatterpolar"
           }
          ],
          "scatterpolargl": [
           {
            "marker": {
             "colorbar": {
              "outlinewidth": 0,
              "ticks": ""
             }
            },
            "type": "scatterpolargl"
           }
          ],
          "scatterternary": [
           {
            "marker": {
             "colorbar": {
              "outlinewidth": 0,
              "ticks": ""
             }
            },
            "type": "scatterternary"
           }
          ],
          "surface": [
           {
            "colorbar": {
             "outlinewidth": 0,
             "ticks": ""
            },
            "colorscale": [
             [
              0,
              "#0d0887"
             ],
             [
              0.1111111111111111,
              "#46039f"
             ],
             [
              0.2222222222222222,
              "#7201a8"
             ],
             [
              0.3333333333333333,
              "#9c179e"
             ],
             [
              0.4444444444444444,
              "#bd3786"
             ],
             [
              0.5555555555555556,
              "#d8576b"
             ],
             [
              0.6666666666666666,
              "#ed7953"
             ],
             [
              0.7777777777777778,
              "#fb9f3a"
             ],
             [
              0.8888888888888888,
              "#fdca26"
             ],
             [
              1,
              "#f0f921"
             ]
            ],
            "type": "surface"
           }
          ],
          "table": [
           {
            "cells": {
             "fill": {
              "color": "#EBF0F8"
             },
             "line": {
              "color": "white"
             }
            },
            "header": {
             "fill": {
              "color": "#C8D4E3"
             },
             "line": {
              "color": "white"
             }
            },
            "type": "table"
           }
          ]
         },
         "layout": {
          "annotationdefaults": {
           "arrowcolor": "#2a3f5f",
           "arrowhead": 0,
           "arrowwidth": 1
          },
          "autotypenumbers": "strict",
          "coloraxis": {
           "colorbar": {
            "outlinewidth": 0,
            "ticks": ""
           }
          },
          "colorscale": {
           "diverging": [
            [
             0,
             "#8e0152"
            ],
            [
             0.1,
             "#c51b7d"
            ],
            [
             0.2,
             "#de77ae"
            ],
            [
             0.3,
             "#f1b6da"
            ],
            [
             0.4,
             "#fde0ef"
            ],
            [
             0.5,
             "#f7f7f7"
            ],
            [
             0.6,
             "#e6f5d0"
            ],
            [
             0.7,
             "#b8e186"
            ],
            [
             0.8,
             "#7fbc41"
            ],
            [
             0.9,
             "#4d9221"
            ],
            [
             1,
             "#276419"
            ]
           ],
           "sequential": [
            [
             0,
             "#0d0887"
            ],
            [
             0.1111111111111111,
             "#46039f"
            ],
            [
             0.2222222222222222,
             "#7201a8"
            ],
            [
             0.3333333333333333,
             "#9c179e"
            ],
            [
             0.4444444444444444,
             "#bd3786"
            ],
            [
             0.5555555555555556,
             "#d8576b"
            ],
            [
             0.6666666666666666,
             "#ed7953"
            ],
            [
             0.7777777777777778,
             "#fb9f3a"
            ],
            [
             0.8888888888888888,
             "#fdca26"
            ],
            [
             1,
             "#f0f921"
            ]
           ],
           "sequentialminus": [
            [
             0,
             "#0d0887"
            ],
            [
             0.1111111111111111,
             "#46039f"
            ],
            [
             0.2222222222222222,
             "#7201a8"
            ],
            [
             0.3333333333333333,
             "#9c179e"
            ],
            [
             0.4444444444444444,
             "#bd3786"
            ],
            [
             0.5555555555555556,
             "#d8576b"
            ],
            [
             0.6666666666666666,
             "#ed7953"
            ],
            [
             0.7777777777777778,
             "#fb9f3a"
            ],
            [
             0.8888888888888888,
             "#fdca26"
            ],
            [
             1,
             "#f0f921"
            ]
           ]
          },
          "colorway": [
           "#636efa",
           "#EF553B",
           "#00cc96",
           "#ab63fa",
           "#FFA15A",
           "#19d3f3",
           "#FF6692",
           "#B6E880",
           "#FF97FF",
           "#FECB52"
          ],
          "font": {
           "color": "#2a3f5f"
          },
          "geo": {
           "bgcolor": "white",
           "lakecolor": "white",
           "landcolor": "#E5ECF6",
           "showlakes": true,
           "showland": true,
           "subunitcolor": "white"
          },
          "hoverlabel": {
           "align": "left"
          },
          "hovermode": "closest",
          "mapbox": {
           "style": "light"
          },
          "paper_bgcolor": "white",
          "plot_bgcolor": "#E5ECF6",
          "polar": {
           "angularaxis": {
            "gridcolor": "white",
            "linecolor": "white",
            "ticks": ""
           },
           "bgcolor": "#E5ECF6",
           "radialaxis": {
            "gridcolor": "white",
            "linecolor": "white",
            "ticks": ""
           }
          },
          "scene": {
           "xaxis": {
            "backgroundcolor": "#E5ECF6",
            "gridcolor": "white",
            "gridwidth": 2,
            "linecolor": "white",
            "showbackground": true,
            "ticks": "",
            "zerolinecolor": "white"
           },
           "yaxis": {
            "backgroundcolor": "#E5ECF6",
            "gridcolor": "white",
            "gridwidth": 2,
            "linecolor": "white",
            "showbackground": true,
            "ticks": "",
            "zerolinecolor": "white"
           },
           "zaxis": {
            "backgroundcolor": "#E5ECF6",
            "gridcolor": "white",
            "gridwidth": 2,
            "linecolor": "white",
            "showbackground": true,
            "ticks": "",
            "zerolinecolor": "white"
           }
          },
          "shapedefaults": {
           "line": {
            "color": "#2a3f5f"
           }
          },
          "ternary": {
           "aaxis": {
            "gridcolor": "white",
            "linecolor": "white",
            "ticks": ""
           },
           "baxis": {
            "gridcolor": "white",
            "linecolor": "white",
            "ticks": ""
           },
           "bgcolor": "#E5ECF6",
           "caxis": {
            "gridcolor": "white",
            "linecolor": "white",
            "ticks": ""
           }
          },
          "title": {
           "x": 0.05
          },
          "xaxis": {
           "automargin": true,
           "gridcolor": "white",
           "linecolor": "white",
           "ticks": "",
           "title": {
            "standoff": 15
           },
           "zerolinecolor": "white",
           "zerolinewidth": 2
          },
          "yaxis": {
           "automargin": true,
           "gridcolor": "white",
           "linecolor": "white",
           "ticks": "",
           "title": {
            "standoff": 15
           },
           "zerolinecolor": "white",
           "zerolinewidth": 2
          }
         }
        },
        "title": {
         "text": "The A matrix for 2020 embedded, with UASE d=2"
        },
        "xaxis": {
         "anchor": "y",
         "domain": [
          0,
          1
         ],
         "title": {
          "text": "Dimension_1"
         }
        },
        "yaxis": {
         "anchor": "x",
         "domain": [
          0,
          1
         ],
         "title": {
          "text": "Dimension_2"
         }
        }
       }
      }
     },
     "metadata": {},
     "output_type": "display_data"
    }
   ],
   "source": [
    "fig = px.scatter(yadf, x=\"Dimension_1\", y=\"Dimension_2\",\n",
    "                hover_data=[\"country\", \"node_number\"],\n",
    "                color_continuous_scale = 'Bluered', title=f\"The A matrix for 2020 embedded, with UASE d={d}\")\n",
    "\n",
    "fig.show()"
   ]
  },
  {
   "cell_type": "code",
   "execution_count": 15,
   "metadata": {},
   "outputs": [],
   "source": [
    "# make some unweighted networks\n",
    "binary_As = []\n",
    "for A in IRadj_As:\n",
    "    A_bin = A.copy()\n",
    "    A_bin[A_bin > 0] = 1\n",
    "    binary_As.append(A_bin)"
   ]
  },
  {
   "cell_type": "code",
   "execution_count": 59,
   "metadata": {},
   "outputs": [],
   "source": [
    "european_countries = [\n",
    "    \"Albania\", \"Andorra\", \"Armenia\", \"Australia\", \"Austria\", \"Azerbaijan\", \"Belarus\", \n",
    "    \"Belgium\", \"Bosnia Herzegovina\", \"Bulgaria\", \"Canada\", \"Croatia\", \"Czechia\", \n",
    "    \"Denmark\", \"Estonia\", \"Finland\", \"France\", \"Georgia\", \"Germany\", \"Greece\", \"Hungary\", \n",
    "    \"Iceland\", \"Ireland\", \"Italy\", \"Latvia\", \"Lichtenstein\", \"Lithuania\", \"Luxembourg\", \n",
    "    \"Malta\", \"Monaco\", \"Montenegro\", \"Netherlands\", \"New Zealand\", \"North Macedonia\", \n",
    "    \"Norway\", \"Poland\", \"Portugal\", \"Rep. of Moldova\", \"Romania\", \"Russian Federation\", \n",
    "    \"San Marino\", \"Serbia\", \"Slovakia\", \"Slovenia\", \"Spain\", \"Sweden\", \"Switzerland\", \n",
    "    \"T�rkiye\", \"Ukraine\", \"United Kingdom\", \n",
    "]\n",
    "\n",
    "#https://www.un.org/dgacm/en/content/regional-groups\n",
    "# israel, turkiye and US had stars, just kept turkiye"
   ]
  },
  {
   "cell_type": "code",
   "execution_count": 60,
   "metadata": {},
   "outputs": [
    {
     "data": {
      "text/plain": [
       "50"
      ]
     },
     "execution_count": 60,
     "metadata": {},
     "output_type": "execute_result"
    }
   ],
   "source": [
    "len(europecountries)"
   ]
  },
  {
   "cell_type": "code",
   "execution_count": 62,
   "metadata": {},
   "outputs": [
    {
     "name": "stdout",
     "output_type": "stream",
     "text": [
      "Lichtenstein\n",
      "Monaco\n",
      "San Marino\n"
     ]
    }
   ],
   "source": [
    "# which european countries are not in the total list\n",
    "for c in european_countries:\n",
    "    if c not in total:\n",
    "        print(c)\n",
    "\n",
    "# these are all really tiny so must have either not been, or were excluded from the data"
   ]
  },
  {
   "cell_type": "code",
   "execution_count": 64,
   "metadata": {},
   "outputs": [
    {
     "data": {
      "text/plain": [
       "47"
      ]
     },
     "execution_count": 64,
     "metadata": {},
     "output_type": "execute_result"
    }
   ],
   "source": [
    "eu_countries_in_data = [c for c in european_countries if c in total]\n",
    "len(eu_countries_in_data)"
   ]
  },
  {
   "cell_type": "code",
   "execution_count": 69,
   "metadata": {},
   "outputs": [],
   "source": [
    "# find indexes of total where the value is in eu_countries_in_data\n",
    "eu_indexes = [total.index(c) for c in eu_countries_in_data]"
   ]
  },
  {
   "cell_type": "code",
   "execution_count": 71,
   "metadata": {},
   "outputs": [],
   "source": [
    "binary_A_eu = []\n",
    "for A in binary_As:\n",
    "    A_eu = A[eu_indexes][:,eu_indexes]\n",
    "    binary_A_eu.append(A_eu)"
   ]
  },
  {
   "cell_type": "code",
   "execution_count": 75,
   "metadata": {},
   "outputs": [
    {
     "data": {
      "image/png": "[encoded data removed]",
      "text/plain": [
       "<Figure size 1080x720 with 6 Axes>"
      ]
     },
     "metadata": {
      "needs_background": "light"
     },
     "output_type": "display_data"
    }
   ],
   "source": [
    "# plot in one figure the heatmaps for the binary networks\n",
    "fig, axs = plt.subplots(1,6, figsize=(15, 10))\n",
    "for i, ax in enumerate(axs.flat):\n",
    "    ax.imshow(binary_A_eu[i])\n",
    "    ax.set_title(f\"Binary A {2016+i}\")"
   ]
  },
  {
   "cell_type": "code",
   "execution_count": null,
   "metadata": {},
   "outputs": [],
   "source": []
  }
 ],
 "metadata": {
  "kernelspec": {
   "display_name": "base",
   "language": "python",
   "name": "python3"
  },
  "language_info": {
   "codemirror_mode": {
    "name": "ipython",
    "version": 3
   },
   "file_extension": ".py",
   "mimetype": "text/x-python",
   "name": "python",
   "nbconvert_exporter": "python",
   "pygments_lexer": "ipython3",
   "version": "3.9.7"
  }
 },
 "nbformat": 4,
 "nbformat_minor": 2
}
