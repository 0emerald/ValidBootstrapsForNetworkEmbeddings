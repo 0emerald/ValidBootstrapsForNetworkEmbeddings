{
 "cells": [
  {
   "cell_type": "code",
   "execution_count": 284,
   "metadata": {},
   "outputs": [],
   "source": [
    "import numpy as np\n",
    "import matplotlib.pyplot as plt\n",
    "import pandas as pd\n",
    "from embedding_functions import *\n",
    "from experiment_setup import *\n",
    "from functions_for_bootstrap import *\n",
    "import numba as nb\n",
    "from scipy.stats import wasserstein_distance\n",
    "from tqdm import tqdm\n",
    "import random"
   ]
  },
  {
   "cell_type": "markdown",
   "metadata": {},
   "source": [
    "### invalid"
   ]
  },
  {
   "cell_type": "code",
   "execution_count": 285,
   "metadata": {},
   "outputs": [],
   "source": [
    "n = 500\n",
    "T = 1\n",
    "d = 2\n",
    "B = 100  # Number of p-values to compute\n",
    "\n",
    "# Generate an SBM\n",
    "As, tau,P_t = make_iid(n, T, iid_prob=0.9)\n",
    "A_obs = As[0]"
   ]
  },
  {
   "cell_type": "code",
   "execution_count": 286,
   "metadata": {},
   "outputs": [],
   "source": [
    "def edgelist_jackknife(A, B):\n",
    "    \"\"\"\n",
    "    Pick a random entry and set it to zero\n",
    "    \"\"\"\n",
    "    n = A.shape[0]\n",
    "    A_star = np.zeros((B, n, n))\n",
    "\n",
    "    for i in range(B):\n",
    "        A_star[i] = A.copy()\n",
    "        for j in range(3):\n",
    "            idx = np.random.choice(n, size=2, replace=True)\n",
    "            A_star[i][idx[0], idx[1]] = 0\n",
    "            A_star[i][idx[1], idx[0]] = 0\n",
    "\n",
    "    return A_star\n",
    "\n",
    "# Bootstrap\n",
    "A_jk = edgelist_jackknife(A_obs, B=B)\n",
    "\n",
    "# Testing\n",
    "p_vals = []\n",
    "for i in range(B):\n",
    "    A_jk_sample = A_jk[i, :, :]\n",
    "\n",
    "    # Embed the observed and bootstrapped graphs\n",
    "    Y_unf = UASE([A_obs, A_jk_sample], d=d)\n",
    "\n",
    "    # Compute the p-value\n",
    "    p_val = test_temporal_displacement_two_times(Y_unf, n)\n",
    "    p_vals.append(p_val)\n"
   ]
  },
  {
   "cell_type": "code",
   "execution_count": null,
   "metadata": {},
   "outputs": [],
   "source": [
    "p_vals_invalid = p_vals  \n",
    "\n",
    "# p-values for Invalid Resample\n",
    "# Provided code\n",
    "p_hat_list = p_vals_invalid\n",
    "roc = []\n",
    "alphas = []\n",
    "\n",
    "for alpha in np.linspace(0, 1, 100):\n",
    "    alphas.append(alpha)\n",
    "    num_below_alpha = sum(p_hat_list < alpha)\n",
    "    roc_point = num_below_alpha / len(p_hat_list)\n",
    "    roc.append(roc_point)\n",
    "\n",
    "# Get the power at the 5% significance level\n",
    "power_significance = 0.05\n",
    "power_idx = alphas.index(min(alphas, key=lambda x: abs(x - power_significance)))\n",
    "power = roc[power_idx]\n",
    "\n",
    "plt.plot(np.linspace(0, 1, 2), np.linspace(0, 1, 2), linestyle=\"--\", c=\"grey\")\n",
    "_ = plt.plot(alphas, roc, color='#228B22')\n",
    "\n",
    "# Set title and aspect ratio\n",
    "plt.title(f\"(a) Invalid Resample\", size=18)\n",
    "plt.gca().set_aspect('equal', adjustable='box')\n",
    "\n",
    "plt.tight_layout()\n",
    "\n",
    "# plt.savefig(\"InvalidResampleEx.png\", facecolor='w')\n",
    "\n",
    "plt.show()"
   ]
  },
  {
   "cell_type": "markdown",
   "metadata": {},
   "source": [
    "### perfect"
   ]
  },
  {
   "cell_type": "code",
   "execution_count": 288,
   "metadata": {},
   "outputs": [],
   "source": [
    "# Run a k-NN on a K=2 community SBM\n",
    "\n",
    "n = 300\n",
    "T = 1\n",
    "d = 2\n",
    "\n",
    "# Generate an SBM\n",
    "# As, tau = make_iid(n, T, iid_prob=0.9)\n",
    "\n",
    "K = 2\n",
    "As, tau, _ = make_temporal_simple(n, T, K=K) # K community SBM\n",
    "A_obs = As[0]"
   ]
  },
  {
   "cell_type": "code",
   "execution_count": 289,
   "metadata": {},
   "outputs": [],
   "source": [
    "yhat = UASE(As, d=d, flat=False)"
   ]
  },
  {
   "cell_type": "code",
   "execution_count": 290,
   "metadata": {},
   "outputs": [],
   "source": [
    "# run a k-NN on the embedding yhat\n",
    "n_neighbors = 5\n",
    "\n",
    "# Here we use Minkowski distance\n",
    "from sklearn.neighbors import NearestNeighbors\n",
    "nbrs = NearestNeighbors(n_neighbors=n_neighbors, algorithm='ball_tree').fit(yhat[0])\n",
    "distances, indices = nbrs.kneighbors(yhat[0])"
   ]
  },
  {
   "cell_type": "code",
   "execution_count": 291,
   "metadata": {},
   "outputs": [],
   "source": [
    "P_est = P_est_from_A_obs(n, A_obs, n_neighbors, indices)"
   ]
  },
  {
   "cell_type": "code",
   "execution_count": 294,
   "metadata": {},
   "outputs": [
    {
     "data": {
      "image/png": "[encoded data removed]",
      "text/plain": [
       "<Figure size 432x288 with 1 Axes>"
      ]
     },
     "metadata": {
      "needs_background": "light"
     },
     "output_type": "display_data"
    }
   ],
   "source": [
    "B = 100\n",
    "p_vals = []\n",
    "A_boots = []\n",
    "for i in range(B):\n",
    "    A_est = make_inhomogeneous_rg(P_est)\n",
    "\n",
    "    yhat_est = UASE([A_obs,A_est], d=2)\n",
    "    p_val = test_temporal_displacement_two_times(yhat_est, n)\n",
    "    p_vals.append(p_val)\n",
    "    A_boots.append(A_est)\n",
    "\n",
    "p_vals_perfect = p_vals  # p-values for Perfect Resample\n",
    "\n",
    "#plot\n",
    "# Provided code\n",
    "p_hat_list = p_vals_perfect\n",
    "roc = []\n",
    "alphas = []\n",
    "\n",
    "for alpha in np.linspace(0, 1, 100):\n",
    "    alphas.append(alpha)\n",
    "    num_below_alpha = sum(p_hat_list < alpha)\n",
    "    roc_point = num_below_alpha / len(p_hat_list)\n",
    "    roc.append(roc_point)\n",
    "\n",
    "# Get the power at the 5% significance level\n",
    "power_significance = 0.05\n",
    "power_idx = alphas.index(min(alphas, key=lambda x: abs(x - power_significance)))\n",
    "power = roc[power_idx]\n",
    "\n",
    "plt.plot(np.linspace(0, 1, 2), np.linspace(0, 1, 2), linestyle=\"--\", c=\"grey\")\n",
    "_ = plt.plot(alphas, roc, color='b')\n",
    "\n",
    "# Set title and aspect ratio\n",
    "plt.title(f\"(b) Perfect Resample\", size=15)\n",
    "plt.gca().set_aspect('equal', adjustable='box')\n",
    "\n",
    "plt.tight_layout()\n",
    "\n",
    "# plt.savefig(\"PerfectResampleEx.png\", facecolor='w')\n",
    "\n",
    "plt.show()"
   ]
  },
  {
   "cell_type": "markdown",
   "metadata": {},
   "source": [
    "### conservative"
   ]
  },
  {
   "cell_type": "code",
   "execution_count": 296,
   "metadata": {},
   "outputs": [
    {
     "name": "stderr",
     "output_type": "stream",
     "text": [
      "  0%|          | 0/1 [00:00<?, ?it/s]"
     ]
    },
    {
     "data": {
      "image/png": "[encoded data removed]",
      "text/plain": [
       "<Figure size 432x288 with 1 Axes>"
      ]
     },
     "metadata": {
      "needs_background": "light"
     },
     "output_type": "display_data"
    },
    {
     "name": "stderr",
     "output_type": "stream",
     "text": [
      "100%|██████████| 1/1 [00:01<00:00,  1.11s/it]\n"
     ]
    }
   ],
   "source": [
    "# n_neighbors_to_try = [5] + list(np.linspace(n//4, n, 20).astype(int))\n",
    "n_neighbors_to_try = [100]\n",
    "\n",
    "powers = []\n",
    "avg_dist_errors = []\n",
    "for n_neighbors in tqdm(n_neighbors_to_try):\n",
    "\n",
    "    # Generate graphs -------------------------------\n",
    "    n = 100\n",
    "    T = 1\n",
    "    d = 2\n",
    "    K = 2\n",
    "    As, tau, _ = make_temporal_simple(n, T, K=K) # K community SBM\n",
    "    A_obs = As[0]\n",
    "\n",
    "\n",
    "    # Embed the graphs -------------------------------  \n",
    "    yhat = UASE(As, d=d, flat=False)\n",
    "\n",
    "    # # run a k-NN on the embedding yhat\n",
    "    # n_neighbors = 5\n",
    "\n",
    "    # Here we use Minkowski distance\n",
    "    from sklearn.neighbors import NearestNeighbors\n",
    "    nbrs = NearestNeighbors(n_neighbors=n_neighbors, algorithm='ball_tree').fit(yhat[0])\n",
    "    distances, indices = nbrs.kneighbors(yhat[0])\n",
    "\n",
    "    # Estimate the P matrix -------------------------------\n",
    "    P_est = P_est_from_A_obs(n, A_obs, n_neighbors=n_neighbors, indices=indices)\n",
    "\n",
    "    # Bootstrap -----------------------------------------\n",
    "    B = 100\n",
    "    p_vals = []\n",
    "    A_boots = []\n",
    "    for i in range(B):\n",
    "        A_est = make_inhomogeneous_rg(P_est)\n",
    "\n",
    "        yhat_est = UASE([A_obs,A_est], d=2)\n",
    "        p_val = test_temporal_displacement_two_times(yhat_est, n)\n",
    "        p_vals.append(p_val)\n",
    "        A_boots.append(A_est)\n",
    "\n",
    "    p_vals_conservative = p_vals  # p-values for Conservative Resample\n",
    "\n",
    "    #plot\n",
    "    # Provided code\n",
    "    p_hat_list = p_vals\n",
    "    roc = []\n",
    "    alphas = []\n",
    "\n",
    "    for alpha in np.linspace(0, 1, 100):\n",
    "        alphas.append(alpha)\n",
    "        num_below_alpha = sum(p_hat_list < alpha)\n",
    "        roc_point = num_below_alpha / len(p_hat_list)\n",
    "        roc.append(roc_point)\n",
    "\n",
    "    # Get the power at the 5% significance level\n",
    "    power_significance = 0.05\n",
    "    power_idx = alphas.index(min(alphas, key=lambda x: abs(x - power_significance)))\n",
    "    power = roc[power_idx]\n",
    "\n",
    "    plt.plot(np.linspace(0, 1, 2), np.linspace(0, 1, 2), linestyle=\"--\", c=\"grey\")\n",
    "    _ = plt.plot(alphas, roc, color='#cc3600')\n",
    "\n",
    "    # Set title and aspect ratio\n",
    "    plt.title(f\"(c) Conservative Resample\", size=15)\n",
    "    plt.gca().set_aspect('equal', adjustable='box')\n",
    "\n",
    "    plt.tight_layout()\n",
    "\n",
    "    # plt.savefig(\"ConservativeResampleEx.png\", facecolor='w')\n",
    "\n",
    "    plt.show()\n",
    " "
   ]
  },
  {
   "cell_type": "code",
   "execution_count": 297,
   "metadata": {},
   "outputs": [
    {
     "data": {
      "image/png": "[encoded data removed]",
      "text/plain": [
       "<Figure size 432x432 with 1 Axes>"
      ]
     },
     "metadata": {
      "needs_background": "light"
     },
     "output_type": "display_data"
    }
   ],
   "source": [
    "def compute_roc(p_vals):\n",
    "    \"\"\"Compute ROC curve from p-values.\"\"\"\n",
    "    roc = []\n",
    "    alphas = []\n",
    "\n",
    "    for alpha in np.linspace(0, 1, 100):\n",
    "        alphas.append(alpha)\n",
    "        num_below_alpha = sum(p_vals < alpha)\n",
    "        roc_point = num_below_alpha / len(p_vals)\n",
    "        roc.append(roc_point)\n",
    "\n",
    "    return alphas, roc\n",
    "\n",
    "# Compute ROC curves\n",
    "alphas_invalid, roc_invalid = compute_roc(np.array(p_vals_invalid))\n",
    "alphas_perfect, roc_perfect = compute_roc(np.array(p_vals_perfect))\n",
    "alphas_conservative, roc_conservative = compute_roc(np.array(p_vals_conservative))\n",
    "\n",
    "# Plot all ROC curves on the same plot\n",
    "plt.figure(figsize=(6, 6))  # Square figure\n",
    "\n",
    "# Plot the reference diagonal line\n",
    "plt.plot(np.linspace(0, 1, 2), np.linspace(0, 1, 2), linestyle=\"--\", color=\"grey\")\n",
    "\n",
    "# Plot each ROC curve\n",
    "plt.plot(alphas_invalid, roc_invalid, color='#228B22', label=\"(a) Invalid Resample\")\n",
    "plt.plot(alphas_perfect, roc_perfect, color='b', label=\"(b) Perfect Resample\")\n",
    "plt.plot(alphas_conservative, roc_conservative, color='#cc3600', label=\"(c) Conservative Resample\")\n",
    "\n",
    "# Set title, labels, and legend\n",
    "plt.title(\"Appearance of Invalid, Perfect, and Conservative \\n Resample ROC Curves\", size=15)\n",
    "plt.gca().set_aspect('equal', adjustable='box')  # Ensure square plot\n",
    "plt.legend(fontsize=12)\n",
    "\n",
    "plt.tight_layout()\n",
    "plt.savefig(\"oneplot_example_invalid_perfect_conservative.png\", facecolor='w')\n",
    "\n",
    "# Display the plot\n",
    "plt.show()\n"
   ]
  },
  {
   "cell_type": "code",
   "execution_count": null,
   "metadata": {},
   "outputs": [],
   "source": []
  }
 ],
 "metadata": {
  "kernelspec": {
   "display_name": "base",
   "language": "python",
   "name": "python3"
  },
  "language_info": {
   "codemirror_mode": {
    "name": "ipython",
    "version": 3
   },
   "file_extension": ".py",
   "mimetype": "text/x-python",
   "name": "python",
   "nbconvert_exporter": "python",
   "pygments_lexer": "ipython3",
   "version": "3.9.7"
  }
 },
 "nbformat": 4,
 "nbformat_minor": 2
}
