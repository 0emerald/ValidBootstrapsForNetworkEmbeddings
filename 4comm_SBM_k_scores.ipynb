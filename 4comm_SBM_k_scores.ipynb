{
 "cells": [
  {
   "cell_type": "code",
   "execution_count": 1,
   "metadata": {},
   "outputs": [],
   "source": [
    "import numpy as np\n",
    "import matplotlib.pyplot as plt\n",
    "import pandas as pd\n",
    "from embedding_functions import *\n",
    "from experiment_setup import *\n",
    "from functions_for_bootstrap import *\n",
    "import numba as nb\n",
    "from scipy.stats import wasserstein_distance\n",
    "from tqdm import tqdm\n",
    "import random\n",
    "from scipy.integrate import simps\n",
    "from matplotlib.patches import Ellipse"
   ]
  },
  {
   "cell_type": "code",
   "execution_count": 2,
   "metadata": {},
   "outputs": [],
   "source": [
    "# Network generation --------------------------------------------------------\n",
    "random.seed(10)\n",
    "np.random.seed(10)\n",
    "\n",
    "n = 1000  # number of nodes\n",
    "K = 4   # number of node communities\n",
    "\n",
    "# Community labels\n",
    "tau = np.random.choice(K, n) # order tau would make the nice blocks\n",
    "tau = np.sort(tau)\n",
    "# print(tau)\n",
    "\n",
    "# Generate stochastic block model (SBM) B matrix\n",
    "\"\"\"Just one observation is required\"\"\"\n",
    "B_list = []\n",
    "\n",
    "B_list.append(np.array([[0.8, 0.1, 0.5, 0.3],\n",
    "                        [0.4, 0.6, 0.9, 0.2],\n",
    "                        [0.7, 0.2, 0.4, 0.8],\n",
    "                        [0.3, 0.5, 0.6, 0.1]]))"
   ]
  },
  {
   "cell_type": "code",
   "execution_count": 3,
   "metadata": {},
   "outputs": [],
   "source": [
    "# Generate adjacency matrix from the B matrix\n",
    "As = np.zeros((n, n))\n",
    "P_list = []"
   ]
  },
  {
   "cell_type": "code",
   "execution_count": 4,
   "metadata": {},
   "outputs": [],
   "source": [
    "random.seed(100)\n",
    "np.random.seed(100)\n",
    "\n",
    "# Get probability matrix from B\n",
    "P_t = np.column_stack(\n",
    "    [B_list[0][tau, tau[i]] for i in range(n)])\n",
    "P_list.append(P_t)\n",
    "\n",
    "# Generate random graph from the P matrix\n",
    "A_t = np.random.binomial(n=1, p=P_t)\n",
    "# turn to integer from float\n",
    "A_t = A_t.astype(int)\n",
    "As = A_t\n",
    "\n",
    "As = As.astype(int)\n",
    "P = np.column_stack(P_list)"
   ]
  },
  {
   "cell_type": "code",
   "execution_count": 6,
   "metadata": {},
   "outputs": [],
   "source": [
    "# Generate more samples from the same model with the same parameters (P matrix)\n",
    "random.seed(100)\n",
    "np.random.seed(100)\n",
    "\n",
    "M=200\n",
    "A_true_draws = []\n",
    "\n",
    "for m in range(M):\n",
    "    # Generate random graph from the P matrix\n",
    "    A_t = np.random.binomial(n=1, p=P_t)\n",
    "    # turn to integer from float\n",
    "    A_t = A_t.astype(float)\n",
    "    As = A_t\n",
    "\n",
    "    As = As.astype(float)\n",
    "\n",
    "    A_true_draws.append(As)"
   ]
  },
  {
   "cell_type": "code",
   "execution_count": 8,
   "metadata": {},
   "outputs": [],
   "source": [
    "d=4"
   ]
  },
  {
   "cell_type": "markdown",
   "metadata": {},
   "source": [
    "### Go through all values of $k$ and calculate the area between the curve and the diagonal from the ROC curve plot"
   ]
  },
  {
   "cell_type": "code",
   "execution_count": null,
   "metadata": {},
   "outputs": [],
   "source": [
    "# for each of the true draws from the model, create a bootstrap and perform a test with Q permutations\n",
    "random.seed(100)\n",
    "np.random.seed(100)\n",
    "\n",
    "k_values = []\n",
    "scores = []\n",
    "\n",
    "for k in range(2,n):\n",
    "\n",
    "    p_vals = []\n",
    "    A_boots_list = []\n",
    "\n",
    "    for m in A_true_draws:\n",
    "        p_val, A_boots = create_single_kNN_bootstrap(m, d=d, Q=1000, n_neighbors=k)\n",
    "        p_vals.append(p_val)\n",
    "        A_boots_list.append(A_boots)\n",
    "\n",
    "    # Provided code\n",
    "    p_hat_list = p_vals\n",
    "    roc = []\n",
    "    alphas = []\n",
    "\n",
    "    for alpha in np.linspace(0, 1, 100):\n",
    "        alphas.append(alpha)\n",
    "        num_below_alpha = sum(p_hat_list < alpha)\n",
    "        roc_point = num_below_alpha / len(p_hat_list)\n",
    "        roc.append(roc_point)\n",
    "\n",
    "    # Get the power at the 5% significance level\n",
    "    power_significance = 0.05\n",
    "    power_idx = alphas.index(min(alphas, key=lambda x: abs(x - power_significance)))\n",
    "    power = roc[power_idx]\n",
    "\n",
    "    plt.plot(np.linspace(0, 1, 2), np.linspace(0, 1, 2), linestyle=\"--\", c=\"grey\")\n",
    "    _ = plt.plot(alphas, roc, color='#228B22')\n",
    "\n",
    "    # Set title and aspect ratio\n",
    "    plt.title(f\"ROC Curve for 4 Community \\n SBM with n={n} nodes, k={k}\")\n",
    "    plt.gca().set_aspect('equal', adjustable='box')\n",
    "\n",
    "    plt.show()\n",
    "\n",
    "    # Calculate the area between ROC and y=x line\n",
    "\n",
    "    def compute_area_above_below_curve(x, y):\n",
    "        area_above = 0.0\n",
    "        area_below = 0.0\n",
    "        \n",
    "        for i in range(1, len(x)):\n",
    "            x0, x1 = x[i - 1], x[i]\n",
    "            y0, y1 = y[i - 1], y[i]\n",
    "            line0, line1 = x0, x1  # Since line y = x\n",
    "            \n",
    "            if y1 == y0:  # Vertical segment\n",
    "                if y0 > x0:\n",
    "                    area_above += (y0 - x0) * (x1 - x0)\n",
    "                else:\n",
    "                    area_below += (x0 - y0) * (x1 - x0)\n",
    "                continue\n",
    "            \n",
    "            # Find intersection with y = x\n",
    "            if (y0 >= x0 and y1 >= x1) or (y0 <= x0 and y1 <= x1):\n",
    "                if y0 >= x0 and y1 >= x1:\n",
    "                    area_above += 0.5 * (y0 + y1 - x0 - x1) * (x1 - x0)\n",
    "                else:\n",
    "                    area_below += 0.5 * (x0 + x1 - y0 - y1) * (x1 - x0)\n",
    "            else:\n",
    "                x_intersect = x0 + (x0 - y0) * (x1 - x0) / (y1 - y0)\n",
    "                if y0 < x0:\n",
    "                    area_below += 0.5 * (x0 - y0) * (x_intersect - x0)\n",
    "                    area_above += 0.5 * (y1 - x1) * (x1 - x_intersect)\n",
    "                else:\n",
    "                    area_above += 0.5 * (y0 - x0) * (x_intersect - x0)\n",
    "                    area_below += 0.5 * (x1 - y1) * (x1 - x_intersect)\n",
    "        \n",
    "        return area_above, area_below\n",
    "\n",
    "    x = np.linspace(0, 1, 100)\n",
    "    roc_interpolated = np.interp(x, alphas, roc)\n",
    "\n",
    "    # Compute areas\n",
    "    area_above, area_below = compute_area_above_below_curve(x, roc_interpolated)\n",
    "    total_area = area_above + area_below\n",
    "\n",
    "    print(f\"Area above the y=x line: {area_above} for k={k}\")\n",
    "    print(f\"Area below the y=x line: {area_below} for k={k}\")\n",
    "    print(f\"Total area (above and below y=x): {total_area} for k={k}\")\n",
    "\n",
    "    # add to lists\n",
    "    k_values.append(k)\n",
    "    scores.append(total_area)"
   ]
  },
  {
   "cell_type": "code",
   "execution_count": 16,
   "metadata": {},
   "outputs": [
    {
     "data": {
      "image/png": "[encoded data removed]",
      "text/plain": [
       "<Figure size 432x288 with 1 Axes>"
      ]
     },
     "metadata": {
      "needs_background": "light"
     },
     "output_type": "display_data"
    }
   ],
   "source": [
    "# plot the scores for each k\n",
    "plt.plot(k_values, scores)\n",
    "plt.xlabel(\"k\")\n",
    "plt.ylabel(\"Total area between ROC curve and y=x line\")\n",
    "plt.title(\"Total area between ROC curve and y=x line for different k values\")\n",
    "\n",
    "#white space\n",
    "plt.tight_layout()\n",
    "# white background\n",
    "plt.gca().set_facecolor('white') \n",
    "\n",
    "plt.savefig(\"4commSBM_k_scores.png\")\n",
    "plt.show()\n"
   ]
  },
  {
   "cell_type": "code",
   "execution_count": null,
   "metadata": {},
   "outputs": [],
   "source": [
    "# put scores and x_labels into a dataframe\n",
    "df = pd.DataFrame({\"alpha\": x_labels, \"score\": scores})\n",
    "df.to_csv(\"mmsbm_alpha_scores.csv\", index=False)"
   ]
  },
  {
   "cell_type": "code",
   "execution_count": 12,
   "metadata": {},
   "outputs": [],
   "source": [
    "pd.DataFrame(scores).to_csv(\"4commSBM_k_scores.csv\")"
   ]
  },
  {
   "cell_type": "code",
   "execution_count": 13,
   "metadata": {},
   "outputs": [
    {
     "data": {
      "text/plain": [
       "776"
      ]
     },
     "execution_count": 13,
     "metadata": {},
     "output_type": "execute_result"
    }
   ],
   "source": [
    "len(scores)"
   ]
  },
  {
   "cell_type": "code",
   "execution_count": 26,
   "metadata": {},
   "outputs": [
    {
     "data": {
      "image/png": "[encoded data removed]",
      "text/plain": [
       "<Figure size 432x288 with 1 Axes>"
      ]
     },
     "metadata": {
      "needs_background": "light"
     },
     "output_type": "display_data"
    }
   ],
   "source": [
    "# plot the scores for each k\n",
    "plt.plot(k_values[0:299], scores[0:299])\n",
    "plt.xlabel(\"k\")\n",
    "plt.ylabel(\"Total area between ROC curve and y=x line\")\n",
    "plt.title(\"Total area between ROC curve and y=x line for \\n different k values between 2 and 300\")\n",
    "#white space\n",
    "plt.tight_layout()\n",
    "# white background\n",
    "plt.gca().set_facecolor('white')\n",
    "plt.savefig(\"4commSBM_k_scores_2_300.png\")\n",
    "plt.show()"
   ]
  },
  {
   "cell_type": "code",
   "execution_count": 23,
   "metadata": {},
   "outputs": [
    {
     "data": {
      "image/png": "[encoded data removed]",
      "text/plain": [
       "<Figure size 432x288 with 1 Axes>"
      ]
     },
     "metadata": {
      "needs_background": "light"
     },
     "output_type": "display_data"
    }
   ],
   "source": [
    "# plot the scores for each k\n",
    "plt.plot(k_values[0:499], scores[0:499])\n",
    "plt.xlabel(\"k\")\n",
    "plt.ylabel(\"Total area between ROC curve and y=x line\")\n",
    "plt.title(\"Total area between ROC curve and y=x line for \\n different k values between 2 and 500\")\n",
    "#white space\n",
    "plt.tight_layout()\n",
    "# white background\n",
    "plt.gca().set_facecolor('white')\n",
    "plt.savefig(\"4commSBM_k_scores_2_500.png\")\n",
    "plt.show()"
   ]
  },
  {
   "cell_type": "markdown",
   "metadata": {},
   "source": [
    "do the 777 to 1000 that i didn't let run before"
   ]
  },
  {
   "cell_type": "code",
   "execution_count": 9,
   "metadata": {},
   "outputs": [
    {
     "data": {
      "image/png": "[encoded data removed]",
      "text/plain": [
       "<Figure size 432x288 with 1 Axes>"
      ]
     },
     "metadata": {
      "needs_background": "light"
     },
     "output_type": "display_data"
    },
    {
     "name": "stdout",
     "output_type": "stream",
     "text": [
      "Area above the y=x line: 0.0 for k=1000\n",
      "Area below the y=x line: 0.47755866748291 for k=1000\n",
      "Total area (above and below y=x): 0.47755866748291 for k=1000\n"
     ]
    }
   ],
   "source": [
    "# for each of the true draws from the model, create a bootstrap and perform a test with Q permutations\n",
    "random.seed(100)\n",
    "np.random.seed(100)\n",
    "\n",
    "k_values2 = []\n",
    "scores2 = []\n",
    "\n",
    "for k in range(n,n+1):\n",
    "\n",
    "    p_vals = []\n",
    "    A_boots_list = []\n",
    "\n",
    "    for m in A_true_draws:\n",
    "        p_val, A_boots = create_single_kNN_bootstrap(m, d=d, Q=1000, n_neighbors=k)\n",
    "        p_vals.append(p_val)\n",
    "        A_boots_list.append(A_boots)\n",
    "\n",
    "    # Provided code\n",
    "    p_hat_list = p_vals\n",
    "    roc = []\n",
    "    alphas = []\n",
    "\n",
    "    for alpha in np.linspace(0, 1, 100):\n",
    "        alphas.append(alpha)\n",
    "        num_below_alpha = sum(p_hat_list < alpha)\n",
    "        roc_point = num_below_alpha / len(p_hat_list)\n",
    "        roc.append(roc_point)\n",
    "\n",
    "    # Get the power at the 5% significance level\n",
    "    power_significance = 0.05\n",
    "    power_idx = alphas.index(min(alphas, key=lambda x: abs(x - power_significance)))\n",
    "    power = roc[power_idx]\n",
    "\n",
    "    plt.plot(np.linspace(0, 1, 2), np.linspace(0, 1, 2), linestyle=\"--\", c=\"grey\")\n",
    "    _ = plt.plot(alphas, roc, color='#228B22')\n",
    "\n",
    "    # Set title and aspect ratio\n",
    "    plt.title(f\"ROC Curve for 4 Community \\n SBM with n={n} nodes, k={k}\")\n",
    "    plt.gca().set_aspect('equal', adjustable='box')\n",
    "\n",
    "    plt.show()\n",
    "\n",
    "    # Calculate the area between ROC and y=x line\n",
    "\n",
    "    def compute_area_above_below_curve(x, y):\n",
    "        area_above = 0.0\n",
    "        area_below = 0.0\n",
    "        \n",
    "        for i in range(1, len(x)):\n",
    "            x0, x1 = x[i - 1], x[i]\n",
    "            y0, y1 = y[i - 1], y[i]\n",
    "            line0, line1 = x0, x1  # Since line y = x\n",
    "            \n",
    "            if y1 == y0:  # Vertical segment\n",
    "                if y0 > x0:\n",
    "                    area_above += (y0 - x0) * (x1 - x0)\n",
    "                else:\n",
    "                    area_below += (x0 - y0) * (x1 - x0)\n",
    "                continue\n",
    "            \n",
    "            # Find intersection with y = x\n",
    "            if (y0 >= x0 and y1 >= x1) or (y0 <= x0 and y1 <= x1):\n",
    "                if y0 >= x0 and y1 >= x1:\n",
    "                    area_above += 0.5 * (y0 + y1 - x0 - x1) * (x1 - x0)\n",
    "                else:\n",
    "                    area_below += 0.5 * (x0 + x1 - y0 - y1) * (x1 - x0)\n",
    "            else:\n",
    "                x_intersect = x0 + (x0 - y0) * (x1 - x0) / (y1 - y0)\n",
    "                if y0 < x0:\n",
    "                    area_below += 0.5 * (x0 - y0) * (x_intersect - x0)\n",
    "                    area_above += 0.5 * (y1 - x1) * (x1 - x_intersect)\n",
    "                else:\n",
    "                    area_above += 0.5 * (y0 - x0) * (x_intersect - x0)\n",
    "                    area_below += 0.5 * (x1 - y1) * (x1 - x_intersect)\n",
    "        \n",
    "        return area_above, area_below\n",
    "\n",
    "    x = np.linspace(0, 1, 100)\n",
    "    roc_interpolated = np.interp(x, alphas, roc)\n",
    "\n",
    "    # Compute areas\n",
    "    area_above, area_below = compute_area_above_below_curve(x, roc_interpolated)\n",
    "    total_area = area_above + area_below\n",
    "\n",
    "    print(f\"Area above the y=x line: {area_above} for k={k}\")\n",
    "    print(f\"Area below the y=x line: {area_below} for k={k}\")\n",
    "    print(f\"Total area (above and below y=x): {total_area} for k={k}\")\n",
    "\n",
    "    # add to lists\n",
    "    k_values2.append(k)\n",
    "    scores2.append(total_area)"
   ]
  },
  {
   "cell_type": "code",
   "execution_count": null,
   "metadata": {},
   "outputs": [],
   "source": []
  }
 ],
 "metadata": {
  "kernelspec": {
   "display_name": "base",
   "language": "python",
   "name": "python3"
  },
  "language_info": {
   "codemirror_mode": {
    "name": "ipython",
    "version": 3
   },
   "file_extension": ".py",
   "mimetype": "text/x-python",
   "name": "python",
   "nbconvert_exporter": "python",
   "pygments_lexer": "ipython3",
   "version": "3.9.7"
  }
 },
 "nbformat": 4,
 "nbformat_minor": 2
}
